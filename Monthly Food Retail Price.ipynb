{
 "cells": [
  {
   "cell_type": "markdown",
   "metadata": {},
   "source": [
    "#                           Retail Prices Of Commodities In India"
   ]
  },
  {
   "cell_type": "code",
   "execution_count": null,
   "metadata": {},
   "outputs": [],
   "source": [
    "In this project we will be working with a dataset which contains the information about retail Prices Of different Commodities\n",
    "in India from 2001 to 2021.Here we are trying to analyse the price variation of different commodities in India from 2001 to 2021.\n",
    "Here the data captures as monthly wise across different states and their major centers from past twenty years.\n",
    "\n",
    "The Monthly_Food_Retail_Prices.csv dataset contains 1147446 observations (rows) and  8 features (columns).\n",
    "\n",
    "This data set contains the following features(Columns):\n",
    "    \n",
    "State: Indian state. Example: Maharashtra, Madhya Pradesh, Rajasthan, etc.\n",
    "Center: Major Market centers in each state. Example: Mumbai, Pune, Bangalore, etc.\n",
    "Commodity: Name of the commodity. Example: Fish, Apple, Rice, Bajra, Ghee, etc.\n",
    "Variety: Subtype of the commodity. Example: Type of apple is Delicious medium size.\n",
    "Unit: Measurement unit. Example: Kg, Litre, Dozens, etc.\n",
    "Category: Food or Non Food\n",
    "Date:Month and year.\n",
    "Retail price: Retail price of the commodity in rupees.\n"
   ]
  },
  {
   "cell_type": "markdown",
   "metadata": {},
   "source": [
    "# 1 Import the Libraries"
   ]
  },
  {
   "cell_type": "code",
   "execution_count": 1,
   "metadata": {},
   "outputs": [],
   "source": [
    "import pandas as pd\n",
    "import numpy as np\n",
    "import matplotlib.pyplot as plt\n",
    "import seaborn as sns"
   ]
  },
  {
   "cell_type": "code",
   "execution_count": 2,
   "metadata": {},
   "outputs": [],
   "source": [
    "from plotly.offline import iplot\n",
    "import plotly as py\n",
    "import plotly.tools as tls"
   ]
  },
  {
   "cell_type": "code",
   "execution_count": 3,
   "metadata": {},
   "outputs": [
    {
     "data": {
      "text/html": [
       "        <script type=\"text/javascript\">\n",
       "        window.PlotlyConfig = {MathJaxConfig: 'local'};\n",
       "        if (window.MathJax) {MathJax.Hub.Config({SVG: {font: \"STIX-Web\"}});}\n",
       "        if (typeof require !== 'undefined') {\n",
       "        require.undef(\"plotly\");\n",
       "        requirejs.config({\n",
       "            paths: {\n",
       "                'plotly': ['https://cdn.plot.ly/plotly-2.2.0.min']\n",
       "            }\n",
       "        });\n",
       "        require(['plotly'], function(Plotly) {\n",
       "            window._Plotly = Plotly;\n",
       "        });\n",
       "        }\n",
       "        </script>\n",
       "        "
      ]
     },
     "metadata": {},
     "output_type": "display_data"
    }
   ],
   "source": [
    "py.offline.init_notebook_mode(connected=True)"
   ]
  },
  {
   "cell_type": "code",
   "execution_count": 53,
   "metadata": {},
   "outputs": [
    {
     "name": "stdout",
     "output_type": "stream",
     "text": [
      "Requirement already satisfied: plotly in c:\\users\\hp\\anaconda3\\lib\\site-packages (5.1.0)\n",
      "Requirement already satisfied: tenacity>=6.2.0 in c:\\users\\hp\\anaconda3\\lib\\site-packages (from plotly) (6.3.1)\n",
      "Requirement already satisfied: six in c:\\users\\hp\\anaconda3\\lib\\site-packages (from plotly) (1.15.0)\n"
     ]
    }
   ],
   "source": [
    "#!pip install plotly"
   ]
  },
  {
   "cell_type": "markdown",
   "metadata": {},
   "source": [
    "# 2 Load the Data Set\n"
   ]
  },
  {
   "cell_type": "code",
   "execution_count": 4,
   "metadata": {
    "scrolled": true
   },
   "outputs": [
    {
     "data": {
      "text/html": [
       "<div>\n",
       "<style scoped>\n",
       "    .dataframe tbody tr th:only-of-type {\n",
       "        vertical-align: middle;\n",
       "    }\n",
       "\n",
       "    .dataframe tbody tr th {\n",
       "        vertical-align: top;\n",
       "    }\n",
       "\n",
       "    .dataframe thead th {\n",
       "        text-align: right;\n",
       "    }\n",
       "</style>\n",
       "<table border=\"1\" class=\"dataframe\">\n",
       "  <thead>\n",
       "    <tr style=\"text-align: right;\">\n",
       "      <th></th>\n",
       "      <th>State</th>\n",
       "      <th>Centre</th>\n",
       "      <th>Commodity</th>\n",
       "      <th>Variety</th>\n",
       "      <th>Unit</th>\n",
       "      <th>Category</th>\n",
       "      <th>Date</th>\n",
       "      <th>Retail Price</th>\n",
       "    </tr>\n",
       "  </thead>\n",
       "  <tbody>\n",
       "    <tr>\n",
       "      <th>0</th>\n",
       "      <td>Andhra Pradesh</td>\n",
       "      <td>Chittoor</td>\n",
       "      <td>Moong</td>\n",
       "      <td>Split</td>\n",
       "      <td>Kg.</td>\n",
       "      <td>Food</td>\n",
       "      <td>JAN-2001</td>\n",
       "      <td>24.0</td>\n",
       "    </tr>\n",
       "    <tr>\n",
       "      <th>1</th>\n",
       "      <td>Andhra Pradesh</td>\n",
       "      <td>Guntur</td>\n",
       "      <td>Moong</td>\n",
       "      <td>Split</td>\n",
       "      <td>Kg.</td>\n",
       "      <td>Food</td>\n",
       "      <td>JAN-2001</td>\n",
       "      <td>26.0</td>\n",
       "    </tr>\n",
       "    <tr>\n",
       "      <th>2</th>\n",
       "      <td>Andhra Pradesh</td>\n",
       "      <td>Kurnool</td>\n",
       "      <td>Moong</td>\n",
       "      <td>Split</td>\n",
       "      <td>Kg.</td>\n",
       "      <td>Food</td>\n",
       "      <td>JAN-2001</td>\n",
       "      <td>25.5</td>\n",
       "    </tr>\n",
       "    <tr>\n",
       "      <th>3</th>\n",
       "      <td>Andhra Pradesh</td>\n",
       "      <td>Vishakhapatnam</td>\n",
       "      <td>Moong</td>\n",
       "      <td>Split</td>\n",
       "      <td>Kg.</td>\n",
       "      <td>Food</td>\n",
       "      <td>JAN-2001</td>\n",
       "      <td>NaN</td>\n",
       "    </tr>\n",
       "    <tr>\n",
       "      <th>4</th>\n",
       "      <td>Arunachal Pradesh</td>\n",
       "      <td>Itanagar</td>\n",
       "      <td>Moong</td>\n",
       "      <td>Split</td>\n",
       "      <td>Kg.</td>\n",
       "      <td>Food</td>\n",
       "      <td>JAN-2001</td>\n",
       "      <td>NaN</td>\n",
       "    </tr>\n",
       "    <tr>\n",
       "      <th>...</th>\n",
       "      <td>...</td>\n",
       "      <td>...</td>\n",
       "      <td>...</td>\n",
       "      <td>...</td>\n",
       "      <td>...</td>\n",
       "      <td>...</td>\n",
       "      <td>...</td>\n",
       "      <td>...</td>\n",
       "    </tr>\n",
       "    <tr>\n",
       "      <th>1147441</th>\n",
       "      <td>West Bengal</td>\n",
       "      <td>Jalpaiguri</td>\n",
       "      <td>Wheat</td>\n",
       "      <td>Kalyan HYV</td>\n",
       "      <td>Kg.</td>\n",
       "      <td>Food</td>\n",
       "      <td>MAR-2021</td>\n",
       "      <td>NaN</td>\n",
       "    </tr>\n",
       "    <tr>\n",
       "      <th>1147442</th>\n",
       "      <td>West Bengal</td>\n",
       "      <td>Kolkata</td>\n",
       "      <td>Wheat</td>\n",
       "      <td>Desi</td>\n",
       "      <td>Kg.</td>\n",
       "      <td>Food</td>\n",
       "      <td>MAR-2021</td>\n",
       "      <td>NaN</td>\n",
       "    </tr>\n",
       "    <tr>\n",
       "      <th>1147443</th>\n",
       "      <td>West Bengal</td>\n",
       "      <td>Kolkata</td>\n",
       "      <td>Wheat</td>\n",
       "      <td>Kalyan HYV</td>\n",
       "      <td>Kg.</td>\n",
       "      <td>Food</td>\n",
       "      <td>MAR-2021</td>\n",
       "      <td>NaN</td>\n",
       "    </tr>\n",
       "    <tr>\n",
       "      <th>1147444</th>\n",
       "      <td>West Bengal</td>\n",
       "      <td>Malda</td>\n",
       "      <td>Wheat</td>\n",
       "      <td>Desi</td>\n",
       "      <td>Kg.</td>\n",
       "      <td>Food</td>\n",
       "      <td>MAR-2021</td>\n",
       "      <td>20.0</td>\n",
       "    </tr>\n",
       "    <tr>\n",
       "      <th>1147445</th>\n",
       "      <td>West Bengal</td>\n",
       "      <td>Malda</td>\n",
       "      <td>Wheat</td>\n",
       "      <td>Kalyan HYV</td>\n",
       "      <td>Kg.</td>\n",
       "      <td>Food</td>\n",
       "      <td>MAR-2021</td>\n",
       "      <td>NaN</td>\n",
       "    </tr>\n",
       "  </tbody>\n",
       "</table>\n",
       "<p>1147446 rows × 8 columns</p>\n",
       "</div>"
      ],
      "text/plain": [
       "                     State          Centre Commodity     Variety Unit  \\\n",
       "0           Andhra Pradesh        Chittoor     Moong       Split  Kg.   \n",
       "1           Andhra Pradesh          Guntur     Moong       Split  Kg.   \n",
       "2           Andhra Pradesh         Kurnool     Moong       Split  Kg.   \n",
       "3           Andhra Pradesh  Vishakhapatnam     Moong       Split  Kg.   \n",
       "4        Arunachal Pradesh        Itanagar     Moong       Split  Kg.   \n",
       "...                    ...             ...       ...         ...  ...   \n",
       "1147441        West Bengal      Jalpaiguri     Wheat  Kalyan HYV  Kg.   \n",
       "1147442        West Bengal         Kolkata     Wheat        Desi  Kg.   \n",
       "1147443        West Bengal         Kolkata     Wheat  Kalyan HYV  Kg.   \n",
       "1147444        West Bengal           Malda     Wheat        Desi  Kg.   \n",
       "1147445        West Bengal           Malda     Wheat  Kalyan HYV  Kg.   \n",
       "\n",
       "        Category      Date  Retail Price  \n",
       "0           Food  JAN-2001          24.0  \n",
       "1           Food  JAN-2001          26.0  \n",
       "2           Food  JAN-2001          25.5  \n",
       "3           Food  JAN-2001           NaN  \n",
       "4           Food  JAN-2001           NaN  \n",
       "...          ...       ...           ...  \n",
       "1147441     Food  MAR-2021           NaN  \n",
       "1147442     Food  MAR-2021           NaN  \n",
       "1147443     Food  MAR-2021           NaN  \n",
       "1147444     Food  MAR-2021          20.0  \n",
       "1147445     Food  MAR-2021           NaN  \n",
       "\n",
       "[1147446 rows x 8 columns]"
      ]
     },
     "execution_count": 4,
     "metadata": {},
     "output_type": "execute_result"
    }
   ],
   "source": [
    "dff=pd.read_csv(\"Monthly_Food_Retail_Prices.csv\")\n",
    "dff"
   ]
  },
  {
   "cell_type": "code",
   "execution_count": 5,
   "metadata": {
    "scrolled": false
   },
   "outputs": [
    {
     "data": {
      "text/plain": [
       "State                0\n",
       "Centre               0\n",
       "Commodity         9720\n",
       "Variety         205578\n",
       "Unit                 0\n",
       "Category             0\n",
       "Date                 0\n",
       "Retail Price    568921\n",
       "dtype: int64"
      ]
     },
     "execution_count": 5,
     "metadata": {},
     "output_type": "execute_result"
    }
   ],
   "source": [
    "dff.isnull().sum()"
   ]
  },
  {
   "cell_type": "markdown",
   "metadata": {},
   "source": [
    "# 3 Cleaning the Dataset"
   ]
  },
  {
   "cell_type": "code",
   "execution_count": 6,
   "metadata": {
    "scrolled": false
   },
   "outputs": [],
   "source": [
    "comm=dff[\"Commodity\"].unique()"
   ]
  },
  {
   "cell_type": "code",
   "execution_count": 7,
   "metadata": {},
   "outputs": [],
   "source": [
    "dat=dff[\"Date\"].unique()"
   ]
  },
  {
   "cell_type": "code",
   "execution_count": 29,
   "metadata": {},
   "outputs": [],
   "source": [
    "for d in dat:\n",
    "    for c in comm:\n",
    "        m=dff[(dff[\"Commodity\"]==c)&(dff[\"Date\"]==d)][\"Retail Price\"].mean()\n",
    "        a=dff[(dff[\"Commodity\"]==c)&(dff[\"Date\"]==d)].index\n",
    "        dff.loc[a,\"Retail Price\"]=dff[(dff[\"Commodity\"]==c)&(dff[\"Date\"]==d)][\"Retail Price\"].fillna(m)"
   ]
  },
  {
   "cell_type": "code",
   "execution_count": 44,
   "metadata": {
    "scrolled": true
   },
   "outputs": [],
   "source": [
    "dff.to_csv(\"processed1.csv\")"
   ]
  },
  {
   "cell_type": "code",
   "execution_count": 147,
   "metadata": {
    "scrolled": false
   },
   "outputs": [],
   "source": [
    "df=pd.read_csv(\"Processed1.csv\")"
   ]
  },
  {
   "cell_type": "code",
   "execution_count": 148,
   "metadata": {
    "scrolled": false
   },
   "outputs": [
    {
     "data": {
      "text/html": [
       "<div>\n",
       "<style scoped>\n",
       "    .dataframe tbody tr th:only-of-type {\n",
       "        vertical-align: middle;\n",
       "    }\n",
       "\n",
       "    .dataframe tbody tr th {\n",
       "        vertical-align: top;\n",
       "    }\n",
       "\n",
       "    .dataframe thead th {\n",
       "        text-align: right;\n",
       "    }\n",
       "</style>\n",
       "<table border=\"1\" class=\"dataframe\">\n",
       "  <thead>\n",
       "    <tr style=\"text-align: right;\">\n",
       "      <th></th>\n",
       "      <th>Unnamed: 0</th>\n",
       "      <th>State</th>\n",
       "      <th>Centre</th>\n",
       "      <th>Commodity</th>\n",
       "      <th>Variety</th>\n",
       "      <th>Unit</th>\n",
       "      <th>Category</th>\n",
       "      <th>Date</th>\n",
       "      <th>Retail Price</th>\n",
       "    </tr>\n",
       "  </thead>\n",
       "  <tbody>\n",
       "    <tr>\n",
       "      <th>0</th>\n",
       "      <td>0</td>\n",
       "      <td>Andhra Pradesh</td>\n",
       "      <td>Chittoor</td>\n",
       "      <td>Moong</td>\n",
       "      <td>Split</td>\n",
       "      <td>Kg.</td>\n",
       "      <td>Food</td>\n",
       "      <td>JAN-2001</td>\n",
       "      <td>24.000000</td>\n",
       "    </tr>\n",
       "    <tr>\n",
       "      <th>1</th>\n",
       "      <td>1</td>\n",
       "      <td>Andhra Pradesh</td>\n",
       "      <td>Guntur</td>\n",
       "      <td>Moong</td>\n",
       "      <td>Split</td>\n",
       "      <td>Kg.</td>\n",
       "      <td>Food</td>\n",
       "      <td>JAN-2001</td>\n",
       "      <td>26.000000</td>\n",
       "    </tr>\n",
       "    <tr>\n",
       "      <th>2</th>\n",
       "      <td>2</td>\n",
       "      <td>Andhra Pradesh</td>\n",
       "      <td>Kurnool</td>\n",
       "      <td>Moong</td>\n",
       "      <td>Split</td>\n",
       "      <td>Kg.</td>\n",
       "      <td>Food</td>\n",
       "      <td>JAN-2001</td>\n",
       "      <td>25.500000</td>\n",
       "    </tr>\n",
       "    <tr>\n",
       "      <th>3</th>\n",
       "      <td>3</td>\n",
       "      <td>Andhra Pradesh</td>\n",
       "      <td>Vishakhapatnam</td>\n",
       "      <td>Moong</td>\n",
       "      <td>Split</td>\n",
       "      <td>Kg.</td>\n",
       "      <td>Food</td>\n",
       "      <td>JAN-2001</td>\n",
       "      <td>28.319444</td>\n",
       "    </tr>\n",
       "    <tr>\n",
       "      <th>4</th>\n",
       "      <td>4</td>\n",
       "      <td>Arunachal Pradesh</td>\n",
       "      <td>Itanagar</td>\n",
       "      <td>Moong</td>\n",
       "      <td>Split</td>\n",
       "      <td>Kg.</td>\n",
       "      <td>Food</td>\n",
       "      <td>JAN-2001</td>\n",
       "      <td>28.319444</td>\n",
       "    </tr>\n",
       "    <tr>\n",
       "      <th>...</th>\n",
       "      <td>...</td>\n",
       "      <td>...</td>\n",
       "      <td>...</td>\n",
       "      <td>...</td>\n",
       "      <td>...</td>\n",
       "      <td>...</td>\n",
       "      <td>...</td>\n",
       "      <td>...</td>\n",
       "      <td>...</td>\n",
       "    </tr>\n",
       "    <tr>\n",
       "      <th>1147441</th>\n",
       "      <td>1147441</td>\n",
       "      <td>West Bengal</td>\n",
       "      <td>Jalpaiguri</td>\n",
       "      <td>Wheat</td>\n",
       "      <td>Kalyan HYV</td>\n",
       "      <td>Kg.</td>\n",
       "      <td>Food</td>\n",
       "      <td>MAR-2021</td>\n",
       "      <td>29.301980</td>\n",
       "    </tr>\n",
       "    <tr>\n",
       "      <th>1147442</th>\n",
       "      <td>1147442</td>\n",
       "      <td>West Bengal</td>\n",
       "      <td>Kolkata</td>\n",
       "      <td>Wheat</td>\n",
       "      <td>Desi</td>\n",
       "      <td>Kg.</td>\n",
       "      <td>Food</td>\n",
       "      <td>MAR-2021</td>\n",
       "      <td>29.301980</td>\n",
       "    </tr>\n",
       "    <tr>\n",
       "      <th>1147443</th>\n",
       "      <td>1147443</td>\n",
       "      <td>West Bengal</td>\n",
       "      <td>Kolkata</td>\n",
       "      <td>Wheat</td>\n",
       "      <td>Kalyan HYV</td>\n",
       "      <td>Kg.</td>\n",
       "      <td>Food</td>\n",
       "      <td>MAR-2021</td>\n",
       "      <td>29.301980</td>\n",
       "    </tr>\n",
       "    <tr>\n",
       "      <th>1147444</th>\n",
       "      <td>1147444</td>\n",
       "      <td>West Bengal</td>\n",
       "      <td>Malda</td>\n",
       "      <td>Wheat</td>\n",
       "      <td>Desi</td>\n",
       "      <td>Kg.</td>\n",
       "      <td>Food</td>\n",
       "      <td>MAR-2021</td>\n",
       "      <td>20.000000</td>\n",
       "    </tr>\n",
       "    <tr>\n",
       "      <th>1147445</th>\n",
       "      <td>1147445</td>\n",
       "      <td>West Bengal</td>\n",
       "      <td>Malda</td>\n",
       "      <td>Wheat</td>\n",
       "      <td>Kalyan HYV</td>\n",
       "      <td>Kg.</td>\n",
       "      <td>Food</td>\n",
       "      <td>MAR-2021</td>\n",
       "      <td>29.301980</td>\n",
       "    </tr>\n",
       "  </tbody>\n",
       "</table>\n",
       "<p>1147446 rows × 9 columns</p>\n",
       "</div>"
      ],
      "text/plain": [
       "         Unnamed: 0              State          Centre Commodity     Variety  \\\n",
       "0                 0     Andhra Pradesh        Chittoor     Moong       Split   \n",
       "1                 1     Andhra Pradesh          Guntur     Moong       Split   \n",
       "2                 2     Andhra Pradesh         Kurnool     Moong       Split   \n",
       "3                 3     Andhra Pradesh  Vishakhapatnam     Moong       Split   \n",
       "4                 4  Arunachal Pradesh        Itanagar     Moong       Split   \n",
       "...             ...                ...             ...       ...         ...   \n",
       "1147441     1147441        West Bengal      Jalpaiguri     Wheat  Kalyan HYV   \n",
       "1147442     1147442        West Bengal         Kolkata     Wheat        Desi   \n",
       "1147443     1147443        West Bengal         Kolkata     Wheat  Kalyan HYV   \n",
       "1147444     1147444        West Bengal           Malda     Wheat        Desi   \n",
       "1147445     1147445        West Bengal           Malda     Wheat  Kalyan HYV   \n",
       "\n",
       "        Unit Category      Date  Retail Price  \n",
       "0        Kg.     Food  JAN-2001     24.000000  \n",
       "1        Kg.     Food  JAN-2001     26.000000  \n",
       "2        Kg.     Food  JAN-2001     25.500000  \n",
       "3        Kg.     Food  JAN-2001     28.319444  \n",
       "4        Kg.     Food  JAN-2001     28.319444  \n",
       "...      ...      ...       ...           ...  \n",
       "1147441  Kg.     Food  MAR-2021     29.301980  \n",
       "1147442  Kg.     Food  MAR-2021     29.301980  \n",
       "1147443  Kg.     Food  MAR-2021     29.301980  \n",
       "1147444  Kg.     Food  MAR-2021     20.000000  \n",
       "1147445  Kg.     Food  MAR-2021     29.301980  \n",
       "\n",
       "[1147446 rows x 9 columns]"
      ]
     },
     "execution_count": 148,
     "metadata": {},
     "output_type": "execute_result"
    }
   ],
   "source": [
    "df"
   ]
  },
  {
   "cell_type": "code",
   "execution_count": 149,
   "metadata": {
    "scrolled": true
   },
   "outputs": [
    {
     "data": {
      "text/plain": [
       "Unnamed: 0           0\n",
       "State                0\n",
       "Centre               0\n",
       "Commodity         9720\n",
       "Variety         205578\n",
       "Unit                 0\n",
       "Category             0\n",
       "Date                 0\n",
       "Retail Price      8215\n",
       "dtype: int64"
      ]
     },
     "execution_count": 149,
     "metadata": {},
     "output_type": "execute_result"
    }
   ],
   "source": [
    "df.isnull().sum()"
   ]
  },
  {
   "cell_type": "code",
   "execution_count": 150,
   "metadata": {
    "scrolled": true
   },
   "outputs": [],
   "source": [
    "df[\"Commodity\"]=df[\"Commodity\"].fillna(\"Not Available\")"
   ]
  },
  {
   "cell_type": "code",
   "execution_count": 151,
   "metadata": {},
   "outputs": [],
   "source": [
    "df[\"Variety\"]=df[\"Variety\"].fillna(\"FAQ\")"
   ]
  },
  {
   "cell_type": "code",
   "execution_count": 152,
   "metadata": {},
   "outputs": [
    {
     "data": {
      "text/plain": [
       "Unnamed: 0         0\n",
       "State              0\n",
       "Centre             0\n",
       "Commodity          0\n",
       "Variety            0\n",
       "Unit               0\n",
       "Category           0\n",
       "Date               0\n",
       "Retail Price    8215\n",
       "dtype: int64"
      ]
     },
     "execution_count": 152,
     "metadata": {},
     "output_type": "execute_result"
    }
   ],
   "source": [
    "df.isnull().sum()"
   ]
  },
  {
   "cell_type": "code",
   "execution_count": 153,
   "metadata": {
    "scrolled": true
   },
   "outputs": [
    {
     "data": {
      "text/html": [
       "<div>\n",
       "<style scoped>\n",
       "    .dataframe tbody tr th:only-of-type {\n",
       "        vertical-align: middle;\n",
       "    }\n",
       "\n",
       "    .dataframe tbody tr th {\n",
       "        vertical-align: top;\n",
       "    }\n",
       "\n",
       "    .dataframe thead th {\n",
       "        text-align: right;\n",
       "    }\n",
       "</style>\n",
       "<table border=\"1\" class=\"dataframe\">\n",
       "  <thead>\n",
       "    <tr style=\"text-align: right;\">\n",
       "      <th></th>\n",
       "      <th>Unnamed: 0</th>\n",
       "      <th>State</th>\n",
       "      <th>Centre</th>\n",
       "      <th>Commodity</th>\n",
       "      <th>Variety</th>\n",
       "      <th>Unit</th>\n",
       "      <th>Category</th>\n",
       "      <th>Date</th>\n",
       "      <th>Retail Price</th>\n",
       "    </tr>\n",
       "  </thead>\n",
       "  <tbody>\n",
       "    <tr>\n",
       "      <th>85</th>\n",
       "      <td>85</td>\n",
       "      <td>West Bengal</td>\n",
       "      <td>Malda</td>\n",
       "      <td>Not Available</td>\n",
       "      <td>Split</td>\n",
       "      <td>Kg.</td>\n",
       "      <td>Food</td>\n",
       "      <td>JAN-2001</td>\n",
       "      <td>26.0</td>\n",
       "    </tr>\n",
       "    <tr>\n",
       "      <th>171</th>\n",
       "      <td>171</td>\n",
       "      <td>West Bengal</td>\n",
       "      <td>Malda</td>\n",
       "      <td>Not Available</td>\n",
       "      <td>FAQ</td>\n",
       "      <td>Kg/Litre</td>\n",
       "      <td>Food</td>\n",
       "      <td>JAN-2001</td>\n",
       "      <td>NaN</td>\n",
       "    </tr>\n",
       "    <tr>\n",
       "      <th>257</th>\n",
       "      <td>257</td>\n",
       "      <td>West Bengal</td>\n",
       "      <td>Malda</td>\n",
       "      <td>Not Available</td>\n",
       "      <td>FAQ</td>\n",
       "      <td>Kg.</td>\n",
       "      <td>Food</td>\n",
       "      <td>JAN-2001</td>\n",
       "      <td>NaN</td>\n",
       "    </tr>\n",
       "    <tr>\n",
       "      <th>343</th>\n",
       "      <td>343</td>\n",
       "      <td>West Bengal</td>\n",
       "      <td>Malda</td>\n",
       "      <td>Not Available</td>\n",
       "      <td>FAQ</td>\n",
       "      <td>Kg.</td>\n",
       "      <td>Food</td>\n",
       "      <td>JAN-2001</td>\n",
       "      <td>NaN</td>\n",
       "    </tr>\n",
       "    <tr>\n",
       "      <th>404</th>\n",
       "      <td>404</td>\n",
       "      <td>West Bengal</td>\n",
       "      <td>Asansol</td>\n",
       "      <td>Not Available</td>\n",
       "      <td>FAQ</td>\n",
       "      <td>Kg.</td>\n",
       "      <td>Food</td>\n",
       "      <td>JAN-2001</td>\n",
       "      <td>NaN</td>\n",
       "    </tr>\n",
       "    <tr>\n",
       "      <th>...</th>\n",
       "      <td>...</td>\n",
       "      <td>...</td>\n",
       "      <td>...</td>\n",
       "      <td>...</td>\n",
       "      <td>...</td>\n",
       "      <td>...</td>\n",
       "      <td>...</td>\n",
       "      <td>...</td>\n",
       "      <td>...</td>\n",
       "    </tr>\n",
       "    <tr>\n",
       "      <th>1146775</th>\n",
       "      <td>1146775</td>\n",
       "      <td>West Bengal</td>\n",
       "      <td>Malda</td>\n",
       "      <td>Not Available</td>\n",
       "      <td>FAQ</td>\n",
       "      <td>Kg/Litre</td>\n",
       "      <td>Food</td>\n",
       "      <td>FEB-2021</td>\n",
       "      <td>95.0</td>\n",
       "    </tr>\n",
       "    <tr>\n",
       "      <th>1147024</th>\n",
       "      <td>1147024</td>\n",
       "      <td>West Bengal</td>\n",
       "      <td>Malda</td>\n",
       "      <td>Not Available</td>\n",
       "      <td>FAQ</td>\n",
       "      <td>Kg.</td>\n",
       "      <td>Food</td>\n",
       "      <td>MAR-2021</td>\n",
       "      <td>10.0</td>\n",
       "    </tr>\n",
       "    <tr>\n",
       "      <th>1147109</th>\n",
       "      <td>1147109</td>\n",
       "      <td>West Bengal</td>\n",
       "      <td>Malda</td>\n",
       "      <td>Not Available</td>\n",
       "      <td>Powdered Agmark</td>\n",
       "      <td>100gm. Pkt</td>\n",
       "      <td>Food</td>\n",
       "      <td>MAR-2021</td>\n",
       "      <td>25.0</td>\n",
       "    </tr>\n",
       "    <tr>\n",
       "      <th>1147195</th>\n",
       "      <td>1147195</td>\n",
       "      <td>West Bengal</td>\n",
       "      <td>Malda</td>\n",
       "      <td>Not Available</td>\n",
       "      <td>Split</td>\n",
       "      <td>Kg.</td>\n",
       "      <td>Food</td>\n",
       "      <td>MAR-2021</td>\n",
       "      <td>110.0</td>\n",
       "    </tr>\n",
       "    <tr>\n",
       "      <th>1147281</th>\n",
       "      <td>1147281</td>\n",
       "      <td>West Bengal</td>\n",
       "      <td>Malda</td>\n",
       "      <td>Not Available</td>\n",
       "      <td>FAQ</td>\n",
       "      <td>Kg/Litre</td>\n",
       "      <td>Food</td>\n",
       "      <td>MAR-2021</td>\n",
       "      <td>95.0</td>\n",
       "    </tr>\n",
       "  </tbody>\n",
       "</table>\n",
       "<p>9720 rows × 9 columns</p>\n",
       "</div>"
      ],
      "text/plain": [
       "         Unnamed: 0        State   Centre      Commodity          Variety  \\\n",
       "85               85  West Bengal    Malda  Not Available            Split   \n",
       "171             171  West Bengal    Malda  Not Available              FAQ   \n",
       "257             257  West Bengal    Malda  Not Available              FAQ   \n",
       "343             343  West Bengal    Malda  Not Available              FAQ   \n",
       "404             404  West Bengal  Asansol  Not Available              FAQ   \n",
       "...             ...          ...      ...            ...              ...   \n",
       "1146775     1146775  West Bengal    Malda  Not Available              FAQ   \n",
       "1147024     1147024  West Bengal    Malda  Not Available              FAQ   \n",
       "1147109     1147109  West Bengal    Malda  Not Available  Powdered Agmark   \n",
       "1147195     1147195  West Bengal    Malda  Not Available            Split   \n",
       "1147281     1147281  West Bengal    Malda  Not Available              FAQ   \n",
       "\n",
       "               Unit Category      Date  Retail Price  \n",
       "85              Kg.     Food  JAN-2001          26.0  \n",
       "171        Kg/Litre     Food  JAN-2001           NaN  \n",
       "257             Kg.     Food  JAN-2001           NaN  \n",
       "343             Kg.     Food  JAN-2001           NaN  \n",
       "404             Kg.     Food  JAN-2001           NaN  \n",
       "...             ...      ...       ...           ...  \n",
       "1146775    Kg/Litre     Food  FEB-2021          95.0  \n",
       "1147024         Kg.     Food  MAR-2021          10.0  \n",
       "1147109  100gm. Pkt     Food  MAR-2021          25.0  \n",
       "1147195         Kg.     Food  MAR-2021         110.0  \n",
       "1147281    Kg/Litre     Food  MAR-2021          95.0  \n",
       "\n",
       "[9720 rows x 9 columns]"
      ]
     },
     "execution_count": 153,
     "metadata": {},
     "output_type": "execute_result"
    }
   ],
   "source": [
    "df[df[\"Commodity\"]==\"Not Available\"]"
   ]
  },
  {
   "cell_type": "code",
   "execution_count": 154,
   "metadata": {
    "scrolled": true
   },
   "outputs": [
    {
     "data": {
      "text/plain": [
       "Int64Index([    171,     257,     343,     404,     745,     916,    1426,\n",
       "               1512,    1598,    1659,\n",
       "            ...\n",
       "            1142641, 1142727, 1142976, 1143061, 1143147, 1143233, 1143482,\n",
       "            1143567, 1143653, 1143739],\n",
       "           dtype='int64', length=4939)"
      ]
     },
     "execution_count": 154,
     "metadata": {},
     "output_type": "execute_result"
    }
   ],
   "source": [
    "a=df[(df[\"Retail Price\"].isnull())&(df[\"Commodity\"]==\"Not Available\")].index\n",
    "a"
   ]
  },
  {
   "cell_type": "code",
   "execution_count": 155,
   "metadata": {
    "scrolled": true
   },
   "outputs": [
    {
     "data": {
      "text/html": [
       "<div>\n",
       "<style scoped>\n",
       "    .dataframe tbody tr th:only-of-type {\n",
       "        vertical-align: middle;\n",
       "    }\n",
       "\n",
       "    .dataframe tbody tr th {\n",
       "        vertical-align: top;\n",
       "    }\n",
       "\n",
       "    .dataframe thead th {\n",
       "        text-align: right;\n",
       "    }\n",
       "</style>\n",
       "<table border=\"1\" class=\"dataframe\">\n",
       "  <thead>\n",
       "    <tr style=\"text-align: right;\">\n",
       "      <th></th>\n",
       "      <th>Unnamed: 0</th>\n",
       "      <th>State</th>\n",
       "      <th>Centre</th>\n",
       "      <th>Commodity</th>\n",
       "      <th>Variety</th>\n",
       "      <th>Unit</th>\n",
       "      <th>Category</th>\n",
       "      <th>Date</th>\n",
       "      <th>Retail Price</th>\n",
       "    </tr>\n",
       "  </thead>\n",
       "  <tbody>\n",
       "    <tr>\n",
       "      <th>0</th>\n",
       "      <td>0</td>\n",
       "      <td>Andhra Pradesh</td>\n",
       "      <td>Chittoor</td>\n",
       "      <td>Moong</td>\n",
       "      <td>Split</td>\n",
       "      <td>Kg.</td>\n",
       "      <td>Food</td>\n",
       "      <td>JAN-2001</td>\n",
       "      <td>24.000000</td>\n",
       "    </tr>\n",
       "    <tr>\n",
       "      <th>1</th>\n",
       "      <td>1</td>\n",
       "      <td>Andhra Pradesh</td>\n",
       "      <td>Guntur</td>\n",
       "      <td>Moong</td>\n",
       "      <td>Split</td>\n",
       "      <td>Kg.</td>\n",
       "      <td>Food</td>\n",
       "      <td>JAN-2001</td>\n",
       "      <td>26.000000</td>\n",
       "    </tr>\n",
       "    <tr>\n",
       "      <th>2</th>\n",
       "      <td>2</td>\n",
       "      <td>Andhra Pradesh</td>\n",
       "      <td>Kurnool</td>\n",
       "      <td>Moong</td>\n",
       "      <td>Split</td>\n",
       "      <td>Kg.</td>\n",
       "      <td>Food</td>\n",
       "      <td>JAN-2001</td>\n",
       "      <td>25.500000</td>\n",
       "    </tr>\n",
       "    <tr>\n",
       "      <th>3</th>\n",
       "      <td>3</td>\n",
       "      <td>Andhra Pradesh</td>\n",
       "      <td>Vishakhapatnam</td>\n",
       "      <td>Moong</td>\n",
       "      <td>Split</td>\n",
       "      <td>Kg.</td>\n",
       "      <td>Food</td>\n",
       "      <td>JAN-2001</td>\n",
       "      <td>28.319444</td>\n",
       "    </tr>\n",
       "    <tr>\n",
       "      <th>4</th>\n",
       "      <td>4</td>\n",
       "      <td>Arunachal Pradesh</td>\n",
       "      <td>Itanagar</td>\n",
       "      <td>Moong</td>\n",
       "      <td>Split</td>\n",
       "      <td>Kg.</td>\n",
       "      <td>Food</td>\n",
       "      <td>JAN-2001</td>\n",
       "      <td>28.319444</td>\n",
       "    </tr>\n",
       "    <tr>\n",
       "      <th>...</th>\n",
       "      <td>...</td>\n",
       "      <td>...</td>\n",
       "      <td>...</td>\n",
       "      <td>...</td>\n",
       "      <td>...</td>\n",
       "      <td>...</td>\n",
       "      <td>...</td>\n",
       "      <td>...</td>\n",
       "      <td>...</td>\n",
       "    </tr>\n",
       "    <tr>\n",
       "      <th>1147441</th>\n",
       "      <td>1147441</td>\n",
       "      <td>West Bengal</td>\n",
       "      <td>Jalpaiguri</td>\n",
       "      <td>Wheat</td>\n",
       "      <td>Kalyan HYV</td>\n",
       "      <td>Kg.</td>\n",
       "      <td>Food</td>\n",
       "      <td>MAR-2021</td>\n",
       "      <td>29.301980</td>\n",
       "    </tr>\n",
       "    <tr>\n",
       "      <th>1147442</th>\n",
       "      <td>1147442</td>\n",
       "      <td>West Bengal</td>\n",
       "      <td>Kolkata</td>\n",
       "      <td>Wheat</td>\n",
       "      <td>Desi</td>\n",
       "      <td>Kg.</td>\n",
       "      <td>Food</td>\n",
       "      <td>MAR-2021</td>\n",
       "      <td>29.301980</td>\n",
       "    </tr>\n",
       "    <tr>\n",
       "      <th>1147443</th>\n",
       "      <td>1147443</td>\n",
       "      <td>West Bengal</td>\n",
       "      <td>Kolkata</td>\n",
       "      <td>Wheat</td>\n",
       "      <td>Kalyan HYV</td>\n",
       "      <td>Kg.</td>\n",
       "      <td>Food</td>\n",
       "      <td>MAR-2021</td>\n",
       "      <td>29.301980</td>\n",
       "    </tr>\n",
       "    <tr>\n",
       "      <th>1147444</th>\n",
       "      <td>1147444</td>\n",
       "      <td>West Bengal</td>\n",
       "      <td>Malda</td>\n",
       "      <td>Wheat</td>\n",
       "      <td>Desi</td>\n",
       "      <td>Kg.</td>\n",
       "      <td>Food</td>\n",
       "      <td>MAR-2021</td>\n",
       "      <td>20.000000</td>\n",
       "    </tr>\n",
       "    <tr>\n",
       "      <th>1147445</th>\n",
       "      <td>1147445</td>\n",
       "      <td>West Bengal</td>\n",
       "      <td>Malda</td>\n",
       "      <td>Wheat</td>\n",
       "      <td>Kalyan HYV</td>\n",
       "      <td>Kg.</td>\n",
       "      <td>Food</td>\n",
       "      <td>MAR-2021</td>\n",
       "      <td>29.301980</td>\n",
       "    </tr>\n",
       "  </tbody>\n",
       "</table>\n",
       "<p>1142507 rows × 9 columns</p>\n",
       "</div>"
      ],
      "text/plain": [
       "         Unnamed: 0              State          Centre Commodity     Variety  \\\n",
       "0                 0     Andhra Pradesh        Chittoor     Moong       Split   \n",
       "1                 1     Andhra Pradesh          Guntur     Moong       Split   \n",
       "2                 2     Andhra Pradesh         Kurnool     Moong       Split   \n",
       "3                 3     Andhra Pradesh  Vishakhapatnam     Moong       Split   \n",
       "4                 4  Arunachal Pradesh        Itanagar     Moong       Split   \n",
       "...             ...                ...             ...       ...         ...   \n",
       "1147441     1147441        West Bengal      Jalpaiguri     Wheat  Kalyan HYV   \n",
       "1147442     1147442        West Bengal         Kolkata     Wheat        Desi   \n",
       "1147443     1147443        West Bengal         Kolkata     Wheat  Kalyan HYV   \n",
       "1147444     1147444        West Bengal           Malda     Wheat        Desi   \n",
       "1147445     1147445        West Bengal           Malda     Wheat  Kalyan HYV   \n",
       "\n",
       "        Unit Category      Date  Retail Price  \n",
       "0        Kg.     Food  JAN-2001     24.000000  \n",
       "1        Kg.     Food  JAN-2001     26.000000  \n",
       "2        Kg.     Food  JAN-2001     25.500000  \n",
       "3        Kg.     Food  JAN-2001     28.319444  \n",
       "4        Kg.     Food  JAN-2001     28.319444  \n",
       "...      ...      ...       ...           ...  \n",
       "1147441  Kg.     Food  MAR-2021     29.301980  \n",
       "1147442  Kg.     Food  MAR-2021     29.301980  \n",
       "1147443  Kg.     Food  MAR-2021     29.301980  \n",
       "1147444  Kg.     Food  MAR-2021     20.000000  \n",
       "1147445  Kg.     Food  MAR-2021     29.301980  \n",
       "\n",
       "[1142507 rows x 9 columns]"
      ]
     },
     "execution_count": 155,
     "metadata": {},
     "output_type": "execute_result"
    }
   ],
   "source": [
    "df=df.drop(a,axis=0)\n",
    "df"
   ]
  },
  {
   "cell_type": "code",
   "execution_count": 156,
   "metadata": {
    "scrolled": true
   },
   "outputs": [
    {
     "data": {
      "text/plain": [
       "Unnamed: 0         0\n",
       "State              0\n",
       "Centre             0\n",
       "Commodity          0\n",
       "Variety            0\n",
       "Unit               0\n",
       "Category           0\n",
       "Date               0\n",
       "Retail Price    3276\n",
       "dtype: int64"
      ]
     },
     "execution_count": 156,
     "metadata": {},
     "output_type": "execute_result"
    }
   ],
   "source": [
    "df.isnull().sum()"
   ]
  },
  {
   "cell_type": "code",
   "execution_count": 157,
   "metadata": {},
   "outputs": [],
   "source": [
    "df2=df[df[\"Retail Price\"].isnull()]"
   ]
  },
  {
   "cell_type": "code",
   "execution_count": 158,
   "metadata": {
    "scrolled": true
   },
   "outputs": [
    {
     "data": {
      "text/html": [
       "<div>\n",
       "<style scoped>\n",
       "    .dataframe tbody tr th:only-of-type {\n",
       "        vertical-align: middle;\n",
       "    }\n",
       "\n",
       "    .dataframe tbody tr th {\n",
       "        vertical-align: top;\n",
       "    }\n",
       "\n",
       "    .dataframe thead th {\n",
       "        text-align: right;\n",
       "    }\n",
       "</style>\n",
       "<table border=\"1\" class=\"dataframe\">\n",
       "  <thead>\n",
       "    <tr style=\"text-align: right;\">\n",
       "      <th></th>\n",
       "      <th>Unnamed: 0</th>\n",
       "      <th>State</th>\n",
       "      <th>Centre</th>\n",
       "      <th>Commodity</th>\n",
       "      <th>Variety</th>\n",
       "      <th>Unit</th>\n",
       "      <th>Category</th>\n",
       "      <th>Date</th>\n",
       "      <th>Retail Price</th>\n",
       "    </tr>\n",
       "  </thead>\n",
       "  <tbody>\n",
       "    <tr>\n",
       "      <th>304965</th>\n",
       "      <td>304965</td>\n",
       "      <td>Andhra Pradesh</td>\n",
       "      <td>Chittoor</td>\n",
       "      <td>Apple</td>\n",
       "      <td>Delicious medium size</td>\n",
       "      <td>Kg.</td>\n",
       "      <td>Food</td>\n",
       "      <td>JAN-2001</td>\n",
       "      <td>NaN</td>\n",
       "    </tr>\n",
       "    <tr>\n",
       "      <th>304966</th>\n",
       "      <td>304966</td>\n",
       "      <td>Andhra Pradesh</td>\n",
       "      <td>Guntur</td>\n",
       "      <td>Apple</td>\n",
       "      <td>Delicious medium size</td>\n",
       "      <td>Kg.</td>\n",
       "      <td>Food</td>\n",
       "      <td>JAN-2001</td>\n",
       "      <td>NaN</td>\n",
       "    </tr>\n",
       "    <tr>\n",
       "      <th>304967</th>\n",
       "      <td>304967</td>\n",
       "      <td>Andhra Pradesh</td>\n",
       "      <td>Kurnool</td>\n",
       "      <td>Apple</td>\n",
       "      <td>Delicious medium size</td>\n",
       "      <td>Kg.</td>\n",
       "      <td>Food</td>\n",
       "      <td>JAN-2001</td>\n",
       "      <td>NaN</td>\n",
       "    </tr>\n",
       "    <tr>\n",
       "      <th>304968</th>\n",
       "      <td>304968</td>\n",
       "      <td>Andhra Pradesh</td>\n",
       "      <td>Vishakhapatnam</td>\n",
       "      <td>Apple</td>\n",
       "      <td>Delicious medium size</td>\n",
       "      <td>Kg.</td>\n",
       "      <td>Food</td>\n",
       "      <td>JAN-2001</td>\n",
       "      <td>NaN</td>\n",
       "    </tr>\n",
       "    <tr>\n",
       "      <th>304969</th>\n",
       "      <td>304969</td>\n",
       "      <td>Arunachal Pradesh</td>\n",
       "      <td>Itanagar</td>\n",
       "      <td>Apple</td>\n",
       "      <td>Delicious medium size</td>\n",
       "      <td>Kg.</td>\n",
       "      <td>Food</td>\n",
       "      <td>JAN-2001</td>\n",
       "      <td>NaN</td>\n",
       "    </tr>\n",
       "    <tr>\n",
       "      <th>...</th>\n",
       "      <td>...</td>\n",
       "      <td>...</td>\n",
       "      <td>...</td>\n",
       "      <td>...</td>\n",
       "      <td>...</td>\n",
       "      <td>...</td>\n",
       "      <td>...</td>\n",
       "      <td>...</td>\n",
       "      <td>...</td>\n",
       "    </tr>\n",
       "    <tr>\n",
       "      <th>331724</th>\n",
       "      <td>331724</td>\n",
       "      <td>Uttarakhand</td>\n",
       "      <td>Srinagar</td>\n",
       "      <td>Apple</td>\n",
       "      <td>Delicious medium size</td>\n",
       "      <td>Kg.</td>\n",
       "      <td>Food</td>\n",
       "      <td>NOV-2004</td>\n",
       "      <td>NaN</td>\n",
       "    </tr>\n",
       "    <tr>\n",
       "      <th>331725</th>\n",
       "      <td>331725</td>\n",
       "      <td>West Bengal</td>\n",
       "      <td>Asansol</td>\n",
       "      <td>Apple</td>\n",
       "      <td>Delicious medium size</td>\n",
       "      <td>Kg.</td>\n",
       "      <td>Food</td>\n",
       "      <td>NOV-2004</td>\n",
       "      <td>NaN</td>\n",
       "    </tr>\n",
       "    <tr>\n",
       "      <th>331726</th>\n",
       "      <td>331726</td>\n",
       "      <td>West Bengal</td>\n",
       "      <td>Howrah</td>\n",
       "      <td>Apple</td>\n",
       "      <td>Delicious medium size</td>\n",
       "      <td>Kg.</td>\n",
       "      <td>Food</td>\n",
       "      <td>NOV-2004</td>\n",
       "      <td>NaN</td>\n",
       "    </tr>\n",
       "    <tr>\n",
       "      <th>331727</th>\n",
       "      <td>331727</td>\n",
       "      <td>West Bengal</td>\n",
       "      <td>Jalpaiguri</td>\n",
       "      <td>Apple</td>\n",
       "      <td>Delicious medium size</td>\n",
       "      <td>Kg.</td>\n",
       "      <td>Food</td>\n",
       "      <td>NOV-2004</td>\n",
       "      <td>NaN</td>\n",
       "    </tr>\n",
       "    <tr>\n",
       "      <th>331728</th>\n",
       "      <td>331728</td>\n",
       "      <td>West Bengal</td>\n",
       "      <td>Kolkata</td>\n",
       "      <td>Apple</td>\n",
       "      <td>Delicious medium size</td>\n",
       "      <td>Kg.</td>\n",
       "      <td>Food</td>\n",
       "      <td>NOV-2004</td>\n",
       "      <td>NaN</td>\n",
       "    </tr>\n",
       "  </tbody>\n",
       "</table>\n",
       "<p>3276 rows × 9 columns</p>\n",
       "</div>"
      ],
      "text/plain": [
       "        Unnamed: 0              State          Centre Commodity  \\\n",
       "304965      304965     Andhra Pradesh        Chittoor     Apple   \n",
       "304966      304966     Andhra Pradesh          Guntur     Apple   \n",
       "304967      304967     Andhra Pradesh         Kurnool     Apple   \n",
       "304968      304968     Andhra Pradesh  Vishakhapatnam     Apple   \n",
       "304969      304969  Arunachal Pradesh        Itanagar     Apple   \n",
       "...            ...                ...             ...       ...   \n",
       "331724      331724        Uttarakhand        Srinagar     Apple   \n",
       "331725      331725        West Bengal         Asansol     Apple   \n",
       "331726      331726        West Bengal          Howrah     Apple   \n",
       "331727      331727        West Bengal      Jalpaiguri     Apple   \n",
       "331728      331728        West Bengal         Kolkata     Apple   \n",
       "\n",
       "                      Variety Unit Category      Date  Retail Price  \n",
       "304965  Delicious medium size  Kg.     Food  JAN-2001           NaN  \n",
       "304966  Delicious medium size  Kg.     Food  JAN-2001           NaN  \n",
       "304967  Delicious medium size  Kg.     Food  JAN-2001           NaN  \n",
       "304968  Delicious medium size  Kg.     Food  JAN-2001           NaN  \n",
       "304969  Delicious medium size  Kg.     Food  JAN-2001           NaN  \n",
       "...                       ...  ...      ...       ...           ...  \n",
       "331724  Delicious medium size  Kg.     Food  NOV-2004           NaN  \n",
       "331725  Delicious medium size  Kg.     Food  NOV-2004           NaN  \n",
       "331726  Delicious medium size  Kg.     Food  NOV-2004           NaN  \n",
       "331727  Delicious medium size  Kg.     Food  NOV-2004           NaN  \n",
       "331728  Delicious medium size  Kg.     Food  NOV-2004           NaN  \n",
       "\n",
       "[3276 rows x 9 columns]"
      ]
     },
     "execution_count": 158,
     "metadata": {},
     "output_type": "execute_result"
    }
   ],
   "source": [
    "df2\n"
   ]
  },
  {
   "cell_type": "code",
   "execution_count": 159,
   "metadata": {
    "scrolled": false
   },
   "outputs": [
    {
     "data": {
      "text/plain": [
       "Apple    3276\n",
       "Name: Commodity, dtype: int64"
      ]
     },
     "execution_count": 159,
     "metadata": {},
     "output_type": "execute_result"
    }
   ],
   "source": [
    "df2.Commodity.value_counts()\n"
   ]
  },
  {
   "cell_type": "code",
   "execution_count": 160,
   "metadata": {},
   "outputs": [],
   "source": [
    "b=df[(df[\"Commodity\"]==\"Apple\")&(df[\"Retail Price\"].isnull())].index"
   ]
  },
  {
   "cell_type": "code",
   "execution_count": 161,
   "metadata": {},
   "outputs": [
    {
     "data": {
      "text/plain": [
       "Int64Index([304965, 304966, 304967, 304968, 304969, 304970, 304971, 304972,\n",
       "            304973, 304974,\n",
       "            ...\n",
       "            331719, 331720, 331721, 331722, 331723, 331724, 331725, 331726,\n",
       "            331727, 331728],\n",
       "           dtype='int64', length=3276)"
      ]
     },
     "execution_count": 161,
     "metadata": {},
     "output_type": "execute_result"
    }
   ],
   "source": [
    "b"
   ]
  },
  {
   "cell_type": "code",
   "execution_count": 162,
   "metadata": {
    "scrolled": true
   },
   "outputs": [],
   "source": [
    "df=df.drop(b,axis=0)"
   ]
  },
  {
   "cell_type": "code",
   "execution_count": 163,
   "metadata": {
    "scrolled": false
   },
   "outputs": [
    {
     "data": {
      "text/plain": [
       "Unnamed: 0      0\n",
       "State           0\n",
       "Centre          0\n",
       "Commodity       0\n",
       "Variety         0\n",
       "Unit            0\n",
       "Category        0\n",
       "Date            0\n",
       "Retail Price    0\n",
       "dtype: int64"
      ]
     },
     "execution_count": 163,
     "metadata": {},
     "output_type": "execute_result"
    }
   ],
   "source": [
    "df.isnull().sum()"
   ]
  },
  {
   "cell_type": "markdown",
   "metadata": {},
   "source": [
    "# 4 Which Date has highest price of wheat?"
   ]
  },
  {
   "cell_type": "code",
   "execution_count": 21,
   "metadata": {},
   "outputs": [],
   "source": [
    "df1=df[df[\"Commodity\"]==\"Wheat\"]"
   ]
  },
  {
   "cell_type": "code",
   "execution_count": 22,
   "metadata": {
    "scrolled": true
   },
   "outputs": [
    {
     "data": {
      "text/html": [
       "<div>\n",
       "<style scoped>\n",
       "    .dataframe tbody tr th:only-of-type {\n",
       "        vertical-align: middle;\n",
       "    }\n",
       "\n",
       "    .dataframe tbody tr th {\n",
       "        vertical-align: top;\n",
       "    }\n",
       "\n",
       "    .dataframe thead th {\n",
       "        text-align: right;\n",
       "    }\n",
       "</style>\n",
       "<table border=\"1\" class=\"dataframe\">\n",
       "  <thead>\n",
       "    <tr style=\"text-align: right;\">\n",
       "      <th></th>\n",
       "      <th>Unnamed: 0</th>\n",
       "      <th>State</th>\n",
       "      <th>Centre</th>\n",
       "      <th>Commodity</th>\n",
       "      <th>Variety</th>\n",
       "      <th>Unit</th>\n",
       "      <th>Category</th>\n",
       "      <th>Date</th>\n",
       "      <th>Retail Price</th>\n",
       "    </tr>\n",
       "  </thead>\n",
       "  <tbody>\n",
       "    <tr>\n",
       "      <th>1146895</th>\n",
       "      <td>1146895</td>\n",
       "      <td>Tamil Nadu</td>\n",
       "      <td>Coimbatore</td>\n",
       "      <td>Wheat</td>\n",
       "      <td>Kalyan HYV</td>\n",
       "      <td>Kg.</td>\n",
       "      <td>Food</td>\n",
       "      <td>FEB-2021</td>\n",
       "      <td>130.0</td>\n",
       "    </tr>\n",
       "    <tr>\n",
       "      <th>1147401</th>\n",
       "      <td>1147401</td>\n",
       "      <td>Tamil Nadu</td>\n",
       "      <td>Coimbatore</td>\n",
       "      <td>Wheat</td>\n",
       "      <td>Kalyan HYV</td>\n",
       "      <td>Kg.</td>\n",
       "      <td>Food</td>\n",
       "      <td>MAR-2021</td>\n",
       "      <td>128.0</td>\n",
       "    </tr>\n",
       "    <tr>\n",
       "      <th>1145890</th>\n",
       "      <td>1145890</td>\n",
       "      <td>Tamil Nadu</td>\n",
       "      <td>Tirunelveli</td>\n",
       "      <td>Wheat</td>\n",
       "      <td>Desi</td>\n",
       "      <td>Kg.</td>\n",
       "      <td>Food</td>\n",
       "      <td>DEC-2020</td>\n",
       "      <td>125.0</td>\n",
       "    </tr>\n",
       "    <tr>\n",
       "      <th>1146389</th>\n",
       "      <td>1146389</td>\n",
       "      <td>Tamil Nadu</td>\n",
       "      <td>Coimbatore</td>\n",
       "      <td>Wheat</td>\n",
       "      <td>Kalyan HYV</td>\n",
       "      <td>Kg.</td>\n",
       "      <td>Food</td>\n",
       "      <td>JAN-2021</td>\n",
       "      <td>125.0</td>\n",
       "    </tr>\n",
       "    <tr>\n",
       "      <th>1146902</th>\n",
       "      <td>1146902</td>\n",
       "      <td>Tamil Nadu</td>\n",
       "      <td>Tirunelveli</td>\n",
       "      <td>Wheat</td>\n",
       "      <td>Desi</td>\n",
       "      <td>Kg.</td>\n",
       "      <td>Food</td>\n",
       "      <td>FEB-2021</td>\n",
       "      <td>125.0</td>\n",
       "    </tr>\n",
       "    <tr>\n",
       "      <th>...</th>\n",
       "      <td>...</td>\n",
       "      <td>...</td>\n",
       "      <td>...</td>\n",
       "      <td>...</td>\n",
       "      <td>...</td>\n",
       "      <td>...</td>\n",
       "      <td>...</td>\n",
       "      <td>...</td>\n",
       "      <td>...</td>\n",
       "    </tr>\n",
       "    <tr>\n",
       "      <th>1109901</th>\n",
       "      <td>1109901</td>\n",
       "      <td>Kerala</td>\n",
       "      <td>Trivandrum</td>\n",
       "      <td>Wheat</td>\n",
       "      <td>Desi</td>\n",
       "      <td>Kg.</td>\n",
       "      <td>Food</td>\n",
       "      <td>JAN-2015</td>\n",
       "      <td>2.0</td>\n",
       "    </tr>\n",
       "    <tr>\n",
       "      <th>1104335</th>\n",
       "      <td>1104335</td>\n",
       "      <td>Kerala</td>\n",
       "      <td>Trivandrum</td>\n",
       "      <td>Wheat</td>\n",
       "      <td>Desi</td>\n",
       "      <td>Kg.</td>\n",
       "      <td>Food</td>\n",
       "      <td>FEB-2014</td>\n",
       "      <td>2.0</td>\n",
       "    </tr>\n",
       "    <tr>\n",
       "      <th>1107877</th>\n",
       "      <td>1107877</td>\n",
       "      <td>Kerala</td>\n",
       "      <td>Trivandrum</td>\n",
       "      <td>Wheat</td>\n",
       "      <td>Desi</td>\n",
       "      <td>Kg.</td>\n",
       "      <td>Food</td>\n",
       "      <td>SEP-2014</td>\n",
       "      <td>2.0</td>\n",
       "    </tr>\n",
       "    <tr>\n",
       "      <th>1111925</th>\n",
       "      <td>1111925</td>\n",
       "      <td>Kerala</td>\n",
       "      <td>Trivandrum</td>\n",
       "      <td>Wheat</td>\n",
       "      <td>Desi</td>\n",
       "      <td>Kg.</td>\n",
       "      <td>Food</td>\n",
       "      <td>MAY-2015</td>\n",
       "      <td>2.0</td>\n",
       "    </tr>\n",
       "    <tr>\n",
       "      <th>1078101</th>\n",
       "      <td>1078101</td>\n",
       "      <td>Uttar Pradesh</td>\n",
       "      <td>Allahabad</td>\n",
       "      <td>Wheat</td>\n",
       "      <td>Kalyan HYV</td>\n",
       "      <td>Kg.</td>\n",
       "      <td>Food</td>\n",
       "      <td>OCT-2009</td>\n",
       "      <td>1.0</td>\n",
       "    </tr>\n",
       "  </tbody>\n",
       "</table>\n",
       "<p>39852 rows × 9 columns</p>\n",
       "</div>"
      ],
      "text/plain": [
       "         Unnamed: 0          State       Centre Commodity     Variety Unit  \\\n",
       "1146895     1146895     Tamil Nadu   Coimbatore     Wheat  Kalyan HYV  Kg.   \n",
       "1147401     1147401     Tamil Nadu   Coimbatore     Wheat  Kalyan HYV  Kg.   \n",
       "1145890     1145890     Tamil Nadu  Tirunelveli     Wheat        Desi  Kg.   \n",
       "1146389     1146389     Tamil Nadu   Coimbatore     Wheat  Kalyan HYV  Kg.   \n",
       "1146902     1146902     Tamil Nadu  Tirunelveli     Wheat        Desi  Kg.   \n",
       "...             ...            ...          ...       ...         ...  ...   \n",
       "1109901     1109901         Kerala   Trivandrum     Wheat        Desi  Kg.   \n",
       "1104335     1104335         Kerala   Trivandrum     Wheat        Desi  Kg.   \n",
       "1107877     1107877         Kerala   Trivandrum     Wheat        Desi  Kg.   \n",
       "1111925     1111925         Kerala   Trivandrum     Wheat        Desi  Kg.   \n",
       "1078101     1078101  Uttar Pradesh    Allahabad     Wheat  Kalyan HYV  Kg.   \n",
       "\n",
       "        Category      Date  Retail Price  \n",
       "1146895     Food  FEB-2021         130.0  \n",
       "1147401     Food  MAR-2021         128.0  \n",
       "1145890     Food  DEC-2020         125.0  \n",
       "1146389     Food  JAN-2021         125.0  \n",
       "1146902     Food  FEB-2021         125.0  \n",
       "...          ...       ...           ...  \n",
       "1109901     Food  JAN-2015           2.0  \n",
       "1104335     Food  FEB-2014           2.0  \n",
       "1107877     Food  SEP-2014           2.0  \n",
       "1111925     Food  MAY-2015           2.0  \n",
       "1078101     Food  OCT-2009           1.0  \n",
       "\n",
       "[39852 rows x 9 columns]"
      ]
     },
     "execution_count": 22,
     "metadata": {},
     "output_type": "execute_result"
    }
   ],
   "source": [
    "df1.sort_values(by=\"Retail Price\",ascending=False)"
   ]
  },
  {
   "cell_type": "markdown",
   "metadata": {},
   "source": [
    "At FEB-2021 Coimbatore,Tamil Nadu was the date and place which has the highest price of wheat in this dataset"
   ]
  },
  {
   "cell_type": "markdown",
   "metadata": {},
   "source": [
    "# 5 Which is the highest price of wheat statewise?"
   ]
  },
  {
   "cell_type": "code",
   "execution_count": 23,
   "metadata": {
    "scrolled": true
   },
   "outputs": [
    {
     "name": "stdout",
     "output_type": "stream",
     "text": [
      "Maximum price of wheat in Andhra Pradesh : 44.00\n",
      "Maximum price of wheat in Arunachal Pradesh : 47.00\n",
      "Maximum price of wheat in Assam : 38.00\n",
      "Maximum price of wheat in Bihar : 30.00\n",
      "Maximum price of wheat in Goa : 36.00\n",
      "Maximum price of wheat in Gujarat : 36.00\n",
      "Maximum price of wheat in Haryana : 29.68\n",
      "Maximum price of wheat in Himachal Pradesh : 29.68\n",
      "Maximum price of wheat in Jammu Kashmir : 29.68\n",
      "Maximum price of wheat in Jharkhand : 32.00\n",
      "Maximum price of wheat in Karnataka : 70.00\n",
      "Maximum price of wheat in Kerala : 44.00\n",
      "Maximum price of wheat in Madhya Pradesh : 32.00\n",
      "Maximum price of wheat in Maharashtra : 40.00\n",
      "Maximum price of wheat in Manipur : 29.68\n",
      "Maximum price of wheat in Meghalaya : 29.68\n",
      "Maximum price of wheat in Nagaland : 29.68\n",
      "Maximum price of wheat in National Capital : 29.68\n",
      "Maximum price of wheat in Orissa : 36.00\n",
      "Maximum price of wheat in Punjab : 29.68\n",
      "Maximum price of wheat in Rajasthan : 30.00\n",
      "Maximum price of wheat in Sikkim : 30.00\n",
      "Maximum price of wheat in Tamil Nadu : 130.00\n",
      "Maximum price of wheat in Telangana : 45.00\n",
      "Maximum price of wheat in Tripura : 32.00\n",
      "Maximum price of wheat in Union Territories : 29.68\n",
      "Maximum price of wheat in Uttar Pradesh : 29.68\n",
      "Maximum price of wheat in Uttarakhand : 29.68\n",
      "Maximum price of wheat in West Bengal : 29.68\n"
     ]
    }
   ],
   "source": [
    "st = []\n",
    "price = []\n",
    "state = df1.State.unique()\n",
    "for s in state:\n",
    "    maxprice = df1[(df1[\"State\"]==s) & (df1[\"Commodity\"]==\"Wheat\")][\"Retail Price\"].max()\n",
    "    print(\"Maximum price of wheat in %s : %0.2f\"%(s,maxprice))\n",
    "    st.append(s)\n",
    "    price.append(maxprice)\n",
    "    "
   ]
  },
  {
   "cell_type": "code",
   "execution_count": 24,
   "metadata": {},
   "outputs": [],
   "source": [
    "data = {\"State\":st,\"Price\":price}"
   ]
  },
  {
   "cell_type": "code",
   "execution_count": 25,
   "metadata": {},
   "outputs": [],
   "source": [
    "state_price = pd.DataFrame(data)"
   ]
  },
  {
   "cell_type": "code",
   "execution_count": 26,
   "metadata": {},
   "outputs": [],
   "source": [
    "state_price = state_price.sort_values(by=\"Price\")"
   ]
  },
  {
   "cell_type": "code",
   "execution_count": 27,
   "metadata": {},
   "outputs": [
    {
     "data": {
      "text/html": [
       "<div>\n",
       "<style scoped>\n",
       "    .dataframe tbody tr th:only-of-type {\n",
       "        vertical-align: middle;\n",
       "    }\n",
       "\n",
       "    .dataframe tbody tr th {\n",
       "        vertical-align: top;\n",
       "    }\n",
       "\n",
       "    .dataframe thead th {\n",
       "        text-align: right;\n",
       "    }\n",
       "</style>\n",
       "<table border=\"1\" class=\"dataframe\">\n",
       "  <thead>\n",
       "    <tr style=\"text-align: right;\">\n",
       "      <th></th>\n",
       "      <th>State</th>\n",
       "      <th>Price</th>\n",
       "    </tr>\n",
       "  </thead>\n",
       "  <tbody>\n",
       "    <tr>\n",
       "      <th>14</th>\n",
       "      <td>Manipur</td>\n",
       "      <td>29.684211</td>\n",
       "    </tr>\n",
       "    <tr>\n",
       "      <th>26</th>\n",
       "      <td>Uttar Pradesh</td>\n",
       "      <td>29.684211</td>\n",
       "    </tr>\n",
       "    <tr>\n",
       "      <th>25</th>\n",
       "      <td>Union Territories</td>\n",
       "      <td>29.684211</td>\n",
       "    </tr>\n",
       "    <tr>\n",
       "      <th>19</th>\n",
       "      <td>Punjab</td>\n",
       "      <td>29.684211</td>\n",
       "    </tr>\n",
       "    <tr>\n",
       "      <th>17</th>\n",
       "      <td>National Capital</td>\n",
       "      <td>29.684211</td>\n",
       "    </tr>\n",
       "    <tr>\n",
       "      <th>16</th>\n",
       "      <td>Nagaland</td>\n",
       "      <td>29.684211</td>\n",
       "    </tr>\n",
       "    <tr>\n",
       "      <th>15</th>\n",
       "      <td>Meghalaya</td>\n",
       "      <td>29.684211</td>\n",
       "    </tr>\n",
       "    <tr>\n",
       "      <th>27</th>\n",
       "      <td>Uttarakhand</td>\n",
       "      <td>29.684211</td>\n",
       "    </tr>\n",
       "    <tr>\n",
       "      <th>28</th>\n",
       "      <td>West Bengal</td>\n",
       "      <td>29.684211</td>\n",
       "    </tr>\n",
       "    <tr>\n",
       "      <th>7</th>\n",
       "      <td>Himachal Pradesh</td>\n",
       "      <td>29.684211</td>\n",
       "    </tr>\n",
       "    <tr>\n",
       "      <th>6</th>\n",
       "      <td>Haryana</td>\n",
       "      <td>29.684211</td>\n",
       "    </tr>\n",
       "    <tr>\n",
       "      <th>8</th>\n",
       "      <td>Jammu Kashmir</td>\n",
       "      <td>29.684211</td>\n",
       "    </tr>\n",
       "    <tr>\n",
       "      <th>21</th>\n",
       "      <td>Sikkim</td>\n",
       "      <td>30.000000</td>\n",
       "    </tr>\n",
       "    <tr>\n",
       "      <th>20</th>\n",
       "      <td>Rajasthan</td>\n",
       "      <td>30.000000</td>\n",
       "    </tr>\n",
       "    <tr>\n",
       "      <th>3</th>\n",
       "      <td>Bihar</td>\n",
       "      <td>30.000000</td>\n",
       "    </tr>\n",
       "    <tr>\n",
       "      <th>9</th>\n",
       "      <td>Jharkhand</td>\n",
       "      <td>32.000000</td>\n",
       "    </tr>\n",
       "    <tr>\n",
       "      <th>24</th>\n",
       "      <td>Tripura</td>\n",
       "      <td>32.000000</td>\n",
       "    </tr>\n",
       "    <tr>\n",
       "      <th>12</th>\n",
       "      <td>Madhya Pradesh</td>\n",
       "      <td>32.000000</td>\n",
       "    </tr>\n",
       "    <tr>\n",
       "      <th>18</th>\n",
       "      <td>Orissa</td>\n",
       "      <td>36.000000</td>\n",
       "    </tr>\n",
       "    <tr>\n",
       "      <th>5</th>\n",
       "      <td>Gujarat</td>\n",
       "      <td>36.000000</td>\n",
       "    </tr>\n",
       "    <tr>\n",
       "      <th>4</th>\n",
       "      <td>Goa</td>\n",
       "      <td>36.000000</td>\n",
       "    </tr>\n",
       "    <tr>\n",
       "      <th>2</th>\n",
       "      <td>Assam</td>\n",
       "      <td>38.000000</td>\n",
       "    </tr>\n",
       "    <tr>\n",
       "      <th>13</th>\n",
       "      <td>Maharashtra</td>\n",
       "      <td>40.000000</td>\n",
       "    </tr>\n",
       "    <tr>\n",
       "      <th>11</th>\n",
       "      <td>Kerala</td>\n",
       "      <td>44.000000</td>\n",
       "    </tr>\n",
       "    <tr>\n",
       "      <th>0</th>\n",
       "      <td>Andhra Pradesh</td>\n",
       "      <td>44.000000</td>\n",
       "    </tr>\n",
       "    <tr>\n",
       "      <th>23</th>\n",
       "      <td>Telangana</td>\n",
       "      <td>45.000000</td>\n",
       "    </tr>\n",
       "    <tr>\n",
       "      <th>1</th>\n",
       "      <td>Arunachal Pradesh</td>\n",
       "      <td>47.000000</td>\n",
       "    </tr>\n",
       "    <tr>\n",
       "      <th>10</th>\n",
       "      <td>Karnataka</td>\n",
       "      <td>70.000000</td>\n",
       "    </tr>\n",
       "    <tr>\n",
       "      <th>22</th>\n",
       "      <td>Tamil Nadu</td>\n",
       "      <td>130.000000</td>\n",
       "    </tr>\n",
       "  </tbody>\n",
       "</table>\n",
       "</div>"
      ],
      "text/plain": [
       "                State       Price\n",
       "14            Manipur   29.684211\n",
       "26      Uttar Pradesh   29.684211\n",
       "25  Union Territories   29.684211\n",
       "19             Punjab   29.684211\n",
       "17   National Capital   29.684211\n",
       "16           Nagaland   29.684211\n",
       "15          Meghalaya   29.684211\n",
       "27        Uttarakhand   29.684211\n",
       "28        West Bengal   29.684211\n",
       "7    Himachal Pradesh   29.684211\n",
       "6             Haryana   29.684211\n",
       "8       Jammu Kashmir   29.684211\n",
       "21             Sikkim   30.000000\n",
       "20          Rajasthan   30.000000\n",
       "3               Bihar   30.000000\n",
       "9           Jharkhand   32.000000\n",
       "24            Tripura   32.000000\n",
       "12     Madhya Pradesh   32.000000\n",
       "18             Orissa   36.000000\n",
       "5             Gujarat   36.000000\n",
       "4                 Goa   36.000000\n",
       "2               Assam   38.000000\n",
       "13        Maharashtra   40.000000\n",
       "11             Kerala   44.000000\n",
       "0      Andhra Pradesh   44.000000\n",
       "23          Telangana   45.000000\n",
       "1   Arunachal Pradesh   47.000000\n",
       "10          Karnataka   70.000000\n",
       "22         Tamil Nadu  130.000000"
      ]
     },
     "execution_count": 27,
     "metadata": {},
     "output_type": "execute_result"
    }
   ],
   "source": [
    "state_price"
   ]
  },
  {
   "cell_type": "code",
   "execution_count": 28,
   "metadata": {
    "scrolled": true
   },
   "outputs": [
    {
     "data": {
      "image/png": "[encoded data removed]",
      "text/plain": [
       "<Figure size 720x1080 with 1 Axes>"
      ]
     },
     "metadata": {
      "needs_background": "light"
     },
     "output_type": "display_data"
    }
   ],
   "source": [
    "plt.figure(figsize=(10,15))\n",
    "plt.barh(\"State\",\"Price\",data=state_price)\n",
    "plt.xlabel(\"Max. Retail Price\")\n",
    "plt.ylabel(\"States\")\n",
    "plt.title(\"State Wise Maximum Retail Prices of Wheat\")\n",
    "plt.show()"
   ]
  },
  {
   "cell_type": "markdown",
   "metadata": {},
   "source": [
    "# 6 If the Commodity is mustard oil,how many varieties are available in mustard oil?"
   ]
  },
  {
   "cell_type": "code",
   "execution_count": 29,
   "metadata": {
    "scrolled": false
   },
   "outputs": [
    {
     "data": {
      "text/html": [
       "<div>\n",
       "<style scoped>\n",
       "    .dataframe tbody tr th:only-of-type {\n",
       "        vertical-align: middle;\n",
       "    }\n",
       "\n",
       "    .dataframe tbody tr th {\n",
       "        vertical-align: top;\n",
       "    }\n",
       "\n",
       "    .dataframe thead th {\n",
       "        text-align: right;\n",
       "    }\n",
       "</style>\n",
       "<table border=\"1\" class=\"dataframe\">\n",
       "  <thead>\n",
       "    <tr style=\"text-align: right;\">\n",
       "      <th></th>\n",
       "      <th>Unnamed: 0</th>\n",
       "      <th>State</th>\n",
       "      <th>Centre</th>\n",
       "      <th>Commodity</th>\n",
       "      <th>Variety</th>\n",
       "      <th>Unit</th>\n",
       "      <th>Category</th>\n",
       "      <th>Date</th>\n",
       "      <th>Retail Price</th>\n",
       "    </tr>\n",
       "  </thead>\n",
       "  <tbody>\n",
       "    <tr>\n",
       "      <th>0</th>\n",
       "      <td>0</td>\n",
       "      <td>Andhra Pradesh</td>\n",
       "      <td>Chittoor</td>\n",
       "      <td>Moong</td>\n",
       "      <td>Split</td>\n",
       "      <td>Kg.</td>\n",
       "      <td>Food</td>\n",
       "      <td>JAN-2001</td>\n",
       "      <td>24.000000</td>\n",
       "    </tr>\n",
       "    <tr>\n",
       "      <th>1</th>\n",
       "      <td>1</td>\n",
       "      <td>Andhra Pradesh</td>\n",
       "      <td>Guntur</td>\n",
       "      <td>Moong</td>\n",
       "      <td>Split</td>\n",
       "      <td>Kg.</td>\n",
       "      <td>Food</td>\n",
       "      <td>JAN-2001</td>\n",
       "      <td>26.000000</td>\n",
       "    </tr>\n",
       "    <tr>\n",
       "      <th>2</th>\n",
       "      <td>2</td>\n",
       "      <td>Andhra Pradesh</td>\n",
       "      <td>Kurnool</td>\n",
       "      <td>Moong</td>\n",
       "      <td>Split</td>\n",
       "      <td>Kg.</td>\n",
       "      <td>Food</td>\n",
       "      <td>JAN-2001</td>\n",
       "      <td>25.500000</td>\n",
       "    </tr>\n",
       "    <tr>\n",
       "      <th>3</th>\n",
       "      <td>3</td>\n",
       "      <td>Andhra Pradesh</td>\n",
       "      <td>Vishakhapatnam</td>\n",
       "      <td>Moong</td>\n",
       "      <td>Split</td>\n",
       "      <td>Kg.</td>\n",
       "      <td>Food</td>\n",
       "      <td>JAN-2001</td>\n",
       "      <td>28.319444</td>\n",
       "    </tr>\n",
       "    <tr>\n",
       "      <th>4</th>\n",
       "      <td>4</td>\n",
       "      <td>Arunachal Pradesh</td>\n",
       "      <td>Itanagar</td>\n",
       "      <td>Moong</td>\n",
       "      <td>Split</td>\n",
       "      <td>Kg.</td>\n",
       "      <td>Food</td>\n",
       "      <td>JAN-2001</td>\n",
       "      <td>28.319444</td>\n",
       "    </tr>\n",
       "    <tr>\n",
       "      <th>...</th>\n",
       "      <td>...</td>\n",
       "      <td>...</td>\n",
       "      <td>...</td>\n",
       "      <td>...</td>\n",
       "      <td>...</td>\n",
       "      <td>...</td>\n",
       "      <td>...</td>\n",
       "      <td>...</td>\n",
       "      <td>...</td>\n",
       "    </tr>\n",
       "    <tr>\n",
       "      <th>1147441</th>\n",
       "      <td>1147441</td>\n",
       "      <td>West Bengal</td>\n",
       "      <td>Jalpaiguri</td>\n",
       "      <td>Wheat</td>\n",
       "      <td>Kalyan HYV</td>\n",
       "      <td>Kg.</td>\n",
       "      <td>Food</td>\n",
       "      <td>MAR-2021</td>\n",
       "      <td>29.301980</td>\n",
       "    </tr>\n",
       "    <tr>\n",
       "      <th>1147442</th>\n",
       "      <td>1147442</td>\n",
       "      <td>West Bengal</td>\n",
       "      <td>Kolkata</td>\n",
       "      <td>Wheat</td>\n",
       "      <td>Desi</td>\n",
       "      <td>Kg.</td>\n",
       "      <td>Food</td>\n",
       "      <td>MAR-2021</td>\n",
       "      <td>29.301980</td>\n",
       "    </tr>\n",
       "    <tr>\n",
       "      <th>1147443</th>\n",
       "      <td>1147443</td>\n",
       "      <td>West Bengal</td>\n",
       "      <td>Kolkata</td>\n",
       "      <td>Wheat</td>\n",
       "      <td>Kalyan HYV</td>\n",
       "      <td>Kg.</td>\n",
       "      <td>Food</td>\n",
       "      <td>MAR-2021</td>\n",
       "      <td>29.301980</td>\n",
       "    </tr>\n",
       "    <tr>\n",
       "      <th>1147444</th>\n",
       "      <td>1147444</td>\n",
       "      <td>West Bengal</td>\n",
       "      <td>Malda</td>\n",
       "      <td>Wheat</td>\n",
       "      <td>Desi</td>\n",
       "      <td>Kg.</td>\n",
       "      <td>Food</td>\n",
       "      <td>MAR-2021</td>\n",
       "      <td>20.000000</td>\n",
       "    </tr>\n",
       "    <tr>\n",
       "      <th>1147445</th>\n",
       "      <td>1147445</td>\n",
       "      <td>West Bengal</td>\n",
       "      <td>Malda</td>\n",
       "      <td>Wheat</td>\n",
       "      <td>Kalyan HYV</td>\n",
       "      <td>Kg.</td>\n",
       "      <td>Food</td>\n",
       "      <td>MAR-2021</td>\n",
       "      <td>29.301980</td>\n",
       "    </tr>\n",
       "  </tbody>\n",
       "</table>\n",
       "<p>1139231 rows × 9 columns</p>\n",
       "</div>"
      ],
      "text/plain": [
       "         Unnamed: 0              State          Centre Commodity     Variety  \\\n",
       "0                 0     Andhra Pradesh        Chittoor     Moong       Split   \n",
       "1                 1     Andhra Pradesh          Guntur     Moong       Split   \n",
       "2                 2     Andhra Pradesh         Kurnool     Moong       Split   \n",
       "3                 3     Andhra Pradesh  Vishakhapatnam     Moong       Split   \n",
       "4                 4  Arunachal Pradesh        Itanagar     Moong       Split   \n",
       "...             ...                ...             ...       ...         ...   \n",
       "1147441     1147441        West Bengal      Jalpaiguri     Wheat  Kalyan HYV   \n",
       "1147442     1147442        West Bengal         Kolkata     Wheat        Desi   \n",
       "1147443     1147443        West Bengal         Kolkata     Wheat  Kalyan HYV   \n",
       "1147444     1147444        West Bengal           Malda     Wheat        Desi   \n",
       "1147445     1147445        West Bengal           Malda     Wheat  Kalyan HYV   \n",
       "\n",
       "        Unit Category      Date  Retail Price  \n",
       "0        Kg.     Food  JAN-2001     24.000000  \n",
       "1        Kg.     Food  JAN-2001     26.000000  \n",
       "2        Kg.     Food  JAN-2001     25.500000  \n",
       "3        Kg.     Food  JAN-2001     28.319444  \n",
       "4        Kg.     Food  JAN-2001     28.319444  \n",
       "...      ...      ...       ...           ...  \n",
       "1147441  Kg.     Food  MAR-2021     29.301980  \n",
       "1147442  Kg.     Food  MAR-2021     29.301980  \n",
       "1147443  Kg.     Food  MAR-2021     29.301980  \n",
       "1147444  Kg.     Food  MAR-2021     20.000000  \n",
       "1147445  Kg.     Food  MAR-2021     29.301980  \n",
       "\n",
       "[1139231 rows x 9 columns]"
      ]
     },
     "execution_count": 29,
     "metadata": {},
     "output_type": "execute_result"
    }
   ],
   "source": [
    "df"
   ]
  },
  {
   "cell_type": "code",
   "execution_count": 30,
   "metadata": {
    "scrolled": true
   },
   "outputs": [
    {
     "data": {
      "text/plain": [
       "array(['FAQ'], dtype=object)"
      ]
     },
     "execution_count": 30,
     "metadata": {},
     "output_type": "execute_result"
    }
   ],
   "source": [
    "df[(df[\"Commodity\"]==\"Mustard Oil\")][\"Variety\"].unique()\n"
   ]
  },
  {
   "cell_type": "code",
   "execution_count": 33,
   "metadata": {
    "scrolled": true
   },
   "outputs": [],
   "source": [
    "FAQ is the only variety for Mustard oil in this dataset"
   ]
  },
  {
   "cell_type": "markdown",
   "metadata": {},
   "source": [
    "# 7 How many varieties are available in each commodity?"
   ]
  },
  {
   "cell_type": "code",
   "execution_count": 31,
   "metadata": {
    "scrolled": true
   },
   "outputs": [],
   "source": [
    "comm=df[\"Commodity\"].unique()"
   ]
  },
  {
   "cell_type": "code",
   "execution_count": 32,
   "metadata": {
    "scrolled": false
   },
   "outputs": [
    {
     "name": "stdout",
     "output_type": "stream",
     "text": [
      "Moong have ['Split'] varities\n",
      "Not Available have ['Split' 'Powdered Agmark' 'FAQ' 'Superfine' 'Packet(iodized)'\n",
      " 'Delicious medium size' 'Local' 'White' 'Mutton' 'Common' 'Rohu 1Kg Size'\n",
      " 'Desi' 'Whole' 'Amul/Any Other' 'Poultry' 'Fresh'] varities\n",
      "Mustard Oil have ['FAQ'] varities\n",
      "Onion have ['FAQ'] varities\n",
      "Potato have ['FAQ'] varities\n",
      "Ragi have ['FAQ'] varities\n",
      "Red Chillies have ['Powdered Agmark'] varities\n",
      "Rice have ['Common/Coarse' 'Fine' 'Superfine'] varities\n",
      "Salt have ['Loose(common)' 'Packet(iodized)'] varities\n",
      "Sugar have ['FAQ'] varities\n",
      "Suji have ['FAQ'] varities\n",
      "Tea have ['Brooke Bond Red Label' 'Ctc(loose)'] varities\n",
      "Arhar have ['Split'] varities\n",
      "Atta have ['FAQ'] varities\n",
      "Bajra have ['FAQ'] varities\n",
      "Banana have ['FAQ'] varities\n",
      "Besan have ['FAQ'] varities\n",
      "Biscuit have ['Glucose'] varities\n",
      "Apple have ['Delicious medium size'] varities\n",
      "Groundnut Oil have ['FAQ'] varities\n",
      "Gur have ['Local'] varities\n",
      "Jowar have ['White'] varities\n",
      "Maida have ['FAQ'] varities\n",
      "Maize have ['FAQ'] varities\n",
      "Masur have ['Split'] varities\n",
      "Meat have ['Mutton'] varities\n",
      "Milk have ['Cow/Buffalo' 'Dairy'] varities\n",
      "Coriander have ['Powdered Agmark'] varities\n",
      "Cummin Seed have ['Common'] varities\n",
      "Eggs have ['FAQ'] varities\n",
      "Fish have ['Cat Fish' 'Pomphret' 'Rohu 1Kg Size'] varities\n",
      "Ghee have ['Desi'] varities\n",
      "Gingelly Oil have ['FAQ'] varities\n",
      "Gram have ['Split' 'Whole'] varities\n",
      "Black Pepper have ['Whole'] varities\n",
      "Bread have ['Local'] varities\n",
      "Brinjal have ['FAQ'] varities\n",
      "Butter have ['Amul/Any Other'] varities\n",
      "Chicken have ['Poultry'] varities\n",
      "Coconut have ['Dry' 'Fresh'] varities\n",
      "Coconut Oil have ['FAQ'] varities\n",
      "Coffee have ['Instant' 'Powdered'] varities\n",
      "Tomato have ['FAQ'] varities\n",
      "Turmeric have ['Powdered Agmark'] varities\n",
      "Urad have ['Split'] varities\n",
      "Vanaspati have ['FAQ'] varities\n",
      "Wheat have ['Desi' 'Kalyan HYV'] varities\n"
     ]
    }
   ],
   "source": [
    "for c in comm:\n",
    "    var=df[df[\"Commodity\"]==c][\"Variety\"].unique()\n",
    "    print(\"%s have %s varities\"%(c,var))"
   ]
  },
  {
   "cell_type": "markdown",
   "metadata": {},
   "source": [
    "# 8 What is the pomphret price in kerala from 2001 to 2021?"
   ]
  },
  {
   "cell_type": "code",
   "execution_count": 33,
   "metadata": {
    "scrolled": true
   },
   "outputs": [],
   "source": [
    "df3=df[(df[\"Variety\"]==\"Pomphret\")&(df[\"State\"]==\"Kerala\")]"
   ]
  },
  {
   "cell_type": "code",
   "execution_count": 34,
   "metadata": {
    "scrolled": true
   },
   "outputs": [
    {
     "data": {
      "text/html": [
       "<div>\n",
       "<style scoped>\n",
       "    .dataframe tbody tr th:only-of-type {\n",
       "        vertical-align: middle;\n",
       "    }\n",
       "\n",
       "    .dataframe tbody tr th {\n",
       "        vertical-align: top;\n",
       "    }\n",
       "\n",
       "    .dataframe thead th {\n",
       "        text-align: right;\n",
       "    }\n",
       "</style>\n",
       "<table border=\"1\" class=\"dataframe\">\n",
       "  <thead>\n",
       "    <tr style=\"text-align: right;\">\n",
       "      <th></th>\n",
       "      <th>Unnamed: 0</th>\n",
       "      <th>State</th>\n",
       "      <th>Centre</th>\n",
       "      <th>Commodity</th>\n",
       "      <th>Variety</th>\n",
       "      <th>Unit</th>\n",
       "      <th>Category</th>\n",
       "      <th>Date</th>\n",
       "      <th>Retail Price</th>\n",
       "    </tr>\n",
       "  </thead>\n",
       "  <tbody>\n",
       "    <tr>\n",
       "      <th>627505</th>\n",
       "      <td>627505</td>\n",
       "      <td>Kerala</td>\n",
       "      <td>Ernakulam</td>\n",
       "      <td>Fish</td>\n",
       "      <td>Pomphret</td>\n",
       "      <td>Kg.</td>\n",
       "      <td>Food</td>\n",
       "      <td>JAN-2001</td>\n",
       "      <td>58.562500</td>\n",
       "    </tr>\n",
       "    <tr>\n",
       "      <th>627508</th>\n",
       "      <td>627508</td>\n",
       "      <td>Kerala</td>\n",
       "      <td>Khozhikode</td>\n",
       "      <td>Fish</td>\n",
       "      <td>Pomphret</td>\n",
       "      <td>Kg.</td>\n",
       "      <td>Food</td>\n",
       "      <td>JAN-2001</td>\n",
       "      <td>58.562500</td>\n",
       "    </tr>\n",
       "    <tr>\n",
       "      <th>627511</th>\n",
       "      <td>627511</td>\n",
       "      <td>Kerala</td>\n",
       "      <td>Trivandrum</td>\n",
       "      <td>Fish</td>\n",
       "      <td>Pomphret</td>\n",
       "      <td>Kg.</td>\n",
       "      <td>Food</td>\n",
       "      <td>JAN-2001</td>\n",
       "      <td>58.562500</td>\n",
       "    </tr>\n",
       "    <tr>\n",
       "      <th>628308</th>\n",
       "      <td>628308</td>\n",
       "      <td>Kerala</td>\n",
       "      <td>Ernakulam</td>\n",
       "      <td>Fish</td>\n",
       "      <td>Pomphret</td>\n",
       "      <td>Kg.</td>\n",
       "      <td>Food</td>\n",
       "      <td>FEB-2001</td>\n",
       "      <td>58.937500</td>\n",
       "    </tr>\n",
       "    <tr>\n",
       "      <th>628311</th>\n",
       "      <td>628311</td>\n",
       "      <td>Kerala</td>\n",
       "      <td>Khozhikode</td>\n",
       "      <td>Fish</td>\n",
       "      <td>Pomphret</td>\n",
       "      <td>Kg.</td>\n",
       "      <td>Food</td>\n",
       "      <td>FEB-2001</td>\n",
       "      <td>58.937500</td>\n",
       "    </tr>\n",
       "    <tr>\n",
       "      <th>...</th>\n",
       "      <td>...</td>\n",
       "      <td>...</td>\n",
       "      <td>...</td>\n",
       "      <td>...</td>\n",
       "      <td>...</td>\n",
       "      <td>...</td>\n",
       "      <td>...</td>\n",
       "      <td>...</td>\n",
       "      <td>...</td>\n",
       "    </tr>\n",
       "    <tr>\n",
       "      <th>821031</th>\n",
       "      <td>821031</td>\n",
       "      <td>Kerala</td>\n",
       "      <td>Khozhikode</td>\n",
       "      <td>Fish</td>\n",
       "      <td>Pomphret</td>\n",
       "      <td>Kg.</td>\n",
       "      <td>Food</td>\n",
       "      <td>FEB-2021</td>\n",
       "      <td>500.000000</td>\n",
       "    </tr>\n",
       "    <tr>\n",
       "      <th>821034</th>\n",
       "      <td>821034</td>\n",
       "      <td>Kerala</td>\n",
       "      <td>Trivandrum</td>\n",
       "      <td>Fish</td>\n",
       "      <td>Pomphret</td>\n",
       "      <td>Kg.</td>\n",
       "      <td>Food</td>\n",
       "      <td>FEB-2021</td>\n",
       "      <td>650.000000</td>\n",
       "    </tr>\n",
       "    <tr>\n",
       "      <th>821831</th>\n",
       "      <td>821831</td>\n",
       "      <td>Kerala</td>\n",
       "      <td>Ernakulam</td>\n",
       "      <td>Fish</td>\n",
       "      <td>Pomphret</td>\n",
       "      <td>Kg.</td>\n",
       "      <td>Food</td>\n",
       "      <td>MAR-2021</td>\n",
       "      <td>316.901961</td>\n",
       "    </tr>\n",
       "    <tr>\n",
       "      <th>821834</th>\n",
       "      <td>821834</td>\n",
       "      <td>Kerala</td>\n",
       "      <td>Khozhikode</td>\n",
       "      <td>Fish</td>\n",
       "      <td>Pomphret</td>\n",
       "      <td>Kg.</td>\n",
       "      <td>Food</td>\n",
       "      <td>MAR-2021</td>\n",
       "      <td>500.000000</td>\n",
       "    </tr>\n",
       "    <tr>\n",
       "      <th>821837</th>\n",
       "      <td>821837</td>\n",
       "      <td>Kerala</td>\n",
       "      <td>Trivandrum</td>\n",
       "      <td>Fish</td>\n",
       "      <td>Pomphret</td>\n",
       "      <td>Kg.</td>\n",
       "      <td>Food</td>\n",
       "      <td>MAR-2021</td>\n",
       "      <td>650.000000</td>\n",
       "    </tr>\n",
       "  </tbody>\n",
       "</table>\n",
       "<p>729 rows × 9 columns</p>\n",
       "</div>"
      ],
      "text/plain": [
       "        Unnamed: 0   State      Centre Commodity   Variety Unit Category  \\\n",
       "627505      627505  Kerala   Ernakulam      Fish  Pomphret  Kg.     Food   \n",
       "627508      627508  Kerala  Khozhikode      Fish  Pomphret  Kg.     Food   \n",
       "627511      627511  Kerala  Trivandrum      Fish  Pomphret  Kg.     Food   \n",
       "628308      628308  Kerala   Ernakulam      Fish  Pomphret  Kg.     Food   \n",
       "628311      628311  Kerala  Khozhikode      Fish  Pomphret  Kg.     Food   \n",
       "...            ...     ...         ...       ...       ...  ...      ...   \n",
       "821031      821031  Kerala  Khozhikode      Fish  Pomphret  Kg.     Food   \n",
       "821034      821034  Kerala  Trivandrum      Fish  Pomphret  Kg.     Food   \n",
       "821831      821831  Kerala   Ernakulam      Fish  Pomphret  Kg.     Food   \n",
       "821834      821834  Kerala  Khozhikode      Fish  Pomphret  Kg.     Food   \n",
       "821837      821837  Kerala  Trivandrum      Fish  Pomphret  Kg.     Food   \n",
       "\n",
       "            Date  Retail Price  \n",
       "627505  JAN-2001     58.562500  \n",
       "627508  JAN-2001     58.562500  \n",
       "627511  JAN-2001     58.562500  \n",
       "628308  FEB-2001     58.937500  \n",
       "628311  FEB-2001     58.937500  \n",
       "...          ...           ...  \n",
       "821031  FEB-2021    500.000000  \n",
       "821034  FEB-2021    650.000000  \n",
       "821831  MAR-2021    316.901961  \n",
       "821834  MAR-2021    500.000000  \n",
       "821837  MAR-2021    650.000000  \n",
       "\n",
       "[729 rows x 9 columns]"
      ]
     },
     "execution_count": 34,
     "metadata": {},
     "output_type": "execute_result"
    }
   ],
   "source": [
    "df3"
   ]
  },
  {
   "cell_type": "code",
   "execution_count": 35,
   "metadata": {
    "scrolled": false
   },
   "outputs": [
    {
     "name": "stdout",
     "output_type": "stream",
     "text": [
      "Average Retail Price of Pomphret in JAN-2001:58.562\n",
      "Average Retail Price of Pomphret in FEB-2001:58.938\n",
      "Average Retail Price of Pomphret in MAR-2001:59.676\n",
      "Average Retail Price of Pomphret in APR-2001:58.387\n",
      "Average Retail Price of Pomphret in MAY-2001:56.500\n",
      "Average Retail Price of Pomphret in JUN-2001:56.800\n",
      "Average Retail Price of Pomphret in JUL-2001:54.750\n",
      "Average Retail Price of Pomphret in AUG-2001:52.120\n",
      "Average Retail Price of Pomphret in SEP-2001:53.516\n",
      "Average Retail Price of Pomphret in OCT-2001:52.261\n",
      "Average Retail Price of Pomphret in NOV-2001:51.864\n",
      "Average Retail Price of Pomphret in DEC-2001:57.074\n",
      "Average Retail Price of Pomphret in JAN-2002:55.138\n",
      "Average Retail Price of Pomphret in FEB-2002:53.133\n",
      "Average Retail Price of Pomphret in MAR-2002:52.862\n",
      "Average Retail Price of Pomphret in APR-2002:53.500\n",
      "Average Retail Price of Pomphret in MAY-2002:54.636\n",
      "Average Retail Price of Pomphret in JUN-2002:55.667\n",
      "Average Retail Price of Pomphret in JUL-2002:54.900\n",
      "Average Retail Price of Pomphret in AUG-2002:54.957\n",
      "Average Retail Price of Pomphret in SEP-2002:57.964\n",
      "Average Retail Price of Pomphret in OCT-2002:56.926\n",
      "Average Retail Price of Pomphret in NOV-2002:54.241\n",
      "Average Retail Price of Pomphret in DEC-2002:52.026\n",
      "Average Retail Price of Pomphret in JAN-2003:79.667\n",
      "Average Retail Price of Pomphret in FEB-2003:60.871\n",
      "Average Retail Price of Pomphret in MAR-2003:60.477\n",
      "Average Retail Price of Pomphret in APR-2003:78.761\n",
      "Average Retail Price of Pomphret in MAY-2003:60.891\n",
      "Average Retail Price of Pomphret in JUN-2003:71.049\n",
      "Average Retail Price of Pomphret in JUL-2003:76.525\n",
      "Average Retail Price of Pomphret in AUG-2003:66.589\n",
      "Average Retail Price of Pomphret in SEP-2003:57.785\n",
      "Average Retail Price of Pomphret in OCT-2003:58.897\n",
      "Average Retail Price of Pomphret in NOV-2003:67.542\n",
      "Average Retail Price of Pomphret in DEC-2003:63.786\n",
      "Average Retail Price of Pomphret in JAN-2004:63.952\n",
      "Average Retail Price of Pomphret in FEB-2004:64.778\n",
      "Average Retail Price of Pomphret in MAR-2004:63.952\n",
      "Average Retail Price of Pomphret in APR-2004:62.375\n",
      "Average Retail Price of Pomphret in MAY-2004:66.955\n",
      "Average Retail Price of Pomphret in JUN-2004:75.000\n",
      "Average Retail Price of Pomphret in JUL-2004:67.857\n",
      "Average Retail Price of Pomphret in AUG-2004:63.034\n",
      "Average Retail Price of Pomphret in SEP-2004:62.708\n",
      "Average Retail Price of Pomphret in OCT-2004:65.895\n",
      "Average Retail Price of Pomphret in NOV-2004:59.857\n",
      "Average Retail Price of Pomphret in DEC-2004:76.667\n",
      "Average Retail Price of Pomphret in JAN-2005:86.667\n",
      "Average Retail Price of Pomphret in FEB-2005:103.333\n",
      "Average Retail Price of Pomphret in MAR-2005:110.000\n",
      "Average Retail Price of Pomphret in APR-2005:95.000\n",
      "Average Retail Price of Pomphret in MAY-2005:78.158\n",
      "Average Retail Price of Pomphret in JUN-2005:76.667\n",
      "Average Retail Price of Pomphret in JUL-2005:80.000\n",
      "Average Retail Price of Pomphret in AUG-2005:85.000\n",
      "Average Retail Price of Pomphret in SEP-2005:108.333\n",
      "Average Retail Price of Pomphret in OCT-2005:85.389\n",
      "Average Retail Price of Pomphret in NOV-2005:87.182\n",
      "Average Retail Price of Pomphret in DEC-2005:84.363\n",
      "Average Retail Price of Pomphret in JAN-2006:108.333\n",
      "Average Retail Price of Pomphret in FEB-2006:116.667\n",
      "Average Retail Price of Pomphret in MAR-2006:115.000\n",
      "Average Retail Price of Pomphret in APR-2006:123.333\n",
      "Average Retail Price of Pomphret in MAY-2006:120.000\n",
      "Average Retail Price of Pomphret in JUN-2006:133.333\n",
      "Average Retail Price of Pomphret in JUL-2006:125.000\n",
      "Average Retail Price of Pomphret in AUG-2006:130.000\n",
      "Average Retail Price of Pomphret in SEP-2006:123.333\n",
      "Average Retail Price of Pomphret in OCT-2006:85.000\n",
      "Average Retail Price of Pomphret in NOV-2006:86.748\n",
      "Average Retail Price of Pomphret in DEC-2006:89.538\n",
      "Average Retail Price of Pomphret in JAN-2007:93.907\n",
      "Average Retail Price of Pomphret in FEB-2007:100.590\n",
      "Average Retail Price of Pomphret in MAR-2007:97.670\n",
      "Average Retail Price of Pomphret in APR-2007:114.615\n",
      "Average Retail Price of Pomphret in MAY-2007:134.593\n",
      "Average Retail Price of Pomphret in JUN-2007:132.642\n",
      "Average Retail Price of Pomphret in JUL-2007:134.711\n",
      "Average Retail Price of Pomphret in AUG-2007:121.793\n",
      "Average Retail Price of Pomphret in SEP-2007:106.848\n",
      "Average Retail Price of Pomphret in OCT-2007:110.312\n",
      "Average Retail Price of Pomphret in NOV-2007:151.459\n",
      "Average Retail Price of Pomphret in DEC-2007:155.958\n",
      "Average Retail Price of Pomphret in JAN-2008:163.206\n",
      "Average Retail Price of Pomphret in FEB-2008:154.041\n",
      "Average Retail Price of Pomphret in MAR-2008:164.676\n",
      "Average Retail Price of Pomphret in APR-2008:164.473\n",
      "Average Retail Price of Pomphret in MAY-2008:179.887\n",
      "Average Retail Price of Pomphret in JUN-2008:169.067\n",
      "Average Retail Price of Pomphret in JUL-2008:168.912\n",
      "Average Retail Price of Pomphret in AUG-2008:134.352\n",
      "Average Retail Price of Pomphret in SEP-2008:122.648\n",
      "Average Retail Price of Pomphret in OCT-2008:136.759\n",
      "Average Retail Price of Pomphret in NOV-2008:153.635\n",
      "Average Retail Price of Pomphret in DEC-2008:148.986\n",
      "Average Retail Price of Pomphret in JAN-2009:137.812\n",
      "Average Retail Price of Pomphret in FEB-2009:145.129\n",
      "Average Retail Price of Pomphret in MAR-2009:143.305\n",
      "Average Retail Price of Pomphret in APR-2009:170.551\n",
      "Average Retail Price of Pomphret in MAY-2009:163.991\n",
      "Average Retail Price of Pomphret in JUN-2009:171.667\n",
      "Average Retail Price of Pomphret in JUL-2009:158.863\n",
      "Average Retail Price of Pomphret in AUG-2009:145.946\n",
      "Average Retail Price of Pomphret in SEP-2009:140.290\n",
      "Average Retail Price of Pomphret in OCT-2009:158.676\n",
      "Average Retail Price of Pomphret in NOV-2009:168.177\n",
      "Average Retail Price of Pomphret in DEC-2009:148.136\n",
      "Average Retail Price of Pomphret in JAN-2010:174.242\n",
      "Average Retail Price of Pomphret in FEB-2010:171.968\n",
      "Average Retail Price of Pomphret in MAR-2010:171.333\n",
      "Average Retail Price of Pomphret in APR-2010:201.179\n",
      "Average Retail Price of Pomphret in MAY-2010:215.497\n",
      "Average Retail Price of Pomphret in JUN-2010:174.481\n",
      "Average Retail Price of Pomphret in JUL-2010:181.266\n",
      "Average Retail Price of Pomphret in AUG-2010:161.398\n",
      "Average Retail Price of Pomphret in SEP-2010:153.817\n",
      "Average Retail Price of Pomphret in OCT-2010:165.885\n",
      "Average Retail Price of Pomphret in NOV-2010:164.533\n",
      "Average Retail Price of Pomphret in DEC-2010:175.789\n",
      "Average Retail Price of Pomphret in JAN-2011:183.677\n",
      "Average Retail Price of Pomphret in FEB-2011:165.616\n",
      "Average Retail Price of Pomphret in MAR-2011:167.826\n",
      "Average Retail Price of Pomphret in APR-2011:200.864\n",
      "Average Retail Price of Pomphret in MAY-2011:205.250\n",
      "Average Retail Price of Pomphret in JUN-2011:212.249\n",
      "Average Retail Price of Pomphret in JUL-2011:199.144\n",
      "Average Retail Price of Pomphret in AUG-2011:169.573\n",
      "Average Retail Price of Pomphret in SEP-2011:132.281\n",
      "Average Retail Price of Pomphret in OCT-2011:167.812\n",
      "Average Retail Price of Pomphret in NOV-2011:174.078\n",
      "Average Retail Price of Pomphret in DEC-2011:175.476\n",
      "Average Retail Price of Pomphret in JAN-2012:198.458\n",
      "Average Retail Price of Pomphret in FEB-2012:214.765\n",
      "Average Retail Price of Pomphret in MAR-2012:224.161\n",
      "Average Retail Price of Pomphret in APR-2012:224.730\n",
      "Average Retail Price of Pomphret in MAY-2012:224.839\n",
      "Average Retail Price of Pomphret in JUN-2012:243.406\n",
      "Average Retail Price of Pomphret in JUL-2012:219.371\n",
      "Average Retail Price of Pomphret in AUG-2012:198.803\n",
      "Average Retail Price of Pomphret in SEP-2012:213.665\n",
      "Average Retail Price of Pomphret in OCT-2012:210.336\n",
      "Average Retail Price of Pomphret in NOV-2012:211.902\n",
      "Average Retail Price of Pomphret in DEC-2012:216.333\n",
      "Average Retail Price of Pomphret in JAN-2013:215.821\n",
      "Average Retail Price of Pomphret in FEB-2013:235.911\n",
      "Average Retail Price of Pomphret in MAR-2013:243.423\n",
      "Average Retail Price of Pomphret in APR-2013:229.293\n",
      "Average Retail Price of Pomphret in MAY-2013:193.194\n",
      "Average Retail Price of Pomphret in JUN-2013:188.140\n",
      "Average Retail Price of Pomphret in JUL-2013:185.457\n",
      "Average Retail Price of Pomphret in AUG-2013:167.526\n",
      "Average Retail Price of Pomphret in SEP-2013:160.000\n",
      "Average Retail Price of Pomphret in OCT-2013:176.954\n",
      "Average Retail Price of Pomphret in NOV-2013:176.215\n",
      "Average Retail Price of Pomphret in DEC-2013:196.609\n",
      "Average Retail Price of Pomphret in JAN-2014:190.690\n",
      "Average Retail Price of Pomphret in FEB-2014:205.256\n",
      "Average Retail Price of Pomphret in MAR-2014:194.422\n",
      "Average Retail Price of Pomphret in APR-2014:208.272\n",
      "Average Retail Price of Pomphret in MAY-2014:198.727\n",
      "Average Retail Price of Pomphret in JUN-2014:193.019\n",
      "Average Retail Price of Pomphret in JUL-2014:205.091\n",
      "Average Retail Price of Pomphret in AUG-2014:183.440\n",
      "Average Retail Price of Pomphret in SEP-2014:180.210\n",
      "Average Retail Price of Pomphret in OCT-2014:176.872\n",
      "Average Retail Price of Pomphret in NOV-2014:184.643\n",
      "Average Retail Price of Pomphret in DEC-2014:182.244\n",
      "Average Retail Price of Pomphret in JAN-2015:184.877\n",
      "Average Retail Price of Pomphret in FEB-2015:205.290\n",
      "Average Retail Price of Pomphret in MAR-2015:197.989\n",
      "Average Retail Price of Pomphret in APR-2015:197.857\n",
      "Average Retail Price of Pomphret in MAY-2015:213.113\n",
      "Average Retail Price of Pomphret in JUN-2015:233.428\n",
      "Average Retail Price of Pomphret in JUL-2015:245.166\n",
      "Average Retail Price of Pomphret in AUG-2015:345.943\n",
      "Average Retail Price of Pomphret in SEP-2015:242.346\n",
      "Average Retail Price of Pomphret in OCT-2015:450.000\n",
      "Average Retail Price of Pomphret in NOV-2015:466.667\n",
      "Average Retail Price of Pomphret in DEC-2015:466.667\n",
      "Average Retail Price of Pomphret in JAN-2016:516.667\n",
      "Average Retail Price of Pomphret in FEB-2016:516.667\n",
      "Average Retail Price of Pomphret in MAR-2016:500.000\n",
      "Average Retail Price of Pomphret in APR-2016:472.027\n",
      "Average Retail Price of Pomphret in MAY-2016:492.108\n",
      "Average Retail Price of Pomphret in JUN-2016:495.543\n",
      "Average Retail Price of Pomphret in JUL-2016:423.953\n",
      "Average Retail Price of Pomphret in AUG-2016:373.109\n",
      "Average Retail Price of Pomphret in SEP-2016:335.561\n",
      "Average Retail Price of Pomphret in OCT-2016:319.597\n",
      "Average Retail Price of Pomphret in NOV-2016:370.502\n",
      "Average Retail Price of Pomphret in DEC-2016:412.585\n",
      "Average Retail Price of Pomphret in JAN-2017:452.117\n",
      "Average Retail Price of Pomphret in FEB-2017:401.347\n",
      "Average Retail Price of Pomphret in MAR-2017:454.252\n",
      "Average Retail Price of Pomphret in APR-2017:456.920\n",
      "Average Retail Price of Pomphret in MAY-2017:440.000\n",
      "Average Retail Price of Pomphret in JUN-2017:475.486\n",
      "Average Retail Price of Pomphret in JUL-2017:456.841\n",
      "Average Retail Price of Pomphret in AUG-2017:404.709\n",
      "Average Retail Price of Pomphret in SEP-2017:372.931\n",
      "Average Retail Price of Pomphret in OCT-2017:397.577\n",
      "Average Retail Price of Pomphret in NOV-2017:373.689\n",
      "Average Retail Price of Pomphret in DEC-2017:424.913\n",
      "Average Retail Price of Pomphret in JAN-2018:422.873\n",
      "Average Retail Price of Pomphret in FEB-2018:456.797\n",
      "Average Retail Price of Pomphret in MAR-2018:456.755\n",
      "Average Retail Price of Pomphret in APR-2018:509.852\n",
      "Average Retail Price of Pomphret in MAY-2018:472.910\n",
      "Average Retail Price of Pomphret in JUN-2018:488.951\n"
     ]
    },
    {
     "name": "stdout",
     "output_type": "stream",
     "text": [
      "Average Retail Price of Pomphret in JUL-2018:439.165\n",
      "Average Retail Price of Pomphret in AUG-2018:371.040\n",
      "Average Retail Price of Pomphret in SEP-2018:374.949\n",
      "Average Retail Price of Pomphret in OCT-2018:412.578\n",
      "Average Retail Price of Pomphret in NOV-2018:404.507\n",
      "Average Retail Price of Pomphret in DEC-2018:473.627\n",
      "Average Retail Price of Pomphret in JAN-2019:491.489\n",
      "Average Retail Price of Pomphret in FEB-2019:508.076\n",
      "Average Retail Price of Pomphret in MAR-2019:506.134\n",
      "Average Retail Price of Pomphret in APR-2019:525.813\n",
      "Average Retail Price of Pomphret in MAY-2019:553.189\n",
      "Average Retail Price of Pomphret in JUN-2019:576.841\n",
      "Average Retail Price of Pomphret in JUL-2019:509.725\n",
      "Average Retail Price of Pomphret in AUG-2019:408.582\n",
      "Average Retail Price of Pomphret in SEP-2019:426.485\n",
      "Average Retail Price of Pomphret in OCT-2019:426.079\n",
      "Average Retail Price of Pomphret in NOV-2019:463.014\n",
      "Average Retail Price of Pomphret in DEC-2019:465.770\n",
      "Average Retail Price of Pomphret in JAN-2020:464.681\n",
      "Average Retail Price of Pomphret in FEB-2020:449.508\n",
      "Average Retail Price of Pomphret in MAR-2020:465.029\n",
      "Average Retail Price of Pomphret in APR-2020:396.615\n",
      "Average Retail Price of Pomphret in MAY-2020:561.626\n",
      "Average Retail Price of Pomphret in JUN-2020:467.619\n",
      "Average Retail Price of Pomphret in JUL-2020:423.720\n",
      "Average Retail Price of Pomphret in AUG-2020:344.248\n",
      "Average Retail Price of Pomphret in SEP-2020:433.058\n",
      "Average Retail Price of Pomphret in OCT-2020:369.311\n",
      "Average Retail Price of Pomphret in NOV-2020:388.217\n",
      "Average Retail Price of Pomphret in DEC-2020:456.612\n",
      "Average Retail Price of Pomphret in JAN-2021:467.928\n",
      "Average Retail Price of Pomphret in FEB-2021:490.872\n",
      "Average Retail Price of Pomphret in MAR-2021:488.967\n"
     ]
    }
   ],
   "source": [
    "price=[]\n",
    "date=[]\n",
    "dat=df3[\"Date\"].unique()\n",
    "for d in dat:\n",
    "    avgprice=df3[(df3[\"Date\"]==d)][\"Retail Price\"].mean()\n",
    "    print(\"Average Retail Price of Pomphret in %s:%0.3f\" %(d,avgprice))\n",
    "    price.append(avgprice)\n",
    "    date.append(d)\n",
    "    "
   ]
  },
  {
   "cell_type": "code",
   "execution_count": 36,
   "metadata": {
    "scrolled": true
   },
   "outputs": [],
   "source": [
    "data = {\"Date\":date,\"Price\":price}"
   ]
  },
  {
   "cell_type": "code",
   "execution_count": 37,
   "metadata": {},
   "outputs": [],
   "source": [
    "Pomphret_price = pd.DataFrame(data)"
   ]
  },
  {
   "cell_type": "code",
   "execution_count": 38,
   "metadata": {},
   "outputs": [
    {
     "data": {
      "text/html": [
       "<div>\n",
       "<style scoped>\n",
       "    .dataframe tbody tr th:only-of-type {\n",
       "        vertical-align: middle;\n",
       "    }\n",
       "\n",
       "    .dataframe tbody tr th {\n",
       "        vertical-align: top;\n",
       "    }\n",
       "\n",
       "    .dataframe thead th {\n",
       "        text-align: right;\n",
       "    }\n",
       "</style>\n",
       "<table border=\"1\" class=\"dataframe\">\n",
       "  <thead>\n",
       "    <tr style=\"text-align: right;\">\n",
       "      <th></th>\n",
       "      <th>Date</th>\n",
       "      <th>Price</th>\n",
       "    </tr>\n",
       "  </thead>\n",
       "  <tbody>\n",
       "    <tr>\n",
       "      <th>0</th>\n",
       "      <td>JAN-2001</td>\n",
       "      <td>58.562500</td>\n",
       "    </tr>\n",
       "    <tr>\n",
       "      <th>1</th>\n",
       "      <td>FEB-2001</td>\n",
       "      <td>58.937500</td>\n",
       "    </tr>\n",
       "    <tr>\n",
       "      <th>2</th>\n",
       "      <td>MAR-2001</td>\n",
       "      <td>59.676471</td>\n",
       "    </tr>\n",
       "    <tr>\n",
       "      <th>3</th>\n",
       "      <td>APR-2001</td>\n",
       "      <td>58.387097</td>\n",
       "    </tr>\n",
       "    <tr>\n",
       "      <th>4</th>\n",
       "      <td>MAY-2001</td>\n",
       "      <td>56.500000</td>\n",
       "    </tr>\n",
       "    <tr>\n",
       "      <th>...</th>\n",
       "      <td>...</td>\n",
       "      <td>...</td>\n",
       "    </tr>\n",
       "    <tr>\n",
       "      <th>238</th>\n",
       "      <td>NOV-2020</td>\n",
       "      <td>388.216981</td>\n",
       "    </tr>\n",
       "    <tr>\n",
       "      <th>239</th>\n",
       "      <td>DEC-2020</td>\n",
       "      <td>456.611650</td>\n",
       "    </tr>\n",
       "    <tr>\n",
       "      <th>240</th>\n",
       "      <td>JAN-2021</td>\n",
       "      <td>467.928349</td>\n",
       "    </tr>\n",
       "    <tr>\n",
       "      <th>241</th>\n",
       "      <td>FEB-2021</td>\n",
       "      <td>490.872274</td>\n",
       "    </tr>\n",
       "    <tr>\n",
       "      <th>242</th>\n",
       "      <td>MAR-2021</td>\n",
       "      <td>488.967320</td>\n",
       "    </tr>\n",
       "  </tbody>\n",
       "</table>\n",
       "<p>243 rows × 2 columns</p>\n",
       "</div>"
      ],
      "text/plain": [
       "         Date       Price\n",
       "0    JAN-2001   58.562500\n",
       "1    FEB-2001   58.937500\n",
       "2    MAR-2001   59.676471\n",
       "3    APR-2001   58.387097\n",
       "4    MAY-2001   56.500000\n",
       "..        ...         ...\n",
       "238  NOV-2020  388.216981\n",
       "239  DEC-2020  456.611650\n",
       "240  JAN-2021  467.928349\n",
       "241  FEB-2021  490.872274\n",
       "242  MAR-2021  488.967320\n",
       "\n",
       "[243 rows x 2 columns]"
      ]
     },
     "execution_count": 38,
     "metadata": {},
     "output_type": "execute_result"
    }
   ],
   "source": [
    "Pomphret_price"
   ]
  },
  {
   "cell_type": "code",
   "execution_count": 39,
   "metadata": {
    "scrolled": false
   },
   "outputs": [
    {
     "data": {
      "application/vnd.plotly.v1+json": {
       "config": {
        "plotlyServerURL": "https://plot.ly"
       },
       "data": [
        {
         "alignmentgroup": "True",
         "hovertemplate": "Date=%{x}<br>Price=%{y}<extra></extra>",
         "legendgroup": "",
         "marker": {
          "color": "#636efa",
          "pattern": {
           "shape": ""
          }
         },
         "name": "",
         "offsetgroup": "",
         "orientation": "v",
         "showlegend": false,
         "textposition": "auto",
         "type": "bar",
         "x": [
          "JAN-2001",
          "FEB-2001",
          "MAR-2001",
          "APR-2001",
          "MAY-2001",
          "JUN-2001",
          "JUL-2001",
          "AUG-2001",
          "SEP-2001",
          "OCT-2001",
          "NOV-2001",
          "DEC-2001",
          "JAN-2002",
          "FEB-2002",
          "MAR-2002",
          "APR-2002",
          "MAY-2002",
          "JUN-2002",
          "JUL-2002",
          "AUG-2002",
          "SEP-2002",
          "OCT-2002",
          "NOV-2002",
          "DEC-2002",
          "JAN-2003",
          "FEB-2003",
          "MAR-2003",
          "APR-2003",
          "MAY-2003",
          "JUN-2003",
          "JUL-2003",
          "AUG-2003",
          "SEP-2003",
          "OCT-2003",
          "NOV-2003",
          "DEC-2003",
          "JAN-2004",
          "FEB-2004",
          "MAR-2004",
          "APR-2004",
          "MAY-2004",
          "JUN-2004",
          "JUL-2004",
          "AUG-2004",
          "SEP-2004",
          "OCT-2004",
          "NOV-2004",
          "DEC-2004",
          "JAN-2005",
          "FEB-2005",
          "MAR-2005",
          "APR-2005",
          "MAY-2005",
          "JUN-2005",
          "JUL-2005",
          "AUG-2005",
          "SEP-2005",
          "OCT-2005",
          "NOV-2005",
          "DEC-2005",
          "JAN-2006",
          "FEB-2006",
          "MAR-2006",
          "APR-2006",
          "MAY-2006",
          "JUN-2006",
          "JUL-2006",
          "AUG-2006",
          "SEP-2006",
          "OCT-2006",
          "NOV-2006",
          "DEC-2006",
          "JAN-2007",
          "FEB-2007",
          "MAR-2007",
          "APR-2007",
          "MAY-2007",
          "JUN-2007",
          "JUL-2007",
          "AUG-2007",
          "SEP-2007",
          "OCT-2007",
          "NOV-2007",
          "DEC-2007",
          "JAN-2008",
          "FEB-2008",
          "MAR-2008",
          "APR-2008",
          "MAY-2008",
          "JUN-2008",
          "JUL-2008",
          "AUG-2008",
          "SEP-2008",
          "OCT-2008",
          "NOV-2008",
          "DEC-2008",
          "JAN-2009",
          "FEB-2009",
          "MAR-2009",
          "APR-2009",
          "MAY-2009",
          "JUN-2009",
          "JUL-2009",
          "AUG-2009",
          "SEP-2009",
          "OCT-2009",
          "NOV-2009",
          "DEC-2009",
          "JAN-2010",
          "FEB-2010",
          "MAR-2010",
          "APR-2010",
          "MAY-2010",
          "JUN-2010",
          "JUL-2010",
          "AUG-2010",
          "SEP-2010",
          "OCT-2010",
          "NOV-2010",
          "DEC-2010",
          "JAN-2011",
          "FEB-2011",
          "MAR-2011",
          "APR-2011",
          "MAY-2011",
          "JUN-2011",
          "JUL-2011",
          "AUG-2011",
          "SEP-2011",
          "OCT-2011",
          "NOV-2011",
          "DEC-2011",
          "JAN-2012",
          "FEB-2012",
          "MAR-2012",
          "APR-2012",
          "MAY-2012",
          "JUN-2012",
          "JUL-2012",
          "AUG-2012",
          "SEP-2012",
          "OCT-2012",
          "NOV-2012",
          "DEC-2012",
          "JAN-2013",
          "FEB-2013",
          "MAR-2013",
          "APR-2013",
          "MAY-2013",
          "JUN-2013",
          "JUL-2013",
          "AUG-2013",
          "SEP-2013",
          "OCT-2013",
          "NOV-2013",
          "DEC-2013",
          "JAN-2014",
          "FEB-2014",
          "MAR-2014",
          "APR-2014",
          "MAY-2014",
          "JUN-2014",
          "JUL-2014",
          "AUG-2014",
          "SEP-2014",
          "OCT-2014",
          "NOV-2014",
          "DEC-2014",
          "JAN-2015",
          "FEB-2015",
          "MAR-2015",
          "APR-2015",
          "MAY-2015",
          "JUN-2015",
          "JUL-2015",
          "AUG-2015",
          "SEP-2015",
          "OCT-2015",
          "NOV-2015",
          "DEC-2015",
          "JAN-2016",
          "FEB-2016",
          "MAR-2016",
          "APR-2016",
          "MAY-2016",
          "JUN-2016",
          "JUL-2016",
          "AUG-2016",
          "SEP-2016",
          "OCT-2016",
          "NOV-2016",
          "DEC-2016",
          "JAN-2017",
          "FEB-2017",
          "MAR-2017",
          "APR-2017",
          "MAY-2017",
          "JUN-2017",
          "JUL-2017",
          "AUG-2017",
          "SEP-2017",
          "OCT-2017",
          "NOV-2017",
          "DEC-2017",
          "JAN-2018",
          "FEB-2018",
          "MAR-2018",
          "APR-2018",
          "MAY-2018",
          "JUN-2018",
          "JUL-2018",
          "AUG-2018",
          "SEP-2018",
          "OCT-2018",
          "NOV-2018",
          "DEC-2018",
          "JAN-2019",
          "FEB-2019",
          "MAR-2019",
          "APR-2019",
          "MAY-2019",
          "JUN-2019",
          "JUL-2019",
          "AUG-2019",
          "SEP-2019",
          "OCT-2019",
          "NOV-2019",
          "DEC-2019",
          "JAN-2020",
          "FEB-2020",
          "MAR-2020",
          "APR-2020",
          "MAY-2020",
          "JUN-2020",
          "JUL-2020",
          "AUG-2020",
          "SEP-2020",
          "OCT-2020",
          "NOV-2020",
          "DEC-2020",
          "JAN-2021",
          "FEB-2021",
          "MAR-2021"
         ],
         "xaxis": "x",
         "y": [
          58.5625,
          58.9375,
          59.67647058823528,
          58.387096774193544,
          56.5,
          56.79999999999999,
          54.75,
          52.12,
          53.51612903225807,
          52.2608695652174,
          51.86363636363637,
          57.074074074074076,
          55.137931034482754,
          53.13333333333333,
          52.862068965517246,
          53.5,
          54.63636363636363,
          55.66666666666666,
          54.9,
          54.95652173913044,
          57.964285714285715,
          56.925925925925924,
          54.24137931034482,
          52.02564102564103,
          79.66666666666667,
          60.87111111111111,
          60.47679324894515,
          78.76126126126127,
          60.89066666666667,
          71.04901960784314,
          76.52525252525253,
          66.58937198067633,
          57.784615384615385,
          58.89655172413793,
          67.54166666666667,
          63.7857142857143,
          63.952380952380956,
          64.77777777777777,
          63.952380952380956,
          62.375,
          66.95454545454545,
          75,
          67.85714285714286,
          63.03448275862069,
          62.70833333333334,
          65.89473684210526,
          59.857142857142854,
          76.66666666666667,
          86.66666666666667,
          103.33333333333333,
          110,
          95,
          78.15765765765765,
          76.66666666666667,
          80,
          85,
          108.33333333333333,
          85.3888888888889,
          87.18181818181819,
          84.36286919831224,
          108.33333333333333,
          116.66666666666667,
          115,
          123.33333333333333,
          120,
          133.33333333333334,
          125,
          130,
          123.33333333333333,
          85,
          86.74806201550388,
          89.53815261044177,
          93.9065934065934,
          100.58974358974359,
          97.6701754385965,
          114.6153846153846,
          134.59259259259258,
          132.64236111111111,
          134.71062271062272,
          121.79310344827587,
          106.84848484848483,
          110.31223628691986,
          151.45945945945945,
          155.95833333333334,
          163.20614035087718,
          154.04109589041096,
          164.67632850241546,
          164.47342995169083,
          179.88732394366198,
          169.0666666666667,
          168.91176470588235,
          134.35185185185185,
          122.64761904761906,
          136.75925925925924,
          153.63470319634703,
          148.98550724637684,
          137.81220657276995,
          145.1288888888889,
          143.3051643192488,
          170.55111111111114,
          163.99061032863847,
          171.66666666666666,
          158.86324786324784,
          145.94594594594594,
          140.28985507246375,
          158.6761904761905,
          168.17708333333334,
          148.13559322033902,
          174.24242424242425,
          171.96774193548387,
          171.33333333333334,
          201.17948717948718,
          215.49726775956287,
          174.4808743169399,
          181.26553672316382,
          161.39784946236557,
          153.8172043010753,
          165.88541666666666,
          164.53333333333333,
          175.7888888888889,
          183.67676767676767,
          165.61616161616163,
          167.8262910798122,
          200.86384976525824,
          205.25,
          212.2488262910798,
          199.1435185185185,
          169.57291666666666,
          132.28125,
          167.8125,
          174.078125,
          175.47619047619048,
          198.45833333333334,
          214.7650273224044,
          224.16145833333334,
          224.7301587301587,
          224.83854166666666,
          243.40625,
          219.3709677419355,
          198.80303030303028,
          213.6651388888889,
          210.33647887323946,
          211.9016393442623,
          216.33333333333334,
          215.82142857142858,
          235.9107142857143,
          243.4232804232804,
          229.29310344827584,
          193.19354838709683,
          188.13978494623657,
          185.4567901234568,
          167.52564102564102,
          160,
          176.95402298850573,
          176.21505376344086,
          196.60919540229884,
          190.6896551724138,
          205.25641025641028,
          194.421768707483,
          208.27160493827162,
          198.72727272727275,
          193.0188679245283,
          205.0909090909091,
          183.44047619047618,
          180.20968553459124,
          176.87179487179483,
          184.6428571428571,
          182.2444,
          184.87654320987653,
          205.28985507246378,
          197.98850574712642,
          197.85714285714286,
          213.11344632768362,
          233.42794326241133,
          245.16573099415209,
          345.94339622641513,
          242.34566137566136,
          450,
          466.6666666666667,
          466.6666666666667,
          516.6666666666666,
          516.6666666666666,
          500,
          472.02702702702703,
          492.10843373493975,
          495.54307116104866,
          423.95348837209303,
          373.10861423220973,
          335.56060606060606,
          319.5970695970696,
          370.5020080321285,
          412.5850340136055,
          452.1166666666666,
          401.3472222222222,
          454.2516339869281,
          456.9201388888889,
          440,
          475.4861111111111,
          456.8411111111111,
          404.709219858156,
          372.9312714776632,
          397.5767301587302,
          373.6893203883495,
          424.9126213592233,
          422.8730158730159,
          456.7969696969697,
          456.75535168195717,
          509.8515151515151,
          472.9099099099099,
          488.9510703363914,
          439.1651917404129,
          371.0398860398861,
          374.94871794871796,
          412.5783475783476,
          404.50666666666666,
          473.6266666666667,
          491.4890710382513,
          508.07563025210084,
          506.1338797814208,
          525.8130081300814,
          553.188524590164,
          576.841002710027,
          509.72451790633613,
          408.58187134502924,
          426.484593837535,
          426.07923497267757,
          463.0138888888889,
          465.77011494252866,
          464.6805555555556,
          449.50819672131144,
          465.0292397660819,
          396.6145833333333,
          561.6255144032922,
          467.61904761904765,
          423.7201257861636,
          344.2483660130718,
          433.0581039755352,
          369.31111111111113,
          388.2169811320755,
          456.6116504854369,
          467.92834890965736,
          490.87227414330215,
          488.9673202614379
         ],
         "yaxis": "y"
        }
       ],
       "layout": {
        "barmode": "relative",
        "legend": {
         "tracegroupgap": 0
        },
        "margin": {
         "t": 60
        },
        "template": {
         "data": {
          "bar": [
           {
            "error_x": {
             "color": "#2a3f5f"
            },
            "error_y": {
             "color": "#2a3f5f"
            },
            "marker": {
             "line": {
              "color": "#E5ECF6",
              "width": 0.5
             },
             "pattern": {
              "fillmode": "overlay",
              "size": 10,
              "solidity": 0.2
             }
            },
            "type": "bar"
           }
          ],
          "barpolar": [
           {
            "marker": {
             "line": {
              "color": "#E5ECF6",
              "width": 0.5
             },
             "pattern": {
              "fillmode": "overlay",
              "size": 10,
              "solidity": 0.2
             }
            },
            "type": "barpolar"
           }
          ],
          "carpet": [
           {
            "aaxis": {
             "endlinecolor": "#2a3f5f",
             "gridcolor": "white",
             "linecolor": "white",
             "minorgridcolor": "white",
             "startlinecolor": "#2a3f5f"
            },
            "baxis": {
             "endlinecolor": "#2a3f5f",
             "gridcolor": "white",
             "linecolor": "white",
             "minorgridcolor": "white",
             "startlinecolor": "#2a3f5f"
            },
            "type": "carpet"
           }
          ],
          "choropleth": [
           {
            "colorbar": {
             "outlinewidth": 0,
             "ticks": ""
            },
            "type": "choropleth"
           }
          ],
          "contour": [
           {
            "colorbar": {
             "outlinewidth": 0,
             "ticks": ""
            },
            "colorscale": [
             [
              0,
              "#0d0887"
             ],
             [
              0.1111111111111111,
              "#46039f"
             ],
             [
              0.2222222222222222,
              "#7201a8"
             ],
             [
              0.3333333333333333,
              "#9c179e"
             ],
             [
              0.4444444444444444,
              "#bd3786"
             ],
             [
              0.5555555555555556,
              "#d8576b"
             ],
             [
              0.6666666666666666,
              "#ed7953"
             ],
             [
              0.7777777777777778,
              "#fb9f3a"
             ],
             [
              0.8888888888888888,
              "#fdca26"
             ],
             [
              1,
              "#f0f921"
             ]
            ],
            "type": "contour"
           }
          ],
          "contourcarpet": [
           {
            "colorbar": {
             "outlinewidth": 0,
             "ticks": ""
            },
            "type": "contourcarpet"
           }
          ],
          "heatmap": [
           {
            "colorbar": {
             "outlinewidth": 0,
             "ticks": ""
            },
            "colorscale": [
             [
              0,
              "#0d0887"
             ],
             [
              0.1111111111111111,
              "#46039f"
             ],
             [
              0.2222222222222222,
              "#7201a8"
             ],
             [
              0.3333333333333333,
              "#9c179e"
             ],
             [
              0.4444444444444444,
              "#bd3786"
             ],
             [
              0.5555555555555556,
              "#d8576b"
             ],
             [
              0.6666666666666666,
              "#ed7953"
             ],
             [
              0.7777777777777778,
              "#fb9f3a"
             ],
             [
              0.8888888888888888,
              "#fdca26"
             ],
             [
              1,
              "#f0f921"
             ]
            ],
            "type": "heatmap"
           }
          ],
          "heatmapgl": [
           {
            "colorbar": {
             "outlinewidth": 0,
             "ticks": ""
            },
            "colorscale": [
             [
              0,
              "#0d0887"
             ],
             [
              0.1111111111111111,
              "#46039f"
             ],
             [
              0.2222222222222222,
              "#7201a8"
             ],
             [
              0.3333333333333333,
              "#9c179e"
             ],
             [
              0.4444444444444444,
              "#bd3786"
             ],
             [
              0.5555555555555556,
              "#d8576b"
             ],
             [
              0.6666666666666666,
              "#ed7953"
             ],
             [
              0.7777777777777778,
              "#fb9f3a"
             ],
             [
              0.8888888888888888,
              "#fdca26"
             ],
             [
              1,
              "#f0f921"
             ]
            ],
            "type": "heatmapgl"
           }
          ],
          "histogram": [
           {
            "marker": {
             "pattern": {
              "fillmode": "overlay",
              "size": 10,
              "solidity": 0.2
             }
            },
            "type": "histogram"
           }
          ],
          "histogram2d": [
           {
            "colorbar": {
             "outlinewidth": 0,
             "ticks": ""
            },
            "colorscale": [
             [
              0,
              "#0d0887"
             ],
             [
              0.1111111111111111,
              "#46039f"
             ],
             [
              0.2222222222222222,
              "#7201a8"
             ],
             [
              0.3333333333333333,
              "#9c179e"
             ],
             [
              0.4444444444444444,
              "#bd3786"
             ],
             [
              0.5555555555555556,
              "#d8576b"
             ],
             [
              0.6666666666666666,
              "#ed7953"
             ],
             [
              0.7777777777777778,
              "#fb9f3a"
             ],
             [
              0.8888888888888888,
              "#fdca26"
             ],
             [
              1,
              "#f0f921"
             ]
            ],
            "type": "histogram2d"
           }
          ],
          "histogram2dcontour": [
           {
            "colorbar": {
             "outlinewidth": 0,
             "ticks": ""
            },
            "colorscale": [
             [
              0,
              "#0d0887"
             ],
             [
              0.1111111111111111,
              "#46039f"
             ],
             [
              0.2222222222222222,
              "#7201a8"
             ],
             [
              0.3333333333333333,
              "#9c179e"
             ],
             [
              0.4444444444444444,
              "#bd3786"
             ],
             [
              0.5555555555555556,
              "#d8576b"
             ],
             [
              0.6666666666666666,
              "#ed7953"
             ],
             [
              0.7777777777777778,
              "#fb9f3a"
             ],
             [
              0.8888888888888888,
              "#fdca26"
             ],
             [
              1,
              "#f0f921"
             ]
            ],
            "type": "histogram2dcontour"
           }
          ],
          "mesh3d": [
           {
            "colorbar": {
             "outlinewidth": 0,
             "ticks": ""
            },
            "type": "mesh3d"
           }
          ],
          "parcoords": [
           {
            "line": {
             "colorbar": {
              "outlinewidth": 0,
              "ticks": ""
             }
            },
            "type": "parcoords"
           }
          ],
          "pie": [
           {
            "automargin": true,
            "type": "pie"
           }
          ],
          "scatter": [
           {
            "marker": {
             "colorbar": {
              "outlinewidth": 0,
              "ticks": ""
             }
            },
            "type": "scatter"
           }
          ],
          "scatter3d": [
           {
            "line": {
             "colorbar": {
              "outlinewidth": 0,
              "ticks": ""
             }
            },
            "marker": {
             "colorbar": {
              "outlinewidth": 0,
              "ticks": ""
             }
            },
            "type": "scatter3d"
           }
          ],
          "scattercarpet": [
           {
            "marker": {
             "colorbar": {
              "outlinewidth": 0,
              "ticks": ""
             }
            },
            "type": "scattercarpet"
           }
          ],
          "scattergeo": [
           {
            "marker": {
             "colorbar": {
              "outlinewidth": 0,
              "ticks": ""
             }
            },
            "type": "scattergeo"
           }
          ],
          "scattergl": [
           {
            "marker": {
             "colorbar": {
              "outlinewidth": 0,
              "ticks": ""
             }
            },
            "type": "scattergl"
           }
          ],
          "scattermapbox": [
           {
            "marker": {
             "colorbar": {
              "outlinewidth": 0,
              "ticks": ""
             }
            },
            "type": "scattermapbox"
           }
          ],
          "scatterpolar": [
           {
            "marker": {
             "colorbar": {
              "outlinewidth": 0,
              "ticks": ""
             }
            },
            "type": "scatterpolar"
           }
          ],
          "scatterpolargl": [
           {
            "marker": {
             "colorbar": {
              "outlinewidth": 0,
              "ticks": ""
             }
            },
            "type": "scatterpolargl"
           }
          ],
          "scatterternary": [
           {
            "marker": {
             "colorbar": {
              "outlinewidth": 0,
              "ticks": ""
             }
            },
            "type": "scatterternary"
           }
          ],
          "surface": [
           {
            "colorbar": {
             "outlinewidth": 0,
             "ticks": ""
            },
            "colorscale": [
             [
              0,
              "#0d0887"
             ],
             [
              0.1111111111111111,
              "#46039f"
             ],
             [
              0.2222222222222222,
              "#7201a8"
             ],
             [
              0.3333333333333333,
              "#9c179e"
             ],
             [
              0.4444444444444444,
              "#bd3786"
             ],
             [
              0.5555555555555556,
              "#d8576b"
             ],
             [
              0.6666666666666666,
              "#ed7953"
             ],
             [
              0.7777777777777778,
              "#fb9f3a"
             ],
             [
              0.8888888888888888,
              "#fdca26"
             ],
             [
              1,
              "#f0f921"
             ]
            ],
            "type": "surface"
           }
          ],
          "table": [
           {
            "cells": {
             "fill": {
              "color": "#EBF0F8"
             },
             "line": {
              "color": "white"
             }
            },
            "header": {
             "fill": {
              "color": "#C8D4E3"
             },
             "line": {
              "color": "white"
             }
            },
            "type": "table"
           }
          ]
         },
         "layout": {
          "annotationdefaults": {
           "arrowcolor": "#2a3f5f",
           "arrowhead": 0,
           "arrowwidth": 1
          },
          "autotypenumbers": "strict",
          "coloraxis": {
           "colorbar": {
            "outlinewidth": 0,
            "ticks": ""
           }
          },
          "colorscale": {
           "diverging": [
            [
             0,
             "#8e0152"
            ],
            [
             0.1,
             "#c51b7d"
            ],
            [
             0.2,
             "#de77ae"
            ],
            [
             0.3,
             "#f1b6da"
            ],
            [
             0.4,
             "#fde0ef"
            ],
            [
             0.5,
             "#f7f7f7"
            ],
            [
             0.6,
             "#e6f5d0"
            ],
            [
             0.7,
             "#b8e186"
            ],
            [
             0.8,
             "#7fbc41"
            ],
            [
             0.9,
             "#4d9221"
            ],
            [
             1,
             "#276419"
            ]
           ],
           "sequential": [
            [
             0,
             "#0d0887"
            ],
            [
             0.1111111111111111,
             "#46039f"
            ],
            [
             0.2222222222222222,
             "#7201a8"
            ],
            [
             0.3333333333333333,
             "#9c179e"
            ],
            [
             0.4444444444444444,
             "#bd3786"
            ],
            [
             0.5555555555555556,
             "#d8576b"
            ],
            [
             0.6666666666666666,
             "#ed7953"
            ],
            [
             0.7777777777777778,
             "#fb9f3a"
            ],
            [
             0.8888888888888888,
             "#fdca26"
            ],
            [
             1,
             "#f0f921"
            ]
           ],
           "sequentialminus": [
            [
             0,
             "#0d0887"
            ],
            [
             0.1111111111111111,
             "#46039f"
            ],
            [
             0.2222222222222222,
             "#7201a8"
            ],
            [
             0.3333333333333333,
             "#9c179e"
            ],
            [
             0.4444444444444444,
             "#bd3786"
            ],
            [
             0.5555555555555556,
             "#d8576b"
            ],
            [
             0.6666666666666666,
             "#ed7953"
            ],
            [
             0.7777777777777778,
             "#fb9f3a"
            ],
            [
             0.8888888888888888,
             "#fdca26"
            ],
            [
             1,
             "#f0f921"
            ]
           ]
          },
          "colorway": [
           "#636efa",
           "#EF553B",
           "#00cc96",
           "#ab63fa",
           "#FFA15A",
           "#19d3f3",
           "#FF6692",
           "#B6E880",
           "#FF97FF",
           "#FECB52"
          ],
          "font": {
           "color": "#2a3f5f"
          },
          "geo": {
           "bgcolor": "white",
           "lakecolor": "white",
           "landcolor": "#E5ECF6",
           "showlakes": true,
           "showland": true,
           "subunitcolor": "white"
          },
          "hoverlabel": {
           "align": "left"
          },
          "hovermode": "closest",
          "mapbox": {
           "style": "light"
          },
          "paper_bgcolor": "white",
          "plot_bgcolor": "#E5ECF6",
          "polar": {
           "angularaxis": {
            "gridcolor": "white",
            "linecolor": "white",
            "ticks": ""
           },
           "bgcolor": "#E5ECF6",
           "radialaxis": {
            "gridcolor": "white",
            "linecolor": "white",
            "ticks": ""
           }
          },
          "scene": {
           "xaxis": {
            "backgroundcolor": "#E5ECF6",
            "gridcolor": "white",
            "gridwidth": 2,
            "linecolor": "white",
            "showbackground": true,
            "ticks": "",
            "zerolinecolor": "white"
           },
           "yaxis": {
            "backgroundcolor": "#E5ECF6",
            "gridcolor": "white",
            "gridwidth": 2,
            "linecolor": "white",
            "showbackground": true,
            "ticks": "",
            "zerolinecolor": "white"
           },
           "zaxis": {
            "backgroundcolor": "#E5ECF6",
            "gridcolor": "white",
            "gridwidth": 2,
            "linecolor": "white",
            "showbackground": true,
            "ticks": "",
            "zerolinecolor": "white"
           }
          },
          "shapedefaults": {
           "line": {
            "color": "#2a3f5f"
           }
          },
          "ternary": {
           "aaxis": {
            "gridcolor": "white",
            "linecolor": "white",
            "ticks": ""
           },
           "baxis": {
            "gridcolor": "white",
            "linecolor": "white",
            "ticks": ""
           },
           "bgcolor": "#E5ECF6",
           "caxis": {
            "gridcolor": "white",
            "linecolor": "white",
            "ticks": ""
           }
          },
          "title": {
           "x": 0.05
          },
          "xaxis": {
           "automargin": true,
           "gridcolor": "white",
           "linecolor": "white",
           "ticks": "",
           "title": {
            "standoff": 15
           },
           "zerolinecolor": "white",
           "zerolinewidth": 2
          },
          "yaxis": {
           "automargin": true,
           "gridcolor": "white",
           "linecolor": "white",
           "ticks": "",
           "title": {
            "standoff": 15
           },
           "zerolinecolor": "white",
           "zerolinewidth": 2
          }
         }
        },
        "xaxis": {
         "anchor": "y",
         "domain": [
          0,
          1
         ],
         "title": {
          "text": "Date"
         }
        },
        "yaxis": {
         "anchor": "x",
         "domain": [
          0,
          1
         ],
         "title": {
          "text": "Price"
         }
        }
       }
      },
      "text/html": [
       "<div>                            <div id=\"05d6cd65-cf1f-483c-aaf4-8bef10fd9152\" class=\"plotly-graph-div\" style=\"height:525px; width:100%;\"></div>            <script type=\"text/javascript\">                require([\"plotly\"], function(Plotly) {                    window.PLOTLYENV=window.PLOTLYENV || {};                                    if (document.getElementById(\"05d6cd65-cf1f-483c-aaf4-8bef10fd9152\")) {                    Plotly.newPlot(                        \"05d6cd65-cf1f-483c-aaf4-8bef10fd9152\",                        [{\"alignmentgroup\":\"True\",\"hovertemplate\":\"Date=%{x}<br>Price=%{y}<extra></extra>\",\"legendgroup\":\"\",\"marker\":{\"color\":\"#636efa\",\"pattern\":{\"shape\":\"\"}},\"name\":\"\",\"offsetgroup\":\"\",\"orientation\":\"v\",\"showlegend\":false,\"textposition\":\"auto\",\"type\":\"bar\",\"x\":[\"JAN-2001\",\"FEB-2001\",\"MAR-2001\",\"APR-2001\",\"MAY-2001\",\"JUN-2001\",\"JUL-2001\",\"AUG-2001\",\"SEP-2001\",\"OCT-2001\",\"NOV-2001\",\"DEC-2001\",\"JAN-2002\",\"FEB-2002\",\"MAR-2002\",\"APR-2002\",\"MAY-2002\",\"JUN-2002\",\"JUL-2002\",\"AUG-2002\",\"SEP-2002\",\"OCT-2002\",\"NOV-2002\",\"DEC-2002\",\"JAN-2003\",\"FEB-2003\",\"MAR-2003\",\"APR-2003\",\"MAY-2003\",\"JUN-2003\",\"JUL-2003\",\"AUG-2003\",\"SEP-2003\",\"OCT-2003\",\"NOV-2003\",\"DEC-2003\",\"JAN-2004\",\"FEB-2004\",\"MAR-2004\",\"APR-2004\",\"MAY-2004\",\"JUN-2004\",\"JUL-2004\",\"AUG-2004\",\"SEP-2004\",\"OCT-2004\",\"NOV-2004\",\"DEC-2004\",\"JAN-2005\",\"FEB-2005\",\"MAR-2005\",\"APR-2005\",\"MAY-2005\",\"JUN-2005\",\"JUL-2005\",\"AUG-2005\",\"SEP-2005\",\"OCT-2005\",\"NOV-2005\",\"DEC-2005\",\"JAN-2006\",\"FEB-2006\",\"MAR-2006\",\"APR-2006\",\"MAY-2006\",\"JUN-2006\",\"JUL-2006\",\"AUG-2006\",\"SEP-2006\",\"OCT-2006\",\"NOV-2006\",\"DEC-2006\",\"JAN-2007\",\"FEB-2007\",\"MAR-2007\",\"APR-2007\",\"MAY-2007\",\"JUN-2007\",\"JUL-2007\",\"AUG-2007\",\"SEP-2007\",\"OCT-2007\",\"NOV-2007\",\"DEC-2007\",\"JAN-2008\",\"FEB-2008\",\"MAR-2008\",\"APR-2008\",\"MAY-2008\",\"JUN-2008\",\"JUL-2008\",\"AUG-2008\",\"SEP-2008\",\"OCT-2008\",\"NOV-2008\",\"DEC-2008\",\"JAN-2009\",\"FEB-2009\",\"MAR-2009\",\"APR-2009\",\"MAY-2009\",\"JUN-2009\",\"JUL-2009\",\"AUG-2009\",\"SEP-2009\",\"OCT-2009\",\"NOV-2009\",\"DEC-2009\",\"JAN-2010\",\"FEB-2010\",\"MAR-2010\",\"APR-2010\",\"MAY-2010\",\"JUN-2010\",\"JUL-2010\",\"AUG-2010\",\"SEP-2010\",\"OCT-2010\",\"NOV-2010\",\"DEC-2010\",\"JAN-2011\",\"FEB-2011\",\"MAR-2011\",\"APR-2011\",\"MAY-2011\",\"JUN-2011\",\"JUL-2011\",\"AUG-2011\",\"SEP-2011\",\"OCT-2011\",\"NOV-2011\",\"DEC-2011\",\"JAN-2012\",\"FEB-2012\",\"MAR-2012\",\"APR-2012\",\"MAY-2012\",\"JUN-2012\",\"JUL-2012\",\"AUG-2012\",\"SEP-2012\",\"OCT-2012\",\"NOV-2012\",\"DEC-2012\",\"JAN-2013\",\"FEB-2013\",\"MAR-2013\",\"APR-2013\",\"MAY-2013\",\"JUN-2013\",\"JUL-2013\",\"AUG-2013\",\"SEP-2013\",\"OCT-2013\",\"NOV-2013\",\"DEC-2013\",\"JAN-2014\",\"FEB-2014\",\"MAR-2014\",\"APR-2014\",\"MAY-2014\",\"JUN-2014\",\"JUL-2014\",\"AUG-2014\",\"SEP-2014\",\"OCT-2014\",\"NOV-2014\",\"DEC-2014\",\"JAN-2015\",\"FEB-2015\",\"MAR-2015\",\"APR-2015\",\"MAY-2015\",\"JUN-2015\",\"JUL-2015\",\"AUG-2015\",\"SEP-2015\",\"OCT-2015\",\"NOV-2015\",\"DEC-2015\",\"JAN-2016\",\"FEB-2016\",\"MAR-2016\",\"APR-2016\",\"MAY-2016\",\"JUN-2016\",\"JUL-2016\",\"AUG-2016\",\"SEP-2016\",\"OCT-2016\",\"NOV-2016\",\"DEC-2016\",\"JAN-2017\",\"FEB-2017\",\"MAR-2017\",\"APR-2017\",\"MAY-2017\",\"JUN-2017\",\"JUL-2017\",\"AUG-2017\",\"SEP-2017\",\"OCT-2017\",\"NOV-2017\",\"DEC-2017\",\"JAN-2018\",\"FEB-2018\",\"MAR-2018\",\"APR-2018\",\"MAY-2018\",\"JUN-2018\",\"JUL-2018\",\"AUG-2018\",\"SEP-2018\",\"OCT-2018\",\"NOV-2018\",\"DEC-2018\",\"JAN-2019\",\"FEB-2019\",\"MAR-2019\",\"APR-2019\",\"MAY-2019\",\"JUN-2019\",\"JUL-2019\",\"AUG-2019\",\"SEP-2019\",\"OCT-2019\",\"NOV-2019\",\"DEC-2019\",\"JAN-2020\",\"FEB-2020\",\"MAR-2020\",\"APR-2020\",\"MAY-2020\",\"JUN-2020\",\"JUL-2020\",\"AUG-2020\",\"SEP-2020\",\"OCT-2020\",\"NOV-2020\",\"DEC-2020\",\"JAN-2021\",\"FEB-2021\",\"MAR-2021\"],\"xaxis\":\"x\",\"y\":[58.5625,58.9375,59.67647058823528,58.387096774193544,56.5,56.79999999999999,54.75,52.12,53.51612903225807,52.2608695652174,51.86363636363637,57.074074074074076,55.137931034482754,53.13333333333333,52.862068965517246,53.5,54.63636363636363,55.66666666666666,54.9,54.95652173913044,57.964285714285715,56.925925925925924,54.24137931034482,52.02564102564103,79.66666666666667,60.87111111111111,60.47679324894515,78.76126126126127,60.89066666666667,71.04901960784314,76.52525252525253,66.58937198067633,57.784615384615385,58.89655172413793,67.54166666666667,63.7857142857143,63.952380952380956,64.77777777777777,63.952380952380956,62.375,66.95454545454545,75.0,67.85714285714286,63.03448275862069,62.70833333333334,65.89473684210526,59.857142857142854,76.66666666666667,86.66666666666667,103.33333333333333,110.0,95.0,78.15765765765765,76.66666666666667,80.0,85.0,108.33333333333333,85.3888888888889,87.18181818181819,84.36286919831224,108.33333333333333,116.66666666666667,115.0,123.33333333333333,120.0,133.33333333333334,125.0,130.0,123.33333333333333,85.0,86.74806201550388,89.53815261044177,93.9065934065934,100.58974358974359,97.6701754385965,114.6153846153846,134.59259259259258,132.64236111111111,134.71062271062272,121.79310344827587,106.84848484848483,110.31223628691986,151.45945945945945,155.95833333333334,163.20614035087718,154.04109589041096,164.67632850241546,164.47342995169083,179.88732394366198,169.0666666666667,168.91176470588235,134.35185185185185,122.64761904761906,136.75925925925924,153.63470319634703,148.98550724637684,137.81220657276995,145.1288888888889,143.3051643192488,170.55111111111114,163.99061032863847,171.66666666666666,158.86324786324784,145.94594594594594,140.28985507246375,158.6761904761905,168.17708333333334,148.13559322033902,174.24242424242425,171.96774193548387,171.33333333333334,201.17948717948718,215.49726775956287,174.4808743169399,181.26553672316382,161.39784946236557,153.8172043010753,165.88541666666666,164.53333333333333,175.7888888888889,183.67676767676767,165.61616161616163,167.8262910798122,200.86384976525824,205.25,212.2488262910798,199.1435185185185,169.57291666666666,132.28125,167.8125,174.078125,175.47619047619048,198.45833333333334,214.7650273224044,224.16145833333334,224.7301587301587,224.83854166666666,243.40625,219.3709677419355,198.80303030303028,213.6651388888889,210.33647887323946,211.9016393442623,216.33333333333334,215.82142857142858,235.9107142857143,243.4232804232804,229.29310344827584,193.19354838709683,188.13978494623657,185.4567901234568,167.52564102564102,160.0,176.95402298850573,176.21505376344086,196.60919540229884,190.6896551724138,205.25641025641028,194.421768707483,208.27160493827162,198.72727272727275,193.0188679245283,205.0909090909091,183.44047619047618,180.20968553459124,176.87179487179483,184.6428571428571,182.2444,184.87654320987653,205.28985507246378,197.98850574712642,197.85714285714286,213.11344632768362,233.42794326241133,245.16573099415209,345.94339622641513,242.34566137566136,450.0,466.6666666666667,466.6666666666667,516.6666666666666,516.6666666666666,500.0,472.02702702702703,492.10843373493975,495.54307116104866,423.95348837209303,373.10861423220973,335.56060606060606,319.5970695970696,370.5020080321285,412.5850340136055,452.1166666666666,401.3472222222222,454.2516339869281,456.9201388888889,440.0,475.4861111111111,456.8411111111111,404.709219858156,372.9312714776632,397.5767301587302,373.6893203883495,424.9126213592233,422.8730158730159,456.7969696969697,456.75535168195717,509.8515151515151,472.9099099099099,488.9510703363914,439.1651917404129,371.0398860398861,374.94871794871796,412.5783475783476,404.50666666666666,473.6266666666667,491.4890710382513,508.07563025210084,506.1338797814208,525.8130081300814,553.188524590164,576.841002710027,509.72451790633613,408.58187134502924,426.484593837535,426.07923497267757,463.0138888888889,465.77011494252866,464.6805555555556,449.50819672131144,465.0292397660819,396.6145833333333,561.6255144032922,467.61904761904765,423.7201257861636,344.2483660130718,433.0581039755352,369.31111111111113,388.2169811320755,456.6116504854369,467.92834890965736,490.87227414330215,488.9673202614379],\"yaxis\":\"y\"}],                        {\"barmode\":\"relative\",\"legend\":{\"tracegroupgap\":0},\"margin\":{\"t\":60},\"template\":{\"data\":{\"bar\":[{\"error_x\":{\"color\":\"#2a3f5f\"},\"error_y\":{\"color\":\"#2a3f5f\"},\"marker\":{\"line\":{\"color\":\"#E5ECF6\",\"width\":0.5},\"pattern\":{\"fillmode\":\"overlay\",\"size\":10,\"solidity\":0.2}},\"type\":\"bar\"}],\"barpolar\":[{\"marker\":{\"line\":{\"color\":\"#E5ECF6\",\"width\":0.5},\"pattern\":{\"fillmode\":\"overlay\",\"size\":10,\"solidity\":0.2}},\"type\":\"barpolar\"}],\"carpet\":[{\"aaxis\":{\"endlinecolor\":\"#2a3f5f\",\"gridcolor\":\"white\",\"linecolor\":\"white\",\"minorgridcolor\":\"white\",\"startlinecolor\":\"#2a3f5f\"},\"baxis\":{\"endlinecolor\":\"#2a3f5f\",\"gridcolor\":\"white\",\"linecolor\":\"white\",\"minorgridcolor\":\"white\",\"startlinecolor\":\"#2a3f5f\"},\"type\":\"carpet\"}],\"choropleth\":[{\"colorbar\":{\"outlinewidth\":0,\"ticks\":\"\"},\"type\":\"choropleth\"}],\"contour\":[{\"colorbar\":{\"outlinewidth\":0,\"ticks\":\"\"},\"colorscale\":[[0.0,\"#0d0887\"],[0.1111111111111111,\"#46039f\"],[0.2222222222222222,\"#7201a8\"],[0.3333333333333333,\"#9c179e\"],[0.4444444444444444,\"#bd3786\"],[0.5555555555555556,\"#d8576b\"],[0.6666666666666666,\"#ed7953\"],[0.7777777777777778,\"#fb9f3a\"],[0.8888888888888888,\"#fdca26\"],[1.0,\"#f0f921\"]],\"type\":\"contour\"}],\"contourcarpet\":[{\"colorbar\":{\"outlinewidth\":0,\"ticks\":\"\"},\"type\":\"contourcarpet\"}],\"heatmap\":[{\"colorbar\":{\"outlinewidth\":0,\"ticks\":\"\"},\"colorscale\":[[0.0,\"#0d0887\"],[0.1111111111111111,\"#46039f\"],[0.2222222222222222,\"#7201a8\"],[0.3333333333333333,\"#9c179e\"],[0.4444444444444444,\"#bd3786\"],[0.5555555555555556,\"#d8576b\"],[0.6666666666666666,\"#ed7953\"],[0.7777777777777778,\"#fb9f3a\"],[0.8888888888888888,\"#fdca26\"],[1.0,\"#f0f921\"]],\"type\":\"heatmap\"}],\"heatmapgl\":[{\"colorbar\":{\"outlinewidth\":0,\"ticks\":\"\"},\"colorscale\":[[0.0,\"#0d0887\"],[0.1111111111111111,\"#46039f\"],[0.2222222222222222,\"#7201a8\"],[0.3333333333333333,\"#9c179e\"],[0.4444444444444444,\"#bd3786\"],[0.5555555555555556,\"#d8576b\"],[0.6666666666666666,\"#ed7953\"],[0.7777777777777778,\"#fb9f3a\"],[0.8888888888888888,\"#fdca26\"],[1.0,\"#f0f921\"]],\"type\":\"heatmapgl\"}],\"histogram\":[{\"marker\":{\"pattern\":{\"fillmode\":\"overlay\",\"size\":10,\"solidity\":0.2}},\"type\":\"histogram\"}],\"histogram2d\":[{\"colorbar\":{\"outlinewidth\":0,\"ticks\":\"\"},\"colorscale\":[[0.0,\"#0d0887\"],[0.1111111111111111,\"#46039f\"],[0.2222222222222222,\"#7201a8\"],[0.3333333333333333,\"#9c179e\"],[0.4444444444444444,\"#bd3786\"],[0.5555555555555556,\"#d8576b\"],[0.6666666666666666,\"#ed7953\"],[0.7777777777777778,\"#fb9f3a\"],[0.8888888888888888,\"#fdca26\"],[1.0,\"#f0f921\"]],\"type\":\"histogram2d\"}],\"histogram2dcontour\":[{\"colorbar\":{\"outlinewidth\":0,\"ticks\":\"\"},\"colorscale\":[[0.0,\"#0d0887\"],[0.1111111111111111,\"#46039f\"],[0.2222222222222222,\"#7201a8\"],[0.3333333333333333,\"#9c179e\"],[0.4444444444444444,\"#bd3786\"],[0.5555555555555556,\"#d8576b\"],[0.6666666666666666,\"#ed7953\"],[0.7777777777777778,\"#fb9f3a\"],[0.8888888888888888,\"#fdca26\"],[1.0,\"#f0f921\"]],\"type\":\"histogram2dcontour\"}],\"mesh3d\":[{\"colorbar\":{\"outlinewidth\":0,\"ticks\":\"\"},\"type\":\"mesh3d\"}],\"parcoords\":[{\"line\":{\"colorbar\":{\"outlinewidth\":0,\"ticks\":\"\"}},\"type\":\"parcoords\"}],\"pie\":[{\"automargin\":true,\"type\":\"pie\"}],\"scatter\":[{\"marker\":{\"colorbar\":{\"outlinewidth\":0,\"ticks\":\"\"}},\"type\":\"scatter\"}],\"scatter3d\":[{\"line\":{\"colorbar\":{\"outlinewidth\":0,\"ticks\":\"\"}},\"marker\":{\"colorbar\":{\"outlinewidth\":0,\"ticks\":\"\"}},\"type\":\"scatter3d\"}],\"scattercarpet\":[{\"marker\":{\"colorbar\":{\"outlinewidth\":0,\"ticks\":\"\"}},\"type\":\"scattercarpet\"}],\"scattergeo\":[{\"marker\":{\"colorbar\":{\"outlinewidth\":0,\"ticks\":\"\"}},\"type\":\"scattergeo\"}],\"scattergl\":[{\"marker\":{\"colorbar\":{\"outlinewidth\":0,\"ticks\":\"\"}},\"type\":\"scattergl\"}],\"scattermapbox\":[{\"marker\":{\"colorbar\":{\"outlinewidth\":0,\"ticks\":\"\"}},\"type\":\"scattermapbox\"}],\"scatterpolar\":[{\"marker\":{\"colorbar\":{\"outlinewidth\":0,\"ticks\":\"\"}},\"type\":\"scatterpolar\"}],\"scatterpolargl\":[{\"marker\":{\"colorbar\":{\"outlinewidth\":0,\"ticks\":\"\"}},\"type\":\"scatterpolargl\"}],\"scatterternary\":[{\"marker\":{\"colorbar\":{\"outlinewidth\":0,\"ticks\":\"\"}},\"type\":\"scatterternary\"}],\"surface\":[{\"colorbar\":{\"outlinewidth\":0,\"ticks\":\"\"},\"colorscale\":[[0.0,\"#0d0887\"],[0.1111111111111111,\"#46039f\"],[0.2222222222222222,\"#7201a8\"],[0.3333333333333333,\"#9c179e\"],[0.4444444444444444,\"#bd3786\"],[0.5555555555555556,\"#d8576b\"],[0.6666666666666666,\"#ed7953\"],[0.7777777777777778,\"#fb9f3a\"],[0.8888888888888888,\"#fdca26\"],[1.0,\"#f0f921\"]],\"type\":\"surface\"}],\"table\":[{\"cells\":{\"fill\":{\"color\":\"#EBF0F8\"},\"line\":{\"color\":\"white\"}},\"header\":{\"fill\":{\"color\":\"#C8D4E3\"},\"line\":{\"color\":\"white\"}},\"type\":\"table\"}]},\"layout\":{\"annotationdefaults\":{\"arrowcolor\":\"#2a3f5f\",\"arrowhead\":0,\"arrowwidth\":1},\"autotypenumbers\":\"strict\",\"coloraxis\":{\"colorbar\":{\"outlinewidth\":0,\"ticks\":\"\"}},\"colorscale\":{\"diverging\":[[0,\"#8e0152\"],[0.1,\"#c51b7d\"],[0.2,\"#de77ae\"],[0.3,\"#f1b6da\"],[0.4,\"#fde0ef\"],[0.5,\"#f7f7f7\"],[0.6,\"#e6f5d0\"],[0.7,\"#b8e186\"],[0.8,\"#7fbc41\"],[0.9,\"#4d9221\"],[1,\"#276419\"]],\"sequential\":[[0.0,\"#0d0887\"],[0.1111111111111111,\"#46039f\"],[0.2222222222222222,\"#7201a8\"],[0.3333333333333333,\"#9c179e\"],[0.4444444444444444,\"#bd3786\"],[0.5555555555555556,\"#d8576b\"],[0.6666666666666666,\"#ed7953\"],[0.7777777777777778,\"#fb9f3a\"],[0.8888888888888888,\"#fdca26\"],[1.0,\"#f0f921\"]],\"sequentialminus\":[[0.0,\"#0d0887\"],[0.1111111111111111,\"#46039f\"],[0.2222222222222222,\"#7201a8\"],[0.3333333333333333,\"#9c179e\"],[0.4444444444444444,\"#bd3786\"],[0.5555555555555556,\"#d8576b\"],[0.6666666666666666,\"#ed7953\"],[0.7777777777777778,\"#fb9f3a\"],[0.8888888888888888,\"#fdca26\"],[1.0,\"#f0f921\"]]},\"colorway\":[\"#636efa\",\"#EF553B\",\"#00cc96\",\"#ab63fa\",\"#FFA15A\",\"#19d3f3\",\"#FF6692\",\"#B6E880\",\"#FF97FF\",\"#FECB52\"],\"font\":{\"color\":\"#2a3f5f\"},\"geo\":{\"bgcolor\":\"white\",\"lakecolor\":\"white\",\"landcolor\":\"#E5ECF6\",\"showlakes\":true,\"showland\":true,\"subunitcolor\":\"white\"},\"hoverlabel\":{\"align\":\"left\"},\"hovermode\":\"closest\",\"mapbox\":{\"style\":\"light\"},\"paper_bgcolor\":\"white\",\"plot_bgcolor\":\"#E5ECF6\",\"polar\":{\"angularaxis\":{\"gridcolor\":\"white\",\"linecolor\":\"white\",\"ticks\":\"\"},\"bgcolor\":\"#E5ECF6\",\"radialaxis\":{\"gridcolor\":\"white\",\"linecolor\":\"white\",\"ticks\":\"\"}},\"scene\":{\"xaxis\":{\"backgroundcolor\":\"#E5ECF6\",\"gridcolor\":\"white\",\"gridwidth\":2,\"linecolor\":\"white\",\"showbackground\":true,\"ticks\":\"\",\"zerolinecolor\":\"white\"},\"yaxis\":{\"backgroundcolor\":\"#E5ECF6\",\"gridcolor\":\"white\",\"gridwidth\":2,\"linecolor\":\"white\",\"showbackground\":true,\"ticks\":\"\",\"zerolinecolor\":\"white\"},\"zaxis\":{\"backgroundcolor\":\"#E5ECF6\",\"gridcolor\":\"white\",\"gridwidth\":2,\"linecolor\":\"white\",\"showbackground\":true,\"ticks\":\"\",\"zerolinecolor\":\"white\"}},\"shapedefaults\":{\"line\":{\"color\":\"#2a3f5f\"}},\"ternary\":{\"aaxis\":{\"gridcolor\":\"white\",\"linecolor\":\"white\",\"ticks\":\"\"},\"baxis\":{\"gridcolor\":\"white\",\"linecolor\":\"white\",\"ticks\":\"\"},\"bgcolor\":\"#E5ECF6\",\"caxis\":{\"gridcolor\":\"white\",\"linecolor\":\"white\",\"ticks\":\"\"}},\"title\":{\"x\":0.05},\"xaxis\":{\"automargin\":true,\"gridcolor\":\"white\",\"linecolor\":\"white\",\"ticks\":\"\",\"title\":{\"standoff\":15},\"zerolinecolor\":\"white\",\"zerolinewidth\":2},\"yaxis\":{\"automargin\":true,\"gridcolor\":\"white\",\"linecolor\":\"white\",\"ticks\":\"\",\"title\":{\"standoff\":15},\"zerolinecolor\":\"white\",\"zerolinewidth\":2}}},\"xaxis\":{\"anchor\":\"y\",\"domain\":[0.0,1.0],\"title\":{\"text\":\"Date\"}},\"yaxis\":{\"anchor\":\"x\",\"domain\":[0.0,1.0],\"title\":{\"text\":\"Price\"}}},                        {\"responsive\": true}                    ).then(function(){\n",
       "                            \n",
       "var gd = document.getElementById('05d6cd65-cf1f-483c-aaf4-8bef10fd9152');\n",
       "var x = new MutationObserver(function (mutations, observer) {{\n",
       "        var display = window.getComputedStyle(gd).display;\n",
       "        if (!display || display === 'none') {{\n",
       "            console.log([gd, 'removed!']);\n",
       "            Plotly.purge(gd);\n",
       "            observer.disconnect();\n",
       "        }}\n",
       "}});\n",
       "\n",
       "// Listen for the removal of the full notebook cells\n",
       "var notebookContainer = gd.closest('#notebook-container');\n",
       "if (notebookContainer) {{\n",
       "    x.observe(notebookContainer, {childList: true});\n",
       "}}\n",
       "\n",
       "// Listen for the clearing of the current output cell\n",
       "var outputEl = gd.closest('.output');\n",
       "if (outputEl) {{\n",
       "    x.observe(outputEl, {childList: true});\n",
       "}}\n",
       "\n",
       "                        })                };                });            </script>        </div>"
      ]
     },
     "metadata": {},
     "output_type": "display_data"
    }
   ],
   "source": [
    "\n",
    "import plotly.express as px\n",
    "fig = px.bar(Pomphret_price, x = \"Date\", y = \"Price\")\n",
    "fig.show()"
   ]
  },
  {
   "cell_type": "markdown",
   "metadata": {},
   "source": [
    "# 9 How many states has meat as commodity?"
   ]
  },
  {
   "cell_type": "code",
   "execution_count": 40,
   "metadata": {
    "scrolled": true
   },
   "outputs": [
    {
     "data": {
      "text/plain": [
       "array(['Andhra Pradesh', 'Arunachal Pradesh', 'Assam', 'Bihar', 'Goa',\n",
       "       'Gujarat', 'Haryana', 'Himachal Pradesh', 'Jammu Kashmir',\n",
       "       'Jharkhand', 'Karnataka', 'Kerala', 'Madhya Pradesh',\n",
       "       'Maharashtra', 'Manipur', 'Meghalaya', 'Mizoram', 'Nagaland',\n",
       "       'National Capital', 'Orissa', 'Punjab', 'Rajasthan', 'Sikkim',\n",
       "       'Tamil Nadu', 'Telangana', 'Tripura', 'Union Territories',\n",
       "       'Uttar Pradesh', 'Uttarakhand', 'West Bengal'], dtype=object)"
      ]
     },
     "execution_count": 40,
     "metadata": {},
     "output_type": "execute_result"
    }
   ],
   "source": [
    "df[df[\"Commodity\"]==\"Meat\"][\"State\"].unique()"
   ]
  },
  {
   "cell_type": "code",
   "execution_count": 41,
   "metadata": {},
   "outputs": [
    {
     "data": {
      "text/plain": [
       "30"
      ]
     },
     "execution_count": 41,
     "metadata": {},
     "output_type": "execute_result"
    }
   ],
   "source": [
    "df[df[\"Commodity\"]==\"Meat\"].State.nunique()"
   ]
  },
  {
   "cell_type": "markdown",
   "metadata": {},
   "source": [
    "# 10 How many types of variety of meat?"
   ]
  },
  {
   "cell_type": "code",
   "execution_count": 42,
   "metadata": {
    "scrolled": false
   },
   "outputs": [
    {
     "data": {
      "text/plain": [
       "array(['Mutton'], dtype=object)"
      ]
     },
     "execution_count": 42,
     "metadata": {},
     "output_type": "execute_result"
    }
   ],
   "source": [
    "df[df[\"Commodity\"]==\"Meat\"][\"Variety\"].unique()"
   ]
  },
  {
   "cell_type": "code",
   "execution_count": 43,
   "metadata": {},
   "outputs": [
    {
     "data": {
      "text/plain": [
       "1"
      ]
     },
     "execution_count": 43,
     "metadata": {},
     "output_type": "execute_result"
    }
   ],
   "source": [
    "df[df[\"Commodity\"]==\"Meat\"][\"Variety\"].nunique()"
   ]
  },
  {
   "cell_type": "markdown",
   "metadata": {},
   "source": [
    "# 11 Which Centre has the highest price of rice in Maharashtra?"
   ]
  },
  {
   "cell_type": "code",
   "execution_count": 44,
   "metadata": {
    "scrolled": true
   },
   "outputs": [
    {
     "data": {
      "text/html": [
       "<div>\n",
       "<style scoped>\n",
       "    .dataframe tbody tr th:only-of-type {\n",
       "        vertical-align: middle;\n",
       "    }\n",
       "\n",
       "    .dataframe tbody tr th {\n",
       "        vertical-align: top;\n",
       "    }\n",
       "\n",
       "    .dataframe thead th {\n",
       "        text-align: right;\n",
       "    }\n",
       "</style>\n",
       "<table border=\"1\" class=\"dataframe\">\n",
       "  <thead>\n",
       "    <tr style=\"text-align: right;\">\n",
       "      <th></th>\n",
       "      <th>Unnamed: 0</th>\n",
       "      <th>State</th>\n",
       "      <th>Centre</th>\n",
       "      <th>Commodity</th>\n",
       "      <th>Variety</th>\n",
       "      <th>Unit</th>\n",
       "      <th>Category</th>\n",
       "      <th>Date</th>\n",
       "      <th>Retail Price</th>\n",
       "    </tr>\n",
       "  </thead>\n",
       "  <tbody>\n",
       "    <tr>\n",
       "      <th>0</th>\n",
       "      <td>0</td>\n",
       "      <td>Andhra Pradesh</td>\n",
       "      <td>Chittoor</td>\n",
       "      <td>Moong</td>\n",
       "      <td>Split</td>\n",
       "      <td>Kg.</td>\n",
       "      <td>Food</td>\n",
       "      <td>JAN-2001</td>\n",
       "      <td>24.000000</td>\n",
       "    </tr>\n",
       "    <tr>\n",
       "      <th>1</th>\n",
       "      <td>1</td>\n",
       "      <td>Andhra Pradesh</td>\n",
       "      <td>Guntur</td>\n",
       "      <td>Moong</td>\n",
       "      <td>Split</td>\n",
       "      <td>Kg.</td>\n",
       "      <td>Food</td>\n",
       "      <td>JAN-2001</td>\n",
       "      <td>26.000000</td>\n",
       "    </tr>\n",
       "    <tr>\n",
       "      <th>2</th>\n",
       "      <td>2</td>\n",
       "      <td>Andhra Pradesh</td>\n",
       "      <td>Kurnool</td>\n",
       "      <td>Moong</td>\n",
       "      <td>Split</td>\n",
       "      <td>Kg.</td>\n",
       "      <td>Food</td>\n",
       "      <td>JAN-2001</td>\n",
       "      <td>25.500000</td>\n",
       "    </tr>\n",
       "    <tr>\n",
       "      <th>3</th>\n",
       "      <td>3</td>\n",
       "      <td>Andhra Pradesh</td>\n",
       "      <td>Vishakhapatnam</td>\n",
       "      <td>Moong</td>\n",
       "      <td>Split</td>\n",
       "      <td>Kg.</td>\n",
       "      <td>Food</td>\n",
       "      <td>JAN-2001</td>\n",
       "      <td>28.319444</td>\n",
       "    </tr>\n",
       "    <tr>\n",
       "      <th>4</th>\n",
       "      <td>4</td>\n",
       "      <td>Arunachal Pradesh</td>\n",
       "      <td>Itanagar</td>\n",
       "      <td>Moong</td>\n",
       "      <td>Split</td>\n",
       "      <td>Kg.</td>\n",
       "      <td>Food</td>\n",
       "      <td>JAN-2001</td>\n",
       "      <td>28.319444</td>\n",
       "    </tr>\n",
       "    <tr>\n",
       "      <th>...</th>\n",
       "      <td>...</td>\n",
       "      <td>...</td>\n",
       "      <td>...</td>\n",
       "      <td>...</td>\n",
       "      <td>...</td>\n",
       "      <td>...</td>\n",
       "      <td>...</td>\n",
       "      <td>...</td>\n",
       "      <td>...</td>\n",
       "    </tr>\n",
       "    <tr>\n",
       "      <th>1147441</th>\n",
       "      <td>1147441</td>\n",
       "      <td>West Bengal</td>\n",
       "      <td>Jalpaiguri</td>\n",
       "      <td>Wheat</td>\n",
       "      <td>Kalyan HYV</td>\n",
       "      <td>Kg.</td>\n",
       "      <td>Food</td>\n",
       "      <td>MAR-2021</td>\n",
       "      <td>29.301980</td>\n",
       "    </tr>\n",
       "    <tr>\n",
       "      <th>1147442</th>\n",
       "      <td>1147442</td>\n",
       "      <td>West Bengal</td>\n",
       "      <td>Kolkata</td>\n",
       "      <td>Wheat</td>\n",
       "      <td>Desi</td>\n",
       "      <td>Kg.</td>\n",
       "      <td>Food</td>\n",
       "      <td>MAR-2021</td>\n",
       "      <td>29.301980</td>\n",
       "    </tr>\n",
       "    <tr>\n",
       "      <th>1147443</th>\n",
       "      <td>1147443</td>\n",
       "      <td>West Bengal</td>\n",
       "      <td>Kolkata</td>\n",
       "      <td>Wheat</td>\n",
       "      <td>Kalyan HYV</td>\n",
       "      <td>Kg.</td>\n",
       "      <td>Food</td>\n",
       "      <td>MAR-2021</td>\n",
       "      <td>29.301980</td>\n",
       "    </tr>\n",
       "    <tr>\n",
       "      <th>1147444</th>\n",
       "      <td>1147444</td>\n",
       "      <td>West Bengal</td>\n",
       "      <td>Malda</td>\n",
       "      <td>Wheat</td>\n",
       "      <td>Desi</td>\n",
       "      <td>Kg.</td>\n",
       "      <td>Food</td>\n",
       "      <td>MAR-2021</td>\n",
       "      <td>20.000000</td>\n",
       "    </tr>\n",
       "    <tr>\n",
       "      <th>1147445</th>\n",
       "      <td>1147445</td>\n",
       "      <td>West Bengal</td>\n",
       "      <td>Malda</td>\n",
       "      <td>Wheat</td>\n",
       "      <td>Kalyan HYV</td>\n",
       "      <td>Kg.</td>\n",
       "      <td>Food</td>\n",
       "      <td>MAR-2021</td>\n",
       "      <td>29.301980</td>\n",
       "    </tr>\n",
       "  </tbody>\n",
       "</table>\n",
       "<p>1139231 rows × 9 columns</p>\n",
       "</div>"
      ],
      "text/plain": [
       "         Unnamed: 0              State          Centre Commodity     Variety  \\\n",
       "0                 0     Andhra Pradesh        Chittoor     Moong       Split   \n",
       "1                 1     Andhra Pradesh          Guntur     Moong       Split   \n",
       "2                 2     Andhra Pradesh         Kurnool     Moong       Split   \n",
       "3                 3     Andhra Pradesh  Vishakhapatnam     Moong       Split   \n",
       "4                 4  Arunachal Pradesh        Itanagar     Moong       Split   \n",
       "...             ...                ...             ...       ...         ...   \n",
       "1147441     1147441        West Bengal      Jalpaiguri     Wheat  Kalyan HYV   \n",
       "1147442     1147442        West Bengal         Kolkata     Wheat        Desi   \n",
       "1147443     1147443        West Bengal         Kolkata     Wheat  Kalyan HYV   \n",
       "1147444     1147444        West Bengal           Malda     Wheat        Desi   \n",
       "1147445     1147445        West Bengal           Malda     Wheat  Kalyan HYV   \n",
       "\n",
       "        Unit Category      Date  Retail Price  \n",
       "0        Kg.     Food  JAN-2001     24.000000  \n",
       "1        Kg.     Food  JAN-2001     26.000000  \n",
       "2        Kg.     Food  JAN-2001     25.500000  \n",
       "3        Kg.     Food  JAN-2001     28.319444  \n",
       "4        Kg.     Food  JAN-2001     28.319444  \n",
       "...      ...      ...       ...           ...  \n",
       "1147441  Kg.     Food  MAR-2021     29.301980  \n",
       "1147442  Kg.     Food  MAR-2021     29.301980  \n",
       "1147443  Kg.     Food  MAR-2021     29.301980  \n",
       "1147444  Kg.     Food  MAR-2021     20.000000  \n",
       "1147445  Kg.     Food  MAR-2021     29.301980  \n",
       "\n",
       "[1139231 rows x 9 columns]"
      ]
     },
     "execution_count": 44,
     "metadata": {},
     "output_type": "execute_result"
    }
   ],
   "source": [
    "df"
   ]
  },
  {
   "cell_type": "code",
   "execution_count": 45,
   "metadata": {
    "scrolled": true
   },
   "outputs": [
    {
     "data": {
      "text/html": [
       "<div>\n",
       "<style scoped>\n",
       "    .dataframe tbody tr th:only-of-type {\n",
       "        vertical-align: middle;\n",
       "    }\n",
       "\n",
       "    .dataframe tbody tr th {\n",
       "        vertical-align: top;\n",
       "    }\n",
       "\n",
       "    .dataframe thead th {\n",
       "        text-align: right;\n",
       "    }\n",
       "</style>\n",
       "<table border=\"1\" class=\"dataframe\">\n",
       "  <thead>\n",
       "    <tr style=\"text-align: right;\">\n",
       "      <th></th>\n",
       "      <th>Unnamed: 0</th>\n",
       "      <th>State</th>\n",
       "      <th>Centre</th>\n",
       "      <th>Commodity</th>\n",
       "      <th>Variety</th>\n",
       "      <th>Unit</th>\n",
       "      <th>Category</th>\n",
       "      <th>Date</th>\n",
       "      <th>Retail Price</th>\n",
       "    </tr>\n",
       "  </thead>\n",
       "  <tbody>\n",
       "    <tr>\n",
       "      <th>607</th>\n",
       "      <td>607</td>\n",
       "      <td>Maharashtra</td>\n",
       "      <td>Aurangabad</td>\n",
       "      <td>Rice</td>\n",
       "      <td>Common/Coarse</td>\n",
       "      <td>Kg.</td>\n",
       "      <td>Food</td>\n",
       "      <td>JAN-2001</td>\n",
       "      <td>12.931649</td>\n",
       "    </tr>\n",
       "    <tr>\n",
       "      <th>608</th>\n",
       "      <td>608</td>\n",
       "      <td>Maharashtra</td>\n",
       "      <td>Aurangabad</td>\n",
       "      <td>Rice</td>\n",
       "      <td>Fine</td>\n",
       "      <td>Kg.</td>\n",
       "      <td>Food</td>\n",
       "      <td>JAN-2001</td>\n",
       "      <td>12.931649</td>\n",
       "    </tr>\n",
       "    <tr>\n",
       "      <th>609</th>\n",
       "      <td>609</td>\n",
       "      <td>Maharashtra</td>\n",
       "      <td>Aurangabad</td>\n",
       "      <td>Rice</td>\n",
       "      <td>Superfine</td>\n",
       "      <td>Kg.</td>\n",
       "      <td>Food</td>\n",
       "      <td>JAN-2001</td>\n",
       "      <td>12.931649</td>\n",
       "    </tr>\n",
       "    <tr>\n",
       "      <th>610</th>\n",
       "      <td>610</td>\n",
       "      <td>Maharashtra</td>\n",
       "      <td>Mumbai</td>\n",
       "      <td>Rice</td>\n",
       "      <td>Common/Coarse</td>\n",
       "      <td>Kg.</td>\n",
       "      <td>Food</td>\n",
       "      <td>JAN-2001</td>\n",
       "      <td>12.931649</td>\n",
       "    </tr>\n",
       "    <tr>\n",
       "      <th>611</th>\n",
       "      <td>611</td>\n",
       "      <td>Maharashtra</td>\n",
       "      <td>Mumbai</td>\n",
       "      <td>Rice</td>\n",
       "      <td>Fine</td>\n",
       "      <td>Kg.</td>\n",
       "      <td>Food</td>\n",
       "      <td>JAN-2001</td>\n",
       "      <td>12.931649</td>\n",
       "    </tr>\n",
       "    <tr>\n",
       "      <th>...</th>\n",
       "      <td>...</td>\n",
       "      <td>...</td>\n",
       "      <td>...</td>\n",
       "      <td>...</td>\n",
       "      <td>...</td>\n",
       "      <td>...</td>\n",
       "      <td>...</td>\n",
       "      <td>...</td>\n",
       "      <td>...</td>\n",
       "    </tr>\n",
       "    <tr>\n",
       "      <th>304327</th>\n",
       "      <td>304327</td>\n",
       "      <td>Maharashtra</td>\n",
       "      <td>Nasik</td>\n",
       "      <td>Rice</td>\n",
       "      <td>Fine</td>\n",
       "      <td>Kg.</td>\n",
       "      <td>Food</td>\n",
       "      <td>MAR-2021</td>\n",
       "      <td>47.000000</td>\n",
       "    </tr>\n",
       "    <tr>\n",
       "      <th>304328</th>\n",
       "      <td>304328</td>\n",
       "      <td>Maharashtra</td>\n",
       "      <td>Nasik</td>\n",
       "      <td>Rice</td>\n",
       "      <td>Superfine</td>\n",
       "      <td>Kg.</td>\n",
       "      <td>Food</td>\n",
       "      <td>MAR-2021</td>\n",
       "      <td>53.000000</td>\n",
       "    </tr>\n",
       "    <tr>\n",
       "      <th>304329</th>\n",
       "      <td>304329</td>\n",
       "      <td>Maharashtra</td>\n",
       "      <td>Pune</td>\n",
       "      <td>Rice</td>\n",
       "      <td>Common/Coarse</td>\n",
       "      <td>Kg.</td>\n",
       "      <td>Food</td>\n",
       "      <td>MAR-2021</td>\n",
       "      <td>35.000000</td>\n",
       "    </tr>\n",
       "    <tr>\n",
       "      <th>304330</th>\n",
       "      <td>304330</td>\n",
       "      <td>Maharashtra</td>\n",
       "      <td>Pune</td>\n",
       "      <td>Rice</td>\n",
       "      <td>Fine</td>\n",
       "      <td>Kg.</td>\n",
       "      <td>Food</td>\n",
       "      <td>MAR-2021</td>\n",
       "      <td>44.000000</td>\n",
       "    </tr>\n",
       "    <tr>\n",
       "      <th>304331</th>\n",
       "      <td>304331</td>\n",
       "      <td>Maharashtra</td>\n",
       "      <td>Pune</td>\n",
       "      <td>Rice</td>\n",
       "      <td>Superfine</td>\n",
       "      <td>Kg.</td>\n",
       "      <td>Food</td>\n",
       "      <td>MAR-2021</td>\n",
       "      <td>75.000000</td>\n",
       "    </tr>\n",
       "  </tbody>\n",
       "</table>\n",
       "<p>3645 rows × 9 columns</p>\n",
       "</div>"
      ],
      "text/plain": [
       "        Unnamed: 0        State      Centre Commodity        Variety Unit  \\\n",
       "607            607  Maharashtra  Aurangabad      Rice  Common/Coarse  Kg.   \n",
       "608            608  Maharashtra  Aurangabad      Rice           Fine  Kg.   \n",
       "609            609  Maharashtra  Aurangabad      Rice      Superfine  Kg.   \n",
       "610            610  Maharashtra      Mumbai      Rice  Common/Coarse  Kg.   \n",
       "611            611  Maharashtra      Mumbai      Rice           Fine  Kg.   \n",
       "...            ...          ...         ...       ...            ...  ...   \n",
       "304327      304327  Maharashtra       Nasik      Rice           Fine  Kg.   \n",
       "304328      304328  Maharashtra       Nasik      Rice      Superfine  Kg.   \n",
       "304329      304329  Maharashtra        Pune      Rice  Common/Coarse  Kg.   \n",
       "304330      304330  Maharashtra        Pune      Rice           Fine  Kg.   \n",
       "304331      304331  Maharashtra        Pune      Rice      Superfine  Kg.   \n",
       "\n",
       "       Category      Date  Retail Price  \n",
       "607        Food  JAN-2001     12.931649  \n",
       "608        Food  JAN-2001     12.931649  \n",
       "609        Food  JAN-2001     12.931649  \n",
       "610        Food  JAN-2001     12.931649  \n",
       "611        Food  JAN-2001     12.931649  \n",
       "...         ...       ...           ...  \n",
       "304327     Food  MAR-2021     47.000000  \n",
       "304328     Food  MAR-2021     53.000000  \n",
       "304329     Food  MAR-2021     35.000000  \n",
       "304330     Food  MAR-2021     44.000000  \n",
       "304331     Food  MAR-2021     75.000000  \n",
       "\n",
       "[3645 rows x 9 columns]"
      ]
     },
     "execution_count": 45,
     "metadata": {},
     "output_type": "execute_result"
    }
   ],
   "source": [
    "df_new=df[(df[\"State\"]==\"Maharashtra\")&(df[\"Commodity\"]==\"Rice\")]\n",
    "df_new"
   ]
  },
  {
   "cell_type": "code",
   "execution_count": 47,
   "metadata": {},
   "outputs": [],
   "source": [
    "var=df_new[\"Variety\"].unique()\n"
   ]
  },
  {
   "cell_type": "code",
   "execution_count": 48,
   "metadata": {},
   "outputs": [
    {
     "name": "stdout",
     "output_type": "stream",
     "text": [
      "['Aurangabad' 'Nagpur' 'Nasik' 'Pune'] centre at ['JUL-2017'] was the highest price(46.027) for rice variety Common/Coarse in this dataset\n",
      "['Aurangabad'] centre at ['JUL-2018' 'OCT-2018'] was the highest price(65.000) for rice variety Fine in this dataset\n",
      "['Aurangabad'] centre at ['FEB-2018'] was the highest price(122.000) for rice variety Superfine in this dataset\n"
     ]
    }
   ],
   "source": [
    "for v in var:\n",
    "    max=df_new[(df_new[\"Variety\"]==v)][\"Retail Price\"].max()\n",
    "    centre1=df_new[(df_new[\"Variety\"]==v)&(df_new[\"Retail Price\"]==max)][\"Centre\"].unique()\n",
    "    date1=df_new[(df_new[\"Variety\"]==v)&(df_new[\"Retail Price\"]==max)][\"Date\"].unique()\n",
    "    print(\"%s centre at %s was the highest price(%0.3f) for rice variety %s in this dataset\"%(centre1,date1,max,v))\n",
    "    "
   ]
  },
  {
   "cell_type": "markdown",
   "metadata": {},
   "source": [
    "# 12 What is the price difference between desi wheat and kalyan HYV state wise?"
   ]
  },
  {
   "cell_type": "code",
   "execution_count": 49,
   "metadata": {
    "scrolled": false
   },
   "outputs": [
    {
     "data": {
      "text/html": [
       "<div>\n",
       "<style scoped>\n",
       "    .dataframe tbody tr th:only-of-type {\n",
       "        vertical-align: middle;\n",
       "    }\n",
       "\n",
       "    .dataframe tbody tr th {\n",
       "        vertical-align: top;\n",
       "    }\n",
       "\n",
       "    .dataframe thead th {\n",
       "        text-align: right;\n",
       "    }\n",
       "</style>\n",
       "<table border=\"1\" class=\"dataframe\">\n",
       "  <thead>\n",
       "    <tr style=\"text-align: right;\">\n",
       "      <th></th>\n",
       "      <th>Unnamed: 0</th>\n",
       "      <th>State</th>\n",
       "      <th>Centre</th>\n",
       "      <th>Commodity</th>\n",
       "      <th>Variety</th>\n",
       "      <th>Unit</th>\n",
       "      <th>Category</th>\n",
       "      <th>Date</th>\n",
       "      <th>Retail Price</th>\n",
       "    </tr>\n",
       "  </thead>\n",
       "  <tbody>\n",
       "    <tr>\n",
       "      <th>1024830</th>\n",
       "      <td>1024830</td>\n",
       "      <td>Andhra Pradesh</td>\n",
       "      <td>Chittoor</td>\n",
       "      <td>Wheat</td>\n",
       "      <td>Desi</td>\n",
       "      <td>Kg.</td>\n",
       "      <td>Food</td>\n",
       "      <td>JAN-2001</td>\n",
       "      <td>13.00000</td>\n",
       "    </tr>\n",
       "    <tr>\n",
       "      <th>1024831</th>\n",
       "      <td>1024831</td>\n",
       "      <td>Andhra Pradesh</td>\n",
       "      <td>Chittoor</td>\n",
       "      <td>Wheat</td>\n",
       "      <td>Kalyan HYV</td>\n",
       "      <td>Kg.</td>\n",
       "      <td>Food</td>\n",
       "      <td>JAN-2001</td>\n",
       "      <td>10.00000</td>\n",
       "    </tr>\n",
       "    <tr>\n",
       "      <th>1024832</th>\n",
       "      <td>1024832</td>\n",
       "      <td>Andhra Pradesh</td>\n",
       "      <td>Guntur</td>\n",
       "      <td>Wheat</td>\n",
       "      <td>Desi</td>\n",
       "      <td>Kg.</td>\n",
       "      <td>Food</td>\n",
       "      <td>JAN-2001</td>\n",
       "      <td>11.50000</td>\n",
       "    </tr>\n",
       "    <tr>\n",
       "      <th>1024833</th>\n",
       "      <td>1024833</td>\n",
       "      <td>Andhra Pradesh</td>\n",
       "      <td>Guntur</td>\n",
       "      <td>Wheat</td>\n",
       "      <td>Kalyan HYV</td>\n",
       "      <td>Kg.</td>\n",
       "      <td>Food</td>\n",
       "      <td>JAN-2001</td>\n",
       "      <td>9.47500</td>\n",
       "    </tr>\n",
       "    <tr>\n",
       "      <th>1024834</th>\n",
       "      <td>1024834</td>\n",
       "      <td>Andhra Pradesh</td>\n",
       "      <td>Kurnool</td>\n",
       "      <td>Wheat</td>\n",
       "      <td>Desi</td>\n",
       "      <td>Kg.</td>\n",
       "      <td>Food</td>\n",
       "      <td>JAN-2001</td>\n",
       "      <td>9.47500</td>\n",
       "    </tr>\n",
       "    <tr>\n",
       "      <th>...</th>\n",
       "      <td>...</td>\n",
       "      <td>...</td>\n",
       "      <td>...</td>\n",
       "      <td>...</td>\n",
       "      <td>...</td>\n",
       "      <td>...</td>\n",
       "      <td>...</td>\n",
       "      <td>...</td>\n",
       "      <td>...</td>\n",
       "    </tr>\n",
       "    <tr>\n",
       "      <th>1147441</th>\n",
       "      <td>1147441</td>\n",
       "      <td>West Bengal</td>\n",
       "      <td>Jalpaiguri</td>\n",
       "      <td>Wheat</td>\n",
       "      <td>Kalyan HYV</td>\n",
       "      <td>Kg.</td>\n",
       "      <td>Food</td>\n",
       "      <td>MAR-2021</td>\n",
       "      <td>29.30198</td>\n",
       "    </tr>\n",
       "    <tr>\n",
       "      <th>1147442</th>\n",
       "      <td>1147442</td>\n",
       "      <td>West Bengal</td>\n",
       "      <td>Kolkata</td>\n",
       "      <td>Wheat</td>\n",
       "      <td>Desi</td>\n",
       "      <td>Kg.</td>\n",
       "      <td>Food</td>\n",
       "      <td>MAR-2021</td>\n",
       "      <td>29.30198</td>\n",
       "    </tr>\n",
       "    <tr>\n",
       "      <th>1147443</th>\n",
       "      <td>1147443</td>\n",
       "      <td>West Bengal</td>\n",
       "      <td>Kolkata</td>\n",
       "      <td>Wheat</td>\n",
       "      <td>Kalyan HYV</td>\n",
       "      <td>Kg.</td>\n",
       "      <td>Food</td>\n",
       "      <td>MAR-2021</td>\n",
       "      <td>29.30198</td>\n",
       "    </tr>\n",
       "    <tr>\n",
       "      <th>1147444</th>\n",
       "      <td>1147444</td>\n",
       "      <td>West Bengal</td>\n",
       "      <td>Malda</td>\n",
       "      <td>Wheat</td>\n",
       "      <td>Desi</td>\n",
       "      <td>Kg.</td>\n",
       "      <td>Food</td>\n",
       "      <td>MAR-2021</td>\n",
       "      <td>20.00000</td>\n",
       "    </tr>\n",
       "    <tr>\n",
       "      <th>1147445</th>\n",
       "      <td>1147445</td>\n",
       "      <td>West Bengal</td>\n",
       "      <td>Malda</td>\n",
       "      <td>Wheat</td>\n",
       "      <td>Kalyan HYV</td>\n",
       "      <td>Kg.</td>\n",
       "      <td>Food</td>\n",
       "      <td>MAR-2021</td>\n",
       "      <td>29.30198</td>\n",
       "    </tr>\n",
       "  </tbody>\n",
       "</table>\n",
       "<p>39852 rows × 9 columns</p>\n",
       "</div>"
      ],
      "text/plain": [
       "         Unnamed: 0           State      Centre Commodity     Variety Unit  \\\n",
       "1024830     1024830  Andhra Pradesh    Chittoor     Wheat        Desi  Kg.   \n",
       "1024831     1024831  Andhra Pradesh    Chittoor     Wheat  Kalyan HYV  Kg.   \n",
       "1024832     1024832  Andhra Pradesh      Guntur     Wheat        Desi  Kg.   \n",
       "1024833     1024833  Andhra Pradesh      Guntur     Wheat  Kalyan HYV  Kg.   \n",
       "1024834     1024834  Andhra Pradesh     Kurnool     Wheat        Desi  Kg.   \n",
       "...             ...             ...         ...       ...         ...  ...   \n",
       "1147441     1147441     West Bengal  Jalpaiguri     Wheat  Kalyan HYV  Kg.   \n",
       "1147442     1147442     West Bengal     Kolkata     Wheat        Desi  Kg.   \n",
       "1147443     1147443     West Bengal     Kolkata     Wheat  Kalyan HYV  Kg.   \n",
       "1147444     1147444     West Bengal       Malda     Wheat        Desi  Kg.   \n",
       "1147445     1147445     West Bengal       Malda     Wheat  Kalyan HYV  Kg.   \n",
       "\n",
       "        Category      Date  Retail Price  \n",
       "1024830     Food  JAN-2001      13.00000  \n",
       "1024831     Food  JAN-2001      10.00000  \n",
       "1024832     Food  JAN-2001      11.50000  \n",
       "1024833     Food  JAN-2001       9.47500  \n",
       "1024834     Food  JAN-2001       9.47500  \n",
       "...          ...       ...           ...  \n",
       "1147441     Food  MAR-2021      29.30198  \n",
       "1147442     Food  MAR-2021      29.30198  \n",
       "1147443     Food  MAR-2021      29.30198  \n",
       "1147444     Food  MAR-2021      20.00000  \n",
       "1147445     Food  MAR-2021      29.30198  \n",
       "\n",
       "[39852 rows x 9 columns]"
      ]
     },
     "execution_count": 49,
     "metadata": {},
     "output_type": "execute_result"
    }
   ],
   "source": [
    "df8=df[(df[\"Commodity\"]==\"Wheat\")]\n",
    "df8"
   ]
  },
  {
   "cell_type": "code",
   "execution_count": 50,
   "metadata": {
    "scrolled": false
   },
   "outputs": [],
   "source": [
    "st=df8[\"State\"].unique()\n",
    "no=[]\n",
    "\n",
    "for s in st:\n",
    "    val=df8[(df8[\"State\"]==s)][\"Variety\"].nunique()\n",
    "    if val==1:\n",
    "        no.append(s)"
   ]
  },
  {
   "cell_type": "code",
   "execution_count": 51,
   "metadata": {
    "scrolled": false
   },
   "outputs": [
    {
     "data": {
      "text/plain": [
       "['Manipur', 'Meghalaya']"
      ]
     },
     "execution_count": 51,
     "metadata": {},
     "output_type": "execute_result"
    }
   ],
   "source": [
    "no"
   ]
  },
  {
   "cell_type": "code",
   "execution_count": 52,
   "metadata": {},
   "outputs": [],
   "source": [
    "ind1=df8[(df8[\"State\"]==\"Manipur\")].index"
   ]
  },
  {
   "cell_type": "code",
   "execution_count": 53,
   "metadata": {},
   "outputs": [
    {
     "data": {
      "text/plain": [
       "Int64Index([1024917, 1025423, 1025929, 1026435, 1026941, 1027447, 1027953,\n",
       "            1028459, 1028965, 1029471,\n",
       "            ...\n",
       "            1142815, 1143321, 1143827, 1144333, 1144839, 1145345, 1145851,\n",
       "            1146357, 1146863, 1147369],\n",
       "           dtype='int64', length=243)"
      ]
     },
     "execution_count": 53,
     "metadata": {},
     "output_type": "execute_result"
    }
   ],
   "source": [
    "ind1"
   ]
  },
  {
   "cell_type": "code",
   "execution_count": 54,
   "metadata": {},
   "outputs": [],
   "source": [
    "df8=df8.drop(ind1,axis=0)"
   ]
  },
  {
   "cell_type": "code",
   "execution_count": 55,
   "metadata": {},
   "outputs": [],
   "source": [
    "ind2=df8[(df8[\"State\"]==\"Meghalaya\")].index"
   ]
  },
  {
   "cell_type": "code",
   "execution_count": 56,
   "metadata": {},
   "outputs": [
    {
     "data": {
      "text/plain": [
       "Int64Index([1024918, 1025424, 1025930, 1026436, 1026942, 1027448, 1027954,\n",
       "            1028460, 1028966, 1029472,\n",
       "            ...\n",
       "            1142816, 1143322, 1143828, 1144334, 1144840, 1145346, 1145852,\n",
       "            1146358, 1146864, 1147370],\n",
       "           dtype='int64', length=243)"
      ]
     },
     "execution_count": 56,
     "metadata": {},
     "output_type": "execute_result"
    }
   ],
   "source": [
    "ind2"
   ]
  },
  {
   "cell_type": "code",
   "execution_count": 57,
   "metadata": {},
   "outputs": [],
   "source": [
    "df8=df8.drop(ind2,axis=0)"
   ]
  },
  {
   "cell_type": "code",
   "execution_count": 58,
   "metadata": {
    "scrolled": true
   },
   "outputs": [
    {
     "data": {
      "text/html": [
       "<div>\n",
       "<style scoped>\n",
       "    .dataframe tbody tr th:only-of-type {\n",
       "        vertical-align: middle;\n",
       "    }\n",
       "\n",
       "    .dataframe tbody tr th {\n",
       "        vertical-align: top;\n",
       "    }\n",
       "\n",
       "    .dataframe thead th {\n",
       "        text-align: right;\n",
       "    }\n",
       "</style>\n",
       "<table border=\"1\" class=\"dataframe\">\n",
       "  <thead>\n",
       "    <tr style=\"text-align: right;\">\n",
       "      <th></th>\n",
       "      <th>Unnamed: 0</th>\n",
       "      <th>State</th>\n",
       "      <th>Centre</th>\n",
       "      <th>Commodity</th>\n",
       "      <th>Variety</th>\n",
       "      <th>Unit</th>\n",
       "      <th>Category</th>\n",
       "      <th>Date</th>\n",
       "      <th>Retail Price</th>\n",
       "    </tr>\n",
       "  </thead>\n",
       "  <tbody>\n",
       "    <tr>\n",
       "      <th>1024830</th>\n",
       "      <td>1024830</td>\n",
       "      <td>Andhra Pradesh</td>\n",
       "      <td>Chittoor</td>\n",
       "      <td>Wheat</td>\n",
       "      <td>Desi</td>\n",
       "      <td>Kg.</td>\n",
       "      <td>Food</td>\n",
       "      <td>JAN-2001</td>\n",
       "      <td>13.00000</td>\n",
       "    </tr>\n",
       "    <tr>\n",
       "      <th>1024831</th>\n",
       "      <td>1024831</td>\n",
       "      <td>Andhra Pradesh</td>\n",
       "      <td>Chittoor</td>\n",
       "      <td>Wheat</td>\n",
       "      <td>Kalyan HYV</td>\n",
       "      <td>Kg.</td>\n",
       "      <td>Food</td>\n",
       "      <td>JAN-2001</td>\n",
       "      <td>10.00000</td>\n",
       "    </tr>\n",
       "    <tr>\n",
       "      <th>1024832</th>\n",
       "      <td>1024832</td>\n",
       "      <td>Andhra Pradesh</td>\n",
       "      <td>Guntur</td>\n",
       "      <td>Wheat</td>\n",
       "      <td>Desi</td>\n",
       "      <td>Kg.</td>\n",
       "      <td>Food</td>\n",
       "      <td>JAN-2001</td>\n",
       "      <td>11.50000</td>\n",
       "    </tr>\n",
       "    <tr>\n",
       "      <th>1024833</th>\n",
       "      <td>1024833</td>\n",
       "      <td>Andhra Pradesh</td>\n",
       "      <td>Guntur</td>\n",
       "      <td>Wheat</td>\n",
       "      <td>Kalyan HYV</td>\n",
       "      <td>Kg.</td>\n",
       "      <td>Food</td>\n",
       "      <td>JAN-2001</td>\n",
       "      <td>9.47500</td>\n",
       "    </tr>\n",
       "    <tr>\n",
       "      <th>1024834</th>\n",
       "      <td>1024834</td>\n",
       "      <td>Andhra Pradesh</td>\n",
       "      <td>Kurnool</td>\n",
       "      <td>Wheat</td>\n",
       "      <td>Desi</td>\n",
       "      <td>Kg.</td>\n",
       "      <td>Food</td>\n",
       "      <td>JAN-2001</td>\n",
       "      <td>9.47500</td>\n",
       "    </tr>\n",
       "    <tr>\n",
       "      <th>...</th>\n",
       "      <td>...</td>\n",
       "      <td>...</td>\n",
       "      <td>...</td>\n",
       "      <td>...</td>\n",
       "      <td>...</td>\n",
       "      <td>...</td>\n",
       "      <td>...</td>\n",
       "      <td>...</td>\n",
       "      <td>...</td>\n",
       "    </tr>\n",
       "    <tr>\n",
       "      <th>1147441</th>\n",
       "      <td>1147441</td>\n",
       "      <td>West Bengal</td>\n",
       "      <td>Jalpaiguri</td>\n",
       "      <td>Wheat</td>\n",
       "      <td>Kalyan HYV</td>\n",
       "      <td>Kg.</td>\n",
       "      <td>Food</td>\n",
       "      <td>MAR-2021</td>\n",
       "      <td>29.30198</td>\n",
       "    </tr>\n",
       "    <tr>\n",
       "      <th>1147442</th>\n",
       "      <td>1147442</td>\n",
       "      <td>West Bengal</td>\n",
       "      <td>Kolkata</td>\n",
       "      <td>Wheat</td>\n",
       "      <td>Desi</td>\n",
       "      <td>Kg.</td>\n",
       "      <td>Food</td>\n",
       "      <td>MAR-2021</td>\n",
       "      <td>29.30198</td>\n",
       "    </tr>\n",
       "    <tr>\n",
       "      <th>1147443</th>\n",
       "      <td>1147443</td>\n",
       "      <td>West Bengal</td>\n",
       "      <td>Kolkata</td>\n",
       "      <td>Wheat</td>\n",
       "      <td>Kalyan HYV</td>\n",
       "      <td>Kg.</td>\n",
       "      <td>Food</td>\n",
       "      <td>MAR-2021</td>\n",
       "      <td>29.30198</td>\n",
       "    </tr>\n",
       "    <tr>\n",
       "      <th>1147444</th>\n",
       "      <td>1147444</td>\n",
       "      <td>West Bengal</td>\n",
       "      <td>Malda</td>\n",
       "      <td>Wheat</td>\n",
       "      <td>Desi</td>\n",
       "      <td>Kg.</td>\n",
       "      <td>Food</td>\n",
       "      <td>MAR-2021</td>\n",
       "      <td>20.00000</td>\n",
       "    </tr>\n",
       "    <tr>\n",
       "      <th>1147445</th>\n",
       "      <td>1147445</td>\n",
       "      <td>West Bengal</td>\n",
       "      <td>Malda</td>\n",
       "      <td>Wheat</td>\n",
       "      <td>Kalyan HYV</td>\n",
       "      <td>Kg.</td>\n",
       "      <td>Food</td>\n",
       "      <td>MAR-2021</td>\n",
       "      <td>29.30198</td>\n",
       "    </tr>\n",
       "  </tbody>\n",
       "</table>\n",
       "<p>39366 rows × 9 columns</p>\n",
       "</div>"
      ],
      "text/plain": [
       "         Unnamed: 0           State      Centre Commodity     Variety Unit  \\\n",
       "1024830     1024830  Andhra Pradesh    Chittoor     Wheat        Desi  Kg.   \n",
       "1024831     1024831  Andhra Pradesh    Chittoor     Wheat  Kalyan HYV  Kg.   \n",
       "1024832     1024832  Andhra Pradesh      Guntur     Wheat        Desi  Kg.   \n",
       "1024833     1024833  Andhra Pradesh      Guntur     Wheat  Kalyan HYV  Kg.   \n",
       "1024834     1024834  Andhra Pradesh     Kurnool     Wheat        Desi  Kg.   \n",
       "...             ...             ...         ...       ...         ...  ...   \n",
       "1147441     1147441     West Bengal  Jalpaiguri     Wheat  Kalyan HYV  Kg.   \n",
       "1147442     1147442     West Bengal     Kolkata     Wheat        Desi  Kg.   \n",
       "1147443     1147443     West Bengal     Kolkata     Wheat  Kalyan HYV  Kg.   \n",
       "1147444     1147444     West Bengal       Malda     Wheat        Desi  Kg.   \n",
       "1147445     1147445     West Bengal       Malda     Wheat  Kalyan HYV  Kg.   \n",
       "\n",
       "        Category      Date  Retail Price  \n",
       "1024830     Food  JAN-2001      13.00000  \n",
       "1024831     Food  JAN-2001      10.00000  \n",
       "1024832     Food  JAN-2001      11.50000  \n",
       "1024833     Food  JAN-2001       9.47500  \n",
       "1024834     Food  JAN-2001       9.47500  \n",
       "...          ...       ...           ...  \n",
       "1147441     Food  MAR-2021      29.30198  \n",
       "1147442     Food  MAR-2021      29.30198  \n",
       "1147443     Food  MAR-2021      29.30198  \n",
       "1147444     Food  MAR-2021      20.00000  \n",
       "1147445     Food  MAR-2021      29.30198  \n",
       "\n",
       "[39366 rows x 9 columns]"
      ]
     },
     "execution_count": 58,
     "metadata": {},
     "output_type": "execute_result"
    }
   ],
   "source": [
    "df8"
   ]
  },
  {
   "cell_type": "code",
   "execution_count": 59,
   "metadata": {
    "scrolled": true
   },
   "outputs": [],
   "source": [
    "df8['Date'] = pd.DatetimeIndex(df8['Date']).year"
   ]
  },
  {
   "cell_type": "code",
   "execution_count": 60,
   "metadata": {
    "scrolled": false
   },
   "outputs": [
    {
     "data": {
      "text/html": [
       "<div>\n",
       "<style scoped>\n",
       "    .dataframe tbody tr th:only-of-type {\n",
       "        vertical-align: middle;\n",
       "    }\n",
       "\n",
       "    .dataframe tbody tr th {\n",
       "        vertical-align: top;\n",
       "    }\n",
       "\n",
       "    .dataframe thead th {\n",
       "        text-align: right;\n",
       "    }\n",
       "</style>\n",
       "<table border=\"1\" class=\"dataframe\">\n",
       "  <thead>\n",
       "    <tr style=\"text-align: right;\">\n",
       "      <th></th>\n",
       "      <th>Unnamed: 0</th>\n",
       "      <th>State</th>\n",
       "      <th>Centre</th>\n",
       "      <th>Commodity</th>\n",
       "      <th>Variety</th>\n",
       "      <th>Unit</th>\n",
       "      <th>Category</th>\n",
       "      <th>Date</th>\n",
       "      <th>Retail Price</th>\n",
       "    </tr>\n",
       "  </thead>\n",
       "  <tbody>\n",
       "    <tr>\n",
       "      <th>1024830</th>\n",
       "      <td>1024830</td>\n",
       "      <td>Andhra Pradesh</td>\n",
       "      <td>Chittoor</td>\n",
       "      <td>Wheat</td>\n",
       "      <td>Desi</td>\n",
       "      <td>Kg.</td>\n",
       "      <td>Food</td>\n",
       "      <td>2001</td>\n",
       "      <td>13.00000</td>\n",
       "    </tr>\n",
       "    <tr>\n",
       "      <th>1024831</th>\n",
       "      <td>1024831</td>\n",
       "      <td>Andhra Pradesh</td>\n",
       "      <td>Chittoor</td>\n",
       "      <td>Wheat</td>\n",
       "      <td>Kalyan HYV</td>\n",
       "      <td>Kg.</td>\n",
       "      <td>Food</td>\n",
       "      <td>2001</td>\n",
       "      <td>10.00000</td>\n",
       "    </tr>\n",
       "    <tr>\n",
       "      <th>1024832</th>\n",
       "      <td>1024832</td>\n",
       "      <td>Andhra Pradesh</td>\n",
       "      <td>Guntur</td>\n",
       "      <td>Wheat</td>\n",
       "      <td>Desi</td>\n",
       "      <td>Kg.</td>\n",
       "      <td>Food</td>\n",
       "      <td>2001</td>\n",
       "      <td>11.50000</td>\n",
       "    </tr>\n",
       "    <tr>\n",
       "      <th>1024833</th>\n",
       "      <td>1024833</td>\n",
       "      <td>Andhra Pradesh</td>\n",
       "      <td>Guntur</td>\n",
       "      <td>Wheat</td>\n",
       "      <td>Kalyan HYV</td>\n",
       "      <td>Kg.</td>\n",
       "      <td>Food</td>\n",
       "      <td>2001</td>\n",
       "      <td>9.47500</td>\n",
       "    </tr>\n",
       "    <tr>\n",
       "      <th>1024834</th>\n",
       "      <td>1024834</td>\n",
       "      <td>Andhra Pradesh</td>\n",
       "      <td>Kurnool</td>\n",
       "      <td>Wheat</td>\n",
       "      <td>Desi</td>\n",
       "      <td>Kg.</td>\n",
       "      <td>Food</td>\n",
       "      <td>2001</td>\n",
       "      <td>9.47500</td>\n",
       "    </tr>\n",
       "    <tr>\n",
       "      <th>...</th>\n",
       "      <td>...</td>\n",
       "      <td>...</td>\n",
       "      <td>...</td>\n",
       "      <td>...</td>\n",
       "      <td>...</td>\n",
       "      <td>...</td>\n",
       "      <td>...</td>\n",
       "      <td>...</td>\n",
       "      <td>...</td>\n",
       "    </tr>\n",
       "    <tr>\n",
       "      <th>1147441</th>\n",
       "      <td>1147441</td>\n",
       "      <td>West Bengal</td>\n",
       "      <td>Jalpaiguri</td>\n",
       "      <td>Wheat</td>\n",
       "      <td>Kalyan HYV</td>\n",
       "      <td>Kg.</td>\n",
       "      <td>Food</td>\n",
       "      <td>2021</td>\n",
       "      <td>29.30198</td>\n",
       "    </tr>\n",
       "    <tr>\n",
       "      <th>1147442</th>\n",
       "      <td>1147442</td>\n",
       "      <td>West Bengal</td>\n",
       "      <td>Kolkata</td>\n",
       "      <td>Wheat</td>\n",
       "      <td>Desi</td>\n",
       "      <td>Kg.</td>\n",
       "      <td>Food</td>\n",
       "      <td>2021</td>\n",
       "      <td>29.30198</td>\n",
       "    </tr>\n",
       "    <tr>\n",
       "      <th>1147443</th>\n",
       "      <td>1147443</td>\n",
       "      <td>West Bengal</td>\n",
       "      <td>Kolkata</td>\n",
       "      <td>Wheat</td>\n",
       "      <td>Kalyan HYV</td>\n",
       "      <td>Kg.</td>\n",
       "      <td>Food</td>\n",
       "      <td>2021</td>\n",
       "      <td>29.30198</td>\n",
       "    </tr>\n",
       "    <tr>\n",
       "      <th>1147444</th>\n",
       "      <td>1147444</td>\n",
       "      <td>West Bengal</td>\n",
       "      <td>Malda</td>\n",
       "      <td>Wheat</td>\n",
       "      <td>Desi</td>\n",
       "      <td>Kg.</td>\n",
       "      <td>Food</td>\n",
       "      <td>2021</td>\n",
       "      <td>20.00000</td>\n",
       "    </tr>\n",
       "    <tr>\n",
       "      <th>1147445</th>\n",
       "      <td>1147445</td>\n",
       "      <td>West Bengal</td>\n",
       "      <td>Malda</td>\n",
       "      <td>Wheat</td>\n",
       "      <td>Kalyan HYV</td>\n",
       "      <td>Kg.</td>\n",
       "      <td>Food</td>\n",
       "      <td>2021</td>\n",
       "      <td>29.30198</td>\n",
       "    </tr>\n",
       "  </tbody>\n",
       "</table>\n",
       "<p>39366 rows × 9 columns</p>\n",
       "</div>"
      ],
      "text/plain": [
       "         Unnamed: 0           State      Centre Commodity     Variety Unit  \\\n",
       "1024830     1024830  Andhra Pradesh    Chittoor     Wheat        Desi  Kg.   \n",
       "1024831     1024831  Andhra Pradesh    Chittoor     Wheat  Kalyan HYV  Kg.   \n",
       "1024832     1024832  Andhra Pradesh      Guntur     Wheat        Desi  Kg.   \n",
       "1024833     1024833  Andhra Pradesh      Guntur     Wheat  Kalyan HYV  Kg.   \n",
       "1024834     1024834  Andhra Pradesh     Kurnool     Wheat        Desi  Kg.   \n",
       "...             ...             ...         ...       ...         ...  ...   \n",
       "1147441     1147441     West Bengal  Jalpaiguri     Wheat  Kalyan HYV  Kg.   \n",
       "1147442     1147442     West Bengal     Kolkata     Wheat        Desi  Kg.   \n",
       "1147443     1147443     West Bengal     Kolkata     Wheat  Kalyan HYV  Kg.   \n",
       "1147444     1147444     West Bengal       Malda     Wheat        Desi  Kg.   \n",
       "1147445     1147445     West Bengal       Malda     Wheat  Kalyan HYV  Kg.   \n",
       "\n",
       "        Category  Date  Retail Price  \n",
       "1024830     Food  2001      13.00000  \n",
       "1024831     Food  2001      10.00000  \n",
       "1024832     Food  2001      11.50000  \n",
       "1024833     Food  2001       9.47500  \n",
       "1024834     Food  2001       9.47500  \n",
       "...          ...   ...           ...  \n",
       "1147441     Food  2021      29.30198  \n",
       "1147442     Food  2021      29.30198  \n",
       "1147443     Food  2021      29.30198  \n",
       "1147444     Food  2021      20.00000  \n",
       "1147445     Food  2021      29.30198  \n",
       "\n",
       "[39366 rows x 9 columns]"
      ]
     },
     "execution_count": 60,
     "metadata": {},
     "output_type": "execute_result"
    }
   ],
   "source": [
    "df8"
   ]
  },
  {
   "cell_type": "code",
   "execution_count": 61,
   "metadata": {},
   "outputs": [],
   "source": [
    "state=df8[\"State\"].unique()\n",
    "date=df8[\"Date\"].unique()"
   ]
  },
  {
   "cell_type": "code",
   "execution_count": 62,
   "metadata": {
    "scrolled": true
   },
   "outputs": [
    {
     "name": "stdout",
     "output_type": "stream",
     "text": [
      "Retail price difference of wheat variety desi and kalyan in Andhra Pradesh at 2001 was 1.341\n",
      "Retail price difference of wheat variety desi and kalyan in Andhra Pradesh at 2002 was 1.280\n",
      "Retail price difference of wheat variety desi and kalyan in Andhra Pradesh at 2003 was 1.466\n",
      "Retail price difference of wheat variety desi and kalyan in Andhra Pradesh at 2004 was 1.139\n",
      "Retail price difference of wheat variety desi and kalyan in Andhra Pradesh at 2005 was 0.262\n",
      "Retail price difference of wheat variety desi and kalyan in Andhra Pradesh at 2006 was 0.415\n",
      "Retail price difference of wheat variety desi and kalyan in Andhra Pradesh at 2007 was 0.660\n",
      "Retail price difference of wheat variety desi and kalyan in Andhra Pradesh at 2008 was 1.173\n",
      "Retail price difference of wheat variety desi and kalyan in Andhra Pradesh at 2009 was 3.122\n",
      "Retail price difference of wheat variety desi and kalyan in Andhra Pradesh at 2010 was 4.366\n",
      "Retail price difference of wheat variety desi and kalyan in Andhra Pradesh at 2011 was 3.587\n",
      "Retail price difference of wheat variety desi and kalyan in Andhra Pradesh at 2012 was 4.471\n",
      "Retail price difference of wheat variety desi and kalyan in Andhra Pradesh at 2013 was 3.680\n",
      "Retail price difference of wheat variety desi and kalyan in Andhra Pradesh at 2014 was 3.157\n",
      "Retail price difference of wheat variety desi and kalyan in Andhra Pradesh at 2015 was 2.796\n",
      "Retail price difference of wheat variety desi and kalyan in Andhra Pradesh at 2016 was 2.797\n",
      "Retail price difference of wheat variety desi and kalyan in Andhra Pradesh at 2017 was 4.629\n",
      "Retail price difference of wheat variety desi and kalyan in Andhra Pradesh at 2018 was 0.934\n",
      "Retail price difference of wheat variety desi and kalyan in Andhra Pradesh at 2019 was 4.864\n",
      "Retail price difference of wheat variety desi and kalyan in Andhra Pradesh at 2020 was 2.550\n",
      "Retail price difference of wheat variety desi and kalyan in Andhra Pradesh at 2021 was 0.255\n",
      "Retail price difference of wheat variety desi and kalyan in Arunachal Pradesh at 2001 was 0.000\n",
      "Retail price difference of wheat variety desi and kalyan in Arunachal Pradesh at 2002 was 0.000\n",
      "Retail price difference of wheat variety desi and kalyan in Arunachal Pradesh at 2003 was 0.000\n",
      "Retail price difference of wheat variety desi and kalyan in Arunachal Pradesh at 2004 was 0.000\n",
      "Retail price difference of wheat variety desi and kalyan in Arunachal Pradesh at 2005 was 0.000\n",
      "Retail price difference of wheat variety desi and kalyan in Arunachal Pradesh at 2006 was 0.000\n",
      "Retail price difference of wheat variety desi and kalyan in Arunachal Pradesh at 2007 was 0.000\n",
      "Retail price difference of wheat variety desi and kalyan in Arunachal Pradesh at 2008 was 0.000\n",
      "Retail price difference of wheat variety desi and kalyan in Arunachal Pradesh at 2009 was 0.000\n",
      "Retail price difference of wheat variety desi and kalyan in Arunachal Pradesh at 2010 was 0.000\n",
      "Retail price difference of wheat variety desi and kalyan in Arunachal Pradesh at 2011 was 0.000\n",
      "Retail price difference of wheat variety desi and kalyan in Arunachal Pradesh at 2012 was 0.000\n",
      "Retail price difference of wheat variety desi and kalyan in Arunachal Pradesh at 2013 was 0.000\n",
      "Retail price difference of wheat variety desi and kalyan in Arunachal Pradesh at 2014 was 0.000\n",
      "Retail price difference of wheat variety desi and kalyan in Arunachal Pradesh at 2015 was 0.000\n",
      "Retail price difference of wheat variety desi and kalyan in Arunachal Pradesh at 2016 was 0.000\n",
      "Retail price difference of wheat variety desi and kalyan in Arunachal Pradesh at 2017 was 0.000\n",
      "Retail price difference of wheat variety desi and kalyan in Arunachal Pradesh at 2018 was 0.000\n",
      "Retail price difference of wheat variety desi and kalyan in Arunachal Pradesh at 2019 was 0.000\n",
      "Retail price difference of wheat variety desi and kalyan in Arunachal Pradesh at 2020 was 3.167\n",
      "Retail price difference of wheat variety desi and kalyan in Arunachal Pradesh at 2021 was 0.000\n",
      "Retail price difference of wheat variety desi and kalyan in Assam at 2001 was 0.000\n",
      "Retail price difference of wheat variety desi and kalyan in Assam at 2002 was 0.031\n",
      "Retail price difference of wheat variety desi and kalyan in Assam at 2003 was 0.000\n",
      "Retail price difference of wheat variety desi and kalyan in Assam at 2004 was 0.000\n",
      "Retail price difference of wheat variety desi and kalyan in Assam at 2005 was 0.000\n",
      "Retail price difference of wheat variety desi and kalyan in Assam at 2006 was 0.000\n",
      "Retail price difference of wheat variety desi and kalyan in Assam at 2007 was 0.000\n",
      "Retail price difference of wheat variety desi and kalyan in Assam at 2008 was 0.250\n",
      "Retail price difference of wheat variety desi and kalyan in Assam at 2009 was 1.188\n",
      "Retail price difference of wheat variety desi and kalyan in Assam at 2010 was 1.167\n",
      "Retail price difference of wheat variety desi and kalyan in Assam at 2011 was 0.000\n",
      "Retail price difference of wheat variety desi and kalyan in Assam at 2012 was 0.042\n",
      "Retail price difference of wheat variety desi and kalyan in Assam at 2013 was 0.771\n",
      "Retail price difference of wheat variety desi and kalyan in Assam at 2014 was 0.000\n",
      "Retail price difference of wheat variety desi and kalyan in Assam at 2015 was 0.683\n",
      "Retail price difference of wheat variety desi and kalyan in Assam at 2016 was 1.760\n",
      "Retail price difference of wheat variety desi and kalyan in Assam at 2017 was 3.729\n",
      "Retail price difference of wheat variety desi and kalyan in Assam at 2018 was 3.750\n",
      "Retail price difference of wheat variety desi and kalyan in Assam at 2019 was 3.792\n",
      "Retail price difference of wheat variety desi and kalyan in Assam at 2020 was 3.333\n",
      "Retail price difference of wheat variety desi and kalyan in Assam at 2021 was 4.000\n",
      "Retail price difference of wheat variety desi and kalyan in Bihar at 2001 was 1.011\n",
      "Retail price difference of wheat variety desi and kalyan in Bihar at 2002 was 1.051\n",
      "Retail price difference of wheat variety desi and kalyan in Bihar at 2003 was 0.814\n",
      "Retail price difference of wheat variety desi and kalyan in Bihar at 2004 was 0.618\n",
      "Retail price difference of wheat variety desi and kalyan in Bihar at 2005 was 0.267\n",
      "Retail price difference of wheat variety desi and kalyan in Bihar at 2006 was 0.333\n",
      "Retail price difference of wheat variety desi and kalyan in Bihar at 2007 was 0.347\n",
      "Retail price difference of wheat variety desi and kalyan in Bihar at 2008 was 0.250\n",
      "Retail price difference of wheat variety desi and kalyan in Bihar at 2009 was 0.177\n",
      "Retail price difference of wheat variety desi and kalyan in Bihar at 2010 was 0.344\n",
      "Retail price difference of wheat variety desi and kalyan in Bihar at 2011 was 0.344\n",
      "Retail price difference of wheat variety desi and kalyan in Bihar at 2012 was 0.542\n",
      "Retail price difference of wheat variety desi and kalyan in Bihar at 2013 was 0.422\n",
      "Retail price difference of wheat variety desi and kalyan in Bihar at 2014 was 0.583\n",
      "Retail price difference of wheat variety desi and kalyan in Bihar at 2015 was 0.292\n",
      "Retail price difference of wheat variety desi and kalyan in Bihar at 2016 was 0.229\n",
      "Retail price difference of wheat variety desi and kalyan in Bihar at 2017 was 0.458\n",
      "Retail price difference of wheat variety desi and kalyan in Bihar at 2018 was 0.771\n",
      "Retail price difference of wheat variety desi and kalyan in Bihar at 2019 was 0.938\n",
      "Retail price difference of wheat variety desi and kalyan in Bihar at 2020 was 0.896\n",
      "Retail price difference of wheat variety desi and kalyan in Bihar at 2021 was 1.000\n",
      "Retail price difference of wheat variety desi and kalyan in Goa at 2001 was 1.750\n",
      "Retail price difference of wheat variety desi and kalyan in Goa at 2002 was 1.792\n",
      "Retail price difference of wheat variety desi and kalyan in Goa at 2003 was 1.417\n",
      "Retail price difference of wheat variety desi and kalyan in Goa at 2004 was 1.333\n",
      "Retail price difference of wheat variety desi and kalyan in Goa at 2005 was 1.750\n",
      "Retail price difference of wheat variety desi and kalyan in Goa at 2006 was 1.333\n",
      "Retail price difference of wheat variety desi and kalyan in Goa at 2007 was 1.583\n",
      "Retail price difference of wheat variety desi and kalyan in Goa at 2008 was 1.833\n",
      "Retail price difference of wheat variety desi and kalyan in Goa at 2009 was 2.083\n",
      "Retail price difference of wheat variety desi and kalyan in Goa at 2010 was 3.583\n",
      "Retail price difference of wheat variety desi and kalyan in Goa at 2011 was 3.667\n",
      "Retail price difference of wheat variety desi and kalyan in Goa at 2012 was 2.641\n"
     ]
    },
    {
     "name": "stdout",
     "output_type": "stream",
     "text": [
      "Retail price difference of wheat variety desi and kalyan in Goa at 2013 was 1.917\n",
      "Retail price difference of wheat variety desi and kalyan in Goa at 2014 was 1.833\n",
      "Retail price difference of wheat variety desi and kalyan in Goa at 2015 was 1.667\n",
      "Retail price difference of wheat variety desi and kalyan in Goa at 2016 was 1.833\n",
      "Retail price difference of wheat variety desi and kalyan in Goa at 2017 was 2.083\n",
      "Retail price difference of wheat variety desi and kalyan in Goa at 2018 was 0.000\n",
      "Retail price difference of wheat variety desi and kalyan in Goa at 2019 was 0.000\n",
      "Retail price difference of wheat variety desi and kalyan in Goa at 2020 was 4.161\n",
      "Retail price difference of wheat variety desi and kalyan in Goa at 2021 was 3.354\n",
      "Retail price difference of wheat variety desi and kalyan in Gujarat at 2001 was 0.132\n",
      "Retail price difference of wheat variety desi and kalyan in Gujarat at 2002 was 0.287\n",
      "Retail price difference of wheat variety desi and kalyan in Gujarat at 2003 was 0.142\n",
      "Retail price difference of wheat variety desi and kalyan in Gujarat at 2004 was 0.381\n",
      "Retail price difference of wheat variety desi and kalyan in Gujarat at 2005 was 0.218\n",
      "Retail price difference of wheat variety desi and kalyan in Gujarat at 2006 was 0.345\n",
      "Retail price difference of wheat variety desi and kalyan in Gujarat at 2007 was 0.416\n",
      "Retail price difference of wheat variety desi and kalyan in Gujarat at 2008 was 0.383\n",
      "Retail price difference of wheat variety desi and kalyan in Gujarat at 2009 was 0.016\n",
      "Retail price difference of wheat variety desi and kalyan in Gujarat at 2010 was 0.087\n",
      "Retail price difference of wheat variety desi and kalyan in Gujarat at 2011 was 3.823\n",
      "Retail price difference of wheat variety desi and kalyan in Gujarat at 2012 was 0.885\n",
      "Retail price difference of wheat variety desi and kalyan in Gujarat at 2013 was 0.860\n",
      "Retail price difference of wheat variety desi and kalyan in Gujarat at 2014 was 1.314\n",
      "Retail price difference of wheat variety desi and kalyan in Gujarat at 2015 was 0.662\n",
      "Retail price difference of wheat variety desi and kalyan in Gujarat at 2016 was 0.005\n",
      "Retail price difference of wheat variety desi and kalyan in Gujarat at 2017 was 1.793\n",
      "Retail price difference of wheat variety desi and kalyan in Gujarat at 2018 was 2.125\n",
      "Retail price difference of wheat variety desi and kalyan in Gujarat at 2019 was 2.479\n",
      "Retail price difference of wheat variety desi and kalyan in Gujarat at 2020 was 2.604\n",
      "Retail price difference of wheat variety desi and kalyan in Gujarat at 2021 was 2.083\n",
      "Retail price difference of wheat variety desi and kalyan in Haryana at 2001 was 1.557\n",
      "Retail price difference of wheat variety desi and kalyan in Haryana at 2002 was 2.709\n",
      "Retail price difference of wheat variety desi and kalyan in Haryana at 2003 was 2.180\n",
      "Retail price difference of wheat variety desi and kalyan in Haryana at 2004 was 1.546\n",
      "Retail price difference of wheat variety desi and kalyan in Haryana at 2005 was 2.198\n",
      "Retail price difference of wheat variety desi and kalyan in Haryana at 2006 was 2.599\n",
      "Retail price difference of wheat variety desi and kalyan in Haryana at 2007 was 4.210\n",
      "Retail price difference of wheat variety desi and kalyan in Haryana at 2008 was 3.624\n",
      "Retail price difference of wheat variety desi and kalyan in Haryana at 2009 was 3.724\n",
      "Retail price difference of wheat variety desi and kalyan in Haryana at 2010 was 4.887\n",
      "Retail price difference of wheat variety desi and kalyan in Haryana at 2011 was 5.669\n",
      "Retail price difference of wheat variety desi and kalyan in Haryana at 2012 was 5.020\n",
      "Retail price difference of wheat variety desi and kalyan in Haryana at 2013 was 5.159\n",
      "Retail price difference of wheat variety desi and kalyan in Haryana at 2014 was 4.355\n",
      "Retail price difference of wheat variety desi and kalyan in Haryana at 2015 was 4.116\n",
      "Retail price difference of wheat variety desi and kalyan in Haryana at 2016 was 3.865\n",
      "Retail price difference of wheat variety desi and kalyan in Haryana at 2017 was 1.246\n",
      "Retail price difference of wheat variety desi and kalyan in Haryana at 2018 was 0.000\n",
      "Retail price difference of wheat variety desi and kalyan in Haryana at 2019 was 3.050\n",
      "Retail price difference of wheat variety desi and kalyan in Haryana at 2020 was 4.295\n",
      "Retail price difference of wheat variety desi and kalyan in Haryana at 2021 was 7.396\n",
      "Retail price difference of wheat variety desi and kalyan in Himachal Pradesh at 2001 was 0.012\n",
      "Retail price difference of wheat variety desi and kalyan in Himachal Pradesh at 2002 was 0.027\n",
      "Retail price difference of wheat variety desi and kalyan in Himachal Pradesh at 2003 was 0.154\n",
      "Retail price difference of wheat variety desi and kalyan in Himachal Pradesh at 2004 was 0.303\n",
      "Retail price difference of wheat variety desi and kalyan in Himachal Pradesh at 2005 was 0.757\n",
      "Retail price difference of wheat variety desi and kalyan in Himachal Pradesh at 2006 was 0.996\n",
      "Retail price difference of wheat variety desi and kalyan in Himachal Pradesh at 2007 was 1.251\n",
      "Retail price difference of wheat variety desi and kalyan in Himachal Pradesh at 2008 was 0.000\n",
      "Retail price difference of wheat variety desi and kalyan in Himachal Pradesh at 2009 was 0.000\n",
      "Retail price difference of wheat variety desi and kalyan in Himachal Pradesh at 2010 was 0.000\n",
      "Retail price difference of wheat variety desi and kalyan in Himachal Pradesh at 2011 was 0.000\n",
      "Retail price difference of wheat variety desi and kalyan in Himachal Pradesh at 2012 was 0.100\n",
      "Retail price difference of wheat variety desi and kalyan in Himachal Pradesh at 2013 was 0.000\n",
      "Retail price difference of wheat variety desi and kalyan in Himachal Pradesh at 2014 was 0.000\n",
      "Retail price difference of wheat variety desi and kalyan in Himachal Pradesh at 2015 was 0.000\n",
      "Retail price difference of wheat variety desi and kalyan in Himachal Pradesh at 2016 was 0.000\n",
      "Retail price difference of wheat variety desi and kalyan in Himachal Pradesh at 2017 was 0.000\n",
      "Retail price difference of wheat variety desi and kalyan in Himachal Pradesh at 2018 was 0.000\n",
      "Retail price difference of wheat variety desi and kalyan in Himachal Pradesh at 2019 was 0.000\n",
      "Retail price difference of wheat variety desi and kalyan in Himachal Pradesh at 2020 was 0.000\n",
      "Retail price difference of wheat variety desi and kalyan in Himachal Pradesh at 2021 was 0.000\n",
      "Retail price difference of wheat variety desi and kalyan in Jammu Kashmir at 2001 was 0.000\n",
      "Retail price difference of wheat variety desi and kalyan in Jammu Kashmir at 2002 was 0.147\n",
      "Retail price difference of wheat variety desi and kalyan in Jammu Kashmir at 2003 was 0.000\n",
      "Retail price difference of wheat variety desi and kalyan in Jammu Kashmir at 2004 was 1.447\n",
      "Retail price difference of wheat variety desi and kalyan in Jammu Kashmir at 2005 was 0.944\n",
      "Retail price difference of wheat variety desi and kalyan in Jammu Kashmir at 2006 was 1.486\n",
      "Retail price difference of wheat variety desi and kalyan in Jammu Kashmir at 2007 was 0.988\n",
      "Retail price difference of wheat variety desi and kalyan in Jammu Kashmir at 2008 was 1.041\n",
      "Retail price difference of wheat variety desi and kalyan in Jammu Kashmir at 2009 was 1.588\n",
      "Retail price difference of wheat variety desi and kalyan in Jammu Kashmir at 2010 was 1.881\n",
      "Retail price difference of wheat variety desi and kalyan in Jammu Kashmir at 2011 was 2.334\n",
      "Retail price difference of wheat variety desi and kalyan in Jammu Kashmir at 2012 was 1.835\n",
      "Retail price difference of wheat variety desi and kalyan in Jammu Kashmir at 2013 was 1.409\n",
      "Retail price difference of wheat variety desi and kalyan in Jammu Kashmir at 2014 was 2.422\n",
      "Retail price difference of wheat variety desi and kalyan in Jammu Kashmir at 2015 was 2.706\n",
      "Retail price difference of wheat variety desi and kalyan in Jammu Kashmir at 2016 was 3.447\n",
      "Retail price difference of wheat variety desi and kalyan in Jammu Kashmir at 2017 was 2.778\n",
      "Retail price difference of wheat variety desi and kalyan in Jammu Kashmir at 2018 was 2.633\n",
      "Retail price difference of wheat variety desi and kalyan in Jammu Kashmir at 2019 was 2.119\n",
      "Retail price difference of wheat variety desi and kalyan in Jammu Kashmir at 2020 was 0.574\n",
      "Retail price difference of wheat variety desi and kalyan in Jammu Kashmir at 2021 was 0.000\n"
     ]
    },
    {
     "name": "stdout",
     "output_type": "stream",
     "text": [
      "Retail price difference of wheat variety desi and kalyan in Jharkhand at 2001 was 1.167\n",
      "Retail price difference of wheat variety desi and kalyan in Jharkhand at 2002 was 1.467\n",
      "Retail price difference of wheat variety desi and kalyan in Jharkhand at 2003 was 0.299\n",
      "Retail price difference of wheat variety desi and kalyan in Jharkhand at 2004 was 0.910\n",
      "Retail price difference of wheat variety desi and kalyan in Jharkhand at 2005 was 0.761\n",
      "Retail price difference of wheat variety desi and kalyan in Jharkhand at 2006 was 1.812\n",
      "Retail price difference of wheat variety desi and kalyan in Jharkhand at 2007 was 1.646\n",
      "Retail price difference of wheat variety desi and kalyan in Jharkhand at 2008 was 1.792\n",
      "Retail price difference of wheat variety desi and kalyan in Jharkhand at 2009 was 0.917\n",
      "Retail price difference of wheat variety desi and kalyan in Jharkhand at 2010 was 0.944\n",
      "Retail price difference of wheat variety desi and kalyan in Jharkhand at 2011 was 0.738\n",
      "Retail price difference of wheat variety desi and kalyan in Jharkhand at 2012 was 0.468\n",
      "Retail price difference of wheat variety desi and kalyan in Jharkhand at 2013 was 0.940\n",
      "Retail price difference of wheat variety desi and kalyan in Jharkhand at 2014 was 1.479\n",
      "Retail price difference of wheat variety desi and kalyan in Jharkhand at 2015 was 0.959\n",
      "Retail price difference of wheat variety desi and kalyan in Jharkhand at 2016 was 0.659\n",
      "Retail price difference of wheat variety desi and kalyan in Jharkhand at 2017 was 2.292\n",
      "Retail price difference of wheat variety desi and kalyan in Jharkhand at 2018 was 3.000\n",
      "Retail price difference of wheat variety desi and kalyan in Jharkhand at 2019 was 3.083\n",
      "Retail price difference of wheat variety desi and kalyan in Jharkhand at 2020 was 2.500\n",
      "Retail price difference of wheat variety desi and kalyan in Jharkhand at 2021 was 2.833\n",
      "Retail price difference of wheat variety desi and kalyan in Karnataka at 2001 was 0.799\n",
      "Retail price difference of wheat variety desi and kalyan in Karnataka at 2002 was 0.800\n",
      "Retail price difference of wheat variety desi and kalyan in Karnataka at 2003 was 0.618\n",
      "Retail price difference of wheat variety desi and kalyan in Karnataka at 2004 was 0.663\n",
      "Retail price difference of wheat variety desi and kalyan in Karnataka at 2005 was 0.349\n",
      "Retail price difference of wheat variety desi and kalyan in Karnataka at 2006 was 2.016\n",
      "Retail price difference of wheat variety desi and kalyan in Karnataka at 2007 was 1.899\n",
      "Retail price difference of wheat variety desi and kalyan in Karnataka at 2008 was 0.356\n",
      "Retail price difference of wheat variety desi and kalyan in Karnataka at 2009 was 2.410\n",
      "Retail price difference of wheat variety desi and kalyan in Karnataka at 2010 was 1.074\n",
      "Retail price difference of wheat variety desi and kalyan in Karnataka at 2011 was 0.719\n",
      "Retail price difference of wheat variety desi and kalyan in Karnataka at 2012 was 1.254\n",
      "Retail price difference of wheat variety desi and kalyan in Karnataka at 2013 was 1.622\n",
      "Retail price difference of wheat variety desi and kalyan in Karnataka at 2014 was 1.064\n",
      "Retail price difference of wheat variety desi and kalyan in Karnataka at 2015 was 2.067\n",
      "Retail price difference of wheat variety desi and kalyan in Karnataka at 2016 was 2.846\n",
      "Retail price difference of wheat variety desi and kalyan in Karnataka at 2017 was 0.945\n",
      "Retail price difference of wheat variety desi and kalyan in Karnataka at 2018 was 0.654\n",
      "Retail price difference of wheat variety desi and kalyan in Karnataka at 2019 was 1.833\n",
      "Retail price difference of wheat variety desi and kalyan in Karnataka at 2020 was 2.194\n",
      "Retail price difference of wheat variety desi and kalyan in Karnataka at 2021 was 1.088\n",
      "Retail price difference of wheat variety desi and kalyan in Kerala at 2001 was 5.151\n",
      "Retail price difference of wheat variety desi and kalyan in Kerala at 2002 was 4.544\n",
      "Retail price difference of wheat variety desi and kalyan in Kerala at 2003 was 4.536\n",
      "Retail price difference of wheat variety desi and kalyan in Kerala at 2004 was 2.645\n",
      "Retail price difference of wheat variety desi and kalyan in Kerala at 2005 was 2.838\n",
      "Retail price difference of wheat variety desi and kalyan in Kerala at 2006 was 2.654\n",
      "Retail price difference of wheat variety desi and kalyan in Kerala at 2007 was 3.130\n",
      "Retail price difference of wheat variety desi and kalyan in Kerala at 2008 was 3.035\n",
      "Retail price difference of wheat variety desi and kalyan in Kerala at 2009 was 3.010\n",
      "Retail price difference of wheat variety desi and kalyan in Kerala at 2010 was 2.886\n",
      "Retail price difference of wheat variety desi and kalyan in Kerala at 2011 was 4.347\n",
      "Retail price difference of wheat variety desi and kalyan in Kerala at 2012 was 3.780\n",
      "Retail price difference of wheat variety desi and kalyan in Kerala at 2013 was 2.564\n",
      "Retail price difference of wheat variety desi and kalyan in Kerala at 2014 was 2.609\n",
      "Retail price difference of wheat variety desi and kalyan in Kerala at 2015 was 1.368\n",
      "Retail price difference of wheat variety desi and kalyan in Kerala at 2016 was 1.229\n",
      "Retail price difference of wheat variety desi and kalyan in Kerala at 2017 was 0.713\n",
      "Retail price difference of wheat variety desi and kalyan in Kerala at 2018 was 0.561\n",
      "Retail price difference of wheat variety desi and kalyan in Kerala at 2019 was 0.325\n",
      "Retail price difference of wheat variety desi and kalyan in Kerala at 2020 was 0.062\n",
      "Retail price difference of wheat variety desi and kalyan in Kerala at 2021 was 0.229\n",
      "Retail price difference of wheat variety desi and kalyan in Madhya Pradesh at 2001 was 0.558\n",
      "Retail price difference of wheat variety desi and kalyan in Madhya Pradesh at 2002 was 0.594\n",
      "Retail price difference of wheat variety desi and kalyan in Madhya Pradesh at 2003 was 0.220\n",
      "Retail price difference of wheat variety desi and kalyan in Madhya Pradesh at 2004 was 0.024\n",
      "Retail price difference of wheat variety desi and kalyan in Madhya Pradesh at 2005 was 0.287\n",
      "Retail price difference of wheat variety desi and kalyan in Madhya Pradesh at 2006 was 0.992\n",
      "Retail price difference of wheat variety desi and kalyan in Madhya Pradesh at 2007 was 0.715\n",
      "Retail price difference of wheat variety desi and kalyan in Madhya Pradesh at 2008 was 0.625\n",
      "Retail price difference of wheat variety desi and kalyan in Madhya Pradesh at 2009 was 0.653\n",
      "Retail price difference of wheat variety desi and kalyan in Madhya Pradesh at 2010 was 0.694\n",
      "Retail price difference of wheat variety desi and kalyan in Madhya Pradesh at 2011 was 0.583\n",
      "Retail price difference of wheat variety desi and kalyan in Madhya Pradesh at 2012 was 0.201\n",
      "Retail price difference of wheat variety desi and kalyan in Madhya Pradesh at 2013 was 0.556\n",
      "Retail price difference of wheat variety desi and kalyan in Madhya Pradesh at 2014 was 0.750\n",
      "Retail price difference of wheat variety desi and kalyan in Madhya Pradesh at 2015 was 0.625\n",
      "Retail price difference of wheat variety desi and kalyan in Madhya Pradesh at 2016 was 0.389\n",
      "Retail price difference of wheat variety desi and kalyan in Madhya Pradesh at 2017 was 0.417\n",
      "Retail price difference of wheat variety desi and kalyan in Madhya Pradesh at 2018 was 1.056\n",
      "Retail price difference of wheat variety desi and kalyan in Madhya Pradesh at 2019 was 1.403\n",
      "Retail price difference of wheat variety desi and kalyan in Madhya Pradesh at 2020 was 3.403\n",
      "Retail price difference of wheat variety desi and kalyan in Madhya Pradesh at 2021 was 3.722\n",
      "Retail price difference of wheat variety desi and kalyan in Maharashtra at 2001 was 0.542\n",
      "Retail price difference of wheat variety desi and kalyan in Maharashtra at 2002 was 0.642\n",
      "Retail price difference of wheat variety desi and kalyan in Maharashtra at 2003 was 0.492\n",
      "Retail price difference of wheat variety desi and kalyan in Maharashtra at 2004 was 0.867\n",
      "Retail price difference of wheat variety desi and kalyan in Maharashtra at 2005 was 0.450\n",
      "Retail price difference of wheat variety desi and kalyan in Maharashtra at 2006 was 0.592\n",
      "Retail price difference of wheat variety desi and kalyan in Maharashtra at 2007 was 0.275\n",
      "Retail price difference of wheat variety desi and kalyan in Maharashtra at 2008 was 1.408\n",
      "Retail price difference of wheat variety desi and kalyan in Maharashtra at 2009 was 0.445\n",
      "Retail price difference of wheat variety desi and kalyan in Maharashtra at 2010 was 0.257\n",
      "Retail price difference of wheat variety desi and kalyan in Maharashtra at 2011 was 0.545\n",
      "Retail price difference of wheat variety desi and kalyan in Maharashtra at 2012 was 1.195\n",
      "Retail price difference of wheat variety desi and kalyan in Maharashtra at 2013 was 1.158\n",
      "Retail price difference of wheat variety desi and kalyan in Maharashtra at 2014 was 0.938\n"
     ]
    },
    {
     "name": "stdout",
     "output_type": "stream",
     "text": [
      "Retail price difference of wheat variety desi and kalyan in Maharashtra at 2015 was 2.500\n",
      "Retail price difference of wheat variety desi and kalyan in Maharashtra at 2016 was 2.000\n",
      "Retail price difference of wheat variety desi and kalyan in Maharashtra at 2017 was 2.000\n",
      "Retail price difference of wheat variety desi and kalyan in Maharashtra at 2018 was 2.710\n",
      "Retail price difference of wheat variety desi and kalyan in Maharashtra at 2019 was 2.031\n",
      "Retail price difference of wheat variety desi and kalyan in Maharashtra at 2020 was 1.851\n",
      "Retail price difference of wheat variety desi and kalyan in Maharashtra at 2021 was 0.137\n",
      "Retail price difference of wheat variety desi and kalyan in Nagaland at 2001 was 0.000\n",
      "Retail price difference of wheat variety desi and kalyan in Nagaland at 2002 was 0.000\n",
      "Retail price difference of wheat variety desi and kalyan in Nagaland at 2003 was 0.000\n",
      "Retail price difference of wheat variety desi and kalyan in Nagaland at 2004 was 0.000\n",
      "Retail price difference of wheat variety desi and kalyan in Nagaland at 2005 was 5.221\n",
      "Retail price difference of wheat variety desi and kalyan in Nagaland at 2006 was 0.000\n",
      "Retail price difference of wheat variety desi and kalyan in Nagaland at 2007 was 0.000\n",
      "Retail price difference of wheat variety desi and kalyan in Nagaland at 2008 was 0.000\n",
      "Retail price difference of wheat variety desi and kalyan in Nagaland at 2009 was 0.000\n",
      "Retail price difference of wheat variety desi and kalyan in Nagaland at 2010 was 0.000\n",
      "Retail price difference of wheat variety desi and kalyan in Nagaland at 2011 was 0.000\n",
      "Retail price difference of wheat variety desi and kalyan in Nagaland at 2012 was 0.000\n",
      "Retail price difference of wheat variety desi and kalyan in Nagaland at 2013 was 0.000\n",
      "Retail price difference of wheat variety desi and kalyan in Nagaland at 2014 was 0.000\n",
      "Retail price difference of wheat variety desi and kalyan in Nagaland at 2015 was 0.000\n",
      "Retail price difference of wheat variety desi and kalyan in Nagaland at 2016 was 0.000\n",
      "Retail price difference of wheat variety desi and kalyan in Nagaland at 2017 was 0.000\n",
      "Retail price difference of wheat variety desi and kalyan in Nagaland at 2018 was 0.000\n",
      "Retail price difference of wheat variety desi and kalyan in Nagaland at 2019 was 0.000\n",
      "Retail price difference of wheat variety desi and kalyan in Nagaland at 2020 was 0.000\n",
      "Retail price difference of wheat variety desi and kalyan in Nagaland at 2021 was 0.000\n",
      "Retail price difference of wheat variety desi and kalyan in National Capital at 2001 was 0.500\n",
      "Retail price difference of wheat variety desi and kalyan in National Capital at 2002 was 0.500\n",
      "Retail price difference of wheat variety desi and kalyan in National Capital at 2003 was 0.500\n",
      "Retail price difference of wheat variety desi and kalyan in National Capital at 2004 was 0.792\n",
      "Retail price difference of wheat variety desi and kalyan in National Capital at 2005 was 1.000\n",
      "Retail price difference of wheat variety desi and kalyan in National Capital at 2006 was 1.667\n",
      "Retail price difference of wheat variety desi and kalyan in National Capital at 2007 was 2.875\n",
      "Retail price difference of wheat variety desi and kalyan in National Capital at 2008 was 3.792\n",
      "Retail price difference of wheat variety desi and kalyan in National Capital at 2009 was 2.625\n",
      "Retail price difference of wheat variety desi and kalyan in National Capital at 2010 was 1.802\n",
      "Retail price difference of wheat variety desi and kalyan in National Capital at 2011 was 1.940\n",
      "Retail price difference of wheat variety desi and kalyan in National Capital at 2012 was 2.520\n",
      "Retail price difference of wheat variety desi and kalyan in National Capital at 2013 was 3.630\n",
      "Retail price difference of wheat variety desi and kalyan in National Capital at 2014 was 5.957\n",
      "Retail price difference of wheat variety desi and kalyan in National Capital at 2015 was 5.566\n",
      "Retail price difference of wheat variety desi and kalyan in National Capital at 2016 was 6.063\n",
      "Retail price difference of wheat variety desi and kalyan in National Capital at 2017 was 4.222\n",
      "Retail price difference of wheat variety desi and kalyan in National Capital at 2018 was 2.516\n",
      "Retail price difference of wheat variety desi and kalyan in National Capital at 2019 was 0.737\n",
      "Retail price difference of wheat variety desi and kalyan in National Capital at 2020 was 1.782\n",
      "Retail price difference of wheat variety desi and kalyan in National Capital at 2021 was 3.646\n",
      "Retail price difference of wheat variety desi and kalyan in Orissa at 2001 was 1.140\n",
      "Retail price difference of wheat variety desi and kalyan in Orissa at 2002 was 1.180\n",
      "Retail price difference of wheat variety desi and kalyan in Orissa at 2003 was 1.661\n",
      "Retail price difference of wheat variety desi and kalyan in Orissa at 2004 was 1.167\n",
      "Retail price difference of wheat variety desi and kalyan in Orissa at 2005 was 1.236\n",
      "Retail price difference of wheat variety desi and kalyan in Orissa at 2006 was 1.056\n",
      "Retail price difference of wheat variety desi and kalyan in Orissa at 2007 was 1.486\n",
      "Retail price difference of wheat variety desi and kalyan in Orissa at 2008 was 1.083\n",
      "Retail price difference of wheat variety desi and kalyan in Orissa at 2009 was 1.272\n",
      "Retail price difference of wheat variety desi and kalyan in Orissa at 2010 was 0.738\n",
      "Retail price difference of wheat variety desi and kalyan in Orissa at 2011 was 2.278\n",
      "Retail price difference of wheat variety desi and kalyan in Orissa at 2012 was 1.944\n",
      "Retail price difference of wheat variety desi and kalyan in Orissa at 2013 was 1.028\n",
      "Retail price difference of wheat variety desi and kalyan in Orissa at 2014 was 1.361\n",
      "Retail price difference of wheat variety desi and kalyan in Orissa at 2015 was 1.583\n",
      "Retail price difference of wheat variety desi and kalyan in Orissa at 2016 was 2.889\n",
      "Retail price difference of wheat variety desi and kalyan in Orissa at 2017 was 5.694\n",
      "Retail price difference of wheat variety desi and kalyan in Orissa at 2018 was 6.127\n",
      "Retail price difference of wheat variety desi and kalyan in Orissa at 2019 was 6.313\n",
      "Retail price difference of wheat variety desi and kalyan in Orissa at 2020 was 5.857\n",
      "Retail price difference of wheat variety desi and kalyan in Orissa at 2021 was 5.125\n",
      "Retail price difference of wheat variety desi and kalyan in Punjab at 2001 was 1.830\n",
      "Retail price difference of wheat variety desi and kalyan in Punjab at 2002 was 1.720\n",
      "Retail price difference of wheat variety desi and kalyan in Punjab at 2003 was 1.396\n",
      "Retail price difference of wheat variety desi and kalyan in Punjab at 2004 was 1.072\n",
      "Retail price difference of wheat variety desi and kalyan in Punjab at 2005 was 2.113\n",
      "Retail price difference of wheat variety desi and kalyan in Punjab at 2006 was 1.670\n",
      "Retail price difference of wheat variety desi and kalyan in Punjab at 2007 was 2.140\n",
      "Retail price difference of wheat variety desi and kalyan in Punjab at 2008 was 3.541\n",
      "Retail price difference of wheat variety desi and kalyan in Punjab at 2009 was 3.369\n",
      "Retail price difference of wheat variety desi and kalyan in Punjab at 2010 was 4.257\n",
      "Retail price difference of wheat variety desi and kalyan in Punjab at 2011 was 3.889\n",
      "Retail price difference of wheat variety desi and kalyan in Punjab at 2012 was 3.672\n",
      "Retail price difference of wheat variety desi and kalyan in Punjab at 2013 was 4.037\n",
      "Retail price difference of wheat variety desi and kalyan in Punjab at 2014 was 0.591\n",
      "Retail price difference of wheat variety desi and kalyan in Punjab at 2015 was 0.000\n",
      "Retail price difference of wheat variety desi and kalyan in Punjab at 2016 was 0.956\n",
      "Retail price difference of wheat variety desi and kalyan in Punjab at 2017 was 0.575\n",
      "Retail price difference of wheat variety desi and kalyan in Punjab at 2018 was 0.902\n",
      "Retail price difference of wheat variety desi and kalyan in Punjab at 2019 was 1.924\n",
      "Retail price difference of wheat variety desi and kalyan in Punjab at 2020 was 1.361\n",
      "Retail price difference of wheat variety desi and kalyan in Punjab at 2021 was 0.960\n",
      "Retail price difference of wheat variety desi and kalyan in Rajasthan at 2001 was 0.616\n",
      "Retail price difference of wheat variety desi and kalyan in Rajasthan at 2002 was 0.436\n",
      "Retail price difference of wheat variety desi and kalyan in Rajasthan at 2003 was 0.624\n",
      "Retail price difference of wheat variety desi and kalyan in Rajasthan at 2004 was 0.721\n",
      "Retail price difference of wheat variety desi and kalyan in Rajasthan at 2005 was 1.082\n"
     ]
    },
    {
     "name": "stdout",
     "output_type": "stream",
     "text": [
      "Retail price difference of wheat variety desi and kalyan in Rajasthan at 2006 was 2.392\n",
      "Retail price difference of wheat variety desi and kalyan in Rajasthan at 2007 was 2.672\n",
      "Retail price difference of wheat variety desi and kalyan in Rajasthan at 2008 was 2.758\n",
      "Retail price difference of wheat variety desi and kalyan in Rajasthan at 2009 was 2.915\n",
      "Retail price difference of wheat variety desi and kalyan in Rajasthan at 2010 was 2.515\n",
      "Retail price difference of wheat variety desi and kalyan in Rajasthan at 2011 was 2.792\n",
      "Retail price difference of wheat variety desi and kalyan in Rajasthan at 2012 was 2.612\n",
      "Retail price difference of wheat variety desi and kalyan in Rajasthan at 2013 was 1.967\n",
      "Retail price difference of wheat variety desi and kalyan in Rajasthan at 2014 was 2.896\n",
      "Retail price difference of wheat variety desi and kalyan in Rajasthan at 2015 was 2.950\n",
      "Retail price difference of wheat variety desi and kalyan in Rajasthan at 2016 was 0.588\n",
      "Retail price difference of wheat variety desi and kalyan in Rajasthan at 2017 was 1.742\n",
      "Retail price difference of wheat variety desi and kalyan in Rajasthan at 2018 was 1.333\n",
      "Retail price difference of wheat variety desi and kalyan in Rajasthan at 2019 was 0.767\n",
      "Retail price difference of wheat variety desi and kalyan in Rajasthan at 2020 was 0.433\n",
      "Retail price difference of wheat variety desi and kalyan in Rajasthan at 2021 was 1.533\n",
      "Retail price difference of wheat variety desi and kalyan in Sikkim at 2001 was 0.000\n",
      "Retail price difference of wheat variety desi and kalyan in Sikkim at 2002 was 0.000\n",
      "Retail price difference of wheat variety desi and kalyan in Sikkim at 2003 was 0.000\n",
      "Retail price difference of wheat variety desi and kalyan in Sikkim at 2004 was 0.000\n",
      "Retail price difference of wheat variety desi and kalyan in Sikkim at 2005 was 0.000\n",
      "Retail price difference of wheat variety desi and kalyan in Sikkim at 2006 was 0.000\n",
      "Retail price difference of wheat variety desi and kalyan in Sikkim at 2007 was 0.000\n",
      "Retail price difference of wheat variety desi and kalyan in Sikkim at 2008 was 0.000\n",
      "Retail price difference of wheat variety desi and kalyan in Sikkim at 2009 was 0.000\n",
      "Retail price difference of wheat variety desi and kalyan in Sikkim at 2010 was 0.000\n",
      "Retail price difference of wheat variety desi and kalyan in Sikkim at 2011 was 0.000\n",
      "Retail price difference of wheat variety desi and kalyan in Sikkim at 2012 was 0.000\n",
      "Retail price difference of wheat variety desi and kalyan in Sikkim at 2013 was 0.785\n",
      "Retail price difference of wheat variety desi and kalyan in Sikkim at 2014 was 1.723\n",
      "Retail price difference of wheat variety desi and kalyan in Sikkim at 2015 was 0.291\n",
      "Retail price difference of wheat variety desi and kalyan in Sikkim at 2016 was 0.630\n",
      "Retail price difference of wheat variety desi and kalyan in Sikkim at 2017 was 0.000\n",
      "Retail price difference of wheat variety desi and kalyan in Sikkim at 2018 was 0.000\n",
      "Retail price difference of wheat variety desi and kalyan in Sikkim at 2019 was 0.000\n",
      "Retail price difference of wheat variety desi and kalyan in Sikkim at 2020 was 0.000\n",
      "Retail price difference of wheat variety desi and kalyan in Sikkim at 2021 was 0.000\n",
      "Retail price difference of wheat variety desi and kalyan in Tamil Nadu at 2001 was 1.721\n",
      "Retail price difference of wheat variety desi and kalyan in Tamil Nadu at 2002 was 0.815\n",
      "Retail price difference of wheat variety desi and kalyan in Tamil Nadu at 2003 was 0.994\n",
      "Retail price difference of wheat variety desi and kalyan in Tamil Nadu at 2004 was 1.244\n",
      "Retail price difference of wheat variety desi and kalyan in Tamil Nadu at 2005 was 0.209\n",
      "Retail price difference of wheat variety desi and kalyan in Tamil Nadu at 2006 was 0.974\n",
      "Retail price difference of wheat variety desi and kalyan in Tamil Nadu at 2007 was 2.052\n",
      "Retail price difference of wheat variety desi and kalyan in Tamil Nadu at 2008 was 0.518\n",
      "Retail price difference of wheat variety desi and kalyan in Tamil Nadu at 2009 was 0.898\n",
      "Retail price difference of wheat variety desi and kalyan in Tamil Nadu at 2010 was 2.093\n",
      "Retail price difference of wheat variety desi and kalyan in Tamil Nadu at 2011 was 2.548\n",
      "Retail price difference of wheat variety desi and kalyan in Tamil Nadu at 2012 was 2.386\n",
      "Retail price difference of wheat variety desi and kalyan in Tamil Nadu at 2013 was 0.694\n",
      "Retail price difference of wheat variety desi and kalyan in Tamil Nadu at 2014 was 0.277\n",
      "Retail price difference of wheat variety desi and kalyan in Tamil Nadu at 2015 was 1.060\n",
      "Retail price difference of wheat variety desi and kalyan in Tamil Nadu at 2016 was 1.854\n",
      "Retail price difference of wheat variety desi and kalyan in Tamil Nadu at 2017 was 4.789\n",
      "Retail price difference of wheat variety desi and kalyan in Tamil Nadu at 2018 was 1.289\n",
      "Retail price difference of wheat variety desi and kalyan in Tamil Nadu at 2019 was 7.269\n",
      "Retail price difference of wheat variety desi and kalyan in Tamil Nadu at 2020 was 3.458\n",
      "Retail price difference of wheat variety desi and kalyan in Tamil Nadu at 2021 was 6.556\n",
      "Retail price difference of wheat variety desi and kalyan in Telangana at 2001 was 1.542\n",
      "Retail price difference of wheat variety desi and kalyan in Telangana at 2002 was 4.375\n",
      "Retail price difference of wheat variety desi and kalyan in Telangana at 2003 was 6.280\n",
      "Retail price difference of wheat variety desi and kalyan in Telangana at 2004 was 7.833\n",
      "Retail price difference of wheat variety desi and kalyan in Telangana at 2005 was 7.417\n",
      "Retail price difference of wheat variety desi and kalyan in Telangana at 2006 was 6.007\n",
      "Retail price difference of wheat variety desi and kalyan in Telangana at 2007 was 0.000\n",
      "Retail price difference of wheat variety desi and kalyan in Telangana at 2008 was 0.000\n",
      "Retail price difference of wheat variety desi and kalyan in Telangana at 2009 was 1.321\n",
      "Retail price difference of wheat variety desi and kalyan in Telangana at 2010 was 4.197\n",
      "Retail price difference of wheat variety desi and kalyan in Telangana at 2011 was 4.310\n",
      "Retail price difference of wheat variety desi and kalyan in Telangana at 2012 was 1.355\n",
      "Retail price difference of wheat variety desi and kalyan in Telangana at 2013 was 0.759\n",
      "Retail price difference of wheat variety desi and kalyan in Telangana at 2014 was 1.584\n",
      "Retail price difference of wheat variety desi and kalyan in Telangana at 2015 was 1.824\n",
      "Retail price difference of wheat variety desi and kalyan in Telangana at 2016 was 7.167\n",
      "Retail price difference of wheat variety desi and kalyan in Telangana at 2017 was 5.583\n",
      "Retail price difference of wheat variety desi and kalyan in Telangana at 2018 was 6.250\n",
      "Retail price difference of wheat variety desi and kalyan in Telangana at 2019 was 9.667\n",
      "Retail price difference of wheat variety desi and kalyan in Telangana at 2020 was 10.750\n",
      "Retail price difference of wheat variety desi and kalyan in Telangana at 2021 was 12.333\n",
      "Retail price difference of wheat variety desi and kalyan in Tripura at 2001 was 0.000\n",
      "Retail price difference of wheat variety desi and kalyan in Tripura at 2002 was 0.000\n",
      "Retail price difference of wheat variety desi and kalyan in Tripura at 2003 was 0.000\n",
      "Retail price difference of wheat variety desi and kalyan in Tripura at 2004 was 0.000\n",
      "Retail price difference of wheat variety desi and kalyan in Tripura at 2005 was 0.000\n",
      "Retail price difference of wheat variety desi and kalyan in Tripura at 2006 was 0.000\n",
      "Retail price difference of wheat variety desi and kalyan in Tripura at 2007 was 0.000\n",
      "Retail price difference of wheat variety desi and kalyan in Tripura at 2008 was 0.000\n",
      "Retail price difference of wheat variety desi and kalyan in Tripura at 2009 was 0.000\n",
      "Retail price difference of wheat variety desi and kalyan in Tripura at 2010 was 0.000\n",
      "Retail price difference of wheat variety desi and kalyan in Tripura at 2011 was 0.000\n",
      "Retail price difference of wheat variety desi and kalyan in Tripura at 2012 was 0.000\n",
      "Retail price difference of wheat variety desi and kalyan in Tripura at 2013 was 0.000\n",
      "Retail price difference of wheat variety desi and kalyan in Tripura at 2014 was 0.000\n",
      "Retail price difference of wheat variety desi and kalyan in Tripura at 2015 was 0.000\n",
      "Retail price difference of wheat variety desi and kalyan in Tripura at 2016 was 0.750\n",
      "Retail price difference of wheat variety desi and kalyan in Tripura at 2017 was 0.000\n"
     ]
    },
    {
     "name": "stdout",
     "output_type": "stream",
     "text": [
      "Retail price difference of wheat variety desi and kalyan in Tripura at 2018 was 0.000\n",
      "Retail price difference of wheat variety desi and kalyan in Tripura at 2019 was 0.000\n",
      "Retail price difference of wheat variety desi and kalyan in Tripura at 2020 was 0.000\n",
      "Retail price difference of wheat variety desi and kalyan in Tripura at 2021 was 0.000\n",
      "Retail price difference of wheat variety desi and kalyan in Union Territories at 2001 was 0.216\n",
      "Retail price difference of wheat variety desi and kalyan in Union Territories at 2002 was 0.074\n",
      "Retail price difference of wheat variety desi and kalyan in Union Territories at 2003 was 0.499\n",
      "Retail price difference of wheat variety desi and kalyan in Union Territories at 2004 was 0.028\n",
      "Retail price difference of wheat variety desi and kalyan in Union Territories at 2005 was 0.674\n",
      "Retail price difference of wheat variety desi and kalyan in Union Territories at 2006 was 0.082\n",
      "Retail price difference of wheat variety desi and kalyan in Union Territories at 2007 was 0.127\n",
      "Retail price difference of wheat variety desi and kalyan in Union Territories at 2008 was 0.000\n",
      "Retail price difference of wheat variety desi and kalyan in Union Territories at 2009 was 0.000\n",
      "Retail price difference of wheat variety desi and kalyan in Union Territories at 2010 was 0.000\n",
      "Retail price difference of wheat variety desi and kalyan in Union Territories at 2011 was 0.000\n",
      "Retail price difference of wheat variety desi and kalyan in Union Territories at 2012 was 0.000\n",
      "Retail price difference of wheat variety desi and kalyan in Union Territories at 2013 was 0.000\n",
      "Retail price difference of wheat variety desi and kalyan in Union Territories at 2014 was 0.847\n",
      "Retail price difference of wheat variety desi and kalyan in Union Territories at 2015 was 1.642\n",
      "Retail price difference of wheat variety desi and kalyan in Union Territories at 2016 was 5.954\n",
      "Retail price difference of wheat variety desi and kalyan in Union Territories at 2017 was 2.087\n",
      "Retail price difference of wheat variety desi and kalyan in Union Territories at 2018 was 2.827\n",
      "Retail price difference of wheat variety desi and kalyan in Union Territories at 2019 was 2.471\n",
      "Retail price difference of wheat variety desi and kalyan in Union Territories at 2020 was 0.000\n",
      "Retail price difference of wheat variety desi and kalyan in Union Territories at 2021 was 0.000\n",
      "Retail price difference of wheat variety desi and kalyan in Uttar Pradesh at 2001 was 0.096\n",
      "Retail price difference of wheat variety desi and kalyan in Uttar Pradesh at 2002 was 0.588\n",
      "Retail price difference of wheat variety desi and kalyan in Uttar Pradesh at 2003 was 0.913\n",
      "Retail price difference of wheat variety desi and kalyan in Uttar Pradesh at 2004 was 0.354\n",
      "Retail price difference of wheat variety desi and kalyan in Uttar Pradesh at 2005 was 1.301\n",
      "Retail price difference of wheat variety desi and kalyan in Uttar Pradesh at 2006 was 1.694\n",
      "Retail price difference of wheat variety desi and kalyan in Uttar Pradesh at 2007 was 2.552\n",
      "Retail price difference of wheat variety desi and kalyan in Uttar Pradesh at 2008 was 2.045\n",
      "Retail price difference of wheat variety desi and kalyan in Uttar Pradesh at 2009 was 2.919\n",
      "Retail price difference of wheat variety desi and kalyan in Uttar Pradesh at 2010 was 1.713\n",
      "Retail price difference of wheat variety desi and kalyan in Uttar Pradesh at 2011 was 1.542\n",
      "Retail price difference of wheat variety desi and kalyan in Uttar Pradesh at 2012 was 1.465\n",
      "Retail price difference of wheat variety desi and kalyan in Uttar Pradesh at 2013 was 2.584\n",
      "Retail price difference of wheat variety desi and kalyan in Uttar Pradesh at 2014 was 0.988\n",
      "Retail price difference of wheat variety desi and kalyan in Uttar Pradesh at 2015 was 0.007\n",
      "Retail price difference of wheat variety desi and kalyan in Uttar Pradesh at 2016 was 0.186\n",
      "Retail price difference of wheat variety desi and kalyan in Uttar Pradesh at 2017 was 1.614\n",
      "Retail price difference of wheat variety desi and kalyan in Uttar Pradesh at 2018 was 2.978\n",
      "Retail price difference of wheat variety desi and kalyan in Uttar Pradesh at 2019 was 3.290\n",
      "Retail price difference of wheat variety desi and kalyan in Uttar Pradesh at 2020 was 2.718\n",
      "Retail price difference of wheat variety desi and kalyan in Uttar Pradesh at 2021 was 2.389\n",
      "Retail price difference of wheat variety desi and kalyan in Uttarakhand at 2001 was 1.455\n",
      "Retail price difference of wheat variety desi and kalyan in Uttarakhand at 2002 was 0.250\n",
      "Retail price difference of wheat variety desi and kalyan in Uttarakhand at 2003 was 0.000\n",
      "Retail price difference of wheat variety desi and kalyan in Uttarakhand at 2004 was 0.000\n",
      "Retail price difference of wheat variety desi and kalyan in Uttarakhand at 2005 was 0.177\n",
      "Retail price difference of wheat variety desi and kalyan in Uttarakhand at 2006 was 0.000\n",
      "Retail price difference of wheat variety desi and kalyan in Uttarakhand at 2007 was 0.000\n",
      "Retail price difference of wheat variety desi and kalyan in Uttarakhand at 2008 was 1.071\n",
      "Retail price difference of wheat variety desi and kalyan in Uttarakhand at 2009 was 0.000\n",
      "Retail price difference of wheat variety desi and kalyan in Uttarakhand at 2010 was 0.000\n",
      "Retail price difference of wheat variety desi and kalyan in Uttarakhand at 2011 was 0.000\n",
      "Retail price difference of wheat variety desi and kalyan in Uttarakhand at 2012 was 0.000\n",
      "Retail price difference of wheat variety desi and kalyan in Uttarakhand at 2013 was 0.000\n",
      "Retail price difference of wheat variety desi and kalyan in Uttarakhand at 2014 was 0.000\n",
      "Retail price difference of wheat variety desi and kalyan in Uttarakhand at 2015 was 0.000\n",
      "Retail price difference of wheat variety desi and kalyan in Uttarakhand at 2016 was 0.000\n",
      "Retail price difference of wheat variety desi and kalyan in Uttarakhand at 2017 was 0.000\n",
      "Retail price difference of wheat variety desi and kalyan in Uttarakhand at 2018 was 0.797\n",
      "Retail price difference of wheat variety desi and kalyan in Uttarakhand at 2019 was 2.065\n",
      "Retail price difference of wheat variety desi and kalyan in Uttarakhand at 2020 was 0.199\n",
      "Retail price difference of wheat variety desi and kalyan in Uttarakhand at 2021 was 0.000\n",
      "Retail price difference of wheat variety desi and kalyan in West Bengal at 2001 was 0.729\n",
      "Retail price difference of wheat variety desi and kalyan in West Bengal at 2002 was 1.070\n",
      "Retail price difference of wheat variety desi and kalyan in West Bengal at 2003 was 0.290\n",
      "Retail price difference of wheat variety desi and kalyan in West Bengal at 2004 was 0.028\n",
      "Retail price difference of wheat variety desi and kalyan in West Bengal at 2005 was 0.375\n",
      "Retail price difference of wheat variety desi and kalyan in West Bengal at 2006 was 1.014\n",
      "Retail price difference of wheat variety desi and kalyan in West Bengal at 2007 was 1.712\n",
      "Retail price difference of wheat variety desi and kalyan in West Bengal at 2008 was 2.102\n",
      "Retail price difference of wheat variety desi and kalyan in West Bengal at 2009 was 1.778\n",
      "Retail price difference of wheat variety desi and kalyan in West Bengal at 2010 was 1.401\n",
      "Retail price difference of wheat variety desi and kalyan in West Bengal at 2011 was 1.543\n",
      "Retail price difference of wheat variety desi and kalyan in West Bengal at 2012 was 1.191\n",
      "Retail price difference of wheat variety desi and kalyan in West Bengal at 2013 was 1.696\n",
      "Retail price difference of wheat variety desi and kalyan in West Bengal at 2014 was 1.010\n",
      "Retail price difference of wheat variety desi and kalyan in West Bengal at 2015 was 0.357\n",
      "Retail price difference of wheat variety desi and kalyan in West Bengal at 2016 was 1.329\n",
      "Retail price difference of wheat variety desi and kalyan in West Bengal at 2017 was 0.395\n",
      "Retail price difference of wheat variety desi and kalyan in West Bengal at 2018 was 0.534\n",
      "Retail price difference of wheat variety desi and kalyan in West Bengal at 2019 was 0.250\n",
      "Retail price difference of wheat variety desi and kalyan in West Bengal at 2020 was 0.853\n",
      "Retail price difference of wheat variety desi and kalyan in West Bengal at 2021 was 2.396\n"
     ]
    }
   ],
   "source": [
    "sta=[]\n",
    "price=[]\n",
    "dat=[]\n",
    "for s in state:\n",
    "    for d in date:\n",
    "        \n",
    "        a=df8[(df8[\"Commodity\"]==\"Wheat\")&(df8[\"State\"]==s)&(df8[\"Variety\"]==\"Desi\")&(df8[\"Date\"]==d)][\"Retail Price\"].mean()\n",
    "        b=df8[(df8[\"Commodity\"]==\"Wheat\")&(df8[\"State\"]==s)&(df8[\"Variety\"]==\"Kalyan HYV\")&(df8[\"Date\"]==d)][\"Retail Price\"].mean()\n",
    "        diff=a-b\n",
    "        if diff>=0:\n",
    "            print(\"Retail price difference of wheat variety desi and kalyan in %s at %d was %0.3f\"%(s,d,diff))\n",
    "            sta.append(s)\n",
    "            price.append(diff)\n",
    "            dat.append(d)\n",
    "        else:\n",
    "            print(\"Retail price difference of wheat variety desi and kalyan in %s at %d was %0.3f\"%(s,d,abs(diff)))\n",
    "            sta.append(s)\n",
    "            price.append(abs(diff))\n",
    "            dat.append(d)\n",
    "         \n",
    "        \n",
    "            \n",
    "            "
   ]
  },
  {
   "cell_type": "code",
   "execution_count": 63,
   "metadata": {},
   "outputs": [],
   "source": [
    "data = {\"State\":sta,\"Date\":dat,\"Price Difference\":price}"
   ]
  },
  {
   "cell_type": "code",
   "execution_count": 64,
   "metadata": {},
   "outputs": [],
   "source": [
    "price_diff=pd.DataFrame(data)"
   ]
  },
  {
   "cell_type": "code",
   "execution_count": 65,
   "metadata": {
    "scrolled": true
   },
   "outputs": [
    {
     "data": {
      "text/html": [
       "<div>\n",
       "<style scoped>\n",
       "    .dataframe tbody tr th:only-of-type {\n",
       "        vertical-align: middle;\n",
       "    }\n",
       "\n",
       "    .dataframe tbody tr th {\n",
       "        vertical-align: top;\n",
       "    }\n",
       "\n",
       "    .dataframe thead th {\n",
       "        text-align: right;\n",
       "    }\n",
       "</style>\n",
       "<table border=\"1\" class=\"dataframe\">\n",
       "  <thead>\n",
       "    <tr style=\"text-align: right;\">\n",
       "      <th></th>\n",
       "      <th>State</th>\n",
       "      <th>Date</th>\n",
       "      <th>Price Difference</th>\n",
       "    </tr>\n",
       "  </thead>\n",
       "  <tbody>\n",
       "    <tr>\n",
       "      <th>0</th>\n",
       "      <td>Andhra Pradesh</td>\n",
       "      <td>2001</td>\n",
       "      <td>1.341342</td>\n",
       "    </tr>\n",
       "    <tr>\n",
       "      <th>1</th>\n",
       "      <td>Andhra Pradesh</td>\n",
       "      <td>2002</td>\n",
       "      <td>1.280123</td>\n",
       "    </tr>\n",
       "    <tr>\n",
       "      <th>2</th>\n",
       "      <td>Andhra Pradesh</td>\n",
       "      <td>2003</td>\n",
       "      <td>1.465540</td>\n",
       "    </tr>\n",
       "    <tr>\n",
       "      <th>3</th>\n",
       "      <td>Andhra Pradesh</td>\n",
       "      <td>2004</td>\n",
       "      <td>1.139036</td>\n",
       "    </tr>\n",
       "    <tr>\n",
       "      <th>4</th>\n",
       "      <td>Andhra Pradesh</td>\n",
       "      <td>2005</td>\n",
       "      <td>0.261967</td>\n",
       "    </tr>\n",
       "    <tr>\n",
       "      <th>...</th>\n",
       "      <td>...</td>\n",
       "      <td>...</td>\n",
       "      <td>...</td>\n",
       "    </tr>\n",
       "    <tr>\n",
       "      <th>562</th>\n",
       "      <td>West Bengal</td>\n",
       "      <td>2017</td>\n",
       "      <td>0.395424</td>\n",
       "    </tr>\n",
       "    <tr>\n",
       "      <th>563</th>\n",
       "      <td>West Bengal</td>\n",
       "      <td>2018</td>\n",
       "      <td>0.533688</td>\n",
       "    </tr>\n",
       "    <tr>\n",
       "      <th>564</th>\n",
       "      <td>West Bengal</td>\n",
       "      <td>2019</td>\n",
       "      <td>0.250000</td>\n",
       "    </tr>\n",
       "    <tr>\n",
       "      <th>565</th>\n",
       "      <td>West Bengal</td>\n",
       "      <td>2020</td>\n",
       "      <td>0.853014</td>\n",
       "    </tr>\n",
       "    <tr>\n",
       "      <th>566</th>\n",
       "      <td>West Bengal</td>\n",
       "      <td>2021</td>\n",
       "      <td>2.395949</td>\n",
       "    </tr>\n",
       "  </tbody>\n",
       "</table>\n",
       "<p>567 rows × 3 columns</p>\n",
       "</div>"
      ],
      "text/plain": [
       "              State  Date  Price Difference\n",
       "0    Andhra Pradesh  2001          1.341342\n",
       "1    Andhra Pradesh  2002          1.280123\n",
       "2    Andhra Pradesh  2003          1.465540\n",
       "3    Andhra Pradesh  2004          1.139036\n",
       "4    Andhra Pradesh  2005          0.261967\n",
       "..              ...   ...               ...\n",
       "562     West Bengal  2017          0.395424\n",
       "563     West Bengal  2018          0.533688\n",
       "564     West Bengal  2019          0.250000\n",
       "565     West Bengal  2020          0.853014\n",
       "566     West Bengal  2021          2.395949\n",
       "\n",
       "[567 rows x 3 columns]"
      ]
     },
     "execution_count": 65,
     "metadata": {},
     "output_type": "execute_result"
    }
   ],
   "source": [
    "price_diff"
   ]
  },
  {
   "cell_type": "code",
   "execution_count": 66,
   "metadata": {
    "scrolled": true
   },
   "outputs": [
    {
     "data": {
      "application/vnd.plotly.v1+json": {
       "config": {
        "plotlyServerURL": "https://plot.ly"
       },
       "data": [
        {
         "alignmentgroup": "True",
         "hovertemplate": "State=Andhra Pradesh<br>Date=%{x}<br>Price Difference=%{y}<extra></extra>",
         "legendgroup": "Andhra Pradesh",
         "marker": {
          "color": "#636efa",
          "pattern": {
           "shape": ""
          }
         },
         "name": "Andhra Pradesh",
         "offsetgroup": "Andhra Pradesh",
         "orientation": "v",
         "showlegend": true,
         "textposition": "auto",
         "type": "bar",
         "x": [
          2001,
          2002,
          2003,
          2004,
          2005,
          2006,
          2007,
          2008,
          2009,
          2010,
          2011,
          2012,
          2013,
          2014,
          2015,
          2016,
          2017,
          2018,
          2019,
          2020,
          2021
         ],
         "xaxis": "x",
         "y": [
          1.3413422725432138,
          1.2801234736315958,
          1.4655400691164537,
          1.1390360169491593,
          0.2619669080179303,
          0.4149480044842253,
          0.659972315498738,
          1.172856515167787,
          3.1218224687150666,
          4.366174067077356,
          3.5868571357738936,
          4.4706488797854576,
          3.6795161791516477,
          3.156506363207427,
          2.796124472865209,
          2.7966384731703933,
          4.628927804677758,
          0.9335733066349654,
          4.8635938194803465,
          2.549953831760483,
          0.2550637416682875
         ],
         "yaxis": "y"
        },
        {
         "alignmentgroup": "True",
         "hovertemplate": "State=Arunachal Pradesh<br>Date=%{x}<br>Price Difference=%{y}<extra></extra>",
         "legendgroup": "Arunachal Pradesh",
         "marker": {
          "color": "#EF553B",
          "pattern": {
           "shape": ""
          }
         },
         "name": "Arunachal Pradesh",
         "offsetgroup": "Arunachal Pradesh",
         "orientation": "v",
         "showlegend": true,
         "textposition": "auto",
         "type": "bar",
         "x": [
          2001,
          2002,
          2003,
          2004,
          2005,
          2006,
          2007,
          2008,
          2009,
          2010,
          2011,
          2012,
          2013,
          2014,
          2015,
          2016,
          2017,
          2018,
          2019,
          2020,
          2021
         ],
         "xaxis": "x",
         "y": [
          0,
          0,
          0,
          0,
          0,
          0,
          0,
          0,
          0,
          0,
          0,
          0,
          0,
          0,
          0,
          0,
          0,
          0,
          0,
          3.166666666666668,
          0
         ],
         "yaxis": "y"
        },
        {
         "alignmentgroup": "True",
         "hovertemplate": "State=Assam<br>Date=%{x}<br>Price Difference=%{y}<extra></extra>",
         "legendgroup": "Assam",
         "marker": {
          "color": "#00cc96",
          "pattern": {
           "shape": ""
          }
         },
         "name": "Assam",
         "offsetgroup": "Assam",
         "orientation": "v",
         "showlegend": true,
         "textposition": "auto",
         "type": "bar",
         "x": [
          2001,
          2002,
          2003,
          2004,
          2005,
          2006,
          2007,
          2008,
          2009,
          2010,
          2011,
          2012,
          2013,
          2014,
          2015,
          2016,
          2017,
          2018,
          2019,
          2020,
          2021
         ],
         "xaxis": "x",
         "y": [
          0,
          0.030698529411765207,
          0,
          0,
          0,
          0,
          0,
          0.25,
          1.1875,
          1.1666666666666607,
          0,
          0.0416666666666643,
          0.7708333333333357,
          0,
          0.6828839869281005,
          1.7601388888888891,
          3.729166666666668,
          3.75,
          3.7916666666666643,
          3.333333333333332,
          4
         ],
         "yaxis": "y"
        },
        {
         "alignmentgroup": "True",
         "hovertemplate": "State=Bihar<br>Date=%{x}<br>Price Difference=%{y}<extra></extra>",
         "legendgroup": "Bihar",
         "marker": {
          "color": "#ab63fa",
          "pattern": {
           "shape": ""
          }
         },
         "name": "Bihar",
         "offsetgroup": "Bihar",
         "orientation": "v",
         "showlegend": true,
         "textposition": "auto",
         "type": "bar",
         "x": [
          2001,
          2002,
          2003,
          2004,
          2005,
          2006,
          2007,
          2008,
          2009,
          2010,
          2011,
          2012,
          2013,
          2014,
          2015,
          2016,
          2017,
          2018,
          2019,
          2020,
          2021
         ],
         "xaxis": "x",
         "y": [
          1.0111203803113078,
          1.051421134327713,
          0.8142832284458148,
          0.6179890932205101,
          0.2665482241465842,
          0.3333333333333339,
          0.3468373493975889,
          0.25,
          0.17708333333333393,
          0.34375,
          0.34375,
          0.5416666666666679,
          0.4223379629629598,
          0.5833333333333321,
          0.29166666666666785,
          0.2291666666666714,
          0.45833333333333215,
          0.7708333333333321,
          0.9375,
          0.8958333333333321,
          1
         ],
         "yaxis": "y"
        },
        {
         "alignmentgroup": "True",
         "hovertemplate": "State=Goa<br>Date=%{x}<br>Price Difference=%{y}<extra></extra>",
         "legendgroup": "Goa",
         "marker": {
          "color": "#FFA15A",
          "pattern": {
           "shape": ""
          }
         },
         "name": "Goa",
         "offsetgroup": "Goa",
         "orientation": "v",
         "showlegend": true,
         "textposition": "auto",
         "type": "bar",
         "x": [
          2001,
          2002,
          2003,
          2004,
          2005,
          2006,
          2007,
          2008,
          2009,
          2010,
          2011,
          2012,
          2013,
          2014,
          2015,
          2016,
          2017,
          2018,
          2019,
          2020,
          2021
         ],
         "xaxis": "x",
         "y": [
          1.75,
          1.791666666666666,
          1.416666666666666,
          1.3333333333333321,
          1.75,
          1.333333333333334,
          1.583333333333334,
          1.8333333333333321,
          2.083333333333332,
          3.583333333333332,
          3.6666666666666714,
          2.640740740740739,
          1.9166666666666679,
          1.8333333333333357,
          1.6666666666666643,
          1.8333333333333321,
          2.083333333333332,
          0,
          0,
          4.161212381835714,
          3.3535883000064715
         ],
         "yaxis": "y"
        },
        {
         "alignmentgroup": "True",
         "hovertemplate": "State=Gujarat<br>Date=%{x}<br>Price Difference=%{y}<extra></extra>",
         "legendgroup": "Gujarat",
         "marker": {
          "color": "#19d3f3",
          "pattern": {
           "shape": ""
          }
         },
         "name": "Gujarat",
         "offsetgroup": "Gujarat",
         "orientation": "v",
         "showlegend": true,
         "textposition": "auto",
         "type": "bar",
         "x": [
          2001,
          2002,
          2003,
          2004,
          2005,
          2006,
          2007,
          2008,
          2009,
          2010,
          2011,
          2012,
          2013,
          2014,
          2015,
          2016,
          2017,
          2018,
          2019,
          2020,
          2021
         ],
         "xaxis": "x",
         "y": [
          0.13229166666666714,
          0.28749999999999964,
          0.1416099773242614,
          0.3812500000000014,
          0.21827831684423948,
          0.3447916666666657,
          0.4156249999999986,
          0.3832559122032073,
          0.015625,
          0.08749999999999858,
          3.822916666666668,
          0.8848826876184148,
          0.8604885963865812,
          1.3138167660442797,
          0.6622088604681231,
          0.0049718065037289705,
          1.7929464285714367,
          2.1249999999999964,
          2.479166666666668,
          2.6041666666666643,
          2.083333333333332
         ],
         "yaxis": "y"
        },
        {
         "alignmentgroup": "True",
         "hovertemplate": "State=Haryana<br>Date=%{x}<br>Price Difference=%{y}<extra></extra>",
         "legendgroup": "Haryana",
         "marker": {
          "color": "#FF6692",
          "pattern": {
           "shape": ""
          }
         },
         "name": "Haryana",
         "offsetgroup": "Haryana",
         "orientation": "v",
         "showlegend": true,
         "textposition": "auto",
         "type": "bar",
         "x": [
          2001,
          2002,
          2003,
          2004,
          2005,
          2006,
          2007,
          2008,
          2009,
          2010,
          2011,
          2012,
          2013,
          2014,
          2015,
          2016,
          2017,
          2018,
          2019,
          2020,
          2021
         ],
         "xaxis": "x",
         "y": [
          1.5574751274358034,
          2.709167917559994,
          2.180167878601533,
          1.5459169696847805,
          2.1976356407196995,
          2.599287677871974,
          4.210109882682703,
          3.623781506730822,
          3.723659233547158,
          4.886767910563522,
          5.668912707857027,
          5.020136811079704,
          5.159063190327235,
          4.354586657088568,
          4.116084387602914,
          3.865056386992535,
          1.2461771936771946,
          0,
          3.0498735504243726,
          4.294573232161476,
          7.396411699993525
         ],
         "yaxis": "y"
        },
        {
         "alignmentgroup": "True",
         "hovertemplate": "State=Himachal Pradesh<br>Date=%{x}<br>Price Difference=%{y}<extra></extra>",
         "legendgroup": "Himachal Pradesh",
         "marker": {
          "color": "#B6E880",
          "pattern": {
           "shape": ""
          }
         },
         "name": "Himachal Pradesh",
         "offsetgroup": "Himachal Pradesh",
         "orientation": "v",
         "showlegend": true,
         "textposition": "auto",
         "type": "bar",
         "x": [
          2001,
          2002,
          2003,
          2004,
          2005,
          2006,
          2007,
          2008,
          2009,
          2010,
          2011,
          2012,
          2013,
          2014,
          2015,
          2016,
          2017,
          2018,
          2019,
          2020,
          2021
         ],
         "xaxis": "x",
         "y": [
          0.012377263973434083,
          0.02736182645577756,
          0.15356645689162285,
          0.3026777444708504,
          0.7568372045361826,
          0.9955974331804285,
          1.2513717707612884,
          1.7763568394002505e-15,
          1.7763568394002505e-15,
          7.105427357601002e-15,
          7.105427357601002e-15,
          0.0997126436781599,
          0,
          0,
          3.552713678800501e-15,
          1.0658141036401503e-14,
          3.552713678800501e-15,
          7.105427357601002e-15,
          3.552713678800501e-15,
          2.1316282072803006e-14,
          0
         ],
         "yaxis": "y"
        },
        {
         "alignmentgroup": "True",
         "hovertemplate": "State=Jammu Kashmir<br>Date=%{x}<br>Price Difference=%{y}<extra></extra>",
         "legendgroup": "Jammu Kashmir",
         "marker": {
          "color": "#FF97FF",
          "pattern": {
           "shape": ""
          }
         },
         "name": "Jammu Kashmir",
         "offsetgroup": "Jammu Kashmir",
         "orientation": "v",
         "showlegend": true,
         "textposition": "auto",
         "type": "bar",
         "x": [
          2001,
          2002,
          2003,
          2004,
          2005,
          2006,
          2007,
          2008,
          2009,
          2010,
          2011,
          2012,
          2013,
          2014,
          2015,
          2016,
          2017,
          2018,
          2019,
          2020,
          2021
         ],
         "xaxis": "x",
         "y": [
          0,
          0.1469362745098053,
          0,
          1.4474850873016294,
          0.9443372045361809,
          1.4863541381612695,
          0.9877403988576923,
          1.0408492711182404,
          1.5883097117583862,
          1.8808839552817584,
          2.333773882664147,
          1.8351503673998302,
          1.4088601731168424,
          2.42240585892376,
          2.706037106279034,
          3.4469569717878557,
          2.7776200669376756,
          2.6331688706062906,
          2.1187152314575535,
          0.5736825970317767,
          0
         ],
         "yaxis": "y"
        },
        {
         "alignmentgroup": "True",
         "hovertemplate": "State=Jharkhand<br>Date=%{x}<br>Price Difference=%{y}<extra></extra>",
         "legendgroup": "Jharkhand",
         "marker": {
          "color": "#FECB52",
          "pattern": {
           "shape": ""
          }
         },
         "name": "Jharkhand",
         "offsetgroup": "Jharkhand",
         "orientation": "v",
         "showlegend": true,
         "textposition": "auto",
         "type": "bar",
         "x": [
          2001,
          2002,
          2003,
          2004,
          2005,
          2006,
          2007,
          2008,
          2009,
          2010,
          2011,
          2012,
          2013,
          2014,
          2015,
          2016,
          2017,
          2018,
          2019,
          2020,
          2021
         ],
         "xaxis": "x",
         "y": [
          1.1674518277382298,
          1.4670158076912934,
          0.2988878313272032,
          0.9102425280316311,
          0.7612407562430068,
          1.8125,
          1.645833333333334,
          1.791666666666666,
          0.9166666666666661,
          0.944328995117754,
          0.7384603127381535,
          0.4684017388731867,
          0.9401454436111543,
          1.478653940251835,
          0.9589223505658744,
          0.6589158124660734,
          2.2916666666666643,
          3,
          3.083333333333332,
          2.5,
          2.833333333333332
         ],
         "yaxis": "y"
        },
        {
         "alignmentgroup": "True",
         "hovertemplate": "State=Karnataka<br>Date=%{x}<br>Price Difference=%{y}<extra></extra>",
         "legendgroup": "Karnataka",
         "marker": {
          "color": "#636efa",
          "pattern": {
           "shape": ""
          }
         },
         "name": "Karnataka",
         "offsetgroup": "Karnataka",
         "orientation": "v",
         "showlegend": true,
         "textposition": "auto",
         "type": "bar",
         "x": [
          2001,
          2002,
          2003,
          2004,
          2005,
          2006,
          2007,
          2008,
          2009,
          2010,
          2011,
          2012,
          2013,
          2014,
          2015,
          2016,
          2017,
          2018,
          2019,
          2020,
          2021
         ],
         "xaxis": "x",
         "y": [
          0.7989521775287347,
          0.7998980112347507,
          0.6179106752117036,
          0.6630698141890896,
          0.3486601020234428,
          2.0159179385233585,
          1.8992462442472284,
          0.3561620162010364,
          2.4097270301389244,
          1.074109002761503,
          0.7193048346080637,
          1.2541219897927824,
          1.6223545563888528,
          1.0637939764148427,
          2.0667170308367986,
          2.8460161025738273,
          0.9445232998644997,
          0.654054444809308,
          1.8333333333333357,
          2.1936889393585233,
          1.0883970750016232
         ],
         "yaxis": "y"
        },
        {
         "alignmentgroup": "True",
         "hovertemplate": "State=Kerala<br>Date=%{x}<br>Price Difference=%{y}<extra></extra>",
         "legendgroup": "Kerala",
         "marker": {
          "color": "#EF553B",
          "pattern": {
           "shape": ""
          }
         },
         "name": "Kerala",
         "offsetgroup": "Kerala",
         "orientation": "v",
         "showlegend": true,
         "textposition": "auto",
         "type": "bar",
         "x": [
          2001,
          2002,
          2003,
          2004,
          2005,
          2006,
          2007,
          2008,
          2009,
          2010,
          2011,
          2012,
          2013,
          2014,
          2015,
          2016,
          2017,
          2018,
          2019,
          2020,
          2021
         ],
         "xaxis": "x",
         "y": [
          5.150690340574712,
          4.54361459589626,
          4.536222456221468,
          2.644999740712235,
          2.837734069194493,
          2.654011303034471,
          3.130351032899581,
          3.0353643407812534,
          3.0095103845538222,
          2.885623051486789,
          4.346674310579903,
          3.780091207386466,
          2.564108533868371,
          2.608675150943224,
          1.3677492971536118,
          1.228851297560528,
          0.7128578224028956,
          0.5610014692930783,
          0.3248209136561364,
          0.06231404578746691,
          0.22897387777993572
         ],
         "yaxis": "y"
        },
        {
         "alignmentgroup": "True",
         "hovertemplate": "State=Madhya Pradesh<br>Date=%{x}<br>Price Difference=%{y}<extra></extra>",
         "legendgroup": "Madhya Pradesh",
         "marker": {
          "color": "#00cc96",
          "pattern": {
           "shape": ""
          }
         },
         "name": "Madhya Pradesh",
         "offsetgroup": "Madhya Pradesh",
         "orientation": "v",
         "showlegend": true,
         "textposition": "auto",
         "type": "bar",
         "x": [
          2001,
          2002,
          2003,
          2004,
          2005,
          2006,
          2007,
          2008,
          2009,
          2010,
          2011,
          2012,
          2013,
          2014,
          2015,
          2016,
          2017,
          2018,
          2019,
          2020,
          2021
         ],
         "xaxis": "x",
         "y": [
          0.5576388888888886,
          0.59375,
          0.21987612612612573,
          0.023611111111112137,
          0.28680555555555465,
          0.9917777244235335,
          0.7153539972899754,
          0.625,
          0.6527777777777821,
          0.6944444444444464,
          0.5833333333333321,
          0.20138888888888573,
          0.5555555555555536,
          0.75,
          0.625,
          0.3888888888888893,
          0.41666666666666785,
          1.0555555555555536,
          1.4027777777777786,
          3.4027777777777786,
          3.7222222222222214
         ],
         "yaxis": "y"
        },
        {
         "alignmentgroup": "True",
         "hovertemplate": "State=Maharashtra<br>Date=%{x}<br>Price Difference=%{y}<extra></extra>",
         "legendgroup": "Maharashtra",
         "marker": {
          "color": "#ab63fa",
          "pattern": {
           "shape": ""
          }
         },
         "name": "Maharashtra",
         "offsetgroup": "Maharashtra",
         "orientation": "v",
         "showlegend": true,
         "textposition": "auto",
         "type": "bar",
         "x": [
          2001,
          2002,
          2003,
          2004,
          2005,
          2006,
          2007,
          2008,
          2009,
          2010,
          2011,
          2012,
          2013,
          2014,
          2015,
          2016,
          2017,
          2018,
          2019,
          2020,
          2021
         ],
         "xaxis": "x",
         "y": [
          0.5416666666666696,
          0.6416666666666639,
          0.4916666666666689,
          0.8666666666666707,
          0.45000000000000284,
          0.5916666666666668,
          0.2749999999999986,
          1.4083333333333297,
          0.44499999999999673,
          0.25666666666666416,
          0.5453841250952571,
          1.19486069554927,
          1.158333333333335,
          0.9375000000000036,
          2.4999999999999964,
          1.999999999999993,
          2,
          2.7097828561200537,
          2.0308194259163557,
          1.851090856966188,
          0.13738432666796285
         ],
         "yaxis": "y"
        },
        {
         "alignmentgroup": "True",
         "hovertemplate": "State=Nagaland<br>Date=%{x}<br>Price Difference=%{y}<extra></extra>",
         "legendgroup": "Nagaland",
         "marker": {
          "color": "#FFA15A",
          "pattern": {
           "shape": ""
          }
         },
         "name": "Nagaland",
         "offsetgroup": "Nagaland",
         "orientation": "v",
         "showlegend": true,
         "textposition": "auto",
         "type": "bar",
         "x": [
          2001,
          2002,
          2003,
          2004,
          2005,
          2006,
          2007,
          2008,
          2009,
          2010,
          2011,
          2012,
          2013,
          2014,
          2015,
          2016,
          2017,
          2018,
          2019,
          2020,
          2021
         ],
         "xaxis": "x",
         "y": [
          0,
          0,
          0,
          0,
          5.2211799311799325,
          0,
          0,
          0,
          0,
          0,
          0,
          0,
          0,
          0,
          0,
          0,
          0,
          0,
          0,
          0,
          0
         ],
         "yaxis": "y"
        },
        {
         "alignmentgroup": "True",
         "hovertemplate": "State=National Capital<br>Date=%{x}<br>Price Difference=%{y}<extra></extra>",
         "legendgroup": "National Capital",
         "marker": {
          "color": "#19d3f3",
          "pattern": {
           "shape": ""
          }
         },
         "name": "National Capital",
         "offsetgroup": "National Capital",
         "orientation": "v",
         "showlegend": true,
         "textposition": "auto",
         "type": "bar",
         "x": [
          2001,
          2002,
          2003,
          2004,
          2005,
          2006,
          2007,
          2008,
          2009,
          2010,
          2011,
          2012,
          2013,
          2014,
          2015,
          2016,
          2017,
          2018,
          2019,
          2020,
          2021
         ],
         "xaxis": "x",
         "y": [
          0.5,
          0.5,
          0.5000000000000009,
          0.7916666666666661,
          1,
          1.666666666666666,
          2.875,
          3.791666666666666,
          2.625,
          1.8023826748285945,
          1.939746041190368,
          2.520136811079702,
          3.6302908872223085,
          5.9573078805036666,
          5.565502108539153,
          6.063446107318413,
          4.221906800542012,
          2.516337741212592,
          0.7374304629151176,
          1.7817700743046387,
          3.646411699993525
         ],
         "yaxis": "y"
        },
        {
         "alignmentgroup": "True",
         "hovertemplate": "State=Orissa<br>Date=%{x}<br>Price Difference=%{y}<extra></extra>",
         "legendgroup": "Orissa",
         "marker": {
          "color": "#FF6692",
          "pattern": {
           "shape": ""
          }
         },
         "name": "Orissa",
         "offsetgroup": "Orissa",
         "orientation": "v",
         "showlegend": true,
         "textposition": "auto",
         "type": "bar",
         "x": [
          2001,
          2002,
          2003,
          2004,
          2005,
          2006,
          2007,
          2008,
          2009,
          2010,
          2011,
          2012,
          2013,
          2014,
          2015,
          2016,
          2017,
          2018,
          2019,
          2020,
          2021
         ],
         "xaxis": "x",
         "y": [
          1.1403188286808952,
          1.1802662037037006,
          1.6611111111111132,
          1.166666666666666,
          1.2361111111111125,
          1.0555555555555554,
          1.4861111111111072,
          1.083333333333334,
          1.2716229322207582,
          0.7384554294093704,
          2.277777777777782,
          1.9444444444444429,
          1.0277777777777786,
          1.3611111111111107,
          1.5833333333333321,
          2.888888888888893,
          5.694444444444443,
          6.1274855258041185,
          6.313421485724174,
          5.8574749212237975,
          5.124614422226539
         ],
         "yaxis": "y"
        },
        {
         "alignmentgroup": "True",
         "hovertemplate": "State=Punjab<br>Date=%{x}<br>Price Difference=%{y}<extra></extra>",
         "legendgroup": "Punjab",
         "marker": {
          "color": "#B6E880",
          "pattern": {
           "shape": ""
          }
         },
         "name": "Punjab",
         "offsetgroup": "Punjab",
         "orientation": "v",
         "showlegend": true,
         "textposition": "auto",
         "type": "bar",
         "x": [
          2001,
          2002,
          2003,
          2004,
          2005,
          2006,
          2007,
          2008,
          2009,
          2010,
          2011,
          2012,
          2013,
          2014,
          2015,
          2016,
          2017,
          2018,
          2019,
          2020,
          2021
         ],
         "xaxis": "x",
         "y": [
          1.830125251529159,
          1.7201561494636417,
          1.3957966281365,
          1.071638710146276,
          2.1127181841349536,
          1.6703828553551734,
          2.1396105752681827,
          3.541001716070598,
          3.3694603063083477,
          4.2570127316558,
          3.888692401343617,
          3.6715759657382865,
          4.03680717267812,
          0.5906249999999957,
          1.0658141036401503e-14,
          0.9558727618072886,
          0.5750814006323886,
          0.902429302789507,
          1.9236950240649122,
          1.3612068466919034,
          0.959694989106751
         ],
         "yaxis": "y"
        },
        {
         "alignmentgroup": "True",
         "hovertemplate": "State=Rajasthan<br>Date=%{x}<br>Price Difference=%{y}<extra></extra>",
         "legendgroup": "Rajasthan",
         "marker": {
          "color": "#FF97FF",
          "pattern": {
           "shape": ""
          }
         },
         "name": "Rajasthan",
         "offsetgroup": "Rajasthan",
         "orientation": "v",
         "showlegend": true,
         "textposition": "auto",
         "type": "bar",
         "x": [
          2001,
          2002,
          2003,
          2004,
          2005,
          2006,
          2007,
          2008,
          2009,
          2010,
          2011,
          2012,
          2013,
          2014,
          2015,
          2016,
          2017,
          2018,
          2019,
          2020,
          2021
         ],
         "xaxis": "x",
         "y": [
          0.6157555776139212,
          0.4360006438987405,
          0.6239265827566545,
          0.7205652651809107,
          1.081927946882967,
          2.39213528822331,
          2.6716053098698733,
          2.7576729680128302,
          2.914519782032812,
          2.5145940791066934,
          2.7915684247910093,
          2.612454086353871,
          1.9666666666666615,
          2.8961852004795645,
          2.950126565498678,
          0.5880885057492904,
          1.7422055320604848,
          1.3333333333333321,
          0.7666666666666657,
          0.43333333333333357,
          1.5333333333333314
         ],
         "yaxis": "y"
        },
        {
         "alignmentgroup": "True",
         "hovertemplate": "State=Sikkim<br>Date=%{x}<br>Price Difference=%{y}<extra></extra>",
         "legendgroup": "Sikkim",
         "marker": {
          "color": "#FECB52",
          "pattern": {
           "shape": ""
          }
         },
         "name": "Sikkim",
         "offsetgroup": "Sikkim",
         "orientation": "v",
         "showlegend": true,
         "textposition": "auto",
         "type": "bar",
         "x": [
          2001,
          2002,
          2003,
          2004,
          2005,
          2006,
          2007,
          2008,
          2009,
          2010,
          2011,
          2012,
          2013,
          2014,
          2015,
          2016,
          2017,
          2018,
          2019,
          2020,
          2021
         ],
         "xaxis": "x",
         "y": [
          0,
          0,
          0,
          0,
          0,
          0,
          0,
          0,
          0,
          0,
          0,
          0,
          0.7849228395061765,
          1.7225519989843896,
          0.29132734389156667,
          0.6301292263225093,
          0,
          0,
          0,
          0,
          0
         ],
         "yaxis": "y"
        },
        {
         "alignmentgroup": "True",
         "hovertemplate": "State=Tamil Nadu<br>Date=%{x}<br>Price Difference=%{y}<extra></extra>",
         "legendgroup": "Tamil Nadu",
         "marker": {
          "color": "#636efa",
          "pattern": {
           "shape": ""
          }
         },
         "name": "Tamil Nadu",
         "offsetgroup": "Tamil Nadu",
         "orientation": "v",
         "showlegend": true,
         "textposition": "auto",
         "type": "bar",
         "x": [
          2001,
          2002,
          2003,
          2004,
          2005,
          2006,
          2007,
          2008,
          2009,
          2010,
          2011,
          2012,
          2013,
          2014,
          2015,
          2016,
          2017,
          2018,
          2019,
          2020,
          2021
         ],
         "xaxis": "x",
         "y": [
          1.7205888448482138,
          0.8154923862627399,
          0.9944229610111801,
          1.2443836185578547,
          0.2092690549661942,
          0.9741143385025985,
          2.0516244083050275,
          0.5180735909368224,
          0.8977283226957482,
          2.093226100705582,
          2.548239229244736,
          2.385733565190847,
          0.69377413797557,
          0.2773749454443575,
          1.060233865054851,
          1.8538647280606142,
          4.789190274848682,
          1.2892863749981984,
          7.269230203065284,
          3.4583333333333357,
          6.55555555555555
         ],
         "yaxis": "y"
        },
        {
         "alignmentgroup": "True",
         "hovertemplate": "State=Telangana<br>Date=%{x}<br>Price Difference=%{y}<extra></extra>",
         "legendgroup": "Telangana",
         "marker": {
          "color": "#EF553B",
          "pattern": {
           "shape": ""
          }
         },
         "name": "Telangana",
         "offsetgroup": "Telangana",
         "orientation": "v",
         "showlegend": true,
         "textposition": "auto",
         "type": "bar",
         "x": [
          2001,
          2002,
          2003,
          2004,
          2005,
          2006,
          2007,
          2008,
          2009,
          2010,
          2011,
          2012,
          2013,
          2014,
          2015,
          2016,
          2017,
          2018,
          2019,
          2020,
          2021
         ],
         "xaxis": "x",
         "y": [
          1.541666666666666,
          4.375,
          6.279954954954954,
          7.833333333333334,
          7.416666666666666,
          6.0067450828183215,
          0,
          0,
          1.3211045282235432,
          4.196565422769805,
          4.310253958809632,
          1.354863188920298,
          0.7594342121708735,
          1.5838471558836318,
          1.8240572756551003,
          7.166666666666668,
          5.583333333333336,
          6.25,
          9.666666666666668,
          10.75,
          12.333333333333332
         ],
         "yaxis": "y"
        },
        {
         "alignmentgroup": "True",
         "hovertemplate": "State=Tripura<br>Date=%{x}<br>Price Difference=%{y}<extra></extra>",
         "legendgroup": "Tripura",
         "marker": {
          "color": "#00cc96",
          "pattern": {
           "shape": ""
          }
         },
         "name": "Tripura",
         "offsetgroup": "Tripura",
         "orientation": "v",
         "showlegend": true,
         "textposition": "auto",
         "type": "bar",
         "x": [
          2001,
          2002,
          2003,
          2004,
          2005,
          2006,
          2007,
          2008,
          2009,
          2010,
          2011,
          2012,
          2013,
          2014,
          2015,
          2016,
          2017,
          2018,
          2019,
          2020,
          2021
         ],
         "xaxis": "x",
         "y": [
          0,
          0,
          0,
          0,
          0,
          0,
          0,
          0,
          0,
          0,
          0,
          0,
          0,
          0,
          0,
          0.75,
          0,
          0,
          0,
          0,
          0
         ],
         "yaxis": "y"
        },
        {
         "alignmentgroup": "True",
         "hovertemplate": "State=Union Territories<br>Date=%{x}<br>Price Difference=%{y}<extra></extra>",
         "legendgroup": "Union Territories",
         "marker": {
          "color": "#ab63fa",
          "pattern": {
           "shape": ""
          }
         },
         "name": "Union Territories",
         "offsetgroup": "Union Territories",
         "orientation": "v",
         "showlegend": true,
         "textposition": "auto",
         "type": "bar",
         "x": [
          2001,
          2002,
          2003,
          2004,
          2005,
          2006,
          2007,
          2008,
          2009,
          2010,
          2011,
          2012,
          2013,
          2014,
          2015,
          2016,
          2017,
          2018,
          2019,
          2020,
          2021
         ],
         "xaxis": "x",
         "y": [
          0.21638888888888808,
          0.07443910256410291,
          0.49875743566690467,
          0.027777777777778567,
          0.6741499040315428,
          0.0818750647592772,
          0.1271942198037479,
          0,
          0,
          0,
          0,
          0,
          0,
          0.8467186022731923,
          1.6421574213528594,
          5.954482035772806,
          2.0869892908781758,
          2.8274312657979728,
          2.471317486234934,
          0,
          0
         ],
         "yaxis": "y"
        },
        {
         "alignmentgroup": "True",
         "hovertemplate": "State=Uttar Pradesh<br>Date=%{x}<br>Price Difference=%{y}<extra></extra>",
         "legendgroup": "Uttar Pradesh",
         "marker": {
          "color": "#FFA15A",
          "pattern": {
           "shape": ""
          }
         },
         "name": "Uttar Pradesh",
         "offsetgroup": "Uttar Pradesh",
         "orientation": "v",
         "showlegend": true,
         "textposition": "auto",
         "type": "bar",
         "x": [
          2001,
          2002,
          2003,
          2004,
          2005,
          2006,
          2007,
          2008,
          2009,
          2010,
          2011,
          2012,
          2013,
          2014,
          2015,
          2016,
          2017,
          2018,
          2019,
          2020,
          2021
         ],
         "xaxis": "x",
         "y": [
          0.09606987219582663,
          0.5881016134036319,
          0.9134781267098919,
          0.353770046154656,
          1.3006919096431204,
          1.693525881144966,
          2.552270553316532,
          2.04476532335182,
          2.918901818576213,
          1.713489219764318,
          1.5424411422700288,
          1.4649924824655916,
          2.584255525915683,
          0.9882538486571448,
          0.007351770110634703,
          0.18566081210871133,
          1.6139746227709146,
          2.9779239037646086,
          3.2895717438191845,
          2.7182946918143607,
          2.3888888888888893
         ],
         "yaxis": "y"
        },
        {
         "alignmentgroup": "True",
         "hovertemplate": "State=Uttarakhand<br>Date=%{x}<br>Price Difference=%{y}<extra></extra>",
         "legendgroup": "Uttarakhand",
         "marker": {
          "color": "#19d3f3",
          "pattern": {
           "shape": ""
          }
         },
         "name": "Uttarakhand",
         "offsetgroup": "Uttarakhand",
         "orientation": "v",
         "showlegend": true,
         "textposition": "auto",
         "type": "bar",
         "x": [
          2001,
          2002,
          2003,
          2004,
          2005,
          2006,
          2007,
          2008,
          2009,
          2010,
          2011,
          2012,
          2013,
          2014,
          2015,
          2016,
          2017,
          2018,
          2019,
          2020,
          2021
         ],
         "xaxis": "x",
         "y": [
          1.454699100311382,
          0.25,
          0,
          0,
          0.17708174784373476,
          0,
          0,
          1.0712657533654113,
          0,
          0,
          0,
          0,
          0,
          0,
          0,
          0,
          0,
          0.7973277265328278,
          2.0650581698029242,
          0.1986825970317767,
          0
         ],
         "yaxis": "y"
        },
        {
         "alignmentgroup": "True",
         "hovertemplate": "State=West Bengal<br>Date=%{x}<br>Price Difference=%{y}<extra></extra>",
         "legendgroup": "West Bengal",
         "marker": {
          "color": "#FF6692",
          "pattern": {
           "shape": ""
          }
         },
         "name": "West Bengal",
         "offsetgroup": "West Bengal",
         "orientation": "v",
         "showlegend": true,
         "textposition": "auto",
         "type": "bar",
         "x": [
          2001,
          2002,
          2003,
          2004,
          2005,
          2006,
          2007,
          2008,
          2009,
          2010,
          2011,
          2012,
          2013,
          2014,
          2015,
          2016,
          2017,
          2018,
          2019,
          2020,
          2021
         ],
         "xaxis": "x",
         "y": [
          0.728845893605893,
          1.0695453563743698,
          0.2897418779568586,
          0.027895480225989644,
          0.3752583470605426,
          1.0136629727174107,
          1.7119018062234144,
          2.1023866106125837,
          1.778073242608535,
          1.4011748546472518,
          1.542565083142815,
          1.1907546349432145,
          1.6961642113534445,
          1.0097949094340635,
          0.3568482049824695,
          1.3288373696118292,
          0.3954240272018019,
          0.5336879432624109,
          0.25,
          0.8530137265884719,
          2.395949006665372
         ],
         "yaxis": "y"
        }
       ],
       "layout": {
        "barmode": "group",
        "legend": {
         "title": {
          "text": "State"
         },
         "tracegroupgap": 0
        },
        "margin": {
         "t": 60
        },
        "template": {
         "data": {
          "bar": [
           {
            "error_x": {
             "color": "#2a3f5f"
            },
            "error_y": {
             "color": "#2a3f5f"
            },
            "marker": {
             "line": {
              "color": "#E5ECF6",
              "width": 0.5
             },
             "pattern": {
              "fillmode": "overlay",
              "size": 10,
              "solidity": 0.2
             }
            },
            "type": "bar"
           }
          ],
          "barpolar": [
           {
            "marker": {
             "line": {
              "color": "#E5ECF6",
              "width": 0.5
             },
             "pattern": {
              "fillmode": "overlay",
              "size": 10,
              "solidity": 0.2
             }
            },
            "type": "barpolar"
           }
          ],
          "carpet": [
           {
            "aaxis": {
             "endlinecolor": "#2a3f5f",
             "gridcolor": "white",
             "linecolor": "white",
             "minorgridcolor": "white",
             "startlinecolor": "#2a3f5f"
            },
            "baxis": {
             "endlinecolor": "#2a3f5f",
             "gridcolor": "white",
             "linecolor": "white",
             "minorgridcolor": "white",
             "startlinecolor": "#2a3f5f"
            },
            "type": "carpet"
           }
          ],
          "choropleth": [
           {
            "colorbar": {
             "outlinewidth": 0,
             "ticks": ""
            },
            "type": "choropleth"
           }
          ],
          "contour": [
           {
            "colorbar": {
             "outlinewidth": 0,
             "ticks": ""
            },
            "colorscale": [
             [
              0,
              "#0d0887"
             ],
             [
              0.1111111111111111,
              "#46039f"
             ],
             [
              0.2222222222222222,
              "#7201a8"
             ],
             [
              0.3333333333333333,
              "#9c179e"
             ],
             [
              0.4444444444444444,
              "#bd3786"
             ],
             [
              0.5555555555555556,
              "#d8576b"
             ],
             [
              0.6666666666666666,
              "#ed7953"
             ],
             [
              0.7777777777777778,
              "#fb9f3a"
             ],
             [
              0.8888888888888888,
              "#fdca26"
             ],
             [
              1,
              "#f0f921"
             ]
            ],
            "type": "contour"
           }
          ],
          "contourcarpet": [
           {
            "colorbar": {
             "outlinewidth": 0,
             "ticks": ""
            },
            "type": "contourcarpet"
           }
          ],
          "heatmap": [
           {
            "colorbar": {
             "outlinewidth": 0,
             "ticks": ""
            },
            "colorscale": [
             [
              0,
              "#0d0887"
             ],
             [
              0.1111111111111111,
              "#46039f"
             ],
             [
              0.2222222222222222,
              "#7201a8"
             ],
             [
              0.3333333333333333,
              "#9c179e"
             ],
             [
              0.4444444444444444,
              "#bd3786"
             ],
             [
              0.5555555555555556,
              "#d8576b"
             ],
             [
              0.6666666666666666,
              "#ed7953"
             ],
             [
              0.7777777777777778,
              "#fb9f3a"
             ],
             [
              0.8888888888888888,
              "#fdca26"
             ],
             [
              1,
              "#f0f921"
             ]
            ],
            "type": "heatmap"
           }
          ],
          "heatmapgl": [
           {
            "colorbar": {
             "outlinewidth": 0,
             "ticks": ""
            },
            "colorscale": [
             [
              0,
              "#0d0887"
             ],
             [
              0.1111111111111111,
              "#46039f"
             ],
             [
              0.2222222222222222,
              "#7201a8"
             ],
             [
              0.3333333333333333,
              "#9c179e"
             ],
             [
              0.4444444444444444,
              "#bd3786"
             ],
             [
              0.5555555555555556,
              "#d8576b"
             ],
             [
              0.6666666666666666,
              "#ed7953"
             ],
             [
              0.7777777777777778,
              "#fb9f3a"
             ],
             [
              0.8888888888888888,
              "#fdca26"
             ],
             [
              1,
              "#f0f921"
             ]
            ],
            "type": "heatmapgl"
           }
          ],
          "histogram": [
           {
            "marker": {
             "pattern": {
              "fillmode": "overlay",
              "size": 10,
              "solidity": 0.2
             }
            },
            "type": "histogram"
           }
          ],
          "histogram2d": [
           {
            "colorbar": {
             "outlinewidth": 0,
             "ticks": ""
            },
            "colorscale": [
             [
              0,
              "#0d0887"
             ],
             [
              0.1111111111111111,
              "#46039f"
             ],
             [
              0.2222222222222222,
              "#7201a8"
             ],
             [
              0.3333333333333333,
              "#9c179e"
             ],
             [
              0.4444444444444444,
              "#bd3786"
             ],
             [
              0.5555555555555556,
              "#d8576b"
             ],
             [
              0.6666666666666666,
              "#ed7953"
             ],
             [
              0.7777777777777778,
              "#fb9f3a"
             ],
             [
              0.8888888888888888,
              "#fdca26"
             ],
             [
              1,
              "#f0f921"
             ]
            ],
            "type": "histogram2d"
           }
          ],
          "histogram2dcontour": [
           {
            "colorbar": {
             "outlinewidth": 0,
             "ticks": ""
            },
            "colorscale": [
             [
              0,
              "#0d0887"
             ],
             [
              0.1111111111111111,
              "#46039f"
             ],
             [
              0.2222222222222222,
              "#7201a8"
             ],
             [
              0.3333333333333333,
              "#9c179e"
             ],
             [
              0.4444444444444444,
              "#bd3786"
             ],
             [
              0.5555555555555556,
              "#d8576b"
             ],
             [
              0.6666666666666666,
              "#ed7953"
             ],
             [
              0.7777777777777778,
              "#fb9f3a"
             ],
             [
              0.8888888888888888,
              "#fdca26"
             ],
             [
              1,
              "#f0f921"
             ]
            ],
            "type": "histogram2dcontour"
           }
          ],
          "mesh3d": [
           {
            "colorbar": {
             "outlinewidth": 0,
             "ticks": ""
            },
            "type": "mesh3d"
           }
          ],
          "parcoords": [
           {
            "line": {
             "colorbar": {
              "outlinewidth": 0,
              "ticks": ""
             }
            },
            "type": "parcoords"
           }
          ],
          "pie": [
           {
            "automargin": true,
            "type": "pie"
           }
          ],
          "scatter": [
           {
            "marker": {
             "colorbar": {
              "outlinewidth": 0,
              "ticks": ""
             }
            },
            "type": "scatter"
           }
          ],
          "scatter3d": [
           {
            "line": {
             "colorbar": {
              "outlinewidth": 0,
              "ticks": ""
             }
            },
            "marker": {
             "colorbar": {
              "outlinewidth": 0,
              "ticks": ""
             }
            },
            "type": "scatter3d"
           }
          ],
          "scattercarpet": [
           {
            "marker": {
             "colorbar": {
              "outlinewidth": 0,
              "ticks": ""
             }
            },
            "type": "scattercarpet"
           }
          ],
          "scattergeo": [
           {
            "marker": {
             "colorbar": {
              "outlinewidth": 0,
              "ticks": ""
             }
            },
            "type": "scattergeo"
           }
          ],
          "scattergl": [
           {
            "marker": {
             "colorbar": {
              "outlinewidth": 0,
              "ticks": ""
             }
            },
            "type": "scattergl"
           }
          ],
          "scattermapbox": [
           {
            "marker": {
             "colorbar": {
              "outlinewidth": 0,
              "ticks": ""
             }
            },
            "type": "scattermapbox"
           }
          ],
          "scatterpolar": [
           {
            "marker": {
             "colorbar": {
              "outlinewidth": 0,
              "ticks": ""
             }
            },
            "type": "scatterpolar"
           }
          ],
          "scatterpolargl": [
           {
            "marker": {
             "colorbar": {
              "outlinewidth": 0,
              "ticks": ""
             }
            },
            "type": "scatterpolargl"
           }
          ],
          "scatterternary": [
           {
            "marker": {
             "colorbar": {
              "outlinewidth": 0,
              "ticks": ""
             }
            },
            "type": "scatterternary"
           }
          ],
          "surface": [
           {
            "colorbar": {
             "outlinewidth": 0,
             "ticks": ""
            },
            "colorscale": [
             [
              0,
              "#0d0887"
             ],
             [
              0.1111111111111111,
              "#46039f"
             ],
             [
              0.2222222222222222,
              "#7201a8"
             ],
             [
              0.3333333333333333,
              "#9c179e"
             ],
             [
              0.4444444444444444,
              "#bd3786"
             ],
             [
              0.5555555555555556,
              "#d8576b"
             ],
             [
              0.6666666666666666,
              "#ed7953"
             ],
             [
              0.7777777777777778,
              "#fb9f3a"
             ],
             [
              0.8888888888888888,
              "#fdca26"
             ],
             [
              1,
              "#f0f921"
             ]
            ],
            "type": "surface"
           }
          ],
          "table": [
           {
            "cells": {
             "fill": {
              "color": "#EBF0F8"
             },
             "line": {
              "color": "white"
             }
            },
            "header": {
             "fill": {
              "color": "#C8D4E3"
             },
             "line": {
              "color": "white"
             }
            },
            "type": "table"
           }
          ]
         },
         "layout": {
          "annotationdefaults": {
           "arrowcolor": "#2a3f5f",
           "arrowhead": 0,
           "arrowwidth": 1
          },
          "autotypenumbers": "strict",
          "coloraxis": {
           "colorbar": {
            "outlinewidth": 0,
            "ticks": ""
           }
          },
          "colorscale": {
           "diverging": [
            [
             0,
             "#8e0152"
            ],
            [
             0.1,
             "#c51b7d"
            ],
            [
             0.2,
             "#de77ae"
            ],
            [
             0.3,
             "#f1b6da"
            ],
            [
             0.4,
             "#fde0ef"
            ],
            [
             0.5,
             "#f7f7f7"
            ],
            [
             0.6,
             "#e6f5d0"
            ],
            [
             0.7,
             "#b8e186"
            ],
            [
             0.8,
             "#7fbc41"
            ],
            [
             0.9,
             "#4d9221"
            ],
            [
             1,
             "#276419"
            ]
           ],
           "sequential": [
            [
             0,
             "#0d0887"
            ],
            [
             0.1111111111111111,
             "#46039f"
            ],
            [
             0.2222222222222222,
             "#7201a8"
            ],
            [
             0.3333333333333333,
             "#9c179e"
            ],
            [
             0.4444444444444444,
             "#bd3786"
            ],
            [
             0.5555555555555556,
             "#d8576b"
            ],
            [
             0.6666666666666666,
             "#ed7953"
            ],
            [
             0.7777777777777778,
             "#fb9f3a"
            ],
            [
             0.8888888888888888,
             "#fdca26"
            ],
            [
             1,
             "#f0f921"
            ]
           ],
           "sequentialminus": [
            [
             0,
             "#0d0887"
            ],
            [
             0.1111111111111111,
             "#46039f"
            ],
            [
             0.2222222222222222,
             "#7201a8"
            ],
            [
             0.3333333333333333,
             "#9c179e"
            ],
            [
             0.4444444444444444,
             "#bd3786"
            ],
            [
             0.5555555555555556,
             "#d8576b"
            ],
            [
             0.6666666666666666,
             "#ed7953"
            ],
            [
             0.7777777777777778,
             "#fb9f3a"
            ],
            [
             0.8888888888888888,
             "#fdca26"
            ],
            [
             1,
             "#f0f921"
            ]
           ]
          },
          "colorway": [
           "#636efa",
           "#EF553B",
           "#00cc96",
           "#ab63fa",
           "#FFA15A",
           "#19d3f3",
           "#FF6692",
           "#B6E880",
           "#FF97FF",
           "#FECB52"
          ],
          "font": {
           "color": "#2a3f5f"
          },
          "geo": {
           "bgcolor": "white",
           "lakecolor": "white",
           "landcolor": "#E5ECF6",
           "showlakes": true,
           "showland": true,
           "subunitcolor": "white"
          },
          "hoverlabel": {
           "align": "left"
          },
          "hovermode": "closest",
          "mapbox": {
           "style": "light"
          },
          "paper_bgcolor": "white",
          "plot_bgcolor": "#E5ECF6",
          "polar": {
           "angularaxis": {
            "gridcolor": "white",
            "linecolor": "white",
            "ticks": ""
           },
           "bgcolor": "#E5ECF6",
           "radialaxis": {
            "gridcolor": "white",
            "linecolor": "white",
            "ticks": ""
           }
          },
          "scene": {
           "xaxis": {
            "backgroundcolor": "#E5ECF6",
            "gridcolor": "white",
            "gridwidth": 2,
            "linecolor": "white",
            "showbackground": true,
            "ticks": "",
            "zerolinecolor": "white"
           },
           "yaxis": {
            "backgroundcolor": "#E5ECF6",
            "gridcolor": "white",
            "gridwidth": 2,
            "linecolor": "white",
            "showbackground": true,
            "ticks": "",
            "zerolinecolor": "white"
           },
           "zaxis": {
            "backgroundcolor": "#E5ECF6",
            "gridcolor": "white",
            "gridwidth": 2,
            "linecolor": "white",
            "showbackground": true,
            "ticks": "",
            "zerolinecolor": "white"
           }
          },
          "shapedefaults": {
           "line": {
            "color": "#2a3f5f"
           }
          },
          "ternary": {
           "aaxis": {
            "gridcolor": "white",
            "linecolor": "white",
            "ticks": ""
           },
           "baxis": {
            "gridcolor": "white",
            "linecolor": "white",
            "ticks": ""
           },
           "bgcolor": "#E5ECF6",
           "caxis": {
            "gridcolor": "white",
            "linecolor": "white",
            "ticks": ""
           }
          },
          "title": {
           "x": 0.05
          },
          "xaxis": {
           "automargin": true,
           "gridcolor": "white",
           "linecolor": "white",
           "ticks": "",
           "title": {
            "standoff": 15
           },
           "zerolinecolor": "white",
           "zerolinewidth": 2
          },
          "yaxis": {
           "automargin": true,
           "gridcolor": "white",
           "linecolor": "white",
           "ticks": "",
           "title": {
            "standoff": 15
           },
           "zerolinecolor": "white",
           "zerolinewidth": 2
          }
         }
        },
        "xaxis": {
         "anchor": "y",
         "domain": [
          0,
          1
         ],
         "title": {
          "text": "Date"
         }
        },
        "yaxis": {
         "anchor": "x",
         "domain": [
          0,
          1
         ],
         "title": {
          "text": "Price Difference"
         }
        }
       }
      },
      "text/html": [
       "<div>                            <div id=\"ba75687a-36ae-4452-b981-faa9e67dd80b\" class=\"plotly-graph-div\" style=\"height:525px; width:100%;\"></div>            <script type=\"text/javascript\">                require([\"plotly\"], function(Plotly) {                    window.PLOTLYENV=window.PLOTLYENV || {};                                    if (document.getElementById(\"ba75687a-36ae-4452-b981-faa9e67dd80b\")) {                    Plotly.newPlot(                        \"ba75687a-36ae-4452-b981-faa9e67dd80b\",                        [{\"alignmentgroup\":\"True\",\"hovertemplate\":\"State=Andhra Pradesh<br>Date=%{x}<br>Price Difference=%{y}<extra></extra>\",\"legendgroup\":\"Andhra Pradesh\",\"marker\":{\"color\":\"#636efa\",\"pattern\":{\"shape\":\"\"}},\"name\":\"Andhra Pradesh\",\"offsetgroup\":\"Andhra Pradesh\",\"orientation\":\"v\",\"showlegend\":true,\"textposition\":\"auto\",\"type\":\"bar\",\"x\":[2001,2002,2003,2004,2005,2006,2007,2008,2009,2010,2011,2012,2013,2014,2015,2016,2017,2018,2019,2020,2021],\"xaxis\":\"x\",\"y\":[1.3413422725432138,1.2801234736315958,1.4655400691164537,1.1390360169491593,0.2619669080179303,0.4149480044842253,0.659972315498738,1.172856515167787,3.1218224687150666,4.366174067077356,3.5868571357738936,4.4706488797854576,3.6795161791516477,3.156506363207427,2.796124472865209,2.7966384731703933,4.628927804677758,0.9335733066349654,4.8635938194803465,2.549953831760483,0.2550637416682875],\"yaxis\":\"y\"},{\"alignmentgroup\":\"True\",\"hovertemplate\":\"State=Arunachal Pradesh<br>Date=%{x}<br>Price Difference=%{y}<extra></extra>\",\"legendgroup\":\"Arunachal Pradesh\",\"marker\":{\"color\":\"#EF553B\",\"pattern\":{\"shape\":\"\"}},\"name\":\"Arunachal Pradesh\",\"offsetgroup\":\"Arunachal Pradesh\",\"orientation\":\"v\",\"showlegend\":true,\"textposition\":\"auto\",\"type\":\"bar\",\"x\":[2001,2002,2003,2004,2005,2006,2007,2008,2009,2010,2011,2012,2013,2014,2015,2016,2017,2018,2019,2020,2021],\"xaxis\":\"x\",\"y\":[0.0,0.0,0.0,0.0,0.0,0.0,0.0,0.0,0.0,0.0,0.0,0.0,0.0,0.0,0.0,0.0,0.0,0.0,0.0,3.166666666666668,0.0],\"yaxis\":\"y\"},{\"alignmentgroup\":\"True\",\"hovertemplate\":\"State=Assam<br>Date=%{x}<br>Price Difference=%{y}<extra></extra>\",\"legendgroup\":\"Assam\",\"marker\":{\"color\":\"#00cc96\",\"pattern\":{\"shape\":\"\"}},\"name\":\"Assam\",\"offsetgroup\":\"Assam\",\"orientation\":\"v\",\"showlegend\":true,\"textposition\":\"auto\",\"type\":\"bar\",\"x\":[2001,2002,2003,2004,2005,2006,2007,2008,2009,2010,2011,2012,2013,2014,2015,2016,2017,2018,2019,2020,2021],\"xaxis\":\"x\",\"y\":[0.0,0.030698529411765207,0.0,0.0,0.0,0.0,0.0,0.25,1.1875,1.1666666666666607,0.0,0.0416666666666643,0.7708333333333357,0.0,0.6828839869281005,1.7601388888888891,3.729166666666668,3.75,3.7916666666666643,3.333333333333332,4.0],\"yaxis\":\"y\"},{\"alignmentgroup\":\"True\",\"hovertemplate\":\"State=Bihar<br>Date=%{x}<br>Price Difference=%{y}<extra></extra>\",\"legendgroup\":\"Bihar\",\"marker\":{\"color\":\"#ab63fa\",\"pattern\":{\"shape\":\"\"}},\"name\":\"Bihar\",\"offsetgroup\":\"Bihar\",\"orientation\":\"v\",\"showlegend\":true,\"textposition\":\"auto\",\"type\":\"bar\",\"x\":[2001,2002,2003,2004,2005,2006,2007,2008,2009,2010,2011,2012,2013,2014,2015,2016,2017,2018,2019,2020,2021],\"xaxis\":\"x\",\"y\":[1.0111203803113078,1.051421134327713,0.8142832284458148,0.6179890932205101,0.2665482241465842,0.3333333333333339,0.3468373493975889,0.25,0.17708333333333393,0.34375,0.34375,0.5416666666666679,0.4223379629629598,0.5833333333333321,0.29166666666666785,0.2291666666666714,0.45833333333333215,0.7708333333333321,0.9375,0.8958333333333321,1.0],\"yaxis\":\"y\"},{\"alignmentgroup\":\"True\",\"hovertemplate\":\"State=Goa<br>Date=%{x}<br>Price Difference=%{y}<extra></extra>\",\"legendgroup\":\"Goa\",\"marker\":{\"color\":\"#FFA15A\",\"pattern\":{\"shape\":\"\"}},\"name\":\"Goa\",\"offsetgroup\":\"Goa\",\"orientation\":\"v\",\"showlegend\":true,\"textposition\":\"auto\",\"type\":\"bar\",\"x\":[2001,2002,2003,2004,2005,2006,2007,2008,2009,2010,2011,2012,2013,2014,2015,2016,2017,2018,2019,2020,2021],\"xaxis\":\"x\",\"y\":[1.75,1.791666666666666,1.416666666666666,1.3333333333333321,1.75,1.333333333333334,1.583333333333334,1.8333333333333321,2.083333333333332,3.583333333333332,3.6666666666666714,2.640740740740739,1.9166666666666679,1.8333333333333357,1.6666666666666643,1.8333333333333321,2.083333333333332,0.0,0.0,4.161212381835714,3.3535883000064715],\"yaxis\":\"y\"},{\"alignmentgroup\":\"True\",\"hovertemplate\":\"State=Gujarat<br>Date=%{x}<br>Price Difference=%{y}<extra></extra>\",\"legendgroup\":\"Gujarat\",\"marker\":{\"color\":\"#19d3f3\",\"pattern\":{\"shape\":\"\"}},\"name\":\"Gujarat\",\"offsetgroup\":\"Gujarat\",\"orientation\":\"v\",\"showlegend\":true,\"textposition\":\"auto\",\"type\":\"bar\",\"x\":[2001,2002,2003,2004,2005,2006,2007,2008,2009,2010,2011,2012,2013,2014,2015,2016,2017,2018,2019,2020,2021],\"xaxis\":\"x\",\"y\":[0.13229166666666714,0.28749999999999964,0.1416099773242614,0.3812500000000014,0.21827831684423948,0.3447916666666657,0.4156249999999986,0.3832559122032073,0.015625,0.08749999999999858,3.822916666666668,0.8848826876184148,0.8604885963865812,1.3138167660442797,0.6622088604681231,0.0049718065037289705,1.7929464285714367,2.1249999999999964,2.479166666666668,2.6041666666666643,2.083333333333332],\"yaxis\":\"y\"},{\"alignmentgroup\":\"True\",\"hovertemplate\":\"State=Haryana<br>Date=%{x}<br>Price Difference=%{y}<extra></extra>\",\"legendgroup\":\"Haryana\",\"marker\":{\"color\":\"#FF6692\",\"pattern\":{\"shape\":\"\"}},\"name\":\"Haryana\",\"offsetgroup\":\"Haryana\",\"orientation\":\"v\",\"showlegend\":true,\"textposition\":\"auto\",\"type\":\"bar\",\"x\":[2001,2002,2003,2004,2005,2006,2007,2008,2009,2010,2011,2012,2013,2014,2015,2016,2017,2018,2019,2020,2021],\"xaxis\":\"x\",\"y\":[1.5574751274358034,2.709167917559994,2.180167878601533,1.5459169696847805,2.1976356407196995,2.599287677871974,4.210109882682703,3.623781506730822,3.723659233547158,4.886767910563522,5.668912707857027,5.020136811079704,5.159063190327235,4.354586657088568,4.116084387602914,3.865056386992535,1.2461771936771946,0.0,3.0498735504243726,4.294573232161476,7.396411699993525],\"yaxis\":\"y\"},{\"alignmentgroup\":\"True\",\"hovertemplate\":\"State=Himachal Pradesh<br>Date=%{x}<br>Price Difference=%{y}<extra></extra>\",\"legendgroup\":\"Himachal Pradesh\",\"marker\":{\"color\":\"#B6E880\",\"pattern\":{\"shape\":\"\"}},\"name\":\"Himachal Pradesh\",\"offsetgroup\":\"Himachal Pradesh\",\"orientation\":\"v\",\"showlegend\":true,\"textposition\":\"auto\",\"type\":\"bar\",\"x\":[2001,2002,2003,2004,2005,2006,2007,2008,2009,2010,2011,2012,2013,2014,2015,2016,2017,2018,2019,2020,2021],\"xaxis\":\"x\",\"y\":[0.012377263973434083,0.02736182645577756,0.15356645689162285,0.3026777444708504,0.7568372045361826,0.9955974331804285,1.2513717707612884,1.7763568394002505e-15,1.7763568394002505e-15,7.105427357601002e-15,7.105427357601002e-15,0.0997126436781599,0.0,0.0,3.552713678800501e-15,1.0658141036401503e-14,3.552713678800501e-15,7.105427357601002e-15,3.552713678800501e-15,2.1316282072803006e-14,0.0],\"yaxis\":\"y\"},{\"alignmentgroup\":\"True\",\"hovertemplate\":\"State=Jammu Kashmir<br>Date=%{x}<br>Price Difference=%{y}<extra></extra>\",\"legendgroup\":\"Jammu Kashmir\",\"marker\":{\"color\":\"#FF97FF\",\"pattern\":{\"shape\":\"\"}},\"name\":\"Jammu Kashmir\",\"offsetgroup\":\"Jammu Kashmir\",\"orientation\":\"v\",\"showlegend\":true,\"textposition\":\"auto\",\"type\":\"bar\",\"x\":[2001,2002,2003,2004,2005,2006,2007,2008,2009,2010,2011,2012,2013,2014,2015,2016,2017,2018,2019,2020,2021],\"xaxis\":\"x\",\"y\":[0.0,0.1469362745098053,0.0,1.4474850873016294,0.9443372045361809,1.4863541381612695,0.9877403988576923,1.0408492711182404,1.5883097117583862,1.8808839552817584,2.333773882664147,1.8351503673998302,1.4088601731168424,2.42240585892376,2.706037106279034,3.4469569717878557,2.7776200669376756,2.6331688706062906,2.1187152314575535,0.5736825970317767,0.0],\"yaxis\":\"y\"},{\"alignmentgroup\":\"True\",\"hovertemplate\":\"State=Jharkhand<br>Date=%{x}<br>Price Difference=%{y}<extra></extra>\",\"legendgroup\":\"Jharkhand\",\"marker\":{\"color\":\"#FECB52\",\"pattern\":{\"shape\":\"\"}},\"name\":\"Jharkhand\",\"offsetgroup\":\"Jharkhand\",\"orientation\":\"v\",\"showlegend\":true,\"textposition\":\"auto\",\"type\":\"bar\",\"x\":[2001,2002,2003,2004,2005,2006,2007,2008,2009,2010,2011,2012,2013,2014,2015,2016,2017,2018,2019,2020,2021],\"xaxis\":\"x\",\"y\":[1.1674518277382298,1.4670158076912934,0.2988878313272032,0.9102425280316311,0.7612407562430068,1.8125,1.645833333333334,1.791666666666666,0.9166666666666661,0.944328995117754,0.7384603127381535,0.4684017388731867,0.9401454436111543,1.478653940251835,0.9589223505658744,0.6589158124660734,2.2916666666666643,3.0,3.083333333333332,2.5,2.833333333333332],\"yaxis\":\"y\"},{\"alignmentgroup\":\"True\",\"hovertemplate\":\"State=Karnataka<br>Date=%{x}<br>Price Difference=%{y}<extra></extra>\",\"legendgroup\":\"Karnataka\",\"marker\":{\"color\":\"#636efa\",\"pattern\":{\"shape\":\"\"}},\"name\":\"Karnataka\",\"offsetgroup\":\"Karnataka\",\"orientation\":\"v\",\"showlegend\":true,\"textposition\":\"auto\",\"type\":\"bar\",\"x\":[2001,2002,2003,2004,2005,2006,2007,2008,2009,2010,2011,2012,2013,2014,2015,2016,2017,2018,2019,2020,2021],\"xaxis\":\"x\",\"y\":[0.7989521775287347,0.7998980112347507,0.6179106752117036,0.6630698141890896,0.3486601020234428,2.0159179385233585,1.8992462442472284,0.3561620162010364,2.4097270301389244,1.074109002761503,0.7193048346080637,1.2541219897927824,1.6223545563888528,1.0637939764148427,2.0667170308367986,2.8460161025738273,0.9445232998644997,0.654054444809308,1.8333333333333357,2.1936889393585233,1.0883970750016232],\"yaxis\":\"y\"},{\"alignmentgroup\":\"True\",\"hovertemplate\":\"State=Kerala<br>Date=%{x}<br>Price Difference=%{y}<extra></extra>\",\"legendgroup\":\"Kerala\",\"marker\":{\"color\":\"#EF553B\",\"pattern\":{\"shape\":\"\"}},\"name\":\"Kerala\",\"offsetgroup\":\"Kerala\",\"orientation\":\"v\",\"showlegend\":true,\"textposition\":\"auto\",\"type\":\"bar\",\"x\":[2001,2002,2003,2004,2005,2006,2007,2008,2009,2010,2011,2012,2013,2014,2015,2016,2017,2018,2019,2020,2021],\"xaxis\":\"x\",\"y\":[5.150690340574712,4.54361459589626,4.536222456221468,2.644999740712235,2.837734069194493,2.654011303034471,3.130351032899581,3.0353643407812534,3.0095103845538222,2.885623051486789,4.346674310579903,3.780091207386466,2.564108533868371,2.608675150943224,1.3677492971536118,1.228851297560528,0.7128578224028956,0.5610014692930783,0.3248209136561364,0.06231404578746691,0.22897387777993572],\"yaxis\":\"y\"},{\"alignmentgroup\":\"True\",\"hovertemplate\":\"State=Madhya Pradesh<br>Date=%{x}<br>Price Difference=%{y}<extra></extra>\",\"legendgroup\":\"Madhya Pradesh\",\"marker\":{\"color\":\"#00cc96\",\"pattern\":{\"shape\":\"\"}},\"name\":\"Madhya Pradesh\",\"offsetgroup\":\"Madhya Pradesh\",\"orientation\":\"v\",\"showlegend\":true,\"textposition\":\"auto\",\"type\":\"bar\",\"x\":[2001,2002,2003,2004,2005,2006,2007,2008,2009,2010,2011,2012,2013,2014,2015,2016,2017,2018,2019,2020,2021],\"xaxis\":\"x\",\"y\":[0.5576388888888886,0.59375,0.21987612612612573,0.023611111111112137,0.28680555555555465,0.9917777244235335,0.7153539972899754,0.625,0.6527777777777821,0.6944444444444464,0.5833333333333321,0.20138888888888573,0.5555555555555536,0.75,0.625,0.3888888888888893,0.41666666666666785,1.0555555555555536,1.4027777777777786,3.4027777777777786,3.7222222222222214],\"yaxis\":\"y\"},{\"alignmentgroup\":\"True\",\"hovertemplate\":\"State=Maharashtra<br>Date=%{x}<br>Price Difference=%{y}<extra></extra>\",\"legendgroup\":\"Maharashtra\",\"marker\":{\"color\":\"#ab63fa\",\"pattern\":{\"shape\":\"\"}},\"name\":\"Maharashtra\",\"offsetgroup\":\"Maharashtra\",\"orientation\":\"v\",\"showlegend\":true,\"textposition\":\"auto\",\"type\":\"bar\",\"x\":[2001,2002,2003,2004,2005,2006,2007,2008,2009,2010,2011,2012,2013,2014,2015,2016,2017,2018,2019,2020,2021],\"xaxis\":\"x\",\"y\":[0.5416666666666696,0.6416666666666639,0.4916666666666689,0.8666666666666707,0.45000000000000284,0.5916666666666668,0.2749999999999986,1.4083333333333297,0.44499999999999673,0.25666666666666416,0.5453841250952571,1.19486069554927,1.158333333333335,0.9375000000000036,2.4999999999999964,1.999999999999993,2.0,2.7097828561200537,2.0308194259163557,1.851090856966188,0.13738432666796285],\"yaxis\":\"y\"},{\"alignmentgroup\":\"True\",\"hovertemplate\":\"State=Nagaland<br>Date=%{x}<br>Price Difference=%{y}<extra></extra>\",\"legendgroup\":\"Nagaland\",\"marker\":{\"color\":\"#FFA15A\",\"pattern\":{\"shape\":\"\"}},\"name\":\"Nagaland\",\"offsetgroup\":\"Nagaland\",\"orientation\":\"v\",\"showlegend\":true,\"textposition\":\"auto\",\"type\":\"bar\",\"x\":[2001,2002,2003,2004,2005,2006,2007,2008,2009,2010,2011,2012,2013,2014,2015,2016,2017,2018,2019,2020,2021],\"xaxis\":\"x\",\"y\":[0.0,0.0,0.0,0.0,5.2211799311799325,0.0,0.0,0.0,0.0,0.0,0.0,0.0,0.0,0.0,0.0,0.0,0.0,0.0,0.0,0.0,0.0],\"yaxis\":\"y\"},{\"alignmentgroup\":\"True\",\"hovertemplate\":\"State=National Capital<br>Date=%{x}<br>Price Difference=%{y}<extra></extra>\",\"legendgroup\":\"National Capital\",\"marker\":{\"color\":\"#19d3f3\",\"pattern\":{\"shape\":\"\"}},\"name\":\"National Capital\",\"offsetgroup\":\"National Capital\",\"orientation\":\"v\",\"showlegend\":true,\"textposition\":\"auto\",\"type\":\"bar\",\"x\":[2001,2002,2003,2004,2005,2006,2007,2008,2009,2010,2011,2012,2013,2014,2015,2016,2017,2018,2019,2020,2021],\"xaxis\":\"x\",\"y\":[0.5,0.5,0.5000000000000009,0.7916666666666661,1.0,1.666666666666666,2.875,3.791666666666666,2.625,1.8023826748285945,1.939746041190368,2.520136811079702,3.6302908872223085,5.9573078805036666,5.565502108539153,6.063446107318413,4.221906800542012,2.516337741212592,0.7374304629151176,1.7817700743046387,3.646411699993525],\"yaxis\":\"y\"},{\"alignmentgroup\":\"True\",\"hovertemplate\":\"State=Orissa<br>Date=%{x}<br>Price Difference=%{y}<extra></extra>\",\"legendgroup\":\"Orissa\",\"marker\":{\"color\":\"#FF6692\",\"pattern\":{\"shape\":\"\"}},\"name\":\"Orissa\",\"offsetgroup\":\"Orissa\",\"orientation\":\"v\",\"showlegend\":true,\"textposition\":\"auto\",\"type\":\"bar\",\"x\":[2001,2002,2003,2004,2005,2006,2007,2008,2009,2010,2011,2012,2013,2014,2015,2016,2017,2018,2019,2020,2021],\"xaxis\":\"x\",\"y\":[1.1403188286808952,1.1802662037037006,1.6611111111111132,1.166666666666666,1.2361111111111125,1.0555555555555554,1.4861111111111072,1.083333333333334,1.2716229322207582,0.7384554294093704,2.277777777777782,1.9444444444444429,1.0277777777777786,1.3611111111111107,1.5833333333333321,2.888888888888893,5.694444444444443,6.1274855258041185,6.313421485724174,5.8574749212237975,5.124614422226539],\"yaxis\":\"y\"},{\"alignmentgroup\":\"True\",\"hovertemplate\":\"State=Punjab<br>Date=%{x}<br>Price Difference=%{y}<extra></extra>\",\"legendgroup\":\"Punjab\",\"marker\":{\"color\":\"#B6E880\",\"pattern\":{\"shape\":\"\"}},\"name\":\"Punjab\",\"offsetgroup\":\"Punjab\",\"orientation\":\"v\",\"showlegend\":true,\"textposition\":\"auto\",\"type\":\"bar\",\"x\":[2001,2002,2003,2004,2005,2006,2007,2008,2009,2010,2011,2012,2013,2014,2015,2016,2017,2018,2019,2020,2021],\"xaxis\":\"x\",\"y\":[1.830125251529159,1.7201561494636417,1.3957966281365,1.071638710146276,2.1127181841349536,1.6703828553551734,2.1396105752681827,3.541001716070598,3.3694603063083477,4.2570127316558,3.888692401343617,3.6715759657382865,4.03680717267812,0.5906249999999957,1.0658141036401503e-14,0.9558727618072886,0.5750814006323886,0.902429302789507,1.9236950240649122,1.3612068466919034,0.959694989106751],\"yaxis\":\"y\"},{\"alignmentgroup\":\"True\",\"hovertemplate\":\"State=Rajasthan<br>Date=%{x}<br>Price Difference=%{y}<extra></extra>\",\"legendgroup\":\"Rajasthan\",\"marker\":{\"color\":\"#FF97FF\",\"pattern\":{\"shape\":\"\"}},\"name\":\"Rajasthan\",\"offsetgroup\":\"Rajasthan\",\"orientation\":\"v\",\"showlegend\":true,\"textposition\":\"auto\",\"type\":\"bar\",\"x\":[2001,2002,2003,2004,2005,2006,2007,2008,2009,2010,2011,2012,2013,2014,2015,2016,2017,2018,2019,2020,2021],\"xaxis\":\"x\",\"y\":[0.6157555776139212,0.4360006438987405,0.6239265827566545,0.7205652651809107,1.081927946882967,2.39213528822331,2.6716053098698733,2.7576729680128302,2.914519782032812,2.5145940791066934,2.7915684247910093,2.612454086353871,1.9666666666666615,2.8961852004795645,2.950126565498678,0.5880885057492904,1.7422055320604848,1.3333333333333321,0.7666666666666657,0.43333333333333357,1.5333333333333314],\"yaxis\":\"y\"},{\"alignmentgroup\":\"True\",\"hovertemplate\":\"State=Sikkim<br>Date=%{x}<br>Price Difference=%{y}<extra></extra>\",\"legendgroup\":\"Sikkim\",\"marker\":{\"color\":\"#FECB52\",\"pattern\":{\"shape\":\"\"}},\"name\":\"Sikkim\",\"offsetgroup\":\"Sikkim\",\"orientation\":\"v\",\"showlegend\":true,\"textposition\":\"auto\",\"type\":\"bar\",\"x\":[2001,2002,2003,2004,2005,2006,2007,2008,2009,2010,2011,2012,2013,2014,2015,2016,2017,2018,2019,2020,2021],\"xaxis\":\"x\",\"y\":[0.0,0.0,0.0,0.0,0.0,0.0,0.0,0.0,0.0,0.0,0.0,0.0,0.7849228395061765,1.7225519989843896,0.29132734389156667,0.6301292263225093,0.0,0.0,0.0,0.0,0.0],\"yaxis\":\"y\"},{\"alignmentgroup\":\"True\",\"hovertemplate\":\"State=Tamil Nadu<br>Date=%{x}<br>Price Difference=%{y}<extra></extra>\",\"legendgroup\":\"Tamil Nadu\",\"marker\":{\"color\":\"#636efa\",\"pattern\":{\"shape\":\"\"}},\"name\":\"Tamil Nadu\",\"offsetgroup\":\"Tamil Nadu\",\"orientation\":\"v\",\"showlegend\":true,\"textposition\":\"auto\",\"type\":\"bar\",\"x\":[2001,2002,2003,2004,2005,2006,2007,2008,2009,2010,2011,2012,2013,2014,2015,2016,2017,2018,2019,2020,2021],\"xaxis\":\"x\",\"y\":[1.7205888448482138,0.8154923862627399,0.9944229610111801,1.2443836185578547,0.2092690549661942,0.9741143385025985,2.0516244083050275,0.5180735909368224,0.8977283226957482,2.093226100705582,2.548239229244736,2.385733565190847,0.69377413797557,0.2773749454443575,1.060233865054851,1.8538647280606142,4.789190274848682,1.2892863749981984,7.269230203065284,3.4583333333333357,6.55555555555555],\"yaxis\":\"y\"},{\"alignmentgroup\":\"True\",\"hovertemplate\":\"State=Telangana<br>Date=%{x}<br>Price Difference=%{y}<extra></extra>\",\"legendgroup\":\"Telangana\",\"marker\":{\"color\":\"#EF553B\",\"pattern\":{\"shape\":\"\"}},\"name\":\"Telangana\",\"offsetgroup\":\"Telangana\",\"orientation\":\"v\",\"showlegend\":true,\"textposition\":\"auto\",\"type\":\"bar\",\"x\":[2001,2002,2003,2004,2005,2006,2007,2008,2009,2010,2011,2012,2013,2014,2015,2016,2017,2018,2019,2020,2021],\"xaxis\":\"x\",\"y\":[1.541666666666666,4.375,6.279954954954954,7.833333333333334,7.416666666666666,6.0067450828183215,0.0,0.0,1.3211045282235432,4.196565422769805,4.310253958809632,1.354863188920298,0.7594342121708735,1.5838471558836318,1.8240572756551003,7.166666666666668,5.583333333333336,6.25,9.666666666666668,10.75,12.333333333333332],\"yaxis\":\"y\"},{\"alignmentgroup\":\"True\",\"hovertemplate\":\"State=Tripura<br>Date=%{x}<br>Price Difference=%{y}<extra></extra>\",\"legendgroup\":\"Tripura\",\"marker\":{\"color\":\"#00cc96\",\"pattern\":{\"shape\":\"\"}},\"name\":\"Tripura\",\"offsetgroup\":\"Tripura\",\"orientation\":\"v\",\"showlegend\":true,\"textposition\":\"auto\",\"type\":\"bar\",\"x\":[2001,2002,2003,2004,2005,2006,2007,2008,2009,2010,2011,2012,2013,2014,2015,2016,2017,2018,2019,2020,2021],\"xaxis\":\"x\",\"y\":[0.0,0.0,0.0,0.0,0.0,0.0,0.0,0.0,0.0,0.0,0.0,0.0,0.0,0.0,0.0,0.75,0.0,0.0,0.0,0.0,0.0],\"yaxis\":\"y\"},{\"alignmentgroup\":\"True\",\"hovertemplate\":\"State=Union Territories<br>Date=%{x}<br>Price Difference=%{y}<extra></extra>\",\"legendgroup\":\"Union Territories\",\"marker\":{\"color\":\"#ab63fa\",\"pattern\":{\"shape\":\"\"}},\"name\":\"Union Territories\",\"offsetgroup\":\"Union Territories\",\"orientation\":\"v\",\"showlegend\":true,\"textposition\":\"auto\",\"type\":\"bar\",\"x\":[2001,2002,2003,2004,2005,2006,2007,2008,2009,2010,2011,2012,2013,2014,2015,2016,2017,2018,2019,2020,2021],\"xaxis\":\"x\",\"y\":[0.21638888888888808,0.07443910256410291,0.49875743566690467,0.027777777777778567,0.6741499040315428,0.0818750647592772,0.1271942198037479,0.0,0.0,0.0,0.0,0.0,0.0,0.8467186022731923,1.6421574213528594,5.954482035772806,2.0869892908781758,2.8274312657979728,2.471317486234934,0.0,0.0],\"yaxis\":\"y\"},{\"alignmentgroup\":\"True\",\"hovertemplate\":\"State=Uttar Pradesh<br>Date=%{x}<br>Price Difference=%{y}<extra></extra>\",\"legendgroup\":\"Uttar Pradesh\",\"marker\":{\"color\":\"#FFA15A\",\"pattern\":{\"shape\":\"\"}},\"name\":\"Uttar Pradesh\",\"offsetgroup\":\"Uttar Pradesh\",\"orientation\":\"v\",\"showlegend\":true,\"textposition\":\"auto\",\"type\":\"bar\",\"x\":[2001,2002,2003,2004,2005,2006,2007,2008,2009,2010,2011,2012,2013,2014,2015,2016,2017,2018,2019,2020,2021],\"xaxis\":\"x\",\"y\":[0.09606987219582663,0.5881016134036319,0.9134781267098919,0.353770046154656,1.3006919096431204,1.693525881144966,2.552270553316532,2.04476532335182,2.918901818576213,1.713489219764318,1.5424411422700288,1.4649924824655916,2.584255525915683,0.9882538486571448,0.007351770110634703,0.18566081210871133,1.6139746227709146,2.9779239037646086,3.2895717438191845,2.7182946918143607,2.3888888888888893],\"yaxis\":\"y\"},{\"alignmentgroup\":\"True\",\"hovertemplate\":\"State=Uttarakhand<br>Date=%{x}<br>Price Difference=%{y}<extra></extra>\",\"legendgroup\":\"Uttarakhand\",\"marker\":{\"color\":\"#19d3f3\",\"pattern\":{\"shape\":\"\"}},\"name\":\"Uttarakhand\",\"offsetgroup\":\"Uttarakhand\",\"orientation\":\"v\",\"showlegend\":true,\"textposition\":\"auto\",\"type\":\"bar\",\"x\":[2001,2002,2003,2004,2005,2006,2007,2008,2009,2010,2011,2012,2013,2014,2015,2016,2017,2018,2019,2020,2021],\"xaxis\":\"x\",\"y\":[1.454699100311382,0.25,0.0,0.0,0.17708174784373476,0.0,0.0,1.0712657533654113,0.0,0.0,0.0,0.0,0.0,0.0,0.0,0.0,0.0,0.7973277265328278,2.0650581698029242,0.1986825970317767,0.0],\"yaxis\":\"y\"},{\"alignmentgroup\":\"True\",\"hovertemplate\":\"State=West Bengal<br>Date=%{x}<br>Price Difference=%{y}<extra></extra>\",\"legendgroup\":\"West Bengal\",\"marker\":{\"color\":\"#FF6692\",\"pattern\":{\"shape\":\"\"}},\"name\":\"West Bengal\",\"offsetgroup\":\"West Bengal\",\"orientation\":\"v\",\"showlegend\":true,\"textposition\":\"auto\",\"type\":\"bar\",\"x\":[2001,2002,2003,2004,2005,2006,2007,2008,2009,2010,2011,2012,2013,2014,2015,2016,2017,2018,2019,2020,2021],\"xaxis\":\"x\",\"y\":[0.728845893605893,1.0695453563743698,0.2897418779568586,0.027895480225989644,0.3752583470605426,1.0136629727174107,1.7119018062234144,2.1023866106125837,1.778073242608535,1.4011748546472518,1.542565083142815,1.1907546349432145,1.6961642113534445,1.0097949094340635,0.3568482049824695,1.3288373696118292,0.3954240272018019,0.5336879432624109,0.25,0.8530137265884719,2.395949006665372],\"yaxis\":\"y\"}],                        {\"barmode\":\"group\",\"legend\":{\"title\":{\"text\":\"State\"},\"tracegroupgap\":0},\"margin\":{\"t\":60},\"template\":{\"data\":{\"bar\":[{\"error_x\":{\"color\":\"#2a3f5f\"},\"error_y\":{\"color\":\"#2a3f5f\"},\"marker\":{\"line\":{\"color\":\"#E5ECF6\",\"width\":0.5},\"pattern\":{\"fillmode\":\"overlay\",\"size\":10,\"solidity\":0.2}},\"type\":\"bar\"}],\"barpolar\":[{\"marker\":{\"line\":{\"color\":\"#E5ECF6\",\"width\":0.5},\"pattern\":{\"fillmode\":\"overlay\",\"size\":10,\"solidity\":0.2}},\"type\":\"barpolar\"}],\"carpet\":[{\"aaxis\":{\"endlinecolor\":\"#2a3f5f\",\"gridcolor\":\"white\",\"linecolor\":\"white\",\"minorgridcolor\":\"white\",\"startlinecolor\":\"#2a3f5f\"},\"baxis\":{\"endlinecolor\":\"#2a3f5f\",\"gridcolor\":\"white\",\"linecolor\":\"white\",\"minorgridcolor\":\"white\",\"startlinecolor\":\"#2a3f5f\"},\"type\":\"carpet\"}],\"choropleth\":[{\"colorbar\":{\"outlinewidth\":0,\"ticks\":\"\"},\"type\":\"choropleth\"}],\"contour\":[{\"colorbar\":{\"outlinewidth\":0,\"ticks\":\"\"},\"colorscale\":[[0.0,\"#0d0887\"],[0.1111111111111111,\"#46039f\"],[0.2222222222222222,\"#7201a8\"],[0.3333333333333333,\"#9c179e\"],[0.4444444444444444,\"#bd3786\"],[0.5555555555555556,\"#d8576b\"],[0.6666666666666666,\"#ed7953\"],[0.7777777777777778,\"#fb9f3a\"],[0.8888888888888888,\"#fdca26\"],[1.0,\"#f0f921\"]],\"type\":\"contour\"}],\"contourcarpet\":[{\"colorbar\":{\"outlinewidth\":0,\"ticks\":\"\"},\"type\":\"contourcarpet\"}],\"heatmap\":[{\"colorbar\":{\"outlinewidth\":0,\"ticks\":\"\"},\"colorscale\":[[0.0,\"#0d0887\"],[0.1111111111111111,\"#46039f\"],[0.2222222222222222,\"#7201a8\"],[0.3333333333333333,\"#9c179e\"],[0.4444444444444444,\"#bd3786\"],[0.5555555555555556,\"#d8576b\"],[0.6666666666666666,\"#ed7953\"],[0.7777777777777778,\"#fb9f3a\"],[0.8888888888888888,\"#fdca26\"],[1.0,\"#f0f921\"]],\"type\":\"heatmap\"}],\"heatmapgl\":[{\"colorbar\":{\"outlinewidth\":0,\"ticks\":\"\"},\"colorscale\":[[0.0,\"#0d0887\"],[0.1111111111111111,\"#46039f\"],[0.2222222222222222,\"#7201a8\"],[0.3333333333333333,\"#9c179e\"],[0.4444444444444444,\"#bd3786\"],[0.5555555555555556,\"#d8576b\"],[0.6666666666666666,\"#ed7953\"],[0.7777777777777778,\"#fb9f3a\"],[0.8888888888888888,\"#fdca26\"],[1.0,\"#f0f921\"]],\"type\":\"heatmapgl\"}],\"histogram\":[{\"marker\":{\"pattern\":{\"fillmode\":\"overlay\",\"size\":10,\"solidity\":0.2}},\"type\":\"histogram\"}],\"histogram2d\":[{\"colorbar\":{\"outlinewidth\":0,\"ticks\":\"\"},\"colorscale\":[[0.0,\"#0d0887\"],[0.1111111111111111,\"#46039f\"],[0.2222222222222222,\"#7201a8\"],[0.3333333333333333,\"#9c179e\"],[0.4444444444444444,\"#bd3786\"],[0.5555555555555556,\"#d8576b\"],[0.6666666666666666,\"#ed7953\"],[0.7777777777777778,\"#fb9f3a\"],[0.8888888888888888,\"#fdca26\"],[1.0,\"#f0f921\"]],\"type\":\"histogram2d\"}],\"histogram2dcontour\":[{\"colorbar\":{\"outlinewidth\":0,\"ticks\":\"\"},\"colorscale\":[[0.0,\"#0d0887\"],[0.1111111111111111,\"#46039f\"],[0.2222222222222222,\"#7201a8\"],[0.3333333333333333,\"#9c179e\"],[0.4444444444444444,\"#bd3786\"],[0.5555555555555556,\"#d8576b\"],[0.6666666666666666,\"#ed7953\"],[0.7777777777777778,\"#fb9f3a\"],[0.8888888888888888,\"#fdca26\"],[1.0,\"#f0f921\"]],\"type\":\"histogram2dcontour\"}],\"mesh3d\":[{\"colorbar\":{\"outlinewidth\":0,\"ticks\":\"\"},\"type\":\"mesh3d\"}],\"parcoords\":[{\"line\":{\"colorbar\":{\"outlinewidth\":0,\"ticks\":\"\"}},\"type\":\"parcoords\"}],\"pie\":[{\"automargin\":true,\"type\":\"pie\"}],\"scatter\":[{\"marker\":{\"colorbar\":{\"outlinewidth\":0,\"ticks\":\"\"}},\"type\":\"scatter\"}],\"scatter3d\":[{\"line\":{\"colorbar\":{\"outlinewidth\":0,\"ticks\":\"\"}},\"marker\":{\"colorbar\":{\"outlinewidth\":0,\"ticks\":\"\"}},\"type\":\"scatter3d\"}],\"scattercarpet\":[{\"marker\":{\"colorbar\":{\"outlinewidth\":0,\"ticks\":\"\"}},\"type\":\"scattercarpet\"}],\"scattergeo\":[{\"marker\":{\"colorbar\":{\"outlinewidth\":0,\"ticks\":\"\"}},\"type\":\"scattergeo\"}],\"scattergl\":[{\"marker\":{\"colorbar\":{\"outlinewidth\":0,\"ticks\":\"\"}},\"type\":\"scattergl\"}],\"scattermapbox\":[{\"marker\":{\"colorbar\":{\"outlinewidth\":0,\"ticks\":\"\"}},\"type\":\"scattermapbox\"}],\"scatterpolar\":[{\"marker\":{\"colorbar\":{\"outlinewidth\":0,\"ticks\":\"\"}},\"type\":\"scatterpolar\"}],\"scatterpolargl\":[{\"marker\":{\"colorbar\":{\"outlinewidth\":0,\"ticks\":\"\"}},\"type\":\"scatterpolargl\"}],\"scatterternary\":[{\"marker\":{\"colorbar\":{\"outlinewidth\":0,\"ticks\":\"\"}},\"type\":\"scatterternary\"}],\"surface\":[{\"colorbar\":{\"outlinewidth\":0,\"ticks\":\"\"},\"colorscale\":[[0.0,\"#0d0887\"],[0.1111111111111111,\"#46039f\"],[0.2222222222222222,\"#7201a8\"],[0.3333333333333333,\"#9c179e\"],[0.4444444444444444,\"#bd3786\"],[0.5555555555555556,\"#d8576b\"],[0.6666666666666666,\"#ed7953\"],[0.7777777777777778,\"#fb9f3a\"],[0.8888888888888888,\"#fdca26\"],[1.0,\"#f0f921\"]],\"type\":\"surface\"}],\"table\":[{\"cells\":{\"fill\":{\"color\":\"#EBF0F8\"},\"line\":{\"color\":\"white\"}},\"header\":{\"fill\":{\"color\":\"#C8D4E3\"},\"line\":{\"color\":\"white\"}},\"type\":\"table\"}]},\"layout\":{\"annotationdefaults\":{\"arrowcolor\":\"#2a3f5f\",\"arrowhead\":0,\"arrowwidth\":1},\"autotypenumbers\":\"strict\",\"coloraxis\":{\"colorbar\":{\"outlinewidth\":0,\"ticks\":\"\"}},\"colorscale\":{\"diverging\":[[0,\"#8e0152\"],[0.1,\"#c51b7d\"],[0.2,\"#de77ae\"],[0.3,\"#f1b6da\"],[0.4,\"#fde0ef\"],[0.5,\"#f7f7f7\"],[0.6,\"#e6f5d0\"],[0.7,\"#b8e186\"],[0.8,\"#7fbc41\"],[0.9,\"#4d9221\"],[1,\"#276419\"]],\"sequential\":[[0.0,\"#0d0887\"],[0.1111111111111111,\"#46039f\"],[0.2222222222222222,\"#7201a8\"],[0.3333333333333333,\"#9c179e\"],[0.4444444444444444,\"#bd3786\"],[0.5555555555555556,\"#d8576b\"],[0.6666666666666666,\"#ed7953\"],[0.7777777777777778,\"#fb9f3a\"],[0.8888888888888888,\"#fdca26\"],[1.0,\"#f0f921\"]],\"sequentialminus\":[[0.0,\"#0d0887\"],[0.1111111111111111,\"#46039f\"],[0.2222222222222222,\"#7201a8\"],[0.3333333333333333,\"#9c179e\"],[0.4444444444444444,\"#bd3786\"],[0.5555555555555556,\"#d8576b\"],[0.6666666666666666,\"#ed7953\"],[0.7777777777777778,\"#fb9f3a\"],[0.8888888888888888,\"#fdca26\"],[1.0,\"#f0f921\"]]},\"colorway\":[\"#636efa\",\"#EF553B\",\"#00cc96\",\"#ab63fa\",\"#FFA15A\",\"#19d3f3\",\"#FF6692\",\"#B6E880\",\"#FF97FF\",\"#FECB52\"],\"font\":{\"color\":\"#2a3f5f\"},\"geo\":{\"bgcolor\":\"white\",\"lakecolor\":\"white\",\"landcolor\":\"#E5ECF6\",\"showlakes\":true,\"showland\":true,\"subunitcolor\":\"white\"},\"hoverlabel\":{\"align\":\"left\"},\"hovermode\":\"closest\",\"mapbox\":{\"style\":\"light\"},\"paper_bgcolor\":\"white\",\"plot_bgcolor\":\"#E5ECF6\",\"polar\":{\"angularaxis\":{\"gridcolor\":\"white\",\"linecolor\":\"white\",\"ticks\":\"\"},\"bgcolor\":\"#E5ECF6\",\"radialaxis\":{\"gridcolor\":\"white\",\"linecolor\":\"white\",\"ticks\":\"\"}},\"scene\":{\"xaxis\":{\"backgroundcolor\":\"#E5ECF6\",\"gridcolor\":\"white\",\"gridwidth\":2,\"linecolor\":\"white\",\"showbackground\":true,\"ticks\":\"\",\"zerolinecolor\":\"white\"},\"yaxis\":{\"backgroundcolor\":\"#E5ECF6\",\"gridcolor\":\"white\",\"gridwidth\":2,\"linecolor\":\"white\",\"showbackground\":true,\"ticks\":\"\",\"zerolinecolor\":\"white\"},\"zaxis\":{\"backgroundcolor\":\"#E5ECF6\",\"gridcolor\":\"white\",\"gridwidth\":2,\"linecolor\":\"white\",\"showbackground\":true,\"ticks\":\"\",\"zerolinecolor\":\"white\"}},\"shapedefaults\":{\"line\":{\"color\":\"#2a3f5f\"}},\"ternary\":{\"aaxis\":{\"gridcolor\":\"white\",\"linecolor\":\"white\",\"ticks\":\"\"},\"baxis\":{\"gridcolor\":\"white\",\"linecolor\":\"white\",\"ticks\":\"\"},\"bgcolor\":\"#E5ECF6\",\"caxis\":{\"gridcolor\":\"white\",\"linecolor\":\"white\",\"ticks\":\"\"}},\"title\":{\"x\":0.05},\"xaxis\":{\"automargin\":true,\"gridcolor\":\"white\",\"linecolor\":\"white\",\"ticks\":\"\",\"title\":{\"standoff\":15},\"zerolinecolor\":\"white\",\"zerolinewidth\":2},\"yaxis\":{\"automargin\":true,\"gridcolor\":\"white\",\"linecolor\":\"white\",\"ticks\":\"\",\"title\":{\"standoff\":15},\"zerolinecolor\":\"white\",\"zerolinewidth\":2}}},\"xaxis\":{\"anchor\":\"y\",\"domain\":[0.0,1.0],\"title\":{\"text\":\"Date\"}},\"yaxis\":{\"anchor\":\"x\",\"domain\":[0.0,1.0],\"title\":{\"text\":\"Price Difference\"}}},                        {\"responsive\": true}                    ).then(function(){\n",
       "                            \n",
       "var gd = document.getElementById('ba75687a-36ae-4452-b981-faa9e67dd80b');\n",
       "var x = new MutationObserver(function (mutations, observer) {{\n",
       "        var display = window.getComputedStyle(gd).display;\n",
       "        if (!display || display === 'none') {{\n",
       "            console.log([gd, 'removed!']);\n",
       "            Plotly.purge(gd);\n",
       "            observer.disconnect();\n",
       "        }}\n",
       "}});\n",
       "\n",
       "// Listen for the removal of the full notebook cells\n",
       "var notebookContainer = gd.closest('#notebook-container');\n",
       "if (notebookContainer) {{\n",
       "    x.observe(notebookContainer, {childList: true});\n",
       "}}\n",
       "\n",
       "// Listen for the clearing of the current output cell\n",
       "var outputEl = gd.closest('.output');\n",
       "if (outputEl) {{\n",
       "    x.observe(outputEl, {childList: true});\n",
       "}}\n",
       "\n",
       "                        })                };                });            </script>        </div>"
      ]
     },
     "metadata": {},
     "output_type": "display_data"
    }
   ],
   "source": [
    "import plotly.express as px\n",
    "  \n",
    "\n",
    "fig = px.bar(price_diff, x=\"Date\", y=\"Price Difference\", \n",
    "             color=\"State\", barmode = 'group')\n",
    "  \n",
    "fig.show()"
   ]
  },
  {
   "cell_type": "markdown",
   "metadata": {},
   "source": [
    "#                          Highest and lowest price difference year wise"
   ]
  },
  {
   "cell_type": "code",
   "execution_count": 67,
   "metadata": {},
   "outputs": [],
   "source": [
    "one=price_diff[\"Date\"].unique()\n"
   ]
  },
  {
   "cell_type": "code",
   "execution_count": 68,
   "metadata": {},
   "outputs": [
    {
     "name": "stdout",
     "output_type": "stream",
     "text": [
      "highest price difference in 2001 was::5.151 state::['Kerala']\n",
      "lowest price difference in 2001 was::0.000 state::['Arunachal Pradesh' 'Assam' 'Jammu Kashmir' 'Nagaland' 'Sikkim' 'Tripura']\n",
      "highest price difference in 2002 was::4.544 state::['Kerala']\n",
      "lowest price difference in 2002 was::0.000 state::['Arunachal Pradesh' 'Nagaland' 'Sikkim' 'Tripura']\n",
      "highest price difference in 2003 was::6.280 state::['Telangana']\n",
      "lowest price difference in 2003 was::0.000 state::['Arunachal Pradesh' 'Assam' 'Jammu Kashmir' 'Nagaland' 'Sikkim' 'Tripura'\n",
      " 'Uttarakhand']\n",
      "highest price difference in 2004 was::7.833 state::['Telangana']\n",
      "lowest price difference in 2004 was::0.000 state::['Arunachal Pradesh' 'Assam' 'Nagaland' 'Sikkim' 'Tripura' 'Uttarakhand']\n",
      "highest price difference in 2005 was::7.417 state::['Telangana']\n",
      "lowest price difference in 2005 was::0.000 state::['Arunachal Pradesh' 'Assam' 'Sikkim' 'Tripura']\n",
      "highest price difference in 2006 was::6.007 state::['Telangana']\n",
      "lowest price difference in 2006 was::0.000 state::['Arunachal Pradesh' 'Assam' 'Nagaland' 'Sikkim' 'Tripura' 'Uttarakhand']\n",
      "highest price difference in 2007 was::4.210 state::['Haryana']\n",
      "lowest price difference in 2007 was::0.000 state::['Arunachal Pradesh' 'Assam' 'Nagaland' 'Sikkim' 'Telangana' 'Tripura'\n",
      " 'Uttarakhand']\n",
      "highest price difference in 2008 was::3.792 state::['National Capital']\n",
      "lowest price difference in 2008 was::0.000 state::['Arunachal Pradesh' 'Nagaland' 'Sikkim' 'Telangana' 'Tripura'\n",
      " 'Union Territories']\n",
      "highest price difference in 2009 was::3.724 state::['Haryana']\n",
      "lowest price difference in 2009 was::0.000 state::['Arunachal Pradesh' 'Nagaland' 'Sikkim' 'Tripura' 'Union Territories'\n",
      " 'Uttarakhand']\n",
      "highest price difference in 2010 was::4.887 state::['Haryana']\n",
      "lowest price difference in 2010 was::0.000 state::['Arunachal Pradesh' 'Nagaland' 'Sikkim' 'Tripura' 'Union Territories'\n",
      " 'Uttarakhand']\n",
      "highest price difference in 2011 was::5.669 state::['Haryana']\n",
      "lowest price difference in 2011 was::0.000 state::['Arunachal Pradesh' 'Assam' 'Nagaland' 'Sikkim' 'Tripura'\n",
      " 'Union Territories' 'Uttarakhand']\n",
      "highest price difference in 2012 was::5.020 state::['Haryana']\n",
      "lowest price difference in 2012 was::0.000 state::['Arunachal Pradesh' 'Nagaland' 'Sikkim' 'Tripura' 'Union Territories'\n",
      " 'Uttarakhand']\n",
      "highest price difference in 2013 was::5.159 state::['Haryana']\n",
      "lowest price difference in 2013 was::0.000 state::['Arunachal Pradesh' 'Himachal Pradesh' 'Nagaland' 'Tripura'\n",
      " 'Union Territories' 'Uttarakhand']\n",
      "highest price difference in 2014 was::5.957 state::['National Capital']\n",
      "lowest price difference in 2014 was::0.000 state::['Arunachal Pradesh' 'Assam' 'Himachal Pradesh' 'Nagaland' 'Tripura'\n",
      " 'Uttarakhand']\n",
      "highest price difference in 2015 was::5.566 state::['National Capital']\n",
      "lowest price difference in 2015 was::0.000 state::['Arunachal Pradesh' 'Nagaland' 'Tripura' 'Uttarakhand']\n",
      "highest price difference in 2016 was::7.167 state::['Telangana']\n",
      "lowest price difference in 2016 was::0.000 state::['Arunachal Pradesh' 'Nagaland' 'Uttarakhand']\n",
      "highest price difference in 2017 was::5.694 state::['Orissa']\n",
      "lowest price difference in 2017 was::0.000 state::['Arunachal Pradesh' 'Nagaland' 'Sikkim' 'Tripura' 'Uttarakhand']\n",
      "highest price difference in 2018 was::6.250 state::['Telangana']\n",
      "lowest price difference in 2018 was::0.000 state::['Arunachal Pradesh' 'Goa' 'Haryana' 'Nagaland' 'Sikkim' 'Tripura']\n",
      "highest price difference in 2019 was::9.667 state::['Telangana']\n",
      "lowest price difference in 2019 was::0.000 state::['Arunachal Pradesh' 'Goa' 'Nagaland' 'Sikkim' 'Tripura']\n",
      "highest price difference in 2020 was::10.750 state::['Telangana']\n",
      "lowest price difference in 2020 was::0.000 state::['Nagaland' 'Sikkim' 'Tripura' 'Union Territories']\n",
      "highest price difference in 2021 was::12.333 state::['Telangana']\n",
      "lowest price difference in 2021 was::0.000 state::['Arunachal Pradesh' 'Himachal Pradesh' 'Jammu Kashmir' 'Nagaland'\n",
      " 'Sikkim' 'Tripura' 'Union Territories' 'Uttarakhand']\n"
     ]
    }
   ],
   "source": [
    "for d in one:\n",
    "    max=price_diff[(price_diff[\"Date\"]==d)][\"Price Difference\"].max()\n",
    "    state=price_diff[(price_diff[\"Date\"]==d)&(price_diff[\"Price Difference\"]==max)][\"State\"].unique()\n",
    "    min=price_diff[(price_diff[\"Date\"]==d)][\"Price Difference\"].min()\n",
    "    state1=price_diff[(price_diff[\"Date\"]==d)&(price_diff[\"Price Difference\"]==min)][\"State\"].unique()\n",
    "    \n",
    "    \n",
    "    print(\"highest price difference in %s was::%0.3f state::%s\"%(d,max,state))\n",
    "    print(\"lowest price difference in %s was::%0.3f state::%s\"%(d,min,state1))"
   ]
  },
  {
   "cell_type": "markdown",
   "metadata": {},
   "source": [
    "# 13 How many variety of coffee is available and what is their price differences(Year Wise )?"
   ]
  },
  {
   "cell_type": "code",
   "execution_count": 69,
   "metadata": {
    "scrolled": true
   },
   "outputs": [
    {
     "data": {
      "text/html": [
       "<div>\n",
       "<style scoped>\n",
       "    .dataframe tbody tr th:only-of-type {\n",
       "        vertical-align: middle;\n",
       "    }\n",
       "\n",
       "    .dataframe tbody tr th {\n",
       "        vertical-align: top;\n",
       "    }\n",
       "\n",
       "    .dataframe thead th {\n",
       "        text-align: right;\n",
       "    }\n",
       "</style>\n",
       "<table border=\"1\" class=\"dataframe\">\n",
       "  <thead>\n",
       "    <tr style=\"text-align: right;\">\n",
       "      <th></th>\n",
       "      <th>Unnamed: 0</th>\n",
       "      <th>State</th>\n",
       "      <th>Centre</th>\n",
       "      <th>Commodity</th>\n",
       "      <th>Variety</th>\n",
       "      <th>Unit</th>\n",
       "      <th>Category</th>\n",
       "      <th>Date</th>\n",
       "      <th>Retail Price</th>\n",
       "    </tr>\n",
       "  </thead>\n",
       "  <tbody>\n",
       "    <tr>\n",
       "      <th>0</th>\n",
       "      <td>0</td>\n",
       "      <td>Andhra Pradesh</td>\n",
       "      <td>Chittoor</td>\n",
       "      <td>Moong</td>\n",
       "      <td>Split</td>\n",
       "      <td>Kg.</td>\n",
       "      <td>Food</td>\n",
       "      <td>JAN-2001</td>\n",
       "      <td>24.000000</td>\n",
       "    </tr>\n",
       "    <tr>\n",
       "      <th>1</th>\n",
       "      <td>1</td>\n",
       "      <td>Andhra Pradesh</td>\n",
       "      <td>Guntur</td>\n",
       "      <td>Moong</td>\n",
       "      <td>Split</td>\n",
       "      <td>Kg.</td>\n",
       "      <td>Food</td>\n",
       "      <td>JAN-2001</td>\n",
       "      <td>26.000000</td>\n",
       "    </tr>\n",
       "    <tr>\n",
       "      <th>2</th>\n",
       "      <td>2</td>\n",
       "      <td>Andhra Pradesh</td>\n",
       "      <td>Kurnool</td>\n",
       "      <td>Moong</td>\n",
       "      <td>Split</td>\n",
       "      <td>Kg.</td>\n",
       "      <td>Food</td>\n",
       "      <td>JAN-2001</td>\n",
       "      <td>25.500000</td>\n",
       "    </tr>\n",
       "    <tr>\n",
       "      <th>3</th>\n",
       "      <td>3</td>\n",
       "      <td>Andhra Pradesh</td>\n",
       "      <td>Vishakhapatnam</td>\n",
       "      <td>Moong</td>\n",
       "      <td>Split</td>\n",
       "      <td>Kg.</td>\n",
       "      <td>Food</td>\n",
       "      <td>JAN-2001</td>\n",
       "      <td>28.319444</td>\n",
       "    </tr>\n",
       "    <tr>\n",
       "      <th>4</th>\n",
       "      <td>4</td>\n",
       "      <td>Arunachal Pradesh</td>\n",
       "      <td>Itanagar</td>\n",
       "      <td>Moong</td>\n",
       "      <td>Split</td>\n",
       "      <td>Kg.</td>\n",
       "      <td>Food</td>\n",
       "      <td>JAN-2001</td>\n",
       "      <td>28.319444</td>\n",
       "    </tr>\n",
       "    <tr>\n",
       "      <th>...</th>\n",
       "      <td>...</td>\n",
       "      <td>...</td>\n",
       "      <td>...</td>\n",
       "      <td>...</td>\n",
       "      <td>...</td>\n",
       "      <td>...</td>\n",
       "      <td>...</td>\n",
       "      <td>...</td>\n",
       "      <td>...</td>\n",
       "    </tr>\n",
       "    <tr>\n",
       "      <th>1147441</th>\n",
       "      <td>1147441</td>\n",
       "      <td>West Bengal</td>\n",
       "      <td>Jalpaiguri</td>\n",
       "      <td>Wheat</td>\n",
       "      <td>Kalyan HYV</td>\n",
       "      <td>Kg.</td>\n",
       "      <td>Food</td>\n",
       "      <td>MAR-2021</td>\n",
       "      <td>29.301980</td>\n",
       "    </tr>\n",
       "    <tr>\n",
       "      <th>1147442</th>\n",
       "      <td>1147442</td>\n",
       "      <td>West Bengal</td>\n",
       "      <td>Kolkata</td>\n",
       "      <td>Wheat</td>\n",
       "      <td>Desi</td>\n",
       "      <td>Kg.</td>\n",
       "      <td>Food</td>\n",
       "      <td>MAR-2021</td>\n",
       "      <td>29.301980</td>\n",
       "    </tr>\n",
       "    <tr>\n",
       "      <th>1147443</th>\n",
       "      <td>1147443</td>\n",
       "      <td>West Bengal</td>\n",
       "      <td>Kolkata</td>\n",
       "      <td>Wheat</td>\n",
       "      <td>Kalyan HYV</td>\n",
       "      <td>Kg.</td>\n",
       "      <td>Food</td>\n",
       "      <td>MAR-2021</td>\n",
       "      <td>29.301980</td>\n",
       "    </tr>\n",
       "    <tr>\n",
       "      <th>1147444</th>\n",
       "      <td>1147444</td>\n",
       "      <td>West Bengal</td>\n",
       "      <td>Malda</td>\n",
       "      <td>Wheat</td>\n",
       "      <td>Desi</td>\n",
       "      <td>Kg.</td>\n",
       "      <td>Food</td>\n",
       "      <td>MAR-2021</td>\n",
       "      <td>20.000000</td>\n",
       "    </tr>\n",
       "    <tr>\n",
       "      <th>1147445</th>\n",
       "      <td>1147445</td>\n",
       "      <td>West Bengal</td>\n",
       "      <td>Malda</td>\n",
       "      <td>Wheat</td>\n",
       "      <td>Kalyan HYV</td>\n",
       "      <td>Kg.</td>\n",
       "      <td>Food</td>\n",
       "      <td>MAR-2021</td>\n",
       "      <td>29.301980</td>\n",
       "    </tr>\n",
       "  </tbody>\n",
       "</table>\n",
       "<p>1139231 rows × 9 columns</p>\n",
       "</div>"
      ],
      "text/plain": [
       "         Unnamed: 0              State          Centre Commodity     Variety  \\\n",
       "0                 0     Andhra Pradesh        Chittoor     Moong       Split   \n",
       "1                 1     Andhra Pradesh          Guntur     Moong       Split   \n",
       "2                 2     Andhra Pradesh         Kurnool     Moong       Split   \n",
       "3                 3     Andhra Pradesh  Vishakhapatnam     Moong       Split   \n",
       "4                 4  Arunachal Pradesh        Itanagar     Moong       Split   \n",
       "...             ...                ...             ...       ...         ...   \n",
       "1147441     1147441        West Bengal      Jalpaiguri     Wheat  Kalyan HYV   \n",
       "1147442     1147442        West Bengal         Kolkata     Wheat        Desi   \n",
       "1147443     1147443        West Bengal         Kolkata     Wheat  Kalyan HYV   \n",
       "1147444     1147444        West Bengal           Malda     Wheat        Desi   \n",
       "1147445     1147445        West Bengal           Malda     Wheat  Kalyan HYV   \n",
       "\n",
       "        Unit Category      Date  Retail Price  \n",
       "0        Kg.     Food  JAN-2001     24.000000  \n",
       "1        Kg.     Food  JAN-2001     26.000000  \n",
       "2        Kg.     Food  JAN-2001     25.500000  \n",
       "3        Kg.     Food  JAN-2001     28.319444  \n",
       "4        Kg.     Food  JAN-2001     28.319444  \n",
       "...      ...      ...       ...           ...  \n",
       "1147441  Kg.     Food  MAR-2021     29.301980  \n",
       "1147442  Kg.     Food  MAR-2021     29.301980  \n",
       "1147443  Kg.     Food  MAR-2021     29.301980  \n",
       "1147444  Kg.     Food  MAR-2021     20.000000  \n",
       "1147445  Kg.     Food  MAR-2021     29.301980  \n",
       "\n",
       "[1139231 rows x 9 columns]"
      ]
     },
     "execution_count": 69,
     "metadata": {},
     "output_type": "execute_result"
    }
   ],
   "source": [
    "df"
   ]
  },
  {
   "cell_type": "code",
   "execution_count": 70,
   "metadata": {
    "scrolled": true
   },
   "outputs": [
    {
     "data": {
      "text/plain": [
       "array(['Instant', 'Powdered'], dtype=object)"
      ]
     },
     "execution_count": 70,
     "metadata": {},
     "output_type": "execute_result"
    }
   ],
   "source": [
    "df[(df[\"Commodity\"]==\"Coffee\")][\"Variety\"].unique()"
   ]
  },
  {
   "cell_type": "code",
   "execution_count": 71,
   "metadata": {
    "scrolled": false
   },
   "outputs": [],
   "source": [
    "#year wise  price difference"
   ]
  },
  {
   "cell_type": "code",
   "execution_count": 71,
   "metadata": {
    "scrolled": true
   },
   "outputs": [
    {
     "data": {
      "text/html": [
       "<div>\n",
       "<style scoped>\n",
       "    .dataframe tbody tr th:only-of-type {\n",
       "        vertical-align: middle;\n",
       "    }\n",
       "\n",
       "    .dataframe tbody tr th {\n",
       "        vertical-align: top;\n",
       "    }\n",
       "\n",
       "    .dataframe thead th {\n",
       "        text-align: right;\n",
       "    }\n",
       "</style>\n",
       "<table border=\"1\" class=\"dataframe\">\n",
       "  <thead>\n",
       "    <tr style=\"text-align: right;\">\n",
       "      <th></th>\n",
       "      <th>Unnamed: 0</th>\n",
       "      <th>State</th>\n",
       "      <th>Centre</th>\n",
       "      <th>Commodity</th>\n",
       "      <th>Variety</th>\n",
       "      <th>Unit</th>\n",
       "      <th>Category</th>\n",
       "      <th>Date</th>\n",
       "      <th>Retail Price</th>\n",
       "    </tr>\n",
       "  </thead>\n",
       "  <tbody>\n",
       "    <tr>\n",
       "      <th>822990</th>\n",
       "      <td>822990</td>\n",
       "      <td>Andhra Pradesh</td>\n",
       "      <td>Chittoor</td>\n",
       "      <td>Coffee</td>\n",
       "      <td>Instant</td>\n",
       "      <td>500gm. Pkt</td>\n",
       "      <td>Food</td>\n",
       "      <td>JAN-2001</td>\n",
       "      <td>137.375000</td>\n",
       "    </tr>\n",
       "    <tr>\n",
       "      <th>822991</th>\n",
       "      <td>822991</td>\n",
       "      <td>Andhra Pradesh</td>\n",
       "      <td>Chittoor</td>\n",
       "      <td>Coffee</td>\n",
       "      <td>Powdered</td>\n",
       "      <td>Kg.</td>\n",
       "      <td>Food</td>\n",
       "      <td>JAN-2001</td>\n",
       "      <td>140.000000</td>\n",
       "    </tr>\n",
       "    <tr>\n",
       "      <th>822992</th>\n",
       "      <td>822992</td>\n",
       "      <td>Andhra Pradesh</td>\n",
       "      <td>Guntur</td>\n",
       "      <td>Coffee</td>\n",
       "      <td>Instant</td>\n",
       "      <td>500gm. Pkt</td>\n",
       "      <td>Food</td>\n",
       "      <td>JAN-2001</td>\n",
       "      <td>137.375000</td>\n",
       "    </tr>\n",
       "    <tr>\n",
       "      <th>822993</th>\n",
       "      <td>822993</td>\n",
       "      <td>Andhra Pradesh</td>\n",
       "      <td>Guntur</td>\n",
       "      <td>Coffee</td>\n",
       "      <td>Powdered</td>\n",
       "      <td>Kg.</td>\n",
       "      <td>Food</td>\n",
       "      <td>JAN-2001</td>\n",
       "      <td>137.375000</td>\n",
       "    </tr>\n",
       "    <tr>\n",
       "      <th>822994</th>\n",
       "      <td>822994</td>\n",
       "      <td>Andhra Pradesh</td>\n",
       "      <td>Kurnool</td>\n",
       "      <td>Coffee</td>\n",
       "      <td>Instant</td>\n",
       "      <td>500gm. Pkt</td>\n",
       "      <td>Food</td>\n",
       "      <td>JAN-2001</td>\n",
       "      <td>137.375000</td>\n",
       "    </tr>\n",
       "    <tr>\n",
       "      <th>...</th>\n",
       "      <td>...</td>\n",
       "      <td>...</td>\n",
       "      <td>...</td>\n",
       "      <td>...</td>\n",
       "      <td>...</td>\n",
       "      <td>...</td>\n",
       "      <td>...</td>\n",
       "      <td>...</td>\n",
       "      <td>...</td>\n",
       "    </tr>\n",
       "    <tr>\n",
       "      <th>1024483</th>\n",
       "      <td>1024483</td>\n",
       "      <td>West Bengal</td>\n",
       "      <td>Jalpaiguri</td>\n",
       "      <td>Coffee</td>\n",
       "      <td>Powdered</td>\n",
       "      <td>Kg.</td>\n",
       "      <td>Food</td>\n",
       "      <td>MAR-2021</td>\n",
       "      <td>1095.829268</td>\n",
       "    </tr>\n",
       "    <tr>\n",
       "      <th>1024484</th>\n",
       "      <td>1024484</td>\n",
       "      <td>West Bengal</td>\n",
       "      <td>Kolkata</td>\n",
       "      <td>Coffee</td>\n",
       "      <td>Instant</td>\n",
       "      <td>500gm. Pkt</td>\n",
       "      <td>Food</td>\n",
       "      <td>MAR-2021</td>\n",
       "      <td>135.000000</td>\n",
       "    </tr>\n",
       "    <tr>\n",
       "      <th>1024485</th>\n",
       "      <td>1024485</td>\n",
       "      <td>West Bengal</td>\n",
       "      <td>Kolkata</td>\n",
       "      <td>Coffee</td>\n",
       "      <td>Powdered</td>\n",
       "      <td>Kg.</td>\n",
       "      <td>Food</td>\n",
       "      <td>MAR-2021</td>\n",
       "      <td>1095.829268</td>\n",
       "    </tr>\n",
       "    <tr>\n",
       "      <th>1024486</th>\n",
       "      <td>1024486</td>\n",
       "      <td>West Bengal</td>\n",
       "      <td>Malda</td>\n",
       "      <td>Coffee</td>\n",
       "      <td>Instant</td>\n",
       "      <td>500gm. Pkt</td>\n",
       "      <td>Food</td>\n",
       "      <td>MAR-2021</td>\n",
       "      <td>1095.829268</td>\n",
       "    </tr>\n",
       "    <tr>\n",
       "      <th>1024487</th>\n",
       "      <td>1024487</td>\n",
       "      <td>West Bengal</td>\n",
       "      <td>Malda</td>\n",
       "      <td>Coffee</td>\n",
       "      <td>Powdered</td>\n",
       "      <td>Kg.</td>\n",
       "      <td>Food</td>\n",
       "      <td>MAR-2021</td>\n",
       "      <td>280.000000</td>\n",
       "    </tr>\n",
       "  </tbody>\n",
       "</table>\n",
       "<p>37422 rows × 9 columns</p>\n",
       "</div>"
      ],
      "text/plain": [
       "         Unnamed: 0           State      Centre Commodity   Variety  \\\n",
       "822990       822990  Andhra Pradesh    Chittoor    Coffee   Instant   \n",
       "822991       822991  Andhra Pradesh    Chittoor    Coffee  Powdered   \n",
       "822992       822992  Andhra Pradesh      Guntur    Coffee   Instant   \n",
       "822993       822993  Andhra Pradesh      Guntur    Coffee  Powdered   \n",
       "822994       822994  Andhra Pradesh     Kurnool    Coffee   Instant   \n",
       "...             ...             ...         ...       ...       ...   \n",
       "1024483     1024483     West Bengal  Jalpaiguri    Coffee  Powdered   \n",
       "1024484     1024484     West Bengal     Kolkata    Coffee   Instant   \n",
       "1024485     1024485     West Bengal     Kolkata    Coffee  Powdered   \n",
       "1024486     1024486     West Bengal       Malda    Coffee   Instant   \n",
       "1024487     1024487     West Bengal       Malda    Coffee  Powdered   \n",
       "\n",
       "               Unit Category      Date  Retail Price  \n",
       "822990   500gm. Pkt     Food  JAN-2001    137.375000  \n",
       "822991          Kg.     Food  JAN-2001    140.000000  \n",
       "822992   500gm. Pkt     Food  JAN-2001    137.375000  \n",
       "822993          Kg.     Food  JAN-2001    137.375000  \n",
       "822994   500gm. Pkt     Food  JAN-2001    137.375000  \n",
       "...             ...      ...       ...           ...  \n",
       "1024483         Kg.     Food  MAR-2021   1095.829268  \n",
       "1024484  500gm. Pkt     Food  MAR-2021    135.000000  \n",
       "1024485         Kg.     Food  MAR-2021   1095.829268  \n",
       "1024486  500gm. Pkt     Food  MAR-2021   1095.829268  \n",
       "1024487         Kg.     Food  MAR-2021    280.000000  \n",
       "\n",
       "[37422 rows x 9 columns]"
      ]
     },
     "execution_count": 71,
     "metadata": {},
     "output_type": "execute_result"
    }
   ],
   "source": [
    "df9=df[(df[\"Commodity\"]==\"Coffee\")]\n",
    "df9"
   ]
  },
  {
   "cell_type": "code",
   "execution_count": 72,
   "metadata": {
    "scrolled": false
   },
   "outputs": [
    {
     "name": "stderr",
     "output_type": "stream",
     "text": [
      "<ipython-input-72-dd983c96d42b>:1: SettingWithCopyWarning:\n",
      "\n",
      "\n",
      "A value is trying to be set on a copy of a slice from a DataFrame.\n",
      "Try using .loc[row_indexer,col_indexer] = value instead\n",
      "\n",
      "See the caveats in the documentation: https://pandas.pydata.org/pandas-docs/stable/user_guide/indexing.html#returning-a-view-versus-a-copy\n",
      "\n"
     ]
    }
   ],
   "source": [
    "df9['Date'] = pd.DatetimeIndex(df9['Date']).year"
   ]
  },
  {
   "cell_type": "code",
   "execution_count": 73,
   "metadata": {
    "scrolled": true
   },
   "outputs": [
    {
     "data": {
      "text/html": [
       "<div>\n",
       "<style scoped>\n",
       "    .dataframe tbody tr th:only-of-type {\n",
       "        vertical-align: middle;\n",
       "    }\n",
       "\n",
       "    .dataframe tbody tr th {\n",
       "        vertical-align: top;\n",
       "    }\n",
       "\n",
       "    .dataframe thead th {\n",
       "        text-align: right;\n",
       "    }\n",
       "</style>\n",
       "<table border=\"1\" class=\"dataframe\">\n",
       "  <thead>\n",
       "    <tr style=\"text-align: right;\">\n",
       "      <th></th>\n",
       "      <th>Unnamed: 0</th>\n",
       "      <th>State</th>\n",
       "      <th>Centre</th>\n",
       "      <th>Commodity</th>\n",
       "      <th>Variety</th>\n",
       "      <th>Unit</th>\n",
       "      <th>Category</th>\n",
       "      <th>Date</th>\n",
       "      <th>Retail Price</th>\n",
       "    </tr>\n",
       "  </thead>\n",
       "  <tbody>\n",
       "    <tr>\n",
       "      <th>822990</th>\n",
       "      <td>822990</td>\n",
       "      <td>Andhra Pradesh</td>\n",
       "      <td>Chittoor</td>\n",
       "      <td>Coffee</td>\n",
       "      <td>Instant</td>\n",
       "      <td>500gm. Pkt</td>\n",
       "      <td>Food</td>\n",
       "      <td>2001</td>\n",
       "      <td>137.375000</td>\n",
       "    </tr>\n",
       "    <tr>\n",
       "      <th>822991</th>\n",
       "      <td>822991</td>\n",
       "      <td>Andhra Pradesh</td>\n",
       "      <td>Chittoor</td>\n",
       "      <td>Coffee</td>\n",
       "      <td>Powdered</td>\n",
       "      <td>Kg.</td>\n",
       "      <td>Food</td>\n",
       "      <td>2001</td>\n",
       "      <td>140.000000</td>\n",
       "    </tr>\n",
       "    <tr>\n",
       "      <th>822992</th>\n",
       "      <td>822992</td>\n",
       "      <td>Andhra Pradesh</td>\n",
       "      <td>Guntur</td>\n",
       "      <td>Coffee</td>\n",
       "      <td>Instant</td>\n",
       "      <td>500gm. Pkt</td>\n",
       "      <td>Food</td>\n",
       "      <td>2001</td>\n",
       "      <td>137.375000</td>\n",
       "    </tr>\n",
       "    <tr>\n",
       "      <th>822993</th>\n",
       "      <td>822993</td>\n",
       "      <td>Andhra Pradesh</td>\n",
       "      <td>Guntur</td>\n",
       "      <td>Coffee</td>\n",
       "      <td>Powdered</td>\n",
       "      <td>Kg.</td>\n",
       "      <td>Food</td>\n",
       "      <td>2001</td>\n",
       "      <td>137.375000</td>\n",
       "    </tr>\n",
       "    <tr>\n",
       "      <th>822994</th>\n",
       "      <td>822994</td>\n",
       "      <td>Andhra Pradesh</td>\n",
       "      <td>Kurnool</td>\n",
       "      <td>Coffee</td>\n",
       "      <td>Instant</td>\n",
       "      <td>500gm. Pkt</td>\n",
       "      <td>Food</td>\n",
       "      <td>2001</td>\n",
       "      <td>137.375000</td>\n",
       "    </tr>\n",
       "    <tr>\n",
       "      <th>...</th>\n",
       "      <td>...</td>\n",
       "      <td>...</td>\n",
       "      <td>...</td>\n",
       "      <td>...</td>\n",
       "      <td>...</td>\n",
       "      <td>...</td>\n",
       "      <td>...</td>\n",
       "      <td>...</td>\n",
       "      <td>...</td>\n",
       "    </tr>\n",
       "    <tr>\n",
       "      <th>1024483</th>\n",
       "      <td>1024483</td>\n",
       "      <td>West Bengal</td>\n",
       "      <td>Jalpaiguri</td>\n",
       "      <td>Coffee</td>\n",
       "      <td>Powdered</td>\n",
       "      <td>Kg.</td>\n",
       "      <td>Food</td>\n",
       "      <td>2021</td>\n",
       "      <td>1095.829268</td>\n",
       "    </tr>\n",
       "    <tr>\n",
       "      <th>1024484</th>\n",
       "      <td>1024484</td>\n",
       "      <td>West Bengal</td>\n",
       "      <td>Kolkata</td>\n",
       "      <td>Coffee</td>\n",
       "      <td>Instant</td>\n",
       "      <td>500gm. Pkt</td>\n",
       "      <td>Food</td>\n",
       "      <td>2021</td>\n",
       "      <td>135.000000</td>\n",
       "    </tr>\n",
       "    <tr>\n",
       "      <th>1024485</th>\n",
       "      <td>1024485</td>\n",
       "      <td>West Bengal</td>\n",
       "      <td>Kolkata</td>\n",
       "      <td>Coffee</td>\n",
       "      <td>Powdered</td>\n",
       "      <td>Kg.</td>\n",
       "      <td>Food</td>\n",
       "      <td>2021</td>\n",
       "      <td>1095.829268</td>\n",
       "    </tr>\n",
       "    <tr>\n",
       "      <th>1024486</th>\n",
       "      <td>1024486</td>\n",
       "      <td>West Bengal</td>\n",
       "      <td>Malda</td>\n",
       "      <td>Coffee</td>\n",
       "      <td>Instant</td>\n",
       "      <td>500gm. Pkt</td>\n",
       "      <td>Food</td>\n",
       "      <td>2021</td>\n",
       "      <td>1095.829268</td>\n",
       "    </tr>\n",
       "    <tr>\n",
       "      <th>1024487</th>\n",
       "      <td>1024487</td>\n",
       "      <td>West Bengal</td>\n",
       "      <td>Malda</td>\n",
       "      <td>Coffee</td>\n",
       "      <td>Powdered</td>\n",
       "      <td>Kg.</td>\n",
       "      <td>Food</td>\n",
       "      <td>2021</td>\n",
       "      <td>280.000000</td>\n",
       "    </tr>\n",
       "  </tbody>\n",
       "</table>\n",
       "<p>37422 rows × 9 columns</p>\n",
       "</div>"
      ],
      "text/plain": [
       "         Unnamed: 0           State      Centre Commodity   Variety  \\\n",
       "822990       822990  Andhra Pradesh    Chittoor    Coffee   Instant   \n",
       "822991       822991  Andhra Pradesh    Chittoor    Coffee  Powdered   \n",
       "822992       822992  Andhra Pradesh      Guntur    Coffee   Instant   \n",
       "822993       822993  Andhra Pradesh      Guntur    Coffee  Powdered   \n",
       "822994       822994  Andhra Pradesh     Kurnool    Coffee   Instant   \n",
       "...             ...             ...         ...       ...       ...   \n",
       "1024483     1024483     West Bengal  Jalpaiguri    Coffee  Powdered   \n",
       "1024484     1024484     West Bengal     Kolkata    Coffee   Instant   \n",
       "1024485     1024485     West Bengal     Kolkata    Coffee  Powdered   \n",
       "1024486     1024486     West Bengal       Malda    Coffee   Instant   \n",
       "1024487     1024487     West Bengal       Malda    Coffee  Powdered   \n",
       "\n",
       "               Unit Category  Date  Retail Price  \n",
       "822990   500gm. Pkt     Food  2001    137.375000  \n",
       "822991          Kg.     Food  2001    140.000000  \n",
       "822992   500gm. Pkt     Food  2001    137.375000  \n",
       "822993          Kg.     Food  2001    137.375000  \n",
       "822994   500gm. Pkt     Food  2001    137.375000  \n",
       "...             ...      ...   ...           ...  \n",
       "1024483         Kg.     Food  2021   1095.829268  \n",
       "1024484  500gm. Pkt     Food  2021    135.000000  \n",
       "1024485         Kg.     Food  2021   1095.829268  \n",
       "1024486  500gm. Pkt     Food  2021   1095.829268  \n",
       "1024487         Kg.     Food  2021    280.000000  \n",
       "\n",
       "[37422 rows x 9 columns]"
      ]
     },
     "execution_count": 73,
     "metadata": {},
     "output_type": "execute_result"
    }
   ],
   "source": [
    "df9"
   ]
  },
  {
   "cell_type": "code",
   "execution_count": 74,
   "metadata": {},
   "outputs": [],
   "source": [
    "date=df9[\"Date\"].unique()"
   ]
  },
  {
   "cell_type": "code",
   "execution_count": 75,
   "metadata": {},
   "outputs": [
    {
     "name": "stdout",
     "output_type": "stream",
     "text": [
      "Retail price difference of coffee variety Instant and Powdered in 2001 was 0.000\n",
      "Retail price difference of coffee variety Instant and Powdered in 2002 was 0.758098\n",
      "Retail price difference of coffee variety Instant and Powdered in 2003 was 0.000000\n",
      "Retail price difference of coffee variety Instant and Powdered in 2004 was 0.887323\n",
      "Retail price difference of coffee variety Instant and Powdered in 2005 was 15.859812\n",
      "Retail price difference of coffee variety Instant and Powdered in 2006 was 3.495\n",
      "Retail price difference of coffee variety Instant and Powdered in 2007 was 3.692376\n",
      "Retail price difference of coffee variety Instant and Powdered in 2008 was 14.458\n",
      "Retail price difference of coffee variety Instant and Powdered in 2009 was 28.127\n",
      "Retail price difference of coffee variety Instant and Powdered in 2010 was 7.969\n",
      "Retail price difference of coffee variety Instant and Powdered in 2011 was 10.887051\n",
      "Retail price difference of coffee variety Instant and Powdered in 2012 was 1.647521\n",
      "Retail price difference of coffee variety Instant and Powdered in 2013 was 6.741947\n",
      "Retail price difference of coffee variety Instant and Powdered in 2014 was 13.228567\n",
      "Retail price difference of coffee variety Instant and Powdered in 2015 was 35.657638\n",
      "Retail price difference of coffee variety Instant and Powdered in 2016 was 17.149985\n",
      "Retail price difference of coffee variety Instant and Powdered in 2017 was 13.572252\n",
      "Retail price difference of coffee variety Instant and Powdered in 2018 was 15.658\n",
      "Retail price difference of coffee variety Instant and Powdered in 2019 was 80.792\n",
      "Retail price difference of coffee variety Instant and Powdered in 2020 was 106.303\n",
      "Retail price difference of coffee variety Instant and Powdered in 2021 was 417.958\n"
     ]
    }
   ],
   "source": [
    "year=[]\n",
    "price=[]\n",
    "for d in date:\n",
    "    a=df9[(df9[\"Commodity\"]==\"Coffee\")&(df9[\"Variety\"]==\"Instant\")&(df9[\"Date\"]==d)][\"Retail Price\"].mean()\n",
    "    b=df9[(df9[\"Commodity\"]==\"Coffee\")&(df9[\"Variety\"]==\"Powdered\")&(df9[\"Date\"]==d)][\"Retail Price\"].mean()\n",
    "    diff=a-b\n",
    "    if diff>=0:\n",
    "        #diff=(\"%0.2f\"%(diff))\n",
    "        \n",
    "        print(\"Retail price difference of coffee variety Instant and Powdered in %d was %f\"%(d,diff))\n",
    "        year.append(d)\n",
    "        price.append(diff)\n",
    "        \n",
    "    else:\n",
    "        print(\"Retail price difference of coffee variety Instant and Powdered in %d was %0.3f\"%(d,abs(diff)))\n",
    "        year.append(d)\n",
    "        price.append(abs(diff))\n",
    "        \n",
    "    "
   ]
  },
  {
   "cell_type": "code",
   "execution_count": 76,
   "metadata": {
    "scrolled": false
   },
   "outputs": [],
   "source": [
    "\n",
    "\n",
    "pr = []\n",
    "\n",
    "for i in range(len(price)):\n",
    "    p = float((\"%0.2f\"%(price[i])))\n",
    "    pr.append(p)"
   ]
  },
  {
   "cell_type": "code",
   "execution_count": 77,
   "metadata": {},
   "outputs": [],
   "source": [
    "data1 = {\"Year\":year,\"Price\":pr}"
   ]
  },
  {
   "cell_type": "code",
   "execution_count": 78,
   "metadata": {
    "scrolled": true
   },
   "outputs": [],
   "source": [
    "price_dif=pd.DataFrame(data1)"
   ]
  },
  {
   "cell_type": "code",
   "execution_count": 79,
   "metadata": {
    "scrolled": true
   },
   "outputs": [
    {
     "data": {
      "text/html": [
       "<div>\n",
       "<style scoped>\n",
       "    .dataframe tbody tr th:only-of-type {\n",
       "        vertical-align: middle;\n",
       "    }\n",
       "\n",
       "    .dataframe tbody tr th {\n",
       "        vertical-align: top;\n",
       "    }\n",
       "\n",
       "    .dataframe thead th {\n",
       "        text-align: right;\n",
       "    }\n",
       "</style>\n",
       "<table border=\"1\" class=\"dataframe\">\n",
       "  <thead>\n",
       "    <tr style=\"text-align: right;\">\n",
       "      <th></th>\n",
       "      <th>Year</th>\n",
       "      <th>Price</th>\n",
       "    </tr>\n",
       "  </thead>\n",
       "  <tbody>\n",
       "    <tr>\n",
       "      <th>0</th>\n",
       "      <td>2001</td>\n",
       "      <td>0.00</td>\n",
       "    </tr>\n",
       "    <tr>\n",
       "      <th>1</th>\n",
       "      <td>2002</td>\n",
       "      <td>0.76</td>\n",
       "    </tr>\n",
       "    <tr>\n",
       "      <th>2</th>\n",
       "      <td>2003</td>\n",
       "      <td>0.00</td>\n",
       "    </tr>\n",
       "    <tr>\n",
       "      <th>3</th>\n",
       "      <td>2004</td>\n",
       "      <td>0.89</td>\n",
       "    </tr>\n",
       "    <tr>\n",
       "      <th>4</th>\n",
       "      <td>2005</td>\n",
       "      <td>15.86</td>\n",
       "    </tr>\n",
       "    <tr>\n",
       "      <th>5</th>\n",
       "      <td>2006</td>\n",
       "      <td>3.49</td>\n",
       "    </tr>\n",
       "    <tr>\n",
       "      <th>6</th>\n",
       "      <td>2007</td>\n",
       "      <td>3.69</td>\n",
       "    </tr>\n",
       "    <tr>\n",
       "      <th>7</th>\n",
       "      <td>2008</td>\n",
       "      <td>14.46</td>\n",
       "    </tr>\n",
       "    <tr>\n",
       "      <th>8</th>\n",
       "      <td>2009</td>\n",
       "      <td>28.13</td>\n",
       "    </tr>\n",
       "    <tr>\n",
       "      <th>9</th>\n",
       "      <td>2010</td>\n",
       "      <td>7.97</td>\n",
       "    </tr>\n",
       "    <tr>\n",
       "      <th>10</th>\n",
       "      <td>2011</td>\n",
       "      <td>10.89</td>\n",
       "    </tr>\n",
       "    <tr>\n",
       "      <th>11</th>\n",
       "      <td>2012</td>\n",
       "      <td>1.65</td>\n",
       "    </tr>\n",
       "    <tr>\n",
       "      <th>12</th>\n",
       "      <td>2013</td>\n",
       "      <td>6.74</td>\n",
       "    </tr>\n",
       "    <tr>\n",
       "      <th>13</th>\n",
       "      <td>2014</td>\n",
       "      <td>13.23</td>\n",
       "    </tr>\n",
       "    <tr>\n",
       "      <th>14</th>\n",
       "      <td>2015</td>\n",
       "      <td>35.66</td>\n",
       "    </tr>\n",
       "    <tr>\n",
       "      <th>15</th>\n",
       "      <td>2016</td>\n",
       "      <td>17.15</td>\n",
       "    </tr>\n",
       "    <tr>\n",
       "      <th>16</th>\n",
       "      <td>2017</td>\n",
       "      <td>13.57</td>\n",
       "    </tr>\n",
       "    <tr>\n",
       "      <th>17</th>\n",
       "      <td>2018</td>\n",
       "      <td>15.66</td>\n",
       "    </tr>\n",
       "    <tr>\n",
       "      <th>18</th>\n",
       "      <td>2019</td>\n",
       "      <td>80.79</td>\n",
       "    </tr>\n",
       "    <tr>\n",
       "      <th>19</th>\n",
       "      <td>2020</td>\n",
       "      <td>106.30</td>\n",
       "    </tr>\n",
       "    <tr>\n",
       "      <th>20</th>\n",
       "      <td>2021</td>\n",
       "      <td>417.96</td>\n",
       "    </tr>\n",
       "  </tbody>\n",
       "</table>\n",
       "</div>"
      ],
      "text/plain": [
       "    Year   Price\n",
       "0   2001    0.00\n",
       "1   2002    0.76\n",
       "2   2003    0.00\n",
       "3   2004    0.89\n",
       "4   2005   15.86\n",
       "5   2006    3.49\n",
       "6   2007    3.69\n",
       "7   2008   14.46\n",
       "8   2009   28.13\n",
       "9   2010    7.97\n",
       "10  2011   10.89\n",
       "11  2012    1.65\n",
       "12  2013    6.74\n",
       "13  2014   13.23\n",
       "14  2015   35.66\n",
       "15  2016   17.15\n",
       "16  2017   13.57\n",
       "17  2018   15.66\n",
       "18  2019   80.79\n",
       "19  2020  106.30\n",
       "20  2021  417.96"
      ]
     },
     "execution_count": 79,
     "metadata": {},
     "output_type": "execute_result"
    }
   ],
   "source": [
    "price_dif"
   ]
  },
  {
   "cell_type": "code",
   "execution_count": 80,
   "metadata": {},
   "outputs": [
    {
     "data": {
      "image/png": "[encoded data removed]",
      "text/plain": [
       "<Figure size 720x1080 with 1 Axes>"
      ]
     },
     "metadata": {
      "needs_background": "light"
     },
     "output_type": "display_data"
    }
   ],
   "source": [
    "plt.figure(figsize=(10,15))\n",
    "plt.bar(\"Year\",\"Price\",data=price_dif)\n",
    "plt.xlabel(\"Year\")\n",
    "plt.ylabel(\"Price difference\")\n",
    "plt.title(\"Retail Prices difference of coffee variety instant and powderd in year wise\")\n",
    "plt.show()"
   ]
  },
  {
   "cell_type": "markdown",
   "metadata": {},
   "source": [
    "# 14 What are the varieties of fish available in the market from 2001 to 2010?"
   ]
  },
  {
   "cell_type": "code",
   "execution_count": 81,
   "metadata": {
    "scrolled": true
   },
   "outputs": [
    {
     "data": {
      "text/html": [
       "<div>\n",
       "<style scoped>\n",
       "    .dataframe tbody tr th:only-of-type {\n",
       "        vertical-align: middle;\n",
       "    }\n",
       "\n",
       "    .dataframe tbody tr th {\n",
       "        vertical-align: top;\n",
       "    }\n",
       "\n",
       "    .dataframe thead th {\n",
       "        text-align: right;\n",
       "    }\n",
       "</style>\n",
       "<table border=\"1\" class=\"dataframe\">\n",
       "  <thead>\n",
       "    <tr style=\"text-align: right;\">\n",
       "      <th></th>\n",
       "      <th>Unnamed: 0</th>\n",
       "      <th>State</th>\n",
       "      <th>Centre</th>\n",
       "      <th>Commodity</th>\n",
       "      <th>Variety</th>\n",
       "      <th>Unit</th>\n",
       "      <th>Category</th>\n",
       "      <th>Date</th>\n",
       "      <th>Retail Price</th>\n",
       "    </tr>\n",
       "  </thead>\n",
       "  <tbody>\n",
       "    <tr>\n",
       "      <th>0</th>\n",
       "      <td>0</td>\n",
       "      <td>Andhra Pradesh</td>\n",
       "      <td>Chittoor</td>\n",
       "      <td>Moong</td>\n",
       "      <td>Split</td>\n",
       "      <td>Kg.</td>\n",
       "      <td>Food</td>\n",
       "      <td>JAN-2001</td>\n",
       "      <td>24.000000</td>\n",
       "    </tr>\n",
       "    <tr>\n",
       "      <th>1</th>\n",
       "      <td>1</td>\n",
       "      <td>Andhra Pradesh</td>\n",
       "      <td>Guntur</td>\n",
       "      <td>Moong</td>\n",
       "      <td>Split</td>\n",
       "      <td>Kg.</td>\n",
       "      <td>Food</td>\n",
       "      <td>JAN-2001</td>\n",
       "      <td>26.000000</td>\n",
       "    </tr>\n",
       "    <tr>\n",
       "      <th>2</th>\n",
       "      <td>2</td>\n",
       "      <td>Andhra Pradesh</td>\n",
       "      <td>Kurnool</td>\n",
       "      <td>Moong</td>\n",
       "      <td>Split</td>\n",
       "      <td>Kg.</td>\n",
       "      <td>Food</td>\n",
       "      <td>JAN-2001</td>\n",
       "      <td>25.500000</td>\n",
       "    </tr>\n",
       "    <tr>\n",
       "      <th>3</th>\n",
       "      <td>3</td>\n",
       "      <td>Andhra Pradesh</td>\n",
       "      <td>Vishakhapatnam</td>\n",
       "      <td>Moong</td>\n",
       "      <td>Split</td>\n",
       "      <td>Kg.</td>\n",
       "      <td>Food</td>\n",
       "      <td>JAN-2001</td>\n",
       "      <td>28.319444</td>\n",
       "    </tr>\n",
       "    <tr>\n",
       "      <th>4</th>\n",
       "      <td>4</td>\n",
       "      <td>Arunachal Pradesh</td>\n",
       "      <td>Itanagar</td>\n",
       "      <td>Moong</td>\n",
       "      <td>Split</td>\n",
       "      <td>Kg.</td>\n",
       "      <td>Food</td>\n",
       "      <td>JAN-2001</td>\n",
       "      <td>28.319444</td>\n",
       "    </tr>\n",
       "    <tr>\n",
       "      <th>...</th>\n",
       "      <td>...</td>\n",
       "      <td>...</td>\n",
       "      <td>...</td>\n",
       "      <td>...</td>\n",
       "      <td>...</td>\n",
       "      <td>...</td>\n",
       "      <td>...</td>\n",
       "      <td>...</td>\n",
       "      <td>...</td>\n",
       "    </tr>\n",
       "    <tr>\n",
       "      <th>1147441</th>\n",
       "      <td>1147441</td>\n",
       "      <td>West Bengal</td>\n",
       "      <td>Jalpaiguri</td>\n",
       "      <td>Wheat</td>\n",
       "      <td>Kalyan HYV</td>\n",
       "      <td>Kg.</td>\n",
       "      <td>Food</td>\n",
       "      <td>MAR-2021</td>\n",
       "      <td>29.301980</td>\n",
       "    </tr>\n",
       "    <tr>\n",
       "      <th>1147442</th>\n",
       "      <td>1147442</td>\n",
       "      <td>West Bengal</td>\n",
       "      <td>Kolkata</td>\n",
       "      <td>Wheat</td>\n",
       "      <td>Desi</td>\n",
       "      <td>Kg.</td>\n",
       "      <td>Food</td>\n",
       "      <td>MAR-2021</td>\n",
       "      <td>29.301980</td>\n",
       "    </tr>\n",
       "    <tr>\n",
       "      <th>1147443</th>\n",
       "      <td>1147443</td>\n",
       "      <td>West Bengal</td>\n",
       "      <td>Kolkata</td>\n",
       "      <td>Wheat</td>\n",
       "      <td>Kalyan HYV</td>\n",
       "      <td>Kg.</td>\n",
       "      <td>Food</td>\n",
       "      <td>MAR-2021</td>\n",
       "      <td>29.301980</td>\n",
       "    </tr>\n",
       "    <tr>\n",
       "      <th>1147444</th>\n",
       "      <td>1147444</td>\n",
       "      <td>West Bengal</td>\n",
       "      <td>Malda</td>\n",
       "      <td>Wheat</td>\n",
       "      <td>Desi</td>\n",
       "      <td>Kg.</td>\n",
       "      <td>Food</td>\n",
       "      <td>MAR-2021</td>\n",
       "      <td>20.000000</td>\n",
       "    </tr>\n",
       "    <tr>\n",
       "      <th>1147445</th>\n",
       "      <td>1147445</td>\n",
       "      <td>West Bengal</td>\n",
       "      <td>Malda</td>\n",
       "      <td>Wheat</td>\n",
       "      <td>Kalyan HYV</td>\n",
       "      <td>Kg.</td>\n",
       "      <td>Food</td>\n",
       "      <td>MAR-2021</td>\n",
       "      <td>29.301980</td>\n",
       "    </tr>\n",
       "  </tbody>\n",
       "</table>\n",
       "<p>1139231 rows × 9 columns</p>\n",
       "</div>"
      ],
      "text/plain": [
       "         Unnamed: 0              State          Centre Commodity     Variety  \\\n",
       "0                 0     Andhra Pradesh        Chittoor     Moong       Split   \n",
       "1                 1     Andhra Pradesh          Guntur     Moong       Split   \n",
       "2                 2     Andhra Pradesh         Kurnool     Moong       Split   \n",
       "3                 3     Andhra Pradesh  Vishakhapatnam     Moong       Split   \n",
       "4                 4  Arunachal Pradesh        Itanagar     Moong       Split   \n",
       "...             ...                ...             ...       ...         ...   \n",
       "1147441     1147441        West Bengal      Jalpaiguri     Wheat  Kalyan HYV   \n",
       "1147442     1147442        West Bengal         Kolkata     Wheat        Desi   \n",
       "1147443     1147443        West Bengal         Kolkata     Wheat  Kalyan HYV   \n",
       "1147444     1147444        West Bengal           Malda     Wheat        Desi   \n",
       "1147445     1147445        West Bengal           Malda     Wheat  Kalyan HYV   \n",
       "\n",
       "        Unit Category      Date  Retail Price  \n",
       "0        Kg.     Food  JAN-2001     24.000000  \n",
       "1        Kg.     Food  JAN-2001     26.000000  \n",
       "2        Kg.     Food  JAN-2001     25.500000  \n",
       "3        Kg.     Food  JAN-2001     28.319444  \n",
       "4        Kg.     Food  JAN-2001     28.319444  \n",
       "...      ...      ...       ...           ...  \n",
       "1147441  Kg.     Food  MAR-2021     29.301980  \n",
       "1147442  Kg.     Food  MAR-2021     29.301980  \n",
       "1147443  Kg.     Food  MAR-2021     29.301980  \n",
       "1147444  Kg.     Food  MAR-2021     20.000000  \n",
       "1147445  Kg.     Food  MAR-2021     29.301980  \n",
       "\n",
       "[1139231 rows x 9 columns]"
      ]
     },
     "execution_count": 81,
     "metadata": {},
     "output_type": "execute_result"
    }
   ],
   "source": [
    "df"
   ]
  },
  {
   "cell_type": "code",
   "execution_count": 82,
   "metadata": {},
   "outputs": [],
   "source": [
    "df10=df"
   ]
  },
  {
   "cell_type": "code",
   "execution_count": 83,
   "metadata": {},
   "outputs": [],
   "source": [
    "df10['Date'] = pd.DatetimeIndex(df10['Date']).year"
   ]
  },
  {
   "cell_type": "code",
   "execution_count": 84,
   "metadata": {},
   "outputs": [
    {
     "name": "stdout",
     "output_type": "stream",
     "text": [
      "varities of fish available between 2001 and 2010 is:['Cat Fish' 'Pomphret' 'Rohu 1Kg Size']\n"
     ]
    }
   ],
   "source": [
    "fish=df10[(df10[\"Commodity\"]==\"Fish\")&(df10[\"Date\"]>=2001)&(df10[\"Date\"]<=2010)][\"Variety\"].unique()\n",
    "print(\"varities of fish available between 2001 and 2010 is:%s\"%(fish))"
   ]
  },
  {
   "cell_type": "markdown",
   "metadata": {},
   "source": [
    "# 15 Which state has lowest price of Bajra according to yearwise?"
   ]
  },
  {
   "cell_type": "code",
   "execution_count": 109,
   "metadata": {
    "scrolled": true
   },
   "outputs": [
    {
     "data": {
      "text/html": [
       "<div>\n",
       "<style scoped>\n",
       "    .dataframe tbody tr th:only-of-type {\n",
       "        vertical-align: middle;\n",
       "    }\n",
       "\n",
       "    .dataframe tbody tr th {\n",
       "        vertical-align: top;\n",
       "    }\n",
       "\n",
       "    .dataframe thead th {\n",
       "        text-align: right;\n",
       "    }\n",
       "</style>\n",
       "<table border=\"1\" class=\"dataframe\">\n",
       "  <thead>\n",
       "    <tr style=\"text-align: right;\">\n",
       "      <th></th>\n",
       "      <th>Unnamed: 0</th>\n",
       "      <th>State</th>\n",
       "      <th>Centre</th>\n",
       "      <th>Commodity</th>\n",
       "      <th>Variety</th>\n",
       "      <th>Unit</th>\n",
       "      <th>Category</th>\n",
       "      <th>Date</th>\n",
       "      <th>Retail Price</th>\n",
       "    </tr>\n",
       "  </thead>\n",
       "  <tbody>\n",
       "    <tr>\n",
       "      <th>0</th>\n",
       "      <td>0</td>\n",
       "      <td>Andhra Pradesh</td>\n",
       "      <td>Chittoor</td>\n",
       "      <td>Moong</td>\n",
       "      <td>Split</td>\n",
       "      <td>Kg.</td>\n",
       "      <td>Food</td>\n",
       "      <td>JAN-2001</td>\n",
       "      <td>24.000000</td>\n",
       "    </tr>\n",
       "    <tr>\n",
       "      <th>1</th>\n",
       "      <td>1</td>\n",
       "      <td>Andhra Pradesh</td>\n",
       "      <td>Guntur</td>\n",
       "      <td>Moong</td>\n",
       "      <td>Split</td>\n",
       "      <td>Kg.</td>\n",
       "      <td>Food</td>\n",
       "      <td>JAN-2001</td>\n",
       "      <td>26.000000</td>\n",
       "    </tr>\n",
       "    <tr>\n",
       "      <th>2</th>\n",
       "      <td>2</td>\n",
       "      <td>Andhra Pradesh</td>\n",
       "      <td>Kurnool</td>\n",
       "      <td>Moong</td>\n",
       "      <td>Split</td>\n",
       "      <td>Kg.</td>\n",
       "      <td>Food</td>\n",
       "      <td>JAN-2001</td>\n",
       "      <td>25.500000</td>\n",
       "    </tr>\n",
       "    <tr>\n",
       "      <th>3</th>\n",
       "      <td>3</td>\n",
       "      <td>Andhra Pradesh</td>\n",
       "      <td>Vishakhapatnam</td>\n",
       "      <td>Moong</td>\n",
       "      <td>Split</td>\n",
       "      <td>Kg.</td>\n",
       "      <td>Food</td>\n",
       "      <td>JAN-2001</td>\n",
       "      <td>28.319444</td>\n",
       "    </tr>\n",
       "    <tr>\n",
       "      <th>4</th>\n",
       "      <td>4</td>\n",
       "      <td>Arunachal Pradesh</td>\n",
       "      <td>Itanagar</td>\n",
       "      <td>Moong</td>\n",
       "      <td>Split</td>\n",
       "      <td>Kg.</td>\n",
       "      <td>Food</td>\n",
       "      <td>JAN-2001</td>\n",
       "      <td>28.319444</td>\n",
       "    </tr>\n",
       "    <tr>\n",
       "      <th>...</th>\n",
       "      <td>...</td>\n",
       "      <td>...</td>\n",
       "      <td>...</td>\n",
       "      <td>...</td>\n",
       "      <td>...</td>\n",
       "      <td>...</td>\n",
       "      <td>...</td>\n",
       "      <td>...</td>\n",
       "      <td>...</td>\n",
       "    </tr>\n",
       "    <tr>\n",
       "      <th>1147441</th>\n",
       "      <td>1147441</td>\n",
       "      <td>West Bengal</td>\n",
       "      <td>Jalpaiguri</td>\n",
       "      <td>Wheat</td>\n",
       "      <td>Kalyan HYV</td>\n",
       "      <td>Kg.</td>\n",
       "      <td>Food</td>\n",
       "      <td>MAR-2021</td>\n",
       "      <td>29.301980</td>\n",
       "    </tr>\n",
       "    <tr>\n",
       "      <th>1147442</th>\n",
       "      <td>1147442</td>\n",
       "      <td>West Bengal</td>\n",
       "      <td>Kolkata</td>\n",
       "      <td>Wheat</td>\n",
       "      <td>Desi</td>\n",
       "      <td>Kg.</td>\n",
       "      <td>Food</td>\n",
       "      <td>MAR-2021</td>\n",
       "      <td>29.301980</td>\n",
       "    </tr>\n",
       "    <tr>\n",
       "      <th>1147443</th>\n",
       "      <td>1147443</td>\n",
       "      <td>West Bengal</td>\n",
       "      <td>Kolkata</td>\n",
       "      <td>Wheat</td>\n",
       "      <td>Kalyan HYV</td>\n",
       "      <td>Kg.</td>\n",
       "      <td>Food</td>\n",
       "      <td>MAR-2021</td>\n",
       "      <td>29.301980</td>\n",
       "    </tr>\n",
       "    <tr>\n",
       "      <th>1147444</th>\n",
       "      <td>1147444</td>\n",
       "      <td>West Bengal</td>\n",
       "      <td>Malda</td>\n",
       "      <td>Wheat</td>\n",
       "      <td>Desi</td>\n",
       "      <td>Kg.</td>\n",
       "      <td>Food</td>\n",
       "      <td>MAR-2021</td>\n",
       "      <td>20.000000</td>\n",
       "    </tr>\n",
       "    <tr>\n",
       "      <th>1147445</th>\n",
       "      <td>1147445</td>\n",
       "      <td>West Bengal</td>\n",
       "      <td>Malda</td>\n",
       "      <td>Wheat</td>\n",
       "      <td>Kalyan HYV</td>\n",
       "      <td>Kg.</td>\n",
       "      <td>Food</td>\n",
       "      <td>MAR-2021</td>\n",
       "      <td>29.301980</td>\n",
       "    </tr>\n",
       "  </tbody>\n",
       "</table>\n",
       "<p>1139231 rows × 9 columns</p>\n",
       "</div>"
      ],
      "text/plain": [
       "         Unnamed: 0              State          Centre Commodity     Variety  \\\n",
       "0                 0     Andhra Pradesh        Chittoor     Moong       Split   \n",
       "1                 1     Andhra Pradesh          Guntur     Moong       Split   \n",
       "2                 2     Andhra Pradesh         Kurnool     Moong       Split   \n",
       "3                 3     Andhra Pradesh  Vishakhapatnam     Moong       Split   \n",
       "4                 4  Arunachal Pradesh        Itanagar     Moong       Split   \n",
       "...             ...                ...             ...       ...         ...   \n",
       "1147441     1147441        West Bengal      Jalpaiguri     Wheat  Kalyan HYV   \n",
       "1147442     1147442        West Bengal         Kolkata     Wheat        Desi   \n",
       "1147443     1147443        West Bengal         Kolkata     Wheat  Kalyan HYV   \n",
       "1147444     1147444        West Bengal           Malda     Wheat        Desi   \n",
       "1147445     1147445        West Bengal           Malda     Wheat  Kalyan HYV   \n",
       "\n",
       "        Unit Category      Date  Retail Price  \n",
       "0        Kg.     Food  JAN-2001     24.000000  \n",
       "1        Kg.     Food  JAN-2001     26.000000  \n",
       "2        Kg.     Food  JAN-2001     25.500000  \n",
       "3        Kg.     Food  JAN-2001     28.319444  \n",
       "4        Kg.     Food  JAN-2001     28.319444  \n",
       "...      ...      ...       ...           ...  \n",
       "1147441  Kg.     Food  MAR-2021     29.301980  \n",
       "1147442  Kg.     Food  MAR-2021     29.301980  \n",
       "1147443  Kg.     Food  MAR-2021     29.301980  \n",
       "1147444  Kg.     Food  MAR-2021     20.000000  \n",
       "1147445  Kg.     Food  MAR-2021     29.301980  \n",
       "\n",
       "[1139231 rows x 9 columns]"
      ]
     },
     "execution_count": 109,
     "metadata": {},
     "output_type": "execute_result"
    }
   ],
   "source": [
    "df"
   ]
  },
  {
   "cell_type": "code",
   "execution_count": 110,
   "metadata": {},
   "outputs": [],
   "source": [
    "df11=df[(df[\"Commodity\"]==\"Bajra\")]"
   ]
  },
  {
   "cell_type": "code",
   "execution_count": 111,
   "metadata": {},
   "outputs": [
    {
     "data": {
      "text/html": [
       "<div>\n",
       "<style scoped>\n",
       "    .dataframe tbody tr th:only-of-type {\n",
       "        vertical-align: middle;\n",
       "    }\n",
       "\n",
       "    .dataframe tbody tr th {\n",
       "        vertical-align: top;\n",
       "    }\n",
       "\n",
       "    .dataframe thead th {\n",
       "        text-align: right;\n",
       "    }\n",
       "</style>\n",
       "<table border=\"1\" class=\"dataframe\">\n",
       "  <thead>\n",
       "    <tr style=\"text-align: right;\">\n",
       "      <th></th>\n",
       "      <th>Unnamed: 0</th>\n",
       "      <th>State</th>\n",
       "      <th>Centre</th>\n",
       "      <th>Commodity</th>\n",
       "      <th>Variety</th>\n",
       "      <th>Unit</th>\n",
       "      <th>Category</th>\n",
       "      <th>Date</th>\n",
       "      <th>Retail Price</th>\n",
       "    </tr>\n",
       "  </thead>\n",
       "  <tbody>\n",
       "    <tr>\n",
       "      <th>305220</th>\n",
       "      <td>305220</td>\n",
       "      <td>Andhra Pradesh</td>\n",
       "      <td>Chittoor</td>\n",
       "      <td>Bajra</td>\n",
       "      <td>FAQ</td>\n",
       "      <td>Kg.</td>\n",
       "      <td>Food</td>\n",
       "      <td>JAN-2001</td>\n",
       "      <td>6.500000</td>\n",
       "    </tr>\n",
       "    <tr>\n",
       "      <th>305221</th>\n",
       "      <td>305221</td>\n",
       "      <td>Andhra Pradesh</td>\n",
       "      <td>Guntur</td>\n",
       "      <td>Bajra</td>\n",
       "      <td>FAQ</td>\n",
       "      <td>Kg.</td>\n",
       "      <td>Food</td>\n",
       "      <td>JAN-2001</td>\n",
       "      <td>6.820000</td>\n",
       "    </tr>\n",
       "    <tr>\n",
       "      <th>305222</th>\n",
       "      <td>305222</td>\n",
       "      <td>Andhra Pradesh</td>\n",
       "      <td>Kurnool</td>\n",
       "      <td>Bajra</td>\n",
       "      <td>FAQ</td>\n",
       "      <td>Kg.</td>\n",
       "      <td>Food</td>\n",
       "      <td>JAN-2001</td>\n",
       "      <td>5.000000</td>\n",
       "    </tr>\n",
       "    <tr>\n",
       "      <th>305223</th>\n",
       "      <td>305223</td>\n",
       "      <td>Andhra Pradesh</td>\n",
       "      <td>Vishakhapatnam</td>\n",
       "      <td>Bajra</td>\n",
       "      <td>FAQ</td>\n",
       "      <td>Kg.</td>\n",
       "      <td>Food</td>\n",
       "      <td>JAN-2001</td>\n",
       "      <td>6.820000</td>\n",
       "    </tr>\n",
       "    <tr>\n",
       "      <th>305224</th>\n",
       "      <td>305224</td>\n",
       "      <td>Assam</td>\n",
       "      <td>Dispur</td>\n",
       "      <td>Bajra</td>\n",
       "      <td>FAQ</td>\n",
       "      <td>Kg.</td>\n",
       "      <td>Food</td>\n",
       "      <td>JAN-2001</td>\n",
       "      <td>6.820000</td>\n",
       "    </tr>\n",
       "    <tr>\n",
       "      <th>...</th>\n",
       "      <td>...</td>\n",
       "      <td>...</td>\n",
       "      <td>...</td>\n",
       "      <td>...</td>\n",
       "      <td>...</td>\n",
       "      <td>...</td>\n",
       "      <td>...</td>\n",
       "      <td>...</td>\n",
       "      <td>...</td>\n",
       "    </tr>\n",
       "    <tr>\n",
       "      <th>445644</th>\n",
       "      <td>445644</td>\n",
       "      <td>Uttar Pradesh</td>\n",
       "      <td>Saharanpur</td>\n",
       "      <td>Bajra</td>\n",
       "      <td>FAQ</td>\n",
       "      <td>Kg.</td>\n",
       "      <td>Food</td>\n",
       "      <td>MAR-2021</td>\n",
       "      <td>25.615385</td>\n",
       "    </tr>\n",
       "    <tr>\n",
       "      <th>445645</th>\n",
       "      <td>445645</td>\n",
       "      <td>Uttarakhand</td>\n",
       "      <td>Haldwani</td>\n",
       "      <td>Bajra</td>\n",
       "      <td>FAQ</td>\n",
       "      <td>Kg.</td>\n",
       "      <td>Food</td>\n",
       "      <td>MAR-2021</td>\n",
       "      <td>25.615385</td>\n",
       "    </tr>\n",
       "    <tr>\n",
       "      <th>445646</th>\n",
       "      <td>445646</td>\n",
       "      <td>Uttarakhand</td>\n",
       "      <td>Srinagar</td>\n",
       "      <td>Bajra</td>\n",
       "      <td>FAQ</td>\n",
       "      <td>Kg.</td>\n",
       "      <td>Food</td>\n",
       "      <td>MAR-2021</td>\n",
       "      <td>25.615385</td>\n",
       "    </tr>\n",
       "    <tr>\n",
       "      <th>445647</th>\n",
       "      <td>445647</td>\n",
       "      <td>West Bengal</td>\n",
       "      <td>Asansol</td>\n",
       "      <td>Bajra</td>\n",
       "      <td>FAQ</td>\n",
       "      <td>Kg.</td>\n",
       "      <td>Food</td>\n",
       "      <td>MAR-2021</td>\n",
       "      <td>22.000000</td>\n",
       "    </tr>\n",
       "    <tr>\n",
       "      <th>445648</th>\n",
       "      <td>445648</td>\n",
       "      <td>West Bengal</td>\n",
       "      <td>Howrah</td>\n",
       "      <td>Bajra</td>\n",
       "      <td>FAQ</td>\n",
       "      <td>Kg.</td>\n",
       "      <td>Food</td>\n",
       "      <td>MAR-2021</td>\n",
       "      <td>25.615385</td>\n",
       "    </tr>\n",
       "  </tbody>\n",
       "</table>\n",
       "<p>16767 rows × 9 columns</p>\n",
       "</div>"
      ],
      "text/plain": [
       "        Unnamed: 0           State          Centre Commodity Variety Unit  \\\n",
       "305220      305220  Andhra Pradesh        Chittoor     Bajra     FAQ  Kg.   \n",
       "305221      305221  Andhra Pradesh          Guntur     Bajra     FAQ  Kg.   \n",
       "305222      305222  Andhra Pradesh         Kurnool     Bajra     FAQ  Kg.   \n",
       "305223      305223  Andhra Pradesh  Vishakhapatnam     Bajra     FAQ  Kg.   \n",
       "305224      305224           Assam          Dispur     Bajra     FAQ  Kg.   \n",
       "...            ...             ...             ...       ...     ...  ...   \n",
       "445644      445644   Uttar Pradesh      Saharanpur     Bajra     FAQ  Kg.   \n",
       "445645      445645     Uttarakhand        Haldwani     Bajra     FAQ  Kg.   \n",
       "445646      445646     Uttarakhand        Srinagar     Bajra     FAQ  Kg.   \n",
       "445647      445647     West Bengal         Asansol     Bajra     FAQ  Kg.   \n",
       "445648      445648     West Bengal          Howrah     Bajra     FAQ  Kg.   \n",
       "\n",
       "       Category      Date  Retail Price  \n",
       "305220     Food  JAN-2001      6.500000  \n",
       "305221     Food  JAN-2001      6.820000  \n",
       "305222     Food  JAN-2001      5.000000  \n",
       "305223     Food  JAN-2001      6.820000  \n",
       "305224     Food  JAN-2001      6.820000  \n",
       "...         ...       ...           ...  \n",
       "445644     Food  MAR-2021     25.615385  \n",
       "445645     Food  MAR-2021     25.615385  \n",
       "445646     Food  MAR-2021     25.615385  \n",
       "445647     Food  MAR-2021     22.000000  \n",
       "445648     Food  MAR-2021     25.615385  \n",
       "\n",
       "[16767 rows x 9 columns]"
      ]
     },
     "execution_count": 111,
     "metadata": {},
     "output_type": "execute_result"
    }
   ],
   "source": [
    "df11"
   ]
  },
  {
   "cell_type": "code",
   "execution_count": 112,
   "metadata": {
    "scrolled": false
   },
   "outputs": [
    {
     "name": "stderr",
     "output_type": "stream",
     "text": [
      "<ipython-input-112-6c81e3b729fd>:1: SettingWithCopyWarning:\n",
      "\n",
      "\n",
      "A value is trying to be set on a copy of a slice from a DataFrame.\n",
      "Try using .loc[row_indexer,col_indexer] = value instead\n",
      "\n",
      "See the caveats in the documentation: https://pandas.pydata.org/pandas-docs/stable/user_guide/indexing.html#returning-a-view-versus-a-copy\n",
      "\n"
     ]
    }
   ],
   "source": [
    "df11['Date'] = pd.DatetimeIndex(df11['Date']).year"
   ]
  },
  {
   "cell_type": "code",
   "execution_count": 113,
   "metadata": {
    "scrolled": false
   },
   "outputs": [
    {
     "data": {
      "text/html": [
       "<div>\n",
       "<style scoped>\n",
       "    .dataframe tbody tr th:only-of-type {\n",
       "        vertical-align: middle;\n",
       "    }\n",
       "\n",
       "    .dataframe tbody tr th {\n",
       "        vertical-align: top;\n",
       "    }\n",
       "\n",
       "    .dataframe thead th {\n",
       "        text-align: right;\n",
       "    }\n",
       "</style>\n",
       "<table border=\"1\" class=\"dataframe\">\n",
       "  <thead>\n",
       "    <tr style=\"text-align: right;\">\n",
       "      <th></th>\n",
       "      <th>Unnamed: 0</th>\n",
       "      <th>State</th>\n",
       "      <th>Centre</th>\n",
       "      <th>Commodity</th>\n",
       "      <th>Variety</th>\n",
       "      <th>Unit</th>\n",
       "      <th>Category</th>\n",
       "      <th>Date</th>\n",
       "      <th>Retail Price</th>\n",
       "    </tr>\n",
       "  </thead>\n",
       "  <tbody>\n",
       "    <tr>\n",
       "      <th>305220</th>\n",
       "      <td>305220</td>\n",
       "      <td>Andhra Pradesh</td>\n",
       "      <td>Chittoor</td>\n",
       "      <td>Bajra</td>\n",
       "      <td>FAQ</td>\n",
       "      <td>Kg.</td>\n",
       "      <td>Food</td>\n",
       "      <td>2001</td>\n",
       "      <td>6.500000</td>\n",
       "    </tr>\n",
       "    <tr>\n",
       "      <th>305221</th>\n",
       "      <td>305221</td>\n",
       "      <td>Andhra Pradesh</td>\n",
       "      <td>Guntur</td>\n",
       "      <td>Bajra</td>\n",
       "      <td>FAQ</td>\n",
       "      <td>Kg.</td>\n",
       "      <td>Food</td>\n",
       "      <td>2001</td>\n",
       "      <td>6.820000</td>\n",
       "    </tr>\n",
       "    <tr>\n",
       "      <th>305222</th>\n",
       "      <td>305222</td>\n",
       "      <td>Andhra Pradesh</td>\n",
       "      <td>Kurnool</td>\n",
       "      <td>Bajra</td>\n",
       "      <td>FAQ</td>\n",
       "      <td>Kg.</td>\n",
       "      <td>Food</td>\n",
       "      <td>2001</td>\n",
       "      <td>5.000000</td>\n",
       "    </tr>\n",
       "    <tr>\n",
       "      <th>305223</th>\n",
       "      <td>305223</td>\n",
       "      <td>Andhra Pradesh</td>\n",
       "      <td>Vishakhapatnam</td>\n",
       "      <td>Bajra</td>\n",
       "      <td>FAQ</td>\n",
       "      <td>Kg.</td>\n",
       "      <td>Food</td>\n",
       "      <td>2001</td>\n",
       "      <td>6.820000</td>\n",
       "    </tr>\n",
       "    <tr>\n",
       "      <th>305224</th>\n",
       "      <td>305224</td>\n",
       "      <td>Assam</td>\n",
       "      <td>Dispur</td>\n",
       "      <td>Bajra</td>\n",
       "      <td>FAQ</td>\n",
       "      <td>Kg.</td>\n",
       "      <td>Food</td>\n",
       "      <td>2001</td>\n",
       "      <td>6.820000</td>\n",
       "    </tr>\n",
       "    <tr>\n",
       "      <th>...</th>\n",
       "      <td>...</td>\n",
       "      <td>...</td>\n",
       "      <td>...</td>\n",
       "      <td>...</td>\n",
       "      <td>...</td>\n",
       "      <td>...</td>\n",
       "      <td>...</td>\n",
       "      <td>...</td>\n",
       "      <td>...</td>\n",
       "    </tr>\n",
       "    <tr>\n",
       "      <th>445644</th>\n",
       "      <td>445644</td>\n",
       "      <td>Uttar Pradesh</td>\n",
       "      <td>Saharanpur</td>\n",
       "      <td>Bajra</td>\n",
       "      <td>FAQ</td>\n",
       "      <td>Kg.</td>\n",
       "      <td>Food</td>\n",
       "      <td>2021</td>\n",
       "      <td>25.615385</td>\n",
       "    </tr>\n",
       "    <tr>\n",
       "      <th>445645</th>\n",
       "      <td>445645</td>\n",
       "      <td>Uttarakhand</td>\n",
       "      <td>Haldwani</td>\n",
       "      <td>Bajra</td>\n",
       "      <td>FAQ</td>\n",
       "      <td>Kg.</td>\n",
       "      <td>Food</td>\n",
       "      <td>2021</td>\n",
       "      <td>25.615385</td>\n",
       "    </tr>\n",
       "    <tr>\n",
       "      <th>445646</th>\n",
       "      <td>445646</td>\n",
       "      <td>Uttarakhand</td>\n",
       "      <td>Srinagar</td>\n",
       "      <td>Bajra</td>\n",
       "      <td>FAQ</td>\n",
       "      <td>Kg.</td>\n",
       "      <td>Food</td>\n",
       "      <td>2021</td>\n",
       "      <td>25.615385</td>\n",
       "    </tr>\n",
       "    <tr>\n",
       "      <th>445647</th>\n",
       "      <td>445647</td>\n",
       "      <td>West Bengal</td>\n",
       "      <td>Asansol</td>\n",
       "      <td>Bajra</td>\n",
       "      <td>FAQ</td>\n",
       "      <td>Kg.</td>\n",
       "      <td>Food</td>\n",
       "      <td>2021</td>\n",
       "      <td>22.000000</td>\n",
       "    </tr>\n",
       "    <tr>\n",
       "      <th>445648</th>\n",
       "      <td>445648</td>\n",
       "      <td>West Bengal</td>\n",
       "      <td>Howrah</td>\n",
       "      <td>Bajra</td>\n",
       "      <td>FAQ</td>\n",
       "      <td>Kg.</td>\n",
       "      <td>Food</td>\n",
       "      <td>2021</td>\n",
       "      <td>25.615385</td>\n",
       "    </tr>\n",
       "  </tbody>\n",
       "</table>\n",
       "<p>16767 rows × 9 columns</p>\n",
       "</div>"
      ],
      "text/plain": [
       "        Unnamed: 0           State          Centre Commodity Variety Unit  \\\n",
       "305220      305220  Andhra Pradesh        Chittoor     Bajra     FAQ  Kg.   \n",
       "305221      305221  Andhra Pradesh          Guntur     Bajra     FAQ  Kg.   \n",
       "305222      305222  Andhra Pradesh         Kurnool     Bajra     FAQ  Kg.   \n",
       "305223      305223  Andhra Pradesh  Vishakhapatnam     Bajra     FAQ  Kg.   \n",
       "305224      305224           Assam          Dispur     Bajra     FAQ  Kg.   \n",
       "...            ...             ...             ...       ...     ...  ...   \n",
       "445644      445644   Uttar Pradesh      Saharanpur     Bajra     FAQ  Kg.   \n",
       "445645      445645     Uttarakhand        Haldwani     Bajra     FAQ  Kg.   \n",
       "445646      445646     Uttarakhand        Srinagar     Bajra     FAQ  Kg.   \n",
       "445647      445647     West Bengal         Asansol     Bajra     FAQ  Kg.   \n",
       "445648      445648     West Bengal          Howrah     Bajra     FAQ  Kg.   \n",
       "\n",
       "       Category  Date  Retail Price  \n",
       "305220     Food  2001      6.500000  \n",
       "305221     Food  2001      6.820000  \n",
       "305222     Food  2001      5.000000  \n",
       "305223     Food  2001      6.820000  \n",
       "305224     Food  2001      6.820000  \n",
       "...         ...   ...           ...  \n",
       "445644     Food  2021     25.615385  \n",
       "445645     Food  2021     25.615385  \n",
       "445646     Food  2021     25.615385  \n",
       "445647     Food  2021     22.000000  \n",
       "445648     Food  2021     25.615385  \n",
       "\n",
       "[16767 rows x 9 columns]"
      ]
     },
     "execution_count": 113,
     "metadata": {},
     "output_type": "execute_result"
    }
   ],
   "source": [
    "df11"
   ]
  },
  {
   "cell_type": "code",
   "execution_count": 114,
   "metadata": {},
   "outputs": [],
   "source": [
    "dat=df11[\"Date\"].unique()"
   ]
  },
  {
   "cell_type": "code",
   "execution_count": 115,
   "metadata": {
    "scrolled": true
   },
   "outputs": [
    {
     "name": "stdout",
     "output_type": "stream",
     "text": [
      "Minimum price of bajra in 2001:: state::['Uttar Pradesh'] price:: 3.500\n",
      "Minimum price of bajra in 2002:: state::['Madhya Pradesh'] price:: 4.000\n",
      "Minimum price of bajra in 2003:: state::['Rajasthan'] price:: 4.500\n",
      "Minimum price of bajra in 2004:: state::['Rajasthan'] price:: 4.000\n",
      "Minimum price of bajra in 2005:: state::['Karnataka'] price:: 5.500\n",
      "Minimum price of bajra in 2006:: state::['Bihar' 'Orissa' 'Karnataka' 'Rajasthan'] price:: 6.000\n",
      "Minimum price of bajra in 2007:: state::['Rajasthan'] price:: 6.000\n",
      "Minimum price of bajra in 2008:: state::['Rajasthan'] price:: 6.000\n",
      "Minimum price of bajra in 2009:: state::['Uttar Pradesh'] price:: 7.500\n",
      "Minimum price of bajra in 2010:: state::['Uttar Pradesh'] price:: 8.000\n",
      "Minimum price of bajra in 2011:: state::['Rajasthan'] price:: 8.500\n",
      "Minimum price of bajra in 2012:: state::['Rajasthan' 'Uttar Pradesh'] price:: 10.000\n",
      "Minimum price of bajra in 2013:: state::['Punjab' 'Rajasthan'] price:: 12.000\n",
      "Minimum price of bajra in 2014:: state::['Punjab' 'Rajasthan'] price:: 12.000\n",
      "Minimum price of bajra in 2015:: state::['Rajasthan'] price:: 11.000\n",
      "Minimum price of bajra in 2016:: state::['Haryana' 'Rajasthan'] price:: 14.000\n",
      "Minimum price of bajra in 2017:: state::['Rajasthan'] price:: 12.000\n",
      "Minimum price of bajra in 2018:: state::['Rajasthan'] price:: 12.000\n",
      "Minimum price of bajra in 2019:: state::['Karnataka'] price:: 14.000\n",
      "Minimum price of bajra in 2020:: state::['Karnataka'] price:: 15.000\n",
      "Minimum price of bajra in 2021:: state::['Haryana'] price:: 14.900\n"
     ]
    }
   ],
   "source": [
    "pri=[]\n",
    "stat=[]\n",
    "year=[]\n",
    "for d in dat:\n",
    "    price=df11[(df11[\"Date\"]==d)][\"Retail Price\"].min()\n",
    "    sta=df11[(df11[\"Date\"]==d)&(df11[\"Commodity\"]==\"Bajra\")&(df11[\"Retail Price\"]==price)][\"State\"].unique()\n",
    "    \n",
    "    \n",
    "    print(\"Minimum price of bajra in %d:: state::%s price:: %0.3f\"%(d,sta,price))\n",
    "    pri.append(price)\n",
    "    stat.append(sta)\n",
    "    year.append(d)\n",
    "    "
   ]
  },
  {
   "cell_type": "code",
   "execution_count": 116,
   "metadata": {
    "scrolled": true
   },
   "outputs": [],
   "source": [
    "state = []\n",
    "for i in stat:\n",
    "    state.append(i[0])"
   ]
  },
  {
   "cell_type": "code",
   "execution_count": 117,
   "metadata": {},
   "outputs": [],
   "source": [
    "state[5] = \"Bihar, Orissa, Karnataka, Rajathan\"\n",
    "state[11] = \"Rajasthan, Uttar Pradesh\"\n",
    "state[12] = \"Panjab Rajshthan\"\n",
    "state[13] = \"Panjab Rajshthan\"\n",
    "state[15] = \"Haryana, Rajasthan\""
   ]
  },
  {
   "cell_type": "code",
   "execution_count": 118,
   "metadata": {},
   "outputs": [
    {
     "data": {
      "image/png": "[encoded data removed]",
      "text/plain": [
       "<Figure size 864x504 with 1 Axes>"
      ]
     },
     "metadata": {
      "needs_background": "light"
     },
     "output_type": "display_data"
    }
   ],
   "source": [
    "plt.figure(figsize = (12,7))\n",
    "bar_plot =  plt.bar(year,pri)\n",
    "\n",
    "\n",
    "def autolabel(rects):\n",
    "    for idx,rect in enumerate(bar_plot):\n",
    "        height = rect.get_height()\n",
    "        plt.text(rect.get_x() + rect.get_width()/2., 1.05*height,\n",
    "                state[idx],\n",
    "                ha='center', va='bottom', rotation=90)\n",
    "\n",
    "autolabel(bar_plot)\n",
    "\n",
    "\n",
    "plt.show()"
   ]
  },
  {
   "cell_type": "markdown",
   "metadata": {},
   "source": [
    "# 16 How many types of oils are available and their varieties?"
   ]
  },
  {
   "cell_type": "code",
   "execution_count": 119,
   "metadata": {
    "scrolled": false
   },
   "outputs": [
    {
     "data": {
      "text/html": [
       "<div>\n",
       "<style scoped>\n",
       "    .dataframe tbody tr th:only-of-type {\n",
       "        vertical-align: middle;\n",
       "    }\n",
       "\n",
       "    .dataframe tbody tr th {\n",
       "        vertical-align: top;\n",
       "    }\n",
       "\n",
       "    .dataframe thead th {\n",
       "        text-align: right;\n",
       "    }\n",
       "</style>\n",
       "<table border=\"1\" class=\"dataframe\">\n",
       "  <thead>\n",
       "    <tr style=\"text-align: right;\">\n",
       "      <th></th>\n",
       "      <th>Unnamed: 0</th>\n",
       "      <th>State</th>\n",
       "      <th>Centre</th>\n",
       "      <th>Commodity</th>\n",
       "      <th>Variety</th>\n",
       "      <th>Unit</th>\n",
       "      <th>Category</th>\n",
       "      <th>Date</th>\n",
       "      <th>Retail Price</th>\n",
       "    </tr>\n",
       "  </thead>\n",
       "  <tbody>\n",
       "    <tr>\n",
       "      <th>0</th>\n",
       "      <td>0</td>\n",
       "      <td>Andhra Pradesh</td>\n",
       "      <td>Chittoor</td>\n",
       "      <td>Moong</td>\n",
       "      <td>Split</td>\n",
       "      <td>Kg.</td>\n",
       "      <td>Food</td>\n",
       "      <td>JAN-2001</td>\n",
       "      <td>24.000000</td>\n",
       "    </tr>\n",
       "    <tr>\n",
       "      <th>1</th>\n",
       "      <td>1</td>\n",
       "      <td>Andhra Pradesh</td>\n",
       "      <td>Guntur</td>\n",
       "      <td>Moong</td>\n",
       "      <td>Split</td>\n",
       "      <td>Kg.</td>\n",
       "      <td>Food</td>\n",
       "      <td>JAN-2001</td>\n",
       "      <td>26.000000</td>\n",
       "    </tr>\n",
       "    <tr>\n",
       "      <th>2</th>\n",
       "      <td>2</td>\n",
       "      <td>Andhra Pradesh</td>\n",
       "      <td>Kurnool</td>\n",
       "      <td>Moong</td>\n",
       "      <td>Split</td>\n",
       "      <td>Kg.</td>\n",
       "      <td>Food</td>\n",
       "      <td>JAN-2001</td>\n",
       "      <td>25.500000</td>\n",
       "    </tr>\n",
       "    <tr>\n",
       "      <th>3</th>\n",
       "      <td>3</td>\n",
       "      <td>Andhra Pradesh</td>\n",
       "      <td>Vishakhapatnam</td>\n",
       "      <td>Moong</td>\n",
       "      <td>Split</td>\n",
       "      <td>Kg.</td>\n",
       "      <td>Food</td>\n",
       "      <td>JAN-2001</td>\n",
       "      <td>28.319444</td>\n",
       "    </tr>\n",
       "    <tr>\n",
       "      <th>4</th>\n",
       "      <td>4</td>\n",
       "      <td>Arunachal Pradesh</td>\n",
       "      <td>Itanagar</td>\n",
       "      <td>Moong</td>\n",
       "      <td>Split</td>\n",
       "      <td>Kg.</td>\n",
       "      <td>Food</td>\n",
       "      <td>JAN-2001</td>\n",
       "      <td>28.319444</td>\n",
       "    </tr>\n",
       "    <tr>\n",
       "      <th>...</th>\n",
       "      <td>...</td>\n",
       "      <td>...</td>\n",
       "      <td>...</td>\n",
       "      <td>...</td>\n",
       "      <td>...</td>\n",
       "      <td>...</td>\n",
       "      <td>...</td>\n",
       "      <td>...</td>\n",
       "      <td>...</td>\n",
       "    </tr>\n",
       "    <tr>\n",
       "      <th>1147441</th>\n",
       "      <td>1147441</td>\n",
       "      <td>West Bengal</td>\n",
       "      <td>Jalpaiguri</td>\n",
       "      <td>Wheat</td>\n",
       "      <td>Kalyan HYV</td>\n",
       "      <td>Kg.</td>\n",
       "      <td>Food</td>\n",
       "      <td>MAR-2021</td>\n",
       "      <td>29.301980</td>\n",
       "    </tr>\n",
       "    <tr>\n",
       "      <th>1147442</th>\n",
       "      <td>1147442</td>\n",
       "      <td>West Bengal</td>\n",
       "      <td>Kolkata</td>\n",
       "      <td>Wheat</td>\n",
       "      <td>Desi</td>\n",
       "      <td>Kg.</td>\n",
       "      <td>Food</td>\n",
       "      <td>MAR-2021</td>\n",
       "      <td>29.301980</td>\n",
       "    </tr>\n",
       "    <tr>\n",
       "      <th>1147443</th>\n",
       "      <td>1147443</td>\n",
       "      <td>West Bengal</td>\n",
       "      <td>Kolkata</td>\n",
       "      <td>Wheat</td>\n",
       "      <td>Kalyan HYV</td>\n",
       "      <td>Kg.</td>\n",
       "      <td>Food</td>\n",
       "      <td>MAR-2021</td>\n",
       "      <td>29.301980</td>\n",
       "    </tr>\n",
       "    <tr>\n",
       "      <th>1147444</th>\n",
       "      <td>1147444</td>\n",
       "      <td>West Bengal</td>\n",
       "      <td>Malda</td>\n",
       "      <td>Wheat</td>\n",
       "      <td>Desi</td>\n",
       "      <td>Kg.</td>\n",
       "      <td>Food</td>\n",
       "      <td>MAR-2021</td>\n",
       "      <td>20.000000</td>\n",
       "    </tr>\n",
       "    <tr>\n",
       "      <th>1147445</th>\n",
       "      <td>1147445</td>\n",
       "      <td>West Bengal</td>\n",
       "      <td>Malda</td>\n",
       "      <td>Wheat</td>\n",
       "      <td>Kalyan HYV</td>\n",
       "      <td>Kg.</td>\n",
       "      <td>Food</td>\n",
       "      <td>MAR-2021</td>\n",
       "      <td>29.301980</td>\n",
       "    </tr>\n",
       "  </tbody>\n",
       "</table>\n",
       "<p>1139231 rows × 9 columns</p>\n",
       "</div>"
      ],
      "text/plain": [
       "         Unnamed: 0              State          Centre Commodity     Variety  \\\n",
       "0                 0     Andhra Pradesh        Chittoor     Moong       Split   \n",
       "1                 1     Andhra Pradesh          Guntur     Moong       Split   \n",
       "2                 2     Andhra Pradesh         Kurnool     Moong       Split   \n",
       "3                 3     Andhra Pradesh  Vishakhapatnam     Moong       Split   \n",
       "4                 4  Arunachal Pradesh        Itanagar     Moong       Split   \n",
       "...             ...                ...             ...       ...         ...   \n",
       "1147441     1147441        West Bengal      Jalpaiguri     Wheat  Kalyan HYV   \n",
       "1147442     1147442        West Bengal         Kolkata     Wheat        Desi   \n",
       "1147443     1147443        West Bengal         Kolkata     Wheat  Kalyan HYV   \n",
       "1147444     1147444        West Bengal           Malda     Wheat        Desi   \n",
       "1147445     1147445        West Bengal           Malda     Wheat  Kalyan HYV   \n",
       "\n",
       "        Unit Category      Date  Retail Price  \n",
       "0        Kg.     Food  JAN-2001     24.000000  \n",
       "1        Kg.     Food  JAN-2001     26.000000  \n",
       "2        Kg.     Food  JAN-2001     25.500000  \n",
       "3        Kg.     Food  JAN-2001     28.319444  \n",
       "4        Kg.     Food  JAN-2001     28.319444  \n",
       "...      ...      ...       ...           ...  \n",
       "1147441  Kg.     Food  MAR-2021     29.301980  \n",
       "1147442  Kg.     Food  MAR-2021     29.301980  \n",
       "1147443  Kg.     Food  MAR-2021     29.301980  \n",
       "1147444  Kg.     Food  MAR-2021     20.000000  \n",
       "1147445  Kg.     Food  MAR-2021     29.301980  \n",
       "\n",
       "[1139231 rows x 9 columns]"
      ]
     },
     "execution_count": 119,
     "metadata": {},
     "output_type": "execute_result"
    }
   ],
   "source": [
    "df"
   ]
  },
  {
   "cell_type": "code",
   "execution_count": 121,
   "metadata": {
    "scrolled": false
   },
   "outputs": [
    {
     "data": {
      "text/plain": [
       "array(['Moong', 'Not Available', 'Mustard Oil', 'Onion', 'Potato', 'Ragi',\n",
       "       'Red Chillies', 'Rice', 'Salt', 'Sugar', 'Suji', 'Tea', 'Arhar',\n",
       "       'Atta', 'Bajra', 'Banana', 'Besan', 'Biscuit', 'Apple',\n",
       "       'Groundnut Oil', 'Gur', 'Jowar', 'Maida', 'Maize', 'Masur', 'Meat',\n",
       "       'Milk', 'Coriander', 'Cummin Seed', 'Eggs', 'Fish', 'Ghee',\n",
       "       'Gingelly Oil', 'Gram', 'Black Pepper', 'Bread', 'Brinjal',\n",
       "       'Butter', 'Chicken', 'Coconut', 'Coconut Oil', 'Coffee', 'Tomato',\n",
       "       'Turmeric', 'Urad', 'Vanaspati', 'Wheat'], dtype=object)"
      ]
     },
     "execution_count": 121,
     "metadata": {},
     "output_type": "execute_result"
    }
   ],
   "source": [
    "df[\"Commodity\"].unique()"
   ]
  },
  {
   "cell_type": "code",
   "execution_count": 122,
   "metadata": {},
   "outputs": [
    {
     "data": {
      "text/plain": [
       "array(['Split', 'FAQ', 'Powdered Agmark', 'Common/Coarse', 'Fine',\n",
       "       'Superfine', 'Loose(common)', 'Packet(iodized)',\n",
       "       'Brooke Bond Red Label', 'Ctc(loose)', 'Glucose',\n",
       "       'Delicious medium size', 'Local', 'White', 'Mutton', 'Cow/Buffalo',\n",
       "       'Dairy', 'Common', 'Cat Fish', 'Pomphret', 'Rohu 1Kg Size', 'Desi',\n",
       "       'Whole', 'Amul/Any Other', 'Poultry', 'Dry', 'Fresh', 'Instant',\n",
       "       'Powdered', 'Kalyan HYV'], dtype=object)"
      ]
     },
     "execution_count": 122,
     "metadata": {},
     "output_type": "execute_result"
    }
   ],
   "source": [
    "df[\"Variety\"].unique()"
   ]
  },
  {
   "cell_type": "code",
   "execution_count": 123,
   "metadata": {},
   "outputs": [
    {
     "data": {
      "text/plain": [
       "array(['FAQ'], dtype=object)"
      ]
     },
     "execution_count": 123,
     "metadata": {},
     "output_type": "execute_result"
    }
   ],
   "source": [
    "df[df[\"Commodity\"]==\"Mustard Oil\"][\"Variety\"].unique()"
   ]
  },
  {
   "cell_type": "code",
   "execution_count": 124,
   "metadata": {},
   "outputs": [
    {
     "data": {
      "text/plain": [
       "array(['FAQ'], dtype=object)"
      ]
     },
     "execution_count": 124,
     "metadata": {},
     "output_type": "execute_result"
    }
   ],
   "source": [
    "df[df[\"Commodity\"]==\"Groundnut Oil\"][\"Variety\"].unique()"
   ]
  },
  {
   "cell_type": "code",
   "execution_count": 125,
   "metadata": {},
   "outputs": [
    {
     "data": {
      "text/plain": [
       "array(['FAQ'], dtype=object)"
      ]
     },
     "execution_count": 125,
     "metadata": {},
     "output_type": "execute_result"
    }
   ],
   "source": [
    "df[df[\"Commodity\"]==\"Gingelly Oil\"][\"Variety\"].unique()"
   ]
  },
  {
   "cell_type": "code",
   "execution_count": 126,
   "metadata": {},
   "outputs": [
    {
     "data": {
      "text/plain": [
       "array(['FAQ'], dtype=object)"
      ]
     },
     "execution_count": 126,
     "metadata": {},
     "output_type": "execute_result"
    }
   ],
   "source": [
    "df[df[\"Commodity\"]==\"Coconut Oil\"][\"Variety\"].unique()"
   ]
  },
  {
   "cell_type": "markdown",
   "metadata": {},
   "source": [
    "# 17 Which state consume more local products commodity wise?[in variety field]"
   ]
  },
  {
   "cell_type": "code",
   "execution_count": 128,
   "metadata": {
    "scrolled": true
   },
   "outputs": [],
   "source": [
    "df16=df[(df[\"Variety\"]==\"Local\")]"
   ]
  },
  {
   "cell_type": "code",
   "execution_count": 129,
   "metadata": {
    "scrolled": false
   },
   "outputs": [
    {
     "data": {
      "text/html": [
       "<div>\n",
       "<style scoped>\n",
       "    .dataframe tbody tr th:only-of-type {\n",
       "        vertical-align: middle;\n",
       "    }\n",
       "\n",
       "    .dataframe tbody tr th {\n",
       "        vertical-align: top;\n",
       "    }\n",
       "\n",
       "    .dataframe thead th {\n",
       "        text-align: right;\n",
       "    }\n",
       "</style>\n",
       "<table border=\"1\" class=\"dataframe\">\n",
       "  <thead>\n",
       "    <tr style=\"text-align: right;\">\n",
       "      <th></th>\n",
       "      <th>Unnamed: 0</th>\n",
       "      <th>State</th>\n",
       "      <th>Centre</th>\n",
       "      <th>Commodity</th>\n",
       "      <th>Variety</th>\n",
       "      <th>Unit</th>\n",
       "      <th>Category</th>\n",
       "      <th>Date</th>\n",
       "      <th>Retail Price</th>\n",
       "    </tr>\n",
       "  </thead>\n",
       "  <tbody>\n",
       "    <tr>\n",
       "      <th>445989</th>\n",
       "      <td>445989</td>\n",
       "      <td>Andhra Pradesh</td>\n",
       "      <td>Chittoor</td>\n",
       "      <td>Gur</td>\n",
       "      <td>Local</td>\n",
       "      <td>Kg.</td>\n",
       "      <td>Food</td>\n",
       "      <td>JAN-2001</td>\n",
       "      <td>1200.000000</td>\n",
       "    </tr>\n",
       "    <tr>\n",
       "      <th>445990</th>\n",
       "      <td>445990</td>\n",
       "      <td>Andhra Pradesh</td>\n",
       "      <td>Guntur</td>\n",
       "      <td>Gur</td>\n",
       "      <td>Local</td>\n",
       "      <td>Kg.</td>\n",
       "      <td>Food</td>\n",
       "      <td>JAN-2001</td>\n",
       "      <td>12.000000</td>\n",
       "    </tr>\n",
       "    <tr>\n",
       "      <th>445991</th>\n",
       "      <td>445991</td>\n",
       "      <td>Andhra Pradesh</td>\n",
       "      <td>Kurnool</td>\n",
       "      <td>Gur</td>\n",
       "      <td>Local</td>\n",
       "      <td>Kg.</td>\n",
       "      <td>Food</td>\n",
       "      <td>JAN-2001</td>\n",
       "      <td>13.000000</td>\n",
       "    </tr>\n",
       "    <tr>\n",
       "      <th>445992</th>\n",
       "      <td>445992</td>\n",
       "      <td>Andhra Pradesh</td>\n",
       "      <td>Vishakhapatnam</td>\n",
       "      <td>Gur</td>\n",
       "      <td>Local</td>\n",
       "      <td>Kg.</td>\n",
       "      <td>Food</td>\n",
       "      <td>JAN-2001</td>\n",
       "      <td>63.989796</td>\n",
       "    </tr>\n",
       "    <tr>\n",
       "      <th>445993</th>\n",
       "      <td>445993</td>\n",
       "      <td>Arunachal Pradesh</td>\n",
       "      <td>Itanagar</td>\n",
       "      <td>Gur</td>\n",
       "      <td>Local</td>\n",
       "      <td>Kg.</td>\n",
       "      <td>Food</td>\n",
       "      <td>JAN-2001</td>\n",
       "      <td>63.989796</td>\n",
       "    </tr>\n",
       "    <tr>\n",
       "      <th>...</th>\n",
       "      <td>...</td>\n",
       "      <td>...</td>\n",
       "      <td>...</td>\n",
       "      <td>...</td>\n",
       "      <td>...</td>\n",
       "      <td>...</td>\n",
       "      <td>...</td>\n",
       "      <td>...</td>\n",
       "      <td>...</td>\n",
       "    </tr>\n",
       "    <tr>\n",
       "      <th>1023821</th>\n",
       "      <td>1023821</td>\n",
       "      <td>West Bengal</td>\n",
       "      <td>Asansol</td>\n",
       "      <td>Bread</td>\n",
       "      <td>Local</td>\n",
       "      <td>400/800 Gm</td>\n",
       "      <td>Food</td>\n",
       "      <td>MAR-2021</td>\n",
       "      <td>16.000000</td>\n",
       "    </tr>\n",
       "    <tr>\n",
       "      <th>1023822</th>\n",
       "      <td>1023822</td>\n",
       "      <td>West Bengal</td>\n",
       "      <td>Howrah</td>\n",
       "      <td>Bread</td>\n",
       "      <td>Local</td>\n",
       "      <td>400/800 Gm</td>\n",
       "      <td>Food</td>\n",
       "      <td>MAR-2021</td>\n",
       "      <td>24.000000</td>\n",
       "    </tr>\n",
       "    <tr>\n",
       "      <th>1023823</th>\n",
       "      <td>1023823</td>\n",
       "      <td>West Bengal</td>\n",
       "      <td>Jalpaiguri</td>\n",
       "      <td>Bread</td>\n",
       "      <td>Local</td>\n",
       "      <td>400/800 Gm</td>\n",
       "      <td>Food</td>\n",
       "      <td>MAR-2021</td>\n",
       "      <td>30.016949</td>\n",
       "    </tr>\n",
       "    <tr>\n",
       "      <th>1023824</th>\n",
       "      <td>1023824</td>\n",
       "      <td>West Bengal</td>\n",
       "      <td>Kolkata</td>\n",
       "      <td>Bread</td>\n",
       "      <td>Local</td>\n",
       "      <td>400/800 Gm</td>\n",
       "      <td>Food</td>\n",
       "      <td>MAR-2021</td>\n",
       "      <td>21.000000</td>\n",
       "    </tr>\n",
       "    <tr>\n",
       "      <th>1023825</th>\n",
       "      <td>1023825</td>\n",
       "      <td>West Bengal</td>\n",
       "      <td>Malda</td>\n",
       "      <td>Not Available</td>\n",
       "      <td>Local</td>\n",
       "      <td>400/800 Gm</td>\n",
       "      <td>Food</td>\n",
       "      <td>MAR-2021</td>\n",
       "      <td>30.000000</td>\n",
       "    </tr>\n",
       "  </tbody>\n",
       "</table>\n",
       "<p>41333 rows × 9 columns</p>\n",
       "</div>"
      ],
      "text/plain": [
       "         Unnamed: 0              State          Centre      Commodity Variety  \\\n",
       "445989       445989     Andhra Pradesh        Chittoor            Gur   Local   \n",
       "445990       445990     Andhra Pradesh          Guntur            Gur   Local   \n",
       "445991       445991     Andhra Pradesh         Kurnool            Gur   Local   \n",
       "445992       445992     Andhra Pradesh  Vishakhapatnam            Gur   Local   \n",
       "445993       445993  Arunachal Pradesh        Itanagar            Gur   Local   \n",
       "...             ...                ...             ...            ...     ...   \n",
       "1023821     1023821        West Bengal         Asansol          Bread   Local   \n",
       "1023822     1023822        West Bengal          Howrah          Bread   Local   \n",
       "1023823     1023823        West Bengal      Jalpaiguri          Bread   Local   \n",
       "1023824     1023824        West Bengal         Kolkata          Bread   Local   \n",
       "1023825     1023825        West Bengal           Malda  Not Available   Local   \n",
       "\n",
       "               Unit Category      Date  Retail Price  \n",
       "445989          Kg.     Food  JAN-2001   1200.000000  \n",
       "445990          Kg.     Food  JAN-2001     12.000000  \n",
       "445991          Kg.     Food  JAN-2001     13.000000  \n",
       "445992          Kg.     Food  JAN-2001     63.989796  \n",
       "445993          Kg.     Food  JAN-2001     63.989796  \n",
       "...             ...      ...       ...           ...  \n",
       "1023821  400/800 Gm     Food  MAR-2021     16.000000  \n",
       "1023822  400/800 Gm     Food  MAR-2021     24.000000  \n",
       "1023823  400/800 Gm     Food  MAR-2021     30.016949  \n",
       "1023824  400/800 Gm     Food  MAR-2021     21.000000  \n",
       "1023825  400/800 Gm     Food  MAR-2021     30.000000  \n",
       "\n",
       "[41333 rows x 9 columns]"
      ]
     },
     "execution_count": 129,
     "metadata": {},
     "output_type": "execute_result"
    }
   ],
   "source": [
    "df16"
   ]
  },
  {
   "cell_type": "code",
   "execution_count": 130,
   "metadata": {
    "scrolled": true
   },
   "outputs": [],
   "source": [
    "x=df16[\"State\"].unique()"
   ]
  },
  {
   "cell_type": "code",
   "execution_count": 131,
   "metadata": {
    "scrolled": true
   },
   "outputs": [
    {
     "name": "stdout",
     "output_type": "stream",
     "text": [
      " Andhra Pradesh consumes ['Gur' 'Bread'] (2)local varieties\n",
      " Arunachal Pradesh consumes ['Gur' 'Bread'] (2)local varieties\n",
      " Assam consumes ['Gur' 'Bread'] (2)local varieties\n",
      " Bihar consumes ['Gur' 'Bread'] (2)local varieties\n",
      " Goa consumes ['Gur' 'Bread'] (2)local varieties\n",
      " Gujarat consumes ['Gur' 'Bread'] (2)local varieties\n",
      " Haryana consumes ['Gur' 'Bread'] (2)local varieties\n",
      " Himachal Pradesh consumes ['Gur' 'Bread'] (2)local varieties\n",
      " Jammu Kashmir consumes ['Gur' 'Bread'] (2)local varieties\n",
      " Jharkhand consumes ['Gur' 'Bread'] (2)local varieties\n",
      " Karnataka consumes ['Gur' 'Bread'] (2)local varieties\n",
      " Kerala consumes ['Gur' 'Bread'] (2)local varieties\n",
      " Madhya Pradesh consumes ['Gur' 'Bread'] (2)local varieties\n",
      " Maharashtra consumes ['Gur' 'Bread'] (2)local varieties\n",
      " Manipur consumes ['Gur' 'Bread'] (2)local varieties\n",
      " Meghalaya consumes ['Gur' 'Bread'] (2)local varieties\n",
      " Mizoram consumes ['Gur' 'Bread'] (2)local varieties\n",
      " Nagaland consumes ['Gur' 'Bread'] (2)local varieties\n",
      " National Capital consumes ['Gur' 'Bread'] (2)local varieties\n",
      " Orissa consumes ['Gur' 'Bread'] (2)local varieties\n",
      " Punjab consumes ['Gur' 'Bread'] (2)local varieties\n",
      " Rajasthan consumes ['Gur' 'Bread'] (2)local varieties\n",
      " Sikkim consumes ['Gur' 'Bread'] (2)local varieties\n",
      " Tamil Nadu consumes ['Gur' 'Bread'] (2)local varieties\n",
      " Telangana consumes ['Gur' 'Bread'] (2)local varieties\n",
      " Tripura consumes ['Gur' 'Bread'] (2)local varieties\n",
      " Union Territories consumes ['Gur' 'Bread'] (2)local varieties\n",
      " Uttar Pradesh consumes ['Gur' 'Bread'] (2)local varieties\n",
      " Uttarakhand consumes ['Gur' 'Bread'] (2)local varieties\n",
      " West Bengal consumes ['Gur' 'Not Available' 'Bread'] (3)local varieties\n"
     ]
    }
   ],
   "source": [
    "\n",
    "for s in x:\n",
    "    l=df16[(df16[\"State\"]==s)][\"Commodity\"].unique()\n",
    "    n=df16[(df16[\"State\"]==s)][\"Commodity\"].nunique()\n",
    "    \n",
    "    print(\" %s consumes %s (%d)local varieties\"%(s,l,n))"
   ]
  },
  {
   "cell_type": "markdown",
   "metadata": {},
   "source": [
    "# 18 Top 5 Commodities which have high retail price in 2021"
   ]
  },
  {
   "cell_type": "code",
   "execution_count": 132,
   "metadata": {
    "scrolled": true
   },
   "outputs": [
    {
     "data": {
      "text/html": [
       "<div>\n",
       "<style scoped>\n",
       "    .dataframe tbody tr th:only-of-type {\n",
       "        vertical-align: middle;\n",
       "    }\n",
       "\n",
       "    .dataframe tbody tr th {\n",
       "        vertical-align: top;\n",
       "    }\n",
       "\n",
       "    .dataframe thead th {\n",
       "        text-align: right;\n",
       "    }\n",
       "</style>\n",
       "<table border=\"1\" class=\"dataframe\">\n",
       "  <thead>\n",
       "    <tr style=\"text-align: right;\">\n",
       "      <th></th>\n",
       "      <th>Unnamed: 0</th>\n",
       "      <th>State</th>\n",
       "      <th>Centre</th>\n",
       "      <th>Commodity</th>\n",
       "      <th>Variety</th>\n",
       "      <th>Unit</th>\n",
       "      <th>Category</th>\n",
       "      <th>Date</th>\n",
       "      <th>Retail Price</th>\n",
       "    </tr>\n",
       "  </thead>\n",
       "  <tbody>\n",
       "    <tr>\n",
       "      <th>0</th>\n",
       "      <td>0</td>\n",
       "      <td>Andhra Pradesh</td>\n",
       "      <td>Chittoor</td>\n",
       "      <td>Moong</td>\n",
       "      <td>Split</td>\n",
       "      <td>Kg.</td>\n",
       "      <td>Food</td>\n",
       "      <td>JAN-2001</td>\n",
       "      <td>24.000000</td>\n",
       "    </tr>\n",
       "    <tr>\n",
       "      <th>1</th>\n",
       "      <td>1</td>\n",
       "      <td>Andhra Pradesh</td>\n",
       "      <td>Guntur</td>\n",
       "      <td>Moong</td>\n",
       "      <td>Split</td>\n",
       "      <td>Kg.</td>\n",
       "      <td>Food</td>\n",
       "      <td>JAN-2001</td>\n",
       "      <td>26.000000</td>\n",
       "    </tr>\n",
       "    <tr>\n",
       "      <th>2</th>\n",
       "      <td>2</td>\n",
       "      <td>Andhra Pradesh</td>\n",
       "      <td>Kurnool</td>\n",
       "      <td>Moong</td>\n",
       "      <td>Split</td>\n",
       "      <td>Kg.</td>\n",
       "      <td>Food</td>\n",
       "      <td>JAN-2001</td>\n",
       "      <td>25.500000</td>\n",
       "    </tr>\n",
       "    <tr>\n",
       "      <th>3</th>\n",
       "      <td>3</td>\n",
       "      <td>Andhra Pradesh</td>\n",
       "      <td>Vishakhapatnam</td>\n",
       "      <td>Moong</td>\n",
       "      <td>Split</td>\n",
       "      <td>Kg.</td>\n",
       "      <td>Food</td>\n",
       "      <td>JAN-2001</td>\n",
       "      <td>28.319444</td>\n",
       "    </tr>\n",
       "    <tr>\n",
       "      <th>4</th>\n",
       "      <td>4</td>\n",
       "      <td>Arunachal Pradesh</td>\n",
       "      <td>Itanagar</td>\n",
       "      <td>Moong</td>\n",
       "      <td>Split</td>\n",
       "      <td>Kg.</td>\n",
       "      <td>Food</td>\n",
       "      <td>JAN-2001</td>\n",
       "      <td>28.319444</td>\n",
       "    </tr>\n",
       "    <tr>\n",
       "      <th>...</th>\n",
       "      <td>...</td>\n",
       "      <td>...</td>\n",
       "      <td>...</td>\n",
       "      <td>...</td>\n",
       "      <td>...</td>\n",
       "      <td>...</td>\n",
       "      <td>...</td>\n",
       "      <td>...</td>\n",
       "      <td>...</td>\n",
       "    </tr>\n",
       "    <tr>\n",
       "      <th>1147441</th>\n",
       "      <td>1147441</td>\n",
       "      <td>West Bengal</td>\n",
       "      <td>Jalpaiguri</td>\n",
       "      <td>Wheat</td>\n",
       "      <td>Kalyan HYV</td>\n",
       "      <td>Kg.</td>\n",
       "      <td>Food</td>\n",
       "      <td>MAR-2021</td>\n",
       "      <td>29.301980</td>\n",
       "    </tr>\n",
       "    <tr>\n",
       "      <th>1147442</th>\n",
       "      <td>1147442</td>\n",
       "      <td>West Bengal</td>\n",
       "      <td>Kolkata</td>\n",
       "      <td>Wheat</td>\n",
       "      <td>Desi</td>\n",
       "      <td>Kg.</td>\n",
       "      <td>Food</td>\n",
       "      <td>MAR-2021</td>\n",
       "      <td>29.301980</td>\n",
       "    </tr>\n",
       "    <tr>\n",
       "      <th>1147443</th>\n",
       "      <td>1147443</td>\n",
       "      <td>West Bengal</td>\n",
       "      <td>Kolkata</td>\n",
       "      <td>Wheat</td>\n",
       "      <td>Kalyan HYV</td>\n",
       "      <td>Kg.</td>\n",
       "      <td>Food</td>\n",
       "      <td>MAR-2021</td>\n",
       "      <td>29.301980</td>\n",
       "    </tr>\n",
       "    <tr>\n",
       "      <th>1147444</th>\n",
       "      <td>1147444</td>\n",
       "      <td>West Bengal</td>\n",
       "      <td>Malda</td>\n",
       "      <td>Wheat</td>\n",
       "      <td>Desi</td>\n",
       "      <td>Kg.</td>\n",
       "      <td>Food</td>\n",
       "      <td>MAR-2021</td>\n",
       "      <td>20.000000</td>\n",
       "    </tr>\n",
       "    <tr>\n",
       "      <th>1147445</th>\n",
       "      <td>1147445</td>\n",
       "      <td>West Bengal</td>\n",
       "      <td>Malda</td>\n",
       "      <td>Wheat</td>\n",
       "      <td>Kalyan HYV</td>\n",
       "      <td>Kg.</td>\n",
       "      <td>Food</td>\n",
       "      <td>MAR-2021</td>\n",
       "      <td>29.301980</td>\n",
       "    </tr>\n",
       "  </tbody>\n",
       "</table>\n",
       "<p>1139231 rows × 9 columns</p>\n",
       "</div>"
      ],
      "text/plain": [
       "         Unnamed: 0              State          Centre Commodity     Variety  \\\n",
       "0                 0     Andhra Pradesh        Chittoor     Moong       Split   \n",
       "1                 1     Andhra Pradesh          Guntur     Moong       Split   \n",
       "2                 2     Andhra Pradesh         Kurnool     Moong       Split   \n",
       "3                 3     Andhra Pradesh  Vishakhapatnam     Moong       Split   \n",
       "4                 4  Arunachal Pradesh        Itanagar     Moong       Split   \n",
       "...             ...                ...             ...       ...         ...   \n",
       "1147441     1147441        West Bengal      Jalpaiguri     Wheat  Kalyan HYV   \n",
       "1147442     1147442        West Bengal         Kolkata     Wheat        Desi   \n",
       "1147443     1147443        West Bengal         Kolkata     Wheat  Kalyan HYV   \n",
       "1147444     1147444        West Bengal           Malda     Wheat        Desi   \n",
       "1147445     1147445        West Bengal           Malda     Wheat  Kalyan HYV   \n",
       "\n",
       "        Unit Category      Date  Retail Price  \n",
       "0        Kg.     Food  JAN-2001     24.000000  \n",
       "1        Kg.     Food  JAN-2001     26.000000  \n",
       "2        Kg.     Food  JAN-2001     25.500000  \n",
       "3        Kg.     Food  JAN-2001     28.319444  \n",
       "4        Kg.     Food  JAN-2001     28.319444  \n",
       "...      ...      ...       ...           ...  \n",
       "1147441  Kg.     Food  MAR-2021     29.301980  \n",
       "1147442  Kg.     Food  MAR-2021     29.301980  \n",
       "1147443  Kg.     Food  MAR-2021     29.301980  \n",
       "1147444  Kg.     Food  MAR-2021     20.000000  \n",
       "1147445  Kg.     Food  MAR-2021     29.301980  \n",
       "\n",
       "[1139231 rows x 9 columns]"
      ]
     },
     "execution_count": 132,
     "metadata": {},
     "output_type": "execute_result"
    }
   ],
   "source": [
    "df"
   ]
  },
  {
   "cell_type": "code",
   "execution_count": 133,
   "metadata": {},
   "outputs": [],
   "source": [
    "df17=df"
   ]
  },
  {
   "cell_type": "code",
   "execution_count": 134,
   "metadata": {},
   "outputs": [],
   "source": [
    "df17['Date'] = pd.DatetimeIndex(df17['Date']).year"
   ]
  },
  {
   "cell_type": "code",
   "execution_count": 135,
   "metadata": {},
   "outputs": [],
   "source": [
    "comm=df17[\"Commodity\"].unique()"
   ]
  },
  {
   "cell_type": "code",
   "execution_count": 136,
   "metadata": {},
   "outputs": [
    {
     "name": "stdout",
     "output_type": "stream",
     "text": [
      "Average retail price of Moong in 2021:107.471\n",
      "Average retail price of Not Available in 2021:125.590\n",
      "Average retail price of Mustard Oil in 2021:149.522\n",
      "Average retail price of Onion in 2021:44.624\n",
      "Average retail price of Potato in 2021:19.608\n",
      "Average retail price of Ragi in 2021:40.824\n",
      "Average retail price of Red Chillies in 2021:29.126\n",
      "Average retail price of Rice in 2021:50.919\n",
      "Average retail price of Salt in 2021:15.657\n",
      "Average retail price of Sugar in 2021:38.834\n",
      "Average retail price of Suji in 2021:39.481\n",
      "Average retail price of Tea in 2021:196.620\n",
      "Average retail price of Arhar in 2021:104.758\n",
      "Average retail price of Atta in 2021:30.692\n",
      "Average retail price of Bajra in 2021:25.770\n",
      "Average retail price of Banana in 2021:44.051\n",
      "Average retail price of Besan in 2021:83.668\n",
      "Average retail price of Biscuit in 2021:8.661\n",
      "Average retail price of Apple in 2021:135.870\n",
      "Average retail price of Groundnut Oil in 2021:172.820\n",
      "Average retail price of Gur in 2021:50.115\n",
      "Average retail price of Jowar in 2021:33.874\n",
      "Average retail price of Maida in 2021:33.412\n",
      "Average retail price of Maize in 2021:26.591\n",
      "Average retail price of Masur in 2021:79.362\n",
      "Average retail price of Meat in 2021:629.453\n",
      "Average retail price of Milk in 2021:51.041\n",
      "Average retail price of Coriander in 2021:24.916\n",
      "Average retail price of Cummin Seed in 2021:236.186\n",
      "Average retail price of Eggs in 2021:64.627\n",
      "Average retail price of Fish in 2021:321.101\n",
      "Average retail price of Ghee in 2021:534.854\n",
      "Average retail price of Gingelly Oil in 2021:216.864\n",
      "Average retail price of Gram in 2021:70.906\n",
      "Average retail price of Black Pepper in 2021:637.789\n",
      "Average retail price of Bread in 2021:30.226\n",
      "Average retail price of Brinjal in 2021:29.775\n",
      "Average retail price of Butter in 2021:48.847\n",
      "Average retail price of Chicken in 2021:174.449\n",
      "Average retail price of Coconut in 2021:106.218\n",
      "Average retail price of Coconut Oil in 2021:285.933\n",
      "Average retail price of Coffee in 2021:1027.020\n",
      "Average retail price of Tomato in 2021:21.198\n",
      "Average retail price of Turmeric in 2021:23.089\n",
      "Average retail price of Urad in 2021:110.655\n",
      "Average retail price of Vanaspati in 2021:106.218\n",
      "Average retail price of Wheat in 2021:29.313\n"
     ]
    }
   ],
   "source": [
    "com=[]\n",
    "high_retail_price=[]\n",
    "for c in comm:\n",
    "    top=df17[(df17[\"Date\"]==2021)&(df17[\"Commodity\"]==c)][\"Retail Price\"].mean()\n",
    "    print(\"Average retail price of %s in 2021:%0.3f\"%(c,top))\n",
    "    com.append(c)\n",
    "    high_retail_price.append(top)"
   ]
  },
  {
   "cell_type": "code",
   "execution_count": 137,
   "metadata": {},
   "outputs": [],
   "source": [
    "dat= {\"Commodity\":com,\"Retail Price\":high_retail_price}"
   ]
  },
  {
   "cell_type": "code",
   "execution_count": 138,
   "metadata": {},
   "outputs": [],
   "source": [
    "top_retail_price=pd.DataFrame(dat)"
   ]
  },
  {
   "cell_type": "code",
   "execution_count": 139,
   "metadata": {
    "scrolled": true
   },
   "outputs": [
    {
     "data": {
      "text/html": [
       "<div>\n",
       "<style scoped>\n",
       "    .dataframe tbody tr th:only-of-type {\n",
       "        vertical-align: middle;\n",
       "    }\n",
       "\n",
       "    .dataframe tbody tr th {\n",
       "        vertical-align: top;\n",
       "    }\n",
       "\n",
       "    .dataframe thead th {\n",
       "        text-align: right;\n",
       "    }\n",
       "</style>\n",
       "<table border=\"1\" class=\"dataframe\">\n",
       "  <thead>\n",
       "    <tr style=\"text-align: right;\">\n",
       "      <th></th>\n",
       "      <th>Commodity</th>\n",
       "      <th>Retail Price</th>\n",
       "    </tr>\n",
       "  </thead>\n",
       "  <tbody>\n",
       "    <tr>\n",
       "      <th>41</th>\n",
       "      <td>Coffee</td>\n",
       "      <td>1027.019581</td>\n",
       "    </tr>\n",
       "    <tr>\n",
       "      <th>34</th>\n",
       "      <td>Black Pepper</td>\n",
       "      <td>637.789193</td>\n",
       "    </tr>\n",
       "    <tr>\n",
       "      <th>25</th>\n",
       "      <td>Meat</td>\n",
       "      <td>629.453448</td>\n",
       "    </tr>\n",
       "    <tr>\n",
       "      <th>31</th>\n",
       "      <td>Ghee</td>\n",
       "      <td>534.854153</td>\n",
       "    </tr>\n",
       "    <tr>\n",
       "      <th>30</th>\n",
       "      <td>Fish</td>\n",
       "      <td>321.101277</td>\n",
       "    </tr>\n",
       "    <tr>\n",
       "      <th>40</th>\n",
       "      <td>Coconut Oil</td>\n",
       "      <td>285.932574</td>\n",
       "    </tr>\n",
       "    <tr>\n",
       "      <th>28</th>\n",
       "      <td>Cummin Seed</td>\n",
       "      <td>236.186303</td>\n",
       "    </tr>\n",
       "    <tr>\n",
       "      <th>32</th>\n",
       "      <td>Gingelly Oil</td>\n",
       "      <td>216.863585</td>\n",
       "    </tr>\n",
       "    <tr>\n",
       "      <th>11</th>\n",
       "      <td>Tea</td>\n",
       "      <td>196.620087</td>\n",
       "    </tr>\n",
       "    <tr>\n",
       "      <th>38</th>\n",
       "      <td>Chicken</td>\n",
       "      <td>174.449436</td>\n",
       "    </tr>\n",
       "    <tr>\n",
       "      <th>19</th>\n",
       "      <td>Groundnut Oil</td>\n",
       "      <td>172.820328</td>\n",
       "    </tr>\n",
       "    <tr>\n",
       "      <th>2</th>\n",
       "      <td>Mustard Oil</td>\n",
       "      <td>149.522433</td>\n",
       "    </tr>\n",
       "    <tr>\n",
       "      <th>18</th>\n",
       "      <td>Apple</td>\n",
       "      <td>135.869507</td>\n",
       "    </tr>\n",
       "    <tr>\n",
       "      <th>1</th>\n",
       "      <td>Not Available</td>\n",
       "      <td>125.590476</td>\n",
       "    </tr>\n",
       "    <tr>\n",
       "      <th>44</th>\n",
       "      <td>Urad</td>\n",
       "      <td>110.654550</td>\n",
       "    </tr>\n",
       "    <tr>\n",
       "      <th>0</th>\n",
       "      <td>Moong</td>\n",
       "      <td>107.470649</td>\n",
       "    </tr>\n",
       "    <tr>\n",
       "      <th>39</th>\n",
       "      <td>Coconut</td>\n",
       "      <td>106.218389</td>\n",
       "    </tr>\n",
       "    <tr>\n",
       "      <th>45</th>\n",
       "      <td>Vanaspati</td>\n",
       "      <td>106.217646</td>\n",
       "    </tr>\n",
       "    <tr>\n",
       "      <th>12</th>\n",
       "      <td>Arhar</td>\n",
       "      <td>104.758255</td>\n",
       "    </tr>\n",
       "    <tr>\n",
       "      <th>16</th>\n",
       "      <td>Besan</td>\n",
       "      <td>83.667928</td>\n",
       "    </tr>\n",
       "    <tr>\n",
       "      <th>24</th>\n",
       "      <td>Masur</td>\n",
       "      <td>79.361800</td>\n",
       "    </tr>\n",
       "    <tr>\n",
       "      <th>33</th>\n",
       "      <td>Gram</td>\n",
       "      <td>70.905614</td>\n",
       "    </tr>\n",
       "    <tr>\n",
       "      <th>29</th>\n",
       "      <td>Eggs</td>\n",
       "      <td>64.626513</td>\n",
       "    </tr>\n",
       "    <tr>\n",
       "      <th>26</th>\n",
       "      <td>Milk</td>\n",
       "      <td>51.040627</td>\n",
       "    </tr>\n",
       "    <tr>\n",
       "      <th>7</th>\n",
       "      <td>Rice</td>\n",
       "      <td>50.919247</td>\n",
       "    </tr>\n",
       "    <tr>\n",
       "      <th>20</th>\n",
       "      <td>Gur</td>\n",
       "      <td>50.115039</td>\n",
       "    </tr>\n",
       "    <tr>\n",
       "      <th>37</th>\n",
       "      <td>Butter</td>\n",
       "      <td>48.846792</td>\n",
       "    </tr>\n",
       "    <tr>\n",
       "      <th>3</th>\n",
       "      <td>Onion</td>\n",
       "      <td>44.624252</td>\n",
       "    </tr>\n",
       "    <tr>\n",
       "      <th>15</th>\n",
       "      <td>Banana</td>\n",
       "      <td>44.051282</td>\n",
       "    </tr>\n",
       "    <tr>\n",
       "      <th>5</th>\n",
       "      <td>Ragi</td>\n",
       "      <td>40.824084</td>\n",
       "    </tr>\n",
       "    <tr>\n",
       "      <th>10</th>\n",
       "      <td>Suji</td>\n",
       "      <td>39.481236</td>\n",
       "    </tr>\n",
       "    <tr>\n",
       "      <th>9</th>\n",
       "      <td>Sugar</td>\n",
       "      <td>38.833864</td>\n",
       "    </tr>\n",
       "    <tr>\n",
       "      <th>21</th>\n",
       "      <td>Jowar</td>\n",
       "      <td>33.873763</td>\n",
       "    </tr>\n",
       "    <tr>\n",
       "      <th>22</th>\n",
       "      <td>Maida</td>\n",
       "      <td>33.412310</td>\n",
       "    </tr>\n",
       "    <tr>\n",
       "      <th>13</th>\n",
       "      <td>Atta</td>\n",
       "      <td>30.692165</td>\n",
       "    </tr>\n",
       "    <tr>\n",
       "      <th>35</th>\n",
       "      <td>Bread</td>\n",
       "      <td>30.225777</td>\n",
       "    </tr>\n",
       "    <tr>\n",
       "      <th>36</th>\n",
       "      <td>Brinjal</td>\n",
       "      <td>29.775054</td>\n",
       "    </tr>\n",
       "    <tr>\n",
       "      <th>46</th>\n",
       "      <td>Wheat</td>\n",
       "      <td>29.313078</td>\n",
       "    </tr>\n",
       "    <tr>\n",
       "      <th>6</th>\n",
       "      <td>Red Chillies</td>\n",
       "      <td>29.126422</td>\n",
       "    </tr>\n",
       "    <tr>\n",
       "      <th>23</th>\n",
       "      <td>Maize</td>\n",
       "      <td>26.590815</td>\n",
       "    </tr>\n",
       "    <tr>\n",
       "      <th>14</th>\n",
       "      <td>Bajra</td>\n",
       "      <td>25.769890</td>\n",
       "    </tr>\n",
       "    <tr>\n",
       "      <th>27</th>\n",
       "      <td>Coriander</td>\n",
       "      <td>24.915797</td>\n",
       "    </tr>\n",
       "    <tr>\n",
       "      <th>43</th>\n",
       "      <td>Turmeric</td>\n",
       "      <td>23.089457</td>\n",
       "    </tr>\n",
       "    <tr>\n",
       "      <th>42</th>\n",
       "      <td>Tomato</td>\n",
       "      <td>21.197872</td>\n",
       "    </tr>\n",
       "    <tr>\n",
       "      <th>4</th>\n",
       "      <td>Potato</td>\n",
       "      <td>19.608403</td>\n",
       "    </tr>\n",
       "    <tr>\n",
       "      <th>8</th>\n",
       "      <td>Salt</td>\n",
       "      <td>15.656956</td>\n",
       "    </tr>\n",
       "    <tr>\n",
       "      <th>17</th>\n",
       "      <td>Biscuit</td>\n",
       "      <td>8.660848</td>\n",
       "    </tr>\n",
       "  </tbody>\n",
       "</table>\n",
       "</div>"
      ],
      "text/plain": [
       "        Commodity  Retail Price\n",
       "41         Coffee   1027.019581\n",
       "34   Black Pepper    637.789193\n",
       "25           Meat    629.453448\n",
       "31           Ghee    534.854153\n",
       "30           Fish    321.101277\n",
       "40    Coconut Oil    285.932574\n",
       "28    Cummin Seed    236.186303\n",
       "32   Gingelly Oil    216.863585\n",
       "11            Tea    196.620087\n",
       "38        Chicken    174.449436\n",
       "19  Groundnut Oil    172.820328\n",
       "2     Mustard Oil    149.522433\n",
       "18          Apple    135.869507\n",
       "1   Not Available    125.590476\n",
       "44           Urad    110.654550\n",
       "0           Moong    107.470649\n",
       "39        Coconut    106.218389\n",
       "45      Vanaspati    106.217646\n",
       "12          Arhar    104.758255\n",
       "16          Besan     83.667928\n",
       "24          Masur     79.361800\n",
       "33           Gram     70.905614\n",
       "29           Eggs     64.626513\n",
       "26           Milk     51.040627\n",
       "7            Rice     50.919247\n",
       "20            Gur     50.115039\n",
       "37         Butter     48.846792\n",
       "3           Onion     44.624252\n",
       "15         Banana     44.051282\n",
       "5            Ragi     40.824084\n",
       "10           Suji     39.481236\n",
       "9           Sugar     38.833864\n",
       "21          Jowar     33.873763\n",
       "22          Maida     33.412310\n",
       "13           Atta     30.692165\n",
       "35          Bread     30.225777\n",
       "36        Brinjal     29.775054\n",
       "46          Wheat     29.313078\n",
       "6    Red Chillies     29.126422\n",
       "23          Maize     26.590815\n",
       "14          Bajra     25.769890\n",
       "27      Coriander     24.915797\n",
       "43       Turmeric     23.089457\n",
       "42         Tomato     21.197872\n",
       "4          Potato     19.608403\n",
       "8            Salt     15.656956\n",
       "17        Biscuit      8.660848"
      ]
     },
     "execution_count": 139,
     "metadata": {},
     "output_type": "execute_result"
    }
   ],
   "source": [
    "top_retail_price=top_retail_price.sort_values(by=\"Retail Price\",ascending=False)\n",
    "top_retail_price"
   ]
  },
  {
   "cell_type": "code",
   "execution_count": 140,
   "metadata": {
    "scrolled": false
   },
   "outputs": [
    {
     "data": {
      "text/html": [
       "<div>\n",
       "<style scoped>\n",
       "    .dataframe tbody tr th:only-of-type {\n",
       "        vertical-align: middle;\n",
       "    }\n",
       "\n",
       "    .dataframe tbody tr th {\n",
       "        vertical-align: top;\n",
       "    }\n",
       "\n",
       "    .dataframe thead th {\n",
       "        text-align: right;\n",
       "    }\n",
       "</style>\n",
       "<table border=\"1\" class=\"dataframe\">\n",
       "  <thead>\n",
       "    <tr style=\"text-align: right;\">\n",
       "      <th></th>\n",
       "      <th>Commodity</th>\n",
       "      <th>Retail Price</th>\n",
       "    </tr>\n",
       "  </thead>\n",
       "  <tbody>\n",
       "    <tr>\n",
       "      <th>41</th>\n",
       "      <td>Coffee</td>\n",
       "      <td>1027.019581</td>\n",
       "    </tr>\n",
       "    <tr>\n",
       "      <th>34</th>\n",
       "      <td>Black Pepper</td>\n",
       "      <td>637.789193</td>\n",
       "    </tr>\n",
       "    <tr>\n",
       "      <th>25</th>\n",
       "      <td>Meat</td>\n",
       "      <td>629.453448</td>\n",
       "    </tr>\n",
       "    <tr>\n",
       "      <th>31</th>\n",
       "      <td>Ghee</td>\n",
       "      <td>534.854153</td>\n",
       "    </tr>\n",
       "    <tr>\n",
       "      <th>30</th>\n",
       "      <td>Fish</td>\n",
       "      <td>321.101277</td>\n",
       "    </tr>\n",
       "  </tbody>\n",
       "</table>\n",
       "</div>"
      ],
      "text/plain": [
       "       Commodity  Retail Price\n",
       "41        Coffee   1027.019581\n",
       "34  Black Pepper    637.789193\n",
       "25          Meat    629.453448\n",
       "31          Ghee    534.854153\n",
       "30          Fish    321.101277"
      ]
     },
     "execution_count": 140,
     "metadata": {},
     "output_type": "execute_result"
    }
   ],
   "source": [
    "five=top_retail_price.head(5)\n",
    "five"
   ]
  },
  {
   "cell_type": "code",
   "execution_count": 141,
   "metadata": {
    "scrolled": true
   },
   "outputs": [
    {
     "data": {
      "text/plain": [
       "<AxesSubplot:xlabel='Commodity'>"
      ]
     },
     "execution_count": 141,
     "metadata": {},
     "output_type": "execute_result"
    },
    {
     "data": {
      "image/png": "[encoded data removed]",
      "text/plain": [
       "<Figure size 432x288 with 1 Axes>"
      ]
     },
     "metadata": {
      "needs_background": "light"
     },
     "output_type": "display_data"
    }
   ],
   "source": [
    "five.plot.bar(x='Commodity', y='Retail Price')"
   ]
  },
  {
   "cell_type": "markdown",
   "metadata": {},
   "source": [
    "# 18 Top Commodity which have high retail price from 2001 to 2021"
   ]
  },
  {
   "cell_type": "code",
   "execution_count": 164,
   "metadata": {
    "scrolled": false
   },
   "outputs": [
    {
     "data": {
      "text/html": [
       "<div>\n",
       "<style scoped>\n",
       "    .dataframe tbody tr th:only-of-type {\n",
       "        vertical-align: middle;\n",
       "    }\n",
       "\n",
       "    .dataframe tbody tr th {\n",
       "        vertical-align: top;\n",
       "    }\n",
       "\n",
       "    .dataframe thead th {\n",
       "        text-align: right;\n",
       "    }\n",
       "</style>\n",
       "<table border=\"1\" class=\"dataframe\">\n",
       "  <thead>\n",
       "    <tr style=\"text-align: right;\">\n",
       "      <th></th>\n",
       "      <th>Unnamed: 0</th>\n",
       "      <th>State</th>\n",
       "      <th>Centre</th>\n",
       "      <th>Commodity</th>\n",
       "      <th>Variety</th>\n",
       "      <th>Unit</th>\n",
       "      <th>Category</th>\n",
       "      <th>Date</th>\n",
       "      <th>Retail Price</th>\n",
       "    </tr>\n",
       "  </thead>\n",
       "  <tbody>\n",
       "    <tr>\n",
       "      <th>0</th>\n",
       "      <td>0</td>\n",
       "      <td>Andhra Pradesh</td>\n",
       "      <td>Chittoor</td>\n",
       "      <td>Moong</td>\n",
       "      <td>Split</td>\n",
       "      <td>Kg.</td>\n",
       "      <td>Food</td>\n",
       "      <td>JAN-2001</td>\n",
       "      <td>24.000000</td>\n",
       "    </tr>\n",
       "    <tr>\n",
       "      <th>1</th>\n",
       "      <td>1</td>\n",
       "      <td>Andhra Pradesh</td>\n",
       "      <td>Guntur</td>\n",
       "      <td>Moong</td>\n",
       "      <td>Split</td>\n",
       "      <td>Kg.</td>\n",
       "      <td>Food</td>\n",
       "      <td>JAN-2001</td>\n",
       "      <td>26.000000</td>\n",
       "    </tr>\n",
       "    <tr>\n",
       "      <th>2</th>\n",
       "      <td>2</td>\n",
       "      <td>Andhra Pradesh</td>\n",
       "      <td>Kurnool</td>\n",
       "      <td>Moong</td>\n",
       "      <td>Split</td>\n",
       "      <td>Kg.</td>\n",
       "      <td>Food</td>\n",
       "      <td>JAN-2001</td>\n",
       "      <td>25.500000</td>\n",
       "    </tr>\n",
       "    <tr>\n",
       "      <th>3</th>\n",
       "      <td>3</td>\n",
       "      <td>Andhra Pradesh</td>\n",
       "      <td>Vishakhapatnam</td>\n",
       "      <td>Moong</td>\n",
       "      <td>Split</td>\n",
       "      <td>Kg.</td>\n",
       "      <td>Food</td>\n",
       "      <td>JAN-2001</td>\n",
       "      <td>28.319444</td>\n",
       "    </tr>\n",
       "    <tr>\n",
       "      <th>4</th>\n",
       "      <td>4</td>\n",
       "      <td>Arunachal Pradesh</td>\n",
       "      <td>Itanagar</td>\n",
       "      <td>Moong</td>\n",
       "      <td>Split</td>\n",
       "      <td>Kg.</td>\n",
       "      <td>Food</td>\n",
       "      <td>JAN-2001</td>\n",
       "      <td>28.319444</td>\n",
       "    </tr>\n",
       "    <tr>\n",
       "      <th>...</th>\n",
       "      <td>...</td>\n",
       "      <td>...</td>\n",
       "      <td>...</td>\n",
       "      <td>...</td>\n",
       "      <td>...</td>\n",
       "      <td>...</td>\n",
       "      <td>...</td>\n",
       "      <td>...</td>\n",
       "      <td>...</td>\n",
       "    </tr>\n",
       "    <tr>\n",
       "      <th>1147441</th>\n",
       "      <td>1147441</td>\n",
       "      <td>West Bengal</td>\n",
       "      <td>Jalpaiguri</td>\n",
       "      <td>Wheat</td>\n",
       "      <td>Kalyan HYV</td>\n",
       "      <td>Kg.</td>\n",
       "      <td>Food</td>\n",
       "      <td>MAR-2021</td>\n",
       "      <td>29.301980</td>\n",
       "    </tr>\n",
       "    <tr>\n",
       "      <th>1147442</th>\n",
       "      <td>1147442</td>\n",
       "      <td>West Bengal</td>\n",
       "      <td>Kolkata</td>\n",
       "      <td>Wheat</td>\n",
       "      <td>Desi</td>\n",
       "      <td>Kg.</td>\n",
       "      <td>Food</td>\n",
       "      <td>MAR-2021</td>\n",
       "      <td>29.301980</td>\n",
       "    </tr>\n",
       "    <tr>\n",
       "      <th>1147443</th>\n",
       "      <td>1147443</td>\n",
       "      <td>West Bengal</td>\n",
       "      <td>Kolkata</td>\n",
       "      <td>Wheat</td>\n",
       "      <td>Kalyan HYV</td>\n",
       "      <td>Kg.</td>\n",
       "      <td>Food</td>\n",
       "      <td>MAR-2021</td>\n",
       "      <td>29.301980</td>\n",
       "    </tr>\n",
       "    <tr>\n",
       "      <th>1147444</th>\n",
       "      <td>1147444</td>\n",
       "      <td>West Bengal</td>\n",
       "      <td>Malda</td>\n",
       "      <td>Wheat</td>\n",
       "      <td>Desi</td>\n",
       "      <td>Kg.</td>\n",
       "      <td>Food</td>\n",
       "      <td>MAR-2021</td>\n",
       "      <td>20.000000</td>\n",
       "    </tr>\n",
       "    <tr>\n",
       "      <th>1147445</th>\n",
       "      <td>1147445</td>\n",
       "      <td>West Bengal</td>\n",
       "      <td>Malda</td>\n",
       "      <td>Wheat</td>\n",
       "      <td>Kalyan HYV</td>\n",
       "      <td>Kg.</td>\n",
       "      <td>Food</td>\n",
       "      <td>MAR-2021</td>\n",
       "      <td>29.301980</td>\n",
       "    </tr>\n",
       "  </tbody>\n",
       "</table>\n",
       "<p>1139231 rows × 9 columns</p>\n",
       "</div>"
      ],
      "text/plain": [
       "         Unnamed: 0              State          Centre Commodity     Variety  \\\n",
       "0                 0     Andhra Pradesh        Chittoor     Moong       Split   \n",
       "1                 1     Andhra Pradesh          Guntur     Moong       Split   \n",
       "2                 2     Andhra Pradesh         Kurnool     Moong       Split   \n",
       "3                 3     Andhra Pradesh  Vishakhapatnam     Moong       Split   \n",
       "4                 4  Arunachal Pradesh        Itanagar     Moong       Split   \n",
       "...             ...                ...             ...       ...         ...   \n",
       "1147441     1147441        West Bengal      Jalpaiguri     Wheat  Kalyan HYV   \n",
       "1147442     1147442        West Bengal         Kolkata     Wheat        Desi   \n",
       "1147443     1147443        West Bengal         Kolkata     Wheat  Kalyan HYV   \n",
       "1147444     1147444        West Bengal           Malda     Wheat        Desi   \n",
       "1147445     1147445        West Bengal           Malda     Wheat  Kalyan HYV   \n",
       "\n",
       "        Unit Category      Date  Retail Price  \n",
       "0        Kg.     Food  JAN-2001     24.000000  \n",
       "1        Kg.     Food  JAN-2001     26.000000  \n",
       "2        Kg.     Food  JAN-2001     25.500000  \n",
       "3        Kg.     Food  JAN-2001     28.319444  \n",
       "4        Kg.     Food  JAN-2001     28.319444  \n",
       "...      ...      ...       ...           ...  \n",
       "1147441  Kg.     Food  MAR-2021     29.301980  \n",
       "1147442  Kg.     Food  MAR-2021     29.301980  \n",
       "1147443  Kg.     Food  MAR-2021     29.301980  \n",
       "1147444  Kg.     Food  MAR-2021     20.000000  \n",
       "1147445  Kg.     Food  MAR-2021     29.301980  \n",
       "\n",
       "[1139231 rows x 9 columns]"
      ]
     },
     "execution_count": 164,
     "metadata": {},
     "output_type": "execute_result"
    }
   ],
   "source": [
    "df"
   ]
  },
  {
   "cell_type": "code",
   "execution_count": 165,
   "metadata": {},
   "outputs": [],
   "source": [
    "df18=df"
   ]
  },
  {
   "cell_type": "code",
   "execution_count": 166,
   "metadata": {},
   "outputs": [],
   "source": [
    "df18['Date'] = pd.DatetimeIndex(df18['Date']).year"
   ]
  },
  {
   "cell_type": "code",
   "execution_count": 167,
   "metadata": {},
   "outputs": [
    {
     "data": {
      "text/plain": [
       "array([2001, 2002, 2003, 2004, 2005, 2006, 2007, 2008, 2009, 2010, 2011,\n",
       "       2012, 2013, 2014, 2015, 2016, 2017, 2018, 2019, 2020, 2021],\n",
       "      dtype=int64)"
      ]
     },
     "execution_count": 167,
     "metadata": {},
     "output_type": "execute_result"
    }
   ],
   "source": [
    "d=df18[\"Date\"].unique()\n",
    "d"
   ]
  },
  {
   "cell_type": "code",
   "execution_count": 168,
   "metadata": {},
   "outputs": [
    {
     "name": "stdout",
     "output_type": "stream",
     "text": [
      "top commodity in 2001 is::['Gur']::price::1300.000\n",
      "top commodity in 2002 is::['Coffee']::price::540.000\n",
      "top commodity in 2003 is::['Meat']::price::902.000\n",
      "top commodity in 2004 is::['Vanaspati']::price::5300.000\n",
      "top commodity in 2005 is::['Coffee']::price::1100.000\n",
      "top commodity in 2006 is::['Meat']::price::4120.000\n",
      "top commodity in 2007 is::['Coffee']::price::1500.000\n",
      "top commodity in 2008 is::['Coffee']::price::1700.000\n",
      "top commodity in 2009 is::['Coffee']::price::1850.000\n",
      "top commodity in 2010 is::['Chicken']::price::8400.000\n",
      "top commodity in 2011 is::['Cummin Seed']::price::20045.000\n",
      "top commodity in 2012 is::['Coffee']::price::2800.000\n",
      "top commodity in 2013 is::['Coffee']::price::8200.000\n",
      "top commodity in 2014 is::['Coffee']::price::3200.000\n",
      "top commodity in 2015 is::['Gram']::price::4550.000\n",
      "top commodity in 2016 is::['Coffee']::price::9285.000\n",
      "top commodity in 2017 is::['Coffee']::price::2800.000\n",
      "top commodity in 2018 is::['Coffee']::price::1900.000\n",
      "top commodity in 2019 is::['Coffee']::price::2600.000\n",
      "top commodity in 2020 is::['Coffee']::price::2750.000\n",
      "top commodity in 2021 is::['Coffee']::price::20000.000\n"
     ]
    }
   ],
   "source": [
    "for y in d:\n",
    "    max=df18[df18[\"Date\"]==y][\"Retail Price\"].max()\n",
    "    comm=df18[(df18[\"Date\"]==y)&(df18[\"Retail Price\"]==max)][\"Commodity\"].unique()\n",
    "    print(\"top commodity in %s is::%s::price::%0.3f\"%(y,comm,max))"
   ]
  },
  {
   "cell_type": "markdown",
   "metadata": {},
   "source": [
    "# Conclusion"
   ]
  },
  {
   "cell_type": "code",
   "execution_count": null,
   "metadata": {},
   "outputs": [],
   "source": [
    "1. Dataset contains past twenty years of data(from 2001 to 2021)\n",
    "2. At FEB-2021 Coimbatore,Tamil Nadu was the date and place which has highest price of wheat in this dataset\n",
    "3. When we analysing the maximun retail price of wheat from 2001 to 2021 in state wise we can see that Tamil Nadu is the state\n",
    "   which costs the high retail price for wheat in this dataset\n",
    "4. The pomphret price of kerala in 2021 March was eight times higher than the price in Jan 2001\n",
    "5. According to this dataset we can see that meat is a commodity in every states including Union Territories.here meat have \n",
    "   only one variety that is Mutton.\n",
    "6. When we analysing the rice price of different centers in Maharashtra according to variety  \n",
    "   ->Aurangabad,Nagpur,Nasik,Pune centers at Jul-2017 was the highest price(46.027) of rice variety \"common/coarse\" \n",
    "    in this data set\n",
    "   ->Aurangabad centre at Jul-2018 and oct-2018 was the highest price(65.0)of rice variety \"Fine\" in this dataset.\n",
    "   ->Aurangabad centre at Feb-2018 was the highest price(122.00)for rice variety \"super fine\" in this dataset\n",
    "7. When we check the state wise and year wise price difference of Desi wheat and Kalyan HYV \n",
    "   ->Highest price difference in 2001 was 5.15 and state was kerala\n",
    "   ->Arunachal pradesh,Assam,Jammu Kashmir,Nagaland,Sikkim,Tripura these states dosen't have any price difference in 2001\n",
    "   ->Highest price difference in 2021 was 12.33 and state is Telangana\n",
    "   ->In 2021 Arunachal pradesh,Himachal Pradesh,Jammu Kashmir,Nagaland,Sikkim,Tripura,Union Territories,Uttarakhand \n",
    "     dosen't show any price differences\n",
    "8. There are two coffee variety instant and powdered,in 2001 the price difference was zero and in 2021 difference is 417.958\n",
    "9. According to this dataset varities of fish available in market between 2001 and 2010 is cat fish,pomphret,rohu 1 kg size.\n",
    "10.In 2001 U.P has lowest price of bajra that is 3.50\n",
    "   In 2021 Haryana has lowest price and that is 14.90\n",
    "11.Main types of oils are Mustard oil,Groundnut oil,Gingelly oil and coconut oil\n",
    "12.West Bengal is the state which consumes more local products according to commodity wise.\n",
    "   bread and gur are the commodities which mainly have local varieties.\n",
    "13.Top five commodity which have high retail price in 2021 is coffee,black pepper,meat,ghee,fish\n",
    "14.When we check the top commodity according  to price wise from 2001 to 2021 we can see that coffee price is higher than other\n",
    "   commodities in most of the years. \n"
   ]
  }
 ],
 "metadata": {
  "kernelspec": {
   "display_name": "Python 3",
   "language": "python",
   "name": "python3"
  },
  "language_info": {
   "codemirror_mode": {
    "name": "ipython",
    "version": 3
   },
   "file_extension": ".py",
   "mimetype": "text/x-python",
   "name": "python",
   "nbconvert_exporter": "python",
   "pygments_lexer": "ipython3",
   "version": "3.8.5"
  }
 },
 "nbformat": 4,
 "nbformat_minor": 4
}
