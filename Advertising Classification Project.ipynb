{
 "cells": [
  {
   "cell_type": "markdown",
   "metadata": {
    "scrolled": false
   },
   "source": [
    "# Advertisement  Classification Analysis\n"
   ]
  },
  {
   "cell_type": "code",
   "execution_count": null,
   "metadata": {},
   "outputs": [],
   "source": [
    "In this project we will be working with an advertisement classification data set.Here we considering \"Clicked on Ad\" column as \n",
    "target column, which indicating whether or not a particular internet user clicked on an Advertisement and all other colums are \n",
    "considered as features.Here we are trying to analyse the relation between target column and other feature columns.\n",
    "\n",
    "The advertising_classification.csv dataset contains 1000 observations (rows) and 10 features (columns).\n",
    "\n",
    "This data set contains the following features(Columns):\n",
    "\n",
    "'Daily Time Spent on Site': How much time user spent on that site in minutes\n",
    "'Age': user age in years\n",
    "'Area Income': Avg. Income of geographical area of that user\n",
    "'Daily Internet Usage': Avg. minutes a day that user is on the internet\n",
    "'Ad Topic Line': Headline of the advertisement\n",
    "'City': City of user\n",
    "'Gender': Gender of that user(female:0,male:1)\n",
    "'Country': Country of user\n",
    "'Timestamp': Time at which the user clicked on Ad or closed window\n",
    "'Clicked on Ad': 0 or 1 indicated clicking on Ad(1:clicking,0:not clicking)\n"
   ]
  },
  {
   "cell_type": "markdown",
   "metadata": {},
   "source": [
    "# 1 Import the Libraries"
   ]
  },
  {
   "cell_type": "code",
   "execution_count": 1,
   "metadata": {},
   "outputs": [],
   "source": [
    "import pandas as pd\n",
    "import numpy as np\n",
    "import matplotlib.pyplot as plt\n",
    "import seaborn as sns\n",
    "%matplotlib inline"
   ]
  },
  {
   "cell_type": "code",
   "execution_count": 2,
   "metadata": {
    "scrolled": true
   },
   "outputs": [],
   "source": [
    "from plotly.offline import iplot\n",
    "import plotly as py\n",
    "import plotly.tools as tls"
   ]
  },
  {
   "cell_type": "code",
   "execution_count": 3,
   "metadata": {},
   "outputs": [],
   "source": [
    "import cufflinks as cf"
   ]
  },
  {
   "cell_type": "code",
   "execution_count": 4,
   "metadata": {},
   "outputs": [
    {
     "data": {
      "text/html": [
       "        <script type=\"text/javascript\">\n",
       "        window.PlotlyConfig = {MathJaxConfig: 'local'};\n",
       "        if (window.MathJax) {MathJax.Hub.Config({SVG: {font: \"STIX-Web\"}});}\n",
       "        if (typeof require !== 'undefined') {\n",
       "        require.undef(\"plotly\");\n",
       "        requirejs.config({\n",
       "            paths: {\n",
       "                'plotly': ['https://cdn.plot.ly/plotly-2.2.0.min']\n",
       "            }\n",
       "        });\n",
       "        require(['plotly'], function(Plotly) {\n",
       "            window._Plotly = Plotly;\n",
       "        });\n",
       "        }\n",
       "        </script>\n",
       "        "
      ]
     },
     "metadata": {},
     "output_type": "display_data"
    }
   ],
   "source": [
    "py.offline.init_notebook_mode(connected=True)"
   ]
  },
  {
   "cell_type": "code",
   "execution_count": 5,
   "metadata": {},
   "outputs": [
    {
     "data": {
      "text/html": [
       "        <script type=\"text/javascript\">\n",
       "        window.PlotlyConfig = {MathJaxConfig: 'local'};\n",
       "        if (window.MathJax) {MathJax.Hub.Config({SVG: {font: \"STIX-Web\"}});}\n",
       "        if (typeof require !== 'undefined') {\n",
       "        require.undef(\"plotly\");\n",
       "        requirejs.config({\n",
       "            paths: {\n",
       "                'plotly': ['https://cdn.plot.ly/plotly-2.2.0.min']\n",
       "            }\n",
       "        });\n",
       "        require(['plotly'], function(Plotly) {\n",
       "            window._Plotly = Plotly;\n",
       "        });\n",
       "        }\n",
       "        </script>\n",
       "        "
      ]
     },
     "metadata": {},
     "output_type": "display_data"
    }
   ],
   "source": [
    "cf.go_offline()"
   ]
  },
  {
   "cell_type": "code",
   "execution_count": 67,
   "metadata": {
    "scrolled": true
   },
   "outputs": [
    {
     "name": "stdout",
     "output_type": "stream",
     "text": [
      "5.1.0\n"
     ]
    }
   ],
   "source": [
    "#print(py.__version__)"
   ]
  },
  {
   "cell_type": "code",
   "execution_count": 58,
   "metadata": {
    "scrolled": true
   },
   "outputs": [
    {
     "name": "stdout",
     "output_type": "stream",
     "text": [
      "Requirement already satisfied: plotly in c:\\users\\hp\\anaconda3\\lib\\site-packages (5.1.0)\n",
      "Requirement already satisfied: tenacity>=6.2.0 in c:\\users\\hp\\anaconda3\\lib\\site-packages (from plotly) (6.3.1)\n",
      "Requirement already satisfied: six in c:\\users\\hp\\anaconda3\\lib\\site-packages (from plotly) (1.15.0)\n",
      "Requirement already satisfied: cufflinks in c:\\users\\hp\\anaconda3\\lib\\site-packages (0.17.3)\n",
      "Requirement already satisfied: six>=1.9.0 in c:\\users\\hp\\anaconda3\\lib\\site-packages (from cufflinks) (1.15.0)\n",
      "Requirement already satisfied: setuptools>=34.4.1 in c:\\users\\hp\\anaconda3\\lib\\site-packages (from cufflinks) (50.3.1.post20201107)\n",
      "Requirement already satisfied: colorlover>=0.2.1 in c:\\users\\hp\\anaconda3\\lib\\site-packages (from cufflinks) (0.3.0)\n",
      "Requirement already satisfied: numpy>=1.9.2 in c:\\users\\hp\\anaconda3\\lib\\site-packages (from cufflinks) (1.19.2)\n",
      "Requirement already satisfied: ipywidgets>=7.0.0 in c:\\users\\hp\\anaconda3\\lib\\site-packages (from cufflinks) (7.5.1)\n",
      "Requirement already satisfied: plotly>=4.1.1 in c:\\users\\hp\\anaconda3\\lib\\site-packages (from cufflinks) (5.1.0)\n",
      "Requirement already satisfied: pandas>=0.19.2 in c:\\users\\hp\\anaconda3\\lib\\site-packages (from cufflinks) (1.1.3)\n",
      "Requirement already satisfied: ipython>=5.3.0 in c:\\users\\hp\\anaconda3\\lib\\site-packages (from cufflinks) (7.19.0)\n",
      "Requirement already satisfied: widgetsnbextension~=3.5.0 in c:\\users\\hp\\anaconda3\\lib\\site-packages (from ipywidgets>=7.0.0->cufflinks) (3.5.1)\n",
      "Requirement already satisfied: traitlets>=4.3.1 in c:\\users\\hp\\anaconda3\\lib\\site-packages (from ipywidgets>=7.0.0->cufflinks) (5.0.5)\n",
      "Requirement already satisfied: ipykernel>=4.5.1 in c:\\users\\hp\\anaconda3\\lib\\site-packages (from ipywidgets>=7.0.0->cufflinks) (5.3.4)\n",
      "Requirement already satisfied: nbformat>=4.2.0 in c:\\users\\hp\\anaconda3\\lib\\site-packages (from ipywidgets>=7.0.0->cufflinks) (5.0.8)\n",
      "Requirement already satisfied: tenacity>=6.2.0 in c:\\users\\hp\\anaconda3\\lib\\site-packages (from plotly>=4.1.1->cufflinks) (6.3.1)\n",
      "Requirement already satisfied: python-dateutil>=2.7.3 in c:\\users\\hp\\anaconda3\\lib\\site-packages (from pandas>=0.19.2->cufflinks) (2.8.1)\n",
      "Requirement already satisfied: pytz>=2017.2 in c:\\users\\hp\\anaconda3\\lib\\site-packages (from pandas>=0.19.2->cufflinks) (2020.1)\n",
      "Requirement already satisfied: jedi>=0.10 in c:\\users\\hp\\anaconda3\\lib\\site-packages (from ipython>=5.3.0->cufflinks) (0.17.1)\n",
      "Requirement already satisfied: decorator in c:\\users\\hp\\anaconda3\\lib\\site-packages (from ipython>=5.3.0->cufflinks) (4.4.2)\n",
      "Requirement already satisfied: colorama; sys_platform == \"win32\" in c:\\users\\hp\\anaconda3\\lib\\site-packages (from ipython>=5.3.0->cufflinks) (0.4.4)\n",
      "Requirement already satisfied: pygments in c:\\users\\hp\\anaconda3\\lib\\site-packages (from ipython>=5.3.0->cufflinks) (2.7.2)\n",
      "Requirement already satisfied: prompt-toolkit!=3.0.0,!=3.0.1,<3.1.0,>=2.0.0 in c:\\users\\hp\\anaconda3\\lib\\site-packages (from ipython>=5.3.0->cufflinks) (3.0.8)\n",
      "Requirement already satisfied: pickleshare in c:\\users\\hp\\anaconda3\\lib\\site-packages (from ipython>=5.3.0->cufflinks) (0.7.5)\n",
      "Requirement already satisfied: backcall in c:\\users\\hp\\anaconda3\\lib\\site-packages (from ipython>=5.3.0->cufflinks) (0.2.0)\n",
      "Requirement already satisfied: notebook>=4.4.1 in c:\\users\\hp\\anaconda3\\lib\\site-packages (from widgetsnbextension~=3.5.0->ipywidgets>=7.0.0->cufflinks) (6.1.4)\n",
      "Requirement already satisfied: ipython-genutils in c:\\users\\hp\\anaconda3\\lib\\site-packages (from traitlets>=4.3.1->ipywidgets>=7.0.0->cufflinks) (0.2.0)\n",
      "Requirement already satisfied: tornado>=4.2 in c:\\users\\hp\\anaconda3\\lib\\site-packages (from ipykernel>=4.5.1->ipywidgets>=7.0.0->cufflinks) (6.0.4)\n",
      "Requirement already satisfied: jupyter-client in c:\\users\\hp\\anaconda3\\lib\\site-packages (from ipykernel>=4.5.1->ipywidgets>=7.0.0->cufflinks) (6.1.7)\n",
      "Requirement already satisfied: jsonschema!=2.5.0,>=2.4 in c:\\users\\hp\\anaconda3\\lib\\site-packages (from nbformat>=4.2.0->ipywidgets>=7.0.0->cufflinks) (3.2.0)\n",
      "Requirement already satisfied: jupyter-core in c:\\users\\hp\\anaconda3\\lib\\site-packages (from nbformat>=4.2.0->ipywidgets>=7.0.0->cufflinks) (4.6.3)\n",
      "Requirement already satisfied: parso<0.8.0,>=0.7.0 in c:\\users\\hp\\anaconda3\\lib\\site-packages (from jedi>=0.10->ipython>=5.3.0->cufflinks) (0.7.0)\n",
      "Requirement already satisfied: wcwidth in c:\\users\\hp\\anaconda3\\lib\\site-packages (from prompt-toolkit!=3.0.0,!=3.0.1,<3.1.0,>=2.0.0->ipython>=5.3.0->cufflinks) (0.2.5)\n",
      "Requirement already satisfied: jinja2 in c:\\users\\hp\\anaconda3\\lib\\site-packages (from notebook>=4.4.1->widgetsnbextension~=3.5.0->ipywidgets>=7.0.0->cufflinks) (2.11.2)\n",
      "Requirement already satisfied: Send2Trash in c:\\users\\hp\\anaconda3\\lib\\site-packages (from notebook>=4.4.1->widgetsnbextension~=3.5.0->ipywidgets>=7.0.0->cufflinks) (1.5.0)\n",
      "Requirement already satisfied: nbconvert in c:\\users\\hp\\anaconda3\\lib\\site-packages (from notebook>=4.4.1->widgetsnbextension~=3.5.0->ipywidgets>=7.0.0->cufflinks) (6.0.7)\n",
      "Requirement already satisfied: prometheus-client in c:\\users\\hp\\anaconda3\\lib\\site-packages (from notebook>=4.4.1->widgetsnbextension~=3.5.0->ipywidgets>=7.0.0->cufflinks) (0.8.0)\n",
      "Requirement already satisfied: argon2-cffi in c:\\users\\hp\\anaconda3\\lib\\site-packages (from notebook>=4.4.1->widgetsnbextension~=3.5.0->ipywidgets>=7.0.0->cufflinks) (20.1.0)\n",
      "Requirement already satisfied: terminado>=0.8.3 in c:\\users\\hp\\anaconda3\\lib\\site-packages (from notebook>=4.4.1->widgetsnbextension~=3.5.0->ipywidgets>=7.0.0->cufflinks) (0.9.1)\n",
      "Requirement already satisfied: pyzmq>=17 in c:\\users\\hp\\anaconda3\\lib\\site-packages (from notebook>=4.4.1->widgetsnbextension~=3.5.0->ipywidgets>=7.0.0->cufflinks) (19.0.2)\n",
      "Requirement already satisfied: pyrsistent>=0.14.0 in c:\\users\\hp\\anaconda3\\lib\\site-packages (from jsonschema!=2.5.0,>=2.4->nbformat>=4.2.0->ipywidgets>=7.0.0->cufflinks) (0.17.3)\n",
      "Requirement already satisfied: attrs>=17.4.0 in c:\\users\\hp\\anaconda3\\lib\\site-packages (from jsonschema!=2.5.0,>=2.4->nbformat>=4.2.0->ipywidgets>=7.0.0->cufflinks) (20.3.0)\n",
      "Requirement already satisfied: pywin32>=1.0; sys_platform == \"win32\" in c:\\users\\hp\\anaconda3\\lib\\site-packages (from jupyter-core->nbformat>=4.2.0->ipywidgets>=7.0.0->cufflinks) (227)\n",
      "Requirement already satisfied: MarkupSafe>=0.23 in c:\\users\\hp\\anaconda3\\lib\\site-packages (from jinja2->notebook>=4.4.1->widgetsnbextension~=3.5.0->ipywidgets>=7.0.0->cufflinks) (1.1.1)\n",
      "Requirement already satisfied: nbclient<0.6.0,>=0.5.0 in c:\\users\\hp\\anaconda3\\lib\\site-packages (from nbconvert->notebook>=4.4.1->widgetsnbextension~=3.5.0->ipywidgets>=7.0.0->cufflinks) (0.5.1)\n",
      "Requirement already satisfied: pandocfilters>=1.4.1 in c:\\users\\hp\\anaconda3\\lib\\site-packages (from nbconvert->notebook>=4.4.1->widgetsnbextension~=3.5.0->ipywidgets>=7.0.0->cufflinks) (1.4.3)\n",
      "Requirement already satisfied: jupyterlab-pygments in c:\\users\\hp\\anaconda3\\lib\\site-packages (from nbconvert->notebook>=4.4.1->widgetsnbextension~=3.5.0->ipywidgets>=7.0.0->cufflinks) (0.1.2)\n",
      "Requirement already satisfied: mistune<2,>=0.8.1 in c:\\users\\hp\\anaconda3\\lib\\site-packages (from nbconvert->notebook>=4.4.1->widgetsnbextension~=3.5.0->ipywidgets>=7.0.0->cufflinks) (0.8.4)\n",
      "Requirement already satisfied: bleach in c:\\users\\hp\\anaconda3\\lib\\site-packages (from nbconvert->notebook>=4.4.1->widgetsnbextension~=3.5.0->ipywidgets>=7.0.0->cufflinks) (3.2.1)\n",
      "Requirement already satisfied: defusedxml in c:\\users\\hp\\anaconda3\\lib\\site-packages (from nbconvert->notebook>=4.4.1->widgetsnbextension~=3.5.0->ipywidgets>=7.0.0->cufflinks) (0.6.0)\n",
      "Requirement already satisfied: entrypoints>=0.2.2 in c:\\users\\hp\\anaconda3\\lib\\site-packages (from nbconvert->notebook>=4.4.1->widgetsnbextension~=3.5.0->ipywidgets>=7.0.0->cufflinks) (0.3)\n",
      "Requirement already satisfied: testpath in c:\\users\\hp\\anaconda3\\lib\\site-packages (from nbconvert->notebook>=4.4.1->widgetsnbextension~=3.5.0->ipywidgets>=7.0.0->cufflinks) (0.4.4)\n",
      "Requirement already satisfied: cffi>=1.0.0 in c:\\users\\hp\\anaconda3\\lib\\site-packages (from argon2-cffi->notebook>=4.4.1->widgetsnbextension~=3.5.0->ipywidgets>=7.0.0->cufflinks) (1.14.3)\n",
      "Requirement already satisfied: pywinpty>=0.5 in c:\\users\\hp\\anaconda3\\lib\\site-packages (from terminado>=0.8.3->notebook>=4.4.1->widgetsnbextension~=3.5.0->ipywidgets>=7.0.0->cufflinks) (0.5.7)\n",
      "Requirement already satisfied: async-generator in c:\\users\\hp\\anaconda3\\lib\\site-packages (from nbclient<0.6.0,>=0.5.0->nbconvert->notebook>=4.4.1->widgetsnbextension~=3.5.0->ipywidgets>=7.0.0->cufflinks) (1.10)\n",
      "Requirement already satisfied: nest-asyncio in c:\\users\\hp\\anaconda3\\lib\\site-packages (from nbclient<0.6.0,>=0.5.0->nbconvert->notebook>=4.4.1->widgetsnbextension~=3.5.0->ipywidgets>=7.0.0->cufflinks) (1.4.2)\n",
      "Requirement already satisfied: packaging in c:\\users\\hp\\anaconda3\\lib\\site-packages (from bleach->nbconvert->notebook>=4.4.1->widgetsnbextension~=3.5.0->ipywidgets>=7.0.0->cufflinks) (20.4)\n",
      "Requirement already satisfied: webencodings in c:\\users\\hp\\anaconda3\\lib\\site-packages (from bleach->nbconvert->notebook>=4.4.1->widgetsnbextension~=3.5.0->ipywidgets>=7.0.0->cufflinks) (0.5.1)\n",
      "Requirement already satisfied: pycparser in c:\\users\\hp\\anaconda3\\lib\\site-packages (from cffi>=1.0.0->argon2-cffi->notebook>=4.4.1->widgetsnbextension~=3.5.0->ipywidgets>=7.0.0->cufflinks) (2.20)\n",
      "Requirement already satisfied: pyparsing>=2.0.2 in c:\\users\\hp\\anaconda3\\lib\\site-packages (from packaging->bleach->nbconvert->notebook>=4.4.1->widgetsnbextension~=3.5.0->ipywidgets>=7.0.0->cufflinks) (2.4.7)\n"
     ]
    }
   ],
   "source": [
    "#!pip install plotly\n",
    "#!pip install cufflinks"
   ]
  },
  {
   "cell_type": "markdown",
   "metadata": {},
   "source": [
    "# 2 Load the Data Set"
   ]
  },
  {
   "cell_type": "code",
   "execution_count": 8,
   "metadata": {
    "scrolled": false
   },
   "outputs": [
    {
     "data": {
      "text/html": [
       "<div>\n",
       "<style scoped>\n",
       "    .dataframe tbody tr th:only-of-type {\n",
       "        vertical-align: middle;\n",
       "    }\n",
       "\n",
       "    .dataframe tbody tr th {\n",
       "        vertical-align: top;\n",
       "    }\n",
       "\n",
       "    .dataframe thead th {\n",
       "        text-align: right;\n",
       "    }\n",
       "</style>\n",
       "<table border=\"1\" class=\"dataframe\">\n",
       "  <thead>\n",
       "    <tr style=\"text-align: right;\">\n",
       "      <th></th>\n",
       "      <th>Daily Time Spent on Site</th>\n",
       "      <th>Age</th>\n",
       "      <th>Area Income</th>\n",
       "      <th>Daily Internet Usage</th>\n",
       "      <th>Ad Topic Line</th>\n",
       "      <th>City</th>\n",
       "      <th>Gender</th>\n",
       "      <th>Country</th>\n",
       "      <th>Timestamp</th>\n",
       "      <th>Clicked on Ad</th>\n",
       "    </tr>\n",
       "  </thead>\n",
       "  <tbody>\n",
       "    <tr>\n",
       "      <th>0</th>\n",
       "      <td>68.95</td>\n",
       "      <td>35</td>\n",
       "      <td>61833.90</td>\n",
       "      <td>256.09</td>\n",
       "      <td>Cloned 5thgeneration orchestration</td>\n",
       "      <td>Wrightburgh</td>\n",
       "      <td>0</td>\n",
       "      <td>Tunisia</td>\n",
       "      <td>27-03-2016 00:53</td>\n",
       "      <td>0</td>\n",
       "    </tr>\n",
       "    <tr>\n",
       "      <th>1</th>\n",
       "      <td>80.23</td>\n",
       "      <td>31</td>\n",
       "      <td>68441.85</td>\n",
       "      <td>193.77</td>\n",
       "      <td>Monitored national standardization</td>\n",
       "      <td>West Jodi</td>\n",
       "      <td>1</td>\n",
       "      <td>Nauru</td>\n",
       "      <td>04-04-2016 01:39</td>\n",
       "      <td>0</td>\n",
       "    </tr>\n",
       "    <tr>\n",
       "      <th>2</th>\n",
       "      <td>69.47</td>\n",
       "      <td>26</td>\n",
       "      <td>59785.94</td>\n",
       "      <td>236.50</td>\n",
       "      <td>Organic bottom-line service-desk</td>\n",
       "      <td>Davidton</td>\n",
       "      <td>0</td>\n",
       "      <td>San Marino</td>\n",
       "      <td>13-03-2016 20:35</td>\n",
       "      <td>0</td>\n",
       "    </tr>\n",
       "    <tr>\n",
       "      <th>3</th>\n",
       "      <td>74.15</td>\n",
       "      <td>29</td>\n",
       "      <td>54806.18</td>\n",
       "      <td>245.89</td>\n",
       "      <td>Triple-buffered reciprocal time-frame</td>\n",
       "      <td>West Terrifurt</td>\n",
       "      <td>1</td>\n",
       "      <td>Italy</td>\n",
       "      <td>10-01-2016 02:31</td>\n",
       "      <td>0</td>\n",
       "    </tr>\n",
       "    <tr>\n",
       "      <th>4</th>\n",
       "      <td>68.37</td>\n",
       "      <td>35</td>\n",
       "      <td>73889.99</td>\n",
       "      <td>225.58</td>\n",
       "      <td>Robust logistical utilization</td>\n",
       "      <td>South Manuel</td>\n",
       "      <td>0</td>\n",
       "      <td>Iceland</td>\n",
       "      <td>03-06-2016 03:36</td>\n",
       "      <td>0</td>\n",
       "    </tr>\n",
       "    <tr>\n",
       "      <th>...</th>\n",
       "      <td>...</td>\n",
       "      <td>...</td>\n",
       "      <td>...</td>\n",
       "      <td>...</td>\n",
       "      <td>...</td>\n",
       "      <td>...</td>\n",
       "      <td>...</td>\n",
       "      <td>...</td>\n",
       "      <td>...</td>\n",
       "      <td>...</td>\n",
       "    </tr>\n",
       "    <tr>\n",
       "      <th>995</th>\n",
       "      <td>72.97</td>\n",
       "      <td>30</td>\n",
       "      <td>71384.57</td>\n",
       "      <td>208.58</td>\n",
       "      <td>Fundamental modular algorithm</td>\n",
       "      <td>Duffystad</td>\n",
       "      <td>1</td>\n",
       "      <td>Lebanon</td>\n",
       "      <td>11-02-2016 21:49</td>\n",
       "      <td>1</td>\n",
       "    </tr>\n",
       "    <tr>\n",
       "      <th>996</th>\n",
       "      <td>51.30</td>\n",
       "      <td>45</td>\n",
       "      <td>67782.17</td>\n",
       "      <td>134.42</td>\n",
       "      <td>Grass-roots cohesive monitoring</td>\n",
       "      <td>New Darlene</td>\n",
       "      <td>1</td>\n",
       "      <td>Bosnia and Herzegovina</td>\n",
       "      <td>22-04-2016 02:07</td>\n",
       "      <td>1</td>\n",
       "    </tr>\n",
       "    <tr>\n",
       "      <th>997</th>\n",
       "      <td>51.63</td>\n",
       "      <td>51</td>\n",
       "      <td>42415.72</td>\n",
       "      <td>120.37</td>\n",
       "      <td>Expanded intangible solution</td>\n",
       "      <td>South Jessica</td>\n",
       "      <td>1</td>\n",
       "      <td>Mongolia</td>\n",
       "      <td>01-02-2016 17:24</td>\n",
       "      <td>1</td>\n",
       "    </tr>\n",
       "    <tr>\n",
       "      <th>998</th>\n",
       "      <td>55.55</td>\n",
       "      <td>19</td>\n",
       "      <td>41920.79</td>\n",
       "      <td>187.95</td>\n",
       "      <td>Proactive bandwidth-monitored policy</td>\n",
       "      <td>West Steven</td>\n",
       "      <td>0</td>\n",
       "      <td>Guatemala</td>\n",
       "      <td>24-03-2016 02:35</td>\n",
       "      <td>0</td>\n",
       "    </tr>\n",
       "    <tr>\n",
       "      <th>999</th>\n",
       "      <td>45.01</td>\n",
       "      <td>26</td>\n",
       "      <td>29875.80</td>\n",
       "      <td>178.35</td>\n",
       "      <td>Virtual 5thgeneration emulation</td>\n",
       "      <td>Ronniemouth</td>\n",
       "      <td>0</td>\n",
       "      <td>Brazil</td>\n",
       "      <td>03-06-2016 21:43</td>\n",
       "      <td>1</td>\n",
       "    </tr>\n",
       "  </tbody>\n",
       "</table>\n",
       "<p>1000 rows × 10 columns</p>\n",
       "</div>"
      ],
      "text/plain": [
       "     Daily Time Spent on Site  Age  Area Income  Daily Internet Usage  \\\n",
       "0                       68.95   35     61833.90                256.09   \n",
       "1                       80.23   31     68441.85                193.77   \n",
       "2                       69.47   26     59785.94                236.50   \n",
       "3                       74.15   29     54806.18                245.89   \n",
       "4                       68.37   35     73889.99                225.58   \n",
       "..                        ...  ...          ...                   ...   \n",
       "995                     72.97   30     71384.57                208.58   \n",
       "996                     51.30   45     67782.17                134.42   \n",
       "997                     51.63   51     42415.72                120.37   \n",
       "998                     55.55   19     41920.79                187.95   \n",
       "999                     45.01   26     29875.80                178.35   \n",
       "\n",
       "                             Ad Topic Line            City  Gender  \\\n",
       "0       Cloned 5thgeneration orchestration     Wrightburgh       0   \n",
       "1       Monitored national standardization       West Jodi       1   \n",
       "2         Organic bottom-line service-desk        Davidton       0   \n",
       "3    Triple-buffered reciprocal time-frame  West Terrifurt       1   \n",
       "4            Robust logistical utilization    South Manuel       0   \n",
       "..                                     ...             ...     ...   \n",
       "995          Fundamental modular algorithm       Duffystad       1   \n",
       "996        Grass-roots cohesive monitoring     New Darlene       1   \n",
       "997           Expanded intangible solution   South Jessica       1   \n",
       "998   Proactive bandwidth-monitored policy     West Steven       0   \n",
       "999        Virtual 5thgeneration emulation     Ronniemouth       0   \n",
       "\n",
       "                    Country         Timestamp  Clicked on Ad  \n",
       "0                   Tunisia  27-03-2016 00:53              0  \n",
       "1                     Nauru  04-04-2016 01:39              0  \n",
       "2                San Marino  13-03-2016 20:35              0  \n",
       "3                     Italy  10-01-2016 02:31              0  \n",
       "4                   Iceland  03-06-2016 03:36              0  \n",
       "..                      ...               ...            ...  \n",
       "995                 Lebanon  11-02-2016 21:49              1  \n",
       "996  Bosnia and Herzegovina  22-04-2016 02:07              1  \n",
       "997                Mongolia  01-02-2016 17:24              1  \n",
       "998               Guatemala  24-03-2016 02:35              0  \n",
       "999                  Brazil  03-06-2016 21:43              1  \n",
       "\n",
       "[1000 rows x 10 columns]"
      ]
     },
     "execution_count": 8,
     "metadata": {},
     "output_type": "execute_result"
    }
   ],
   "source": [
    "df=pd.read_csv(r\"F:\\project dataset\\advertising_classification.csv\")\n",
    "df"
   ]
  },
  {
   "cell_type": "markdown",
   "metadata": {},
   "source": [
    "# 3 Test the dataset clean or not"
   ]
  },
  {
   "cell_type": "code",
   "execution_count": 7,
   "metadata": {
    "scrolled": true
   },
   "outputs": [
    {
     "data": {
      "text/plain": [
       "Daily Time Spent on Site    0\n",
       "Age                         0\n",
       "Area Income                 0\n",
       "Daily Internet Usage        0\n",
       "Ad Topic Line               0\n",
       "City                        0\n",
       "Gender                      0\n",
       "Country                     0\n",
       "Timestamp                   0\n",
       "Clicked on Ad               0\n",
       "dtype: int64"
      ]
     },
     "execution_count": 7,
     "metadata": {},
     "output_type": "execute_result"
    }
   ],
   "source": [
    "df.isnull().sum()"
   ]
  },
  {
   "cell_type": "markdown",
   "metadata": {},
   "source": [
    "# 4 Print the shape of data"
   ]
  },
  {
   "cell_type": "code",
   "execution_count": 8,
   "metadata": {
    "scrolled": true
   },
   "outputs": [
    {
     "data": {
      "text/plain": [
       "(1000, 10)"
      ]
     },
     "execution_count": 8,
     "metadata": {},
     "output_type": "execute_result"
    }
   ],
   "source": [
    "df.shape"
   ]
  },
  {
   "cell_type": "markdown",
   "metadata": {},
   "source": [
    "# 5 Display the first 10 raws"
   ]
  },
  {
   "cell_type": "code",
   "execution_count": 9,
   "metadata": {},
   "outputs": [
    {
     "data": {
      "text/html": [
       "<div>\n",
       "<style scoped>\n",
       "    .dataframe tbody tr th:only-of-type {\n",
       "        vertical-align: middle;\n",
       "    }\n",
       "\n",
       "    .dataframe tbody tr th {\n",
       "        vertical-align: top;\n",
       "    }\n",
       "\n",
       "    .dataframe thead th {\n",
       "        text-align: right;\n",
       "    }\n",
       "</style>\n",
       "<table border=\"1\" class=\"dataframe\">\n",
       "  <thead>\n",
       "    <tr style=\"text-align: right;\">\n",
       "      <th></th>\n",
       "      <th>Daily Time Spent on Site</th>\n",
       "      <th>Age</th>\n",
       "      <th>Area Income</th>\n",
       "      <th>Daily Internet Usage</th>\n",
       "      <th>Ad Topic Line</th>\n",
       "      <th>City</th>\n",
       "      <th>Gender</th>\n",
       "      <th>Country</th>\n",
       "      <th>Timestamp</th>\n",
       "      <th>Clicked on Ad</th>\n",
       "    </tr>\n",
       "  </thead>\n",
       "  <tbody>\n",
       "    <tr>\n",
       "      <th>0</th>\n",
       "      <td>68.95</td>\n",
       "      <td>35</td>\n",
       "      <td>61833.90</td>\n",
       "      <td>256.09</td>\n",
       "      <td>Cloned 5thgeneration orchestration</td>\n",
       "      <td>Wrightburgh</td>\n",
       "      <td>0</td>\n",
       "      <td>Tunisia</td>\n",
       "      <td>27-03-2016 00:53</td>\n",
       "      <td>0</td>\n",
       "    </tr>\n",
       "    <tr>\n",
       "      <th>1</th>\n",
       "      <td>80.23</td>\n",
       "      <td>31</td>\n",
       "      <td>68441.85</td>\n",
       "      <td>193.77</td>\n",
       "      <td>Monitored national standardization</td>\n",
       "      <td>West Jodi</td>\n",
       "      <td>1</td>\n",
       "      <td>Nauru</td>\n",
       "      <td>04-04-2016 01:39</td>\n",
       "      <td>0</td>\n",
       "    </tr>\n",
       "    <tr>\n",
       "      <th>2</th>\n",
       "      <td>69.47</td>\n",
       "      <td>26</td>\n",
       "      <td>59785.94</td>\n",
       "      <td>236.50</td>\n",
       "      <td>Organic bottom-line service-desk</td>\n",
       "      <td>Davidton</td>\n",
       "      <td>0</td>\n",
       "      <td>San Marino</td>\n",
       "      <td>13-03-2016 20:35</td>\n",
       "      <td>0</td>\n",
       "    </tr>\n",
       "    <tr>\n",
       "      <th>3</th>\n",
       "      <td>74.15</td>\n",
       "      <td>29</td>\n",
       "      <td>54806.18</td>\n",
       "      <td>245.89</td>\n",
       "      <td>Triple-buffered reciprocal time-frame</td>\n",
       "      <td>West Terrifurt</td>\n",
       "      <td>1</td>\n",
       "      <td>Italy</td>\n",
       "      <td>10-01-2016 02:31</td>\n",
       "      <td>0</td>\n",
       "    </tr>\n",
       "    <tr>\n",
       "      <th>4</th>\n",
       "      <td>68.37</td>\n",
       "      <td>35</td>\n",
       "      <td>73889.99</td>\n",
       "      <td>225.58</td>\n",
       "      <td>Robust logistical utilization</td>\n",
       "      <td>South Manuel</td>\n",
       "      <td>0</td>\n",
       "      <td>Iceland</td>\n",
       "      <td>03-06-2016 03:36</td>\n",
       "      <td>0</td>\n",
       "    </tr>\n",
       "    <tr>\n",
       "      <th>5</th>\n",
       "      <td>59.99</td>\n",
       "      <td>23</td>\n",
       "      <td>59761.56</td>\n",
       "      <td>226.74</td>\n",
       "      <td>Sharable client-driven software</td>\n",
       "      <td>Jamieberg</td>\n",
       "      <td>1</td>\n",
       "      <td>Norway</td>\n",
       "      <td>19-05-2016 14:30</td>\n",
       "      <td>0</td>\n",
       "    </tr>\n",
       "    <tr>\n",
       "      <th>6</th>\n",
       "      <td>88.91</td>\n",
       "      <td>33</td>\n",
       "      <td>53852.85</td>\n",
       "      <td>208.36</td>\n",
       "      <td>Enhanced dedicated support</td>\n",
       "      <td>Brandonstad</td>\n",
       "      <td>0</td>\n",
       "      <td>Myanmar</td>\n",
       "      <td>28-01-2016 20:59</td>\n",
       "      <td>0</td>\n",
       "    </tr>\n",
       "    <tr>\n",
       "      <th>7</th>\n",
       "      <td>66.00</td>\n",
       "      <td>48</td>\n",
       "      <td>24593.33</td>\n",
       "      <td>131.76</td>\n",
       "      <td>Reactive local challenge</td>\n",
       "      <td>Port Jefferybury</td>\n",
       "      <td>1</td>\n",
       "      <td>Australia</td>\n",
       "      <td>07-03-2016 01:40</td>\n",
       "      <td>1</td>\n",
       "    </tr>\n",
       "    <tr>\n",
       "      <th>8</th>\n",
       "      <td>74.53</td>\n",
       "      <td>30</td>\n",
       "      <td>68862.00</td>\n",
       "      <td>221.51</td>\n",
       "      <td>Configurable coherent function</td>\n",
       "      <td>West Colin</td>\n",
       "      <td>1</td>\n",
       "      <td>Grenada</td>\n",
       "      <td>18-04-2016 09:33</td>\n",
       "      <td>0</td>\n",
       "    </tr>\n",
       "    <tr>\n",
       "      <th>9</th>\n",
       "      <td>69.88</td>\n",
       "      <td>20</td>\n",
       "      <td>55642.32</td>\n",
       "      <td>183.82</td>\n",
       "      <td>Mandatory homogeneous architecture</td>\n",
       "      <td>Ramirezton</td>\n",
       "      <td>1</td>\n",
       "      <td>Ghana</td>\n",
       "      <td>11-07-2016 01:42</td>\n",
       "      <td>0</td>\n",
       "    </tr>\n",
       "  </tbody>\n",
       "</table>\n",
       "</div>"
      ],
      "text/plain": [
       "   Daily Time Spent on Site  Age  Area Income  Daily Internet Usage  \\\n",
       "0                     68.95   35     61833.90                256.09   \n",
       "1                     80.23   31     68441.85                193.77   \n",
       "2                     69.47   26     59785.94                236.50   \n",
       "3                     74.15   29     54806.18                245.89   \n",
       "4                     68.37   35     73889.99                225.58   \n",
       "5                     59.99   23     59761.56                226.74   \n",
       "6                     88.91   33     53852.85                208.36   \n",
       "7                     66.00   48     24593.33                131.76   \n",
       "8                     74.53   30     68862.00                221.51   \n",
       "9                     69.88   20     55642.32                183.82   \n",
       "\n",
       "                           Ad Topic Line              City  Gender  \\\n",
       "0     Cloned 5thgeneration orchestration       Wrightburgh       0   \n",
       "1     Monitored national standardization         West Jodi       1   \n",
       "2       Organic bottom-line service-desk          Davidton       0   \n",
       "3  Triple-buffered reciprocal time-frame    West Terrifurt       1   \n",
       "4          Robust logistical utilization      South Manuel       0   \n",
       "5        Sharable client-driven software         Jamieberg       1   \n",
       "6             Enhanced dedicated support       Brandonstad       0   \n",
       "7               Reactive local challenge  Port Jefferybury       1   \n",
       "8         Configurable coherent function        West Colin       1   \n",
       "9     Mandatory homogeneous architecture        Ramirezton       1   \n",
       "\n",
       "      Country         Timestamp  Clicked on Ad  \n",
       "0     Tunisia  27-03-2016 00:53              0  \n",
       "1       Nauru  04-04-2016 01:39              0  \n",
       "2  San Marino  13-03-2016 20:35              0  \n",
       "3       Italy  10-01-2016 02:31              0  \n",
       "4     Iceland  03-06-2016 03:36              0  \n",
       "5      Norway  19-05-2016 14:30              0  \n",
       "6     Myanmar  28-01-2016 20:59              0  \n",
       "7   Australia  07-03-2016 01:40              1  \n",
       "8     Grenada  18-04-2016 09:33              0  \n",
       "9       Ghana  11-07-2016 01:42              0  "
      ]
     },
     "execution_count": 9,
     "metadata": {},
     "output_type": "execute_result"
    }
   ],
   "source": [
    "df.head(10)"
   ]
  },
  {
   "cell_type": "markdown",
   "metadata": {},
   "source": [
    "# 6 Display the last 10 raws"
   ]
  },
  {
   "cell_type": "code",
   "execution_count": 10,
   "metadata": {},
   "outputs": [
    {
     "data": {
      "text/html": [
       "<div>\n",
       "<style scoped>\n",
       "    .dataframe tbody tr th:only-of-type {\n",
       "        vertical-align: middle;\n",
       "    }\n",
       "\n",
       "    .dataframe tbody tr th {\n",
       "        vertical-align: top;\n",
       "    }\n",
       "\n",
       "    .dataframe thead th {\n",
       "        text-align: right;\n",
       "    }\n",
       "</style>\n",
       "<table border=\"1\" class=\"dataframe\">\n",
       "  <thead>\n",
       "    <tr style=\"text-align: right;\">\n",
       "      <th></th>\n",
       "      <th>Daily Time Spent on Site</th>\n",
       "      <th>Age</th>\n",
       "      <th>Area Income</th>\n",
       "      <th>Daily Internet Usage</th>\n",
       "      <th>Ad Topic Line</th>\n",
       "      <th>City</th>\n",
       "      <th>Gender</th>\n",
       "      <th>Country</th>\n",
       "      <th>Timestamp</th>\n",
       "      <th>Clicked on Ad</th>\n",
       "    </tr>\n",
       "  </thead>\n",
       "  <tbody>\n",
       "    <tr>\n",
       "      <th>990</th>\n",
       "      <td>35.79</td>\n",
       "      <td>44</td>\n",
       "      <td>33813.08</td>\n",
       "      <td>165.62</td>\n",
       "      <td>Enterprise-wide tangible model</td>\n",
       "      <td>North Katie</td>\n",
       "      <td>1</td>\n",
       "      <td>Tonga</td>\n",
       "      <td>20-04-2016 13:36</td>\n",
       "      <td>1</td>\n",
       "    </tr>\n",
       "    <tr>\n",
       "      <th>991</th>\n",
       "      <td>38.96</td>\n",
       "      <td>38</td>\n",
       "      <td>36497.22</td>\n",
       "      <td>140.67</td>\n",
       "      <td>Versatile mission-critical application</td>\n",
       "      <td>Mauricefurt</td>\n",
       "      <td>1</td>\n",
       "      <td>Comoros</td>\n",
       "      <td>21-07-2016 16:02</td>\n",
       "      <td>1</td>\n",
       "    </tr>\n",
       "    <tr>\n",
       "      <th>992</th>\n",
       "      <td>69.17</td>\n",
       "      <td>40</td>\n",
       "      <td>66193.81</td>\n",
       "      <td>123.62</td>\n",
       "      <td>Extended leadingedge solution</td>\n",
       "      <td>New Patrick</td>\n",
       "      <td>0</td>\n",
       "      <td>Montenegro</td>\n",
       "      <td>06-03-2016 11:36</td>\n",
       "      <td>1</td>\n",
       "    </tr>\n",
       "    <tr>\n",
       "      <th>993</th>\n",
       "      <td>64.20</td>\n",
       "      <td>27</td>\n",
       "      <td>66200.96</td>\n",
       "      <td>227.63</td>\n",
       "      <td>Phased zero tolerance extranet</td>\n",
       "      <td>Edwardsmouth</td>\n",
       "      <td>1</td>\n",
       "      <td>Isle of Man</td>\n",
       "      <td>11-02-2016 23:45</td>\n",
       "      <td>0</td>\n",
       "    </tr>\n",
       "    <tr>\n",
       "      <th>994</th>\n",
       "      <td>43.70</td>\n",
       "      <td>28</td>\n",
       "      <td>63126.96</td>\n",
       "      <td>173.01</td>\n",
       "      <td>Front-line bifurcated ability</td>\n",
       "      <td>Nicholasland</td>\n",
       "      <td>0</td>\n",
       "      <td>Mayotte</td>\n",
       "      <td>04-04-2016 03:57</td>\n",
       "      <td>1</td>\n",
       "    </tr>\n",
       "    <tr>\n",
       "      <th>995</th>\n",
       "      <td>72.97</td>\n",
       "      <td>30</td>\n",
       "      <td>71384.57</td>\n",
       "      <td>208.58</td>\n",
       "      <td>Fundamental modular algorithm</td>\n",
       "      <td>Duffystad</td>\n",
       "      <td>1</td>\n",
       "      <td>Lebanon</td>\n",
       "      <td>11-02-2016 21:49</td>\n",
       "      <td>1</td>\n",
       "    </tr>\n",
       "    <tr>\n",
       "      <th>996</th>\n",
       "      <td>51.30</td>\n",
       "      <td>45</td>\n",
       "      <td>67782.17</td>\n",
       "      <td>134.42</td>\n",
       "      <td>Grass-roots cohesive monitoring</td>\n",
       "      <td>New Darlene</td>\n",
       "      <td>1</td>\n",
       "      <td>Bosnia and Herzegovina</td>\n",
       "      <td>22-04-2016 02:07</td>\n",
       "      <td>1</td>\n",
       "    </tr>\n",
       "    <tr>\n",
       "      <th>997</th>\n",
       "      <td>51.63</td>\n",
       "      <td>51</td>\n",
       "      <td>42415.72</td>\n",
       "      <td>120.37</td>\n",
       "      <td>Expanded intangible solution</td>\n",
       "      <td>South Jessica</td>\n",
       "      <td>1</td>\n",
       "      <td>Mongolia</td>\n",
       "      <td>01-02-2016 17:24</td>\n",
       "      <td>1</td>\n",
       "    </tr>\n",
       "    <tr>\n",
       "      <th>998</th>\n",
       "      <td>55.55</td>\n",
       "      <td>19</td>\n",
       "      <td>41920.79</td>\n",
       "      <td>187.95</td>\n",
       "      <td>Proactive bandwidth-monitored policy</td>\n",
       "      <td>West Steven</td>\n",
       "      <td>0</td>\n",
       "      <td>Guatemala</td>\n",
       "      <td>24-03-2016 02:35</td>\n",
       "      <td>0</td>\n",
       "    </tr>\n",
       "    <tr>\n",
       "      <th>999</th>\n",
       "      <td>45.01</td>\n",
       "      <td>26</td>\n",
       "      <td>29875.80</td>\n",
       "      <td>178.35</td>\n",
       "      <td>Virtual 5thgeneration emulation</td>\n",
       "      <td>Ronniemouth</td>\n",
       "      <td>0</td>\n",
       "      <td>Brazil</td>\n",
       "      <td>03-06-2016 21:43</td>\n",
       "      <td>1</td>\n",
       "    </tr>\n",
       "  </tbody>\n",
       "</table>\n",
       "</div>"
      ],
      "text/plain": [
       "     Daily Time Spent on Site  Age  Area Income  Daily Internet Usage  \\\n",
       "990                     35.79   44     33813.08                165.62   \n",
       "991                     38.96   38     36497.22                140.67   \n",
       "992                     69.17   40     66193.81                123.62   \n",
       "993                     64.20   27     66200.96                227.63   \n",
       "994                     43.70   28     63126.96                173.01   \n",
       "995                     72.97   30     71384.57                208.58   \n",
       "996                     51.30   45     67782.17                134.42   \n",
       "997                     51.63   51     42415.72                120.37   \n",
       "998                     55.55   19     41920.79                187.95   \n",
       "999                     45.01   26     29875.80                178.35   \n",
       "\n",
       "                              Ad Topic Line           City  Gender  \\\n",
       "990          Enterprise-wide tangible model    North Katie       1   \n",
       "991  Versatile mission-critical application    Mauricefurt       1   \n",
       "992           Extended leadingedge solution    New Patrick       0   \n",
       "993          Phased zero tolerance extranet   Edwardsmouth       1   \n",
       "994           Front-line bifurcated ability   Nicholasland       0   \n",
       "995           Fundamental modular algorithm      Duffystad       1   \n",
       "996         Grass-roots cohesive monitoring    New Darlene       1   \n",
       "997            Expanded intangible solution  South Jessica       1   \n",
       "998    Proactive bandwidth-monitored policy    West Steven       0   \n",
       "999         Virtual 5thgeneration emulation    Ronniemouth       0   \n",
       "\n",
       "                    Country         Timestamp  Clicked on Ad  \n",
       "990                   Tonga  20-04-2016 13:36              1  \n",
       "991                 Comoros  21-07-2016 16:02              1  \n",
       "992              Montenegro  06-03-2016 11:36              1  \n",
       "993             Isle of Man  11-02-2016 23:45              0  \n",
       "994                 Mayotte  04-04-2016 03:57              1  \n",
       "995                 Lebanon  11-02-2016 21:49              1  \n",
       "996  Bosnia and Herzegovina  22-04-2016 02:07              1  \n",
       "997                Mongolia  01-02-2016 17:24              1  \n",
       "998               Guatemala  24-03-2016 02:35              0  \n",
       "999                  Brazil  03-06-2016 21:43              1  "
      ]
     },
     "execution_count": 10,
     "metadata": {},
     "output_type": "execute_result"
    }
   ],
   "source": [
    "df.tail(10)"
   ]
  },
  {
   "cell_type": "markdown",
   "metadata": {},
   "source": [
    "# 7 Print information and summary of data"
   ]
  },
  {
   "cell_type": "code",
   "execution_count": 12,
   "metadata": {},
   "outputs": [
    {
     "name": "stdout",
     "output_type": "stream",
     "text": [
      "<class 'pandas.core.frame.DataFrame'>\n",
      "RangeIndex: 1000 entries, 0 to 999\n",
      "Data columns (total 10 columns):\n",
      " #   Column                    Non-Null Count  Dtype  \n",
      "---  ------                    --------------  -----  \n",
      " 0   Daily Time Spent on Site  1000 non-null   float64\n",
      " 1   Age                       1000 non-null   int64  \n",
      " 2   Area Income               1000 non-null   float64\n",
      " 3   Daily Internet Usage      1000 non-null   float64\n",
      " 4   Ad Topic Line             1000 non-null   object \n",
      " 5   City                      1000 non-null   object \n",
      " 6   Gender                    1000 non-null   int64  \n",
      " 7   Country                   1000 non-null   object \n",
      " 8   Timestamp                 1000 non-null   object \n",
      " 9   Clicked on Ad             1000 non-null   int64  \n",
      "dtypes: float64(3), int64(3), object(4)\n",
      "memory usage: 78.2+ KB\n"
     ]
    }
   ],
   "source": [
    "df.info()"
   ]
  },
  {
   "cell_type": "code",
   "execution_count": 14,
   "metadata": {
    "scrolled": true
   },
   "outputs": [
    {
     "data": {
      "text/html": [
       "<div>\n",
       "<style scoped>\n",
       "    .dataframe tbody tr th:only-of-type {\n",
       "        vertical-align: middle;\n",
       "    }\n",
       "\n",
       "    .dataframe tbody tr th {\n",
       "        vertical-align: top;\n",
       "    }\n",
       "\n",
       "    .dataframe thead th {\n",
       "        text-align: right;\n",
       "    }\n",
       "</style>\n",
       "<table border=\"1\" class=\"dataframe\">\n",
       "  <thead>\n",
       "    <tr style=\"text-align: right;\">\n",
       "      <th></th>\n",
       "      <th>Daily Time Spent on Site</th>\n",
       "      <th>Age</th>\n",
       "      <th>Area Income</th>\n",
       "      <th>Daily Internet Usage</th>\n",
       "      <th>Gender</th>\n",
       "      <th>Clicked on Ad</th>\n",
       "    </tr>\n",
       "  </thead>\n",
       "  <tbody>\n",
       "    <tr>\n",
       "      <th>count</th>\n",
       "      <td>1000.000000</td>\n",
       "      <td>1000.000000</td>\n",
       "      <td>1000.000000</td>\n",
       "      <td>1000.000000</td>\n",
       "      <td>1000.000000</td>\n",
       "      <td>1000.00000</td>\n",
       "    </tr>\n",
       "    <tr>\n",
       "      <th>mean</th>\n",
       "      <td>65.000200</td>\n",
       "      <td>36.009000</td>\n",
       "      <td>55000.000080</td>\n",
       "      <td>180.000100</td>\n",
       "      <td>0.481000</td>\n",
       "      <td>0.50000</td>\n",
       "    </tr>\n",
       "    <tr>\n",
       "      <th>std</th>\n",
       "      <td>15.853615</td>\n",
       "      <td>8.785562</td>\n",
       "      <td>13414.634022</td>\n",
       "      <td>43.902339</td>\n",
       "      <td>0.499889</td>\n",
       "      <td>0.50025</td>\n",
       "    </tr>\n",
       "    <tr>\n",
       "      <th>min</th>\n",
       "      <td>32.600000</td>\n",
       "      <td>19.000000</td>\n",
       "      <td>13996.500000</td>\n",
       "      <td>104.780000</td>\n",
       "      <td>0.000000</td>\n",
       "      <td>0.00000</td>\n",
       "    </tr>\n",
       "    <tr>\n",
       "      <th>25%</th>\n",
       "      <td>51.360000</td>\n",
       "      <td>29.000000</td>\n",
       "      <td>47031.802500</td>\n",
       "      <td>138.830000</td>\n",
       "      <td>0.000000</td>\n",
       "      <td>0.00000</td>\n",
       "    </tr>\n",
       "    <tr>\n",
       "      <th>50%</th>\n",
       "      <td>68.215000</td>\n",
       "      <td>35.000000</td>\n",
       "      <td>57012.300000</td>\n",
       "      <td>183.130000</td>\n",
       "      <td>0.000000</td>\n",
       "      <td>0.50000</td>\n",
       "    </tr>\n",
       "    <tr>\n",
       "      <th>75%</th>\n",
       "      <td>78.547500</td>\n",
       "      <td>42.000000</td>\n",
       "      <td>65470.635000</td>\n",
       "      <td>218.792500</td>\n",
       "      <td>1.000000</td>\n",
       "      <td>1.00000</td>\n",
       "    </tr>\n",
       "    <tr>\n",
       "      <th>max</th>\n",
       "      <td>91.430000</td>\n",
       "      <td>61.000000</td>\n",
       "      <td>79484.800000</td>\n",
       "      <td>269.960000</td>\n",
       "      <td>1.000000</td>\n",
       "      <td>1.00000</td>\n",
       "    </tr>\n",
       "  </tbody>\n",
       "</table>\n",
       "</div>"
      ],
      "text/plain": [
       "       Daily Time Spent on Site          Age   Area Income  \\\n",
       "count               1000.000000  1000.000000   1000.000000   \n",
       "mean                  65.000200    36.009000  55000.000080   \n",
       "std                   15.853615     8.785562  13414.634022   \n",
       "min                   32.600000    19.000000  13996.500000   \n",
       "25%                   51.360000    29.000000  47031.802500   \n",
       "50%                   68.215000    35.000000  57012.300000   \n",
       "75%                   78.547500    42.000000  65470.635000   \n",
       "max                   91.430000    61.000000  79484.800000   \n",
       "\n",
       "       Daily Internet Usage       Gender  Clicked on Ad  \n",
       "count           1000.000000  1000.000000     1000.00000  \n",
       "mean             180.000100     0.481000        0.50000  \n",
       "std               43.902339     0.499889        0.50025  \n",
       "min              104.780000     0.000000        0.00000  \n",
       "25%              138.830000     0.000000        0.00000  \n",
       "50%              183.130000     0.000000        0.50000  \n",
       "75%              218.792500     1.000000        1.00000  \n",
       "max              269.960000     1.000000        1.00000  "
      ]
     },
     "execution_count": 14,
     "metadata": {},
     "output_type": "execute_result"
    }
   ],
   "source": [
    "df.describe()"
   ]
  },
  {
   "cell_type": "markdown",
   "metadata": {},
   "source": [
    "# 8 Count the number of the people who is clicking and not clicking the ad while visiting the site and show on pie chart"
   ]
  },
  {
   "cell_type": "code",
   "execution_count": 11,
   "metadata": {
    "scrolled": false
   },
   "outputs": [],
   "source": [
    "add=df[\"Clicked on Ad\"].value_counts()"
   ]
  },
  {
   "cell_type": "code",
   "execution_count": 12,
   "metadata": {},
   "outputs": [
    {
     "data": {
      "text/plain": [
       "1    500\n",
       "0    500\n",
       "Name: Clicked on Ad, dtype: int64"
      ]
     },
     "execution_count": 12,
     "metadata": {},
     "output_type": "execute_result"
    }
   ],
   "source": [
    "add"
   ]
  },
  {
   "cell_type": "code",
   "execution_count": 13,
   "metadata": {
    "scrolled": true
   },
   "outputs": [
    {
     "data": {
      "image/png": "[encoded data removed]",
      "text/plain": [
       "<Figure size 432x288 with 1 Axes>"
      ]
     },
     "metadata": {
      "needs_background": "light"
     },
     "output_type": "display_data"
    }
   ],
   "source": [
    "plt.pie(add,shadow=True,autopct=\"%0.3f\",labels=[\"Add Clicked\",\"Add Not Clicked\"],frame=True,radius=0.6)\n",
    "plt.title(\"Percentage of the people who is  clicking  and not clicking the add while visiting the site\")\n",
    "plt.legend(loc=\"upper right\")\n",
    "plt.show()\n"
   ]
  },
  {
   "cell_type": "markdown",
   "metadata": {},
   "source": [
    "# 9 Count the number of females,males  and  show on pie chart"
   ]
  },
  {
   "cell_type": "code",
   "execution_count": 14,
   "metadata": {
    "scrolled": true
   },
   "outputs": [
    {
     "data": {
      "text/plain": [
       "0    519\n",
       "1    481\n",
       "Name: Gender, dtype: int64"
      ]
     },
     "execution_count": 14,
     "metadata": {},
     "output_type": "execute_result"
    }
   ],
   "source": [
    "gen=df[\"Gender\"].value_counts()\n",
    "gen"
   ]
  },
  {
   "cell_type": "code",
   "execution_count": 17,
   "metadata": {
    "scrolled": true
   },
   "outputs": [
    {
     "data": {
      "image/png": "[encoded data removed]",
      "text/plain": [
       "<Figure size 432x288 with 1 Axes>"
      ]
     },
     "metadata": {
      "needs_background": "light"
     },
     "output_type": "display_data"
    }
   ],
   "source": [
    "plt.pie(gen,shadow=True,autopct=\"%0.3f\",labels=[\"Female\",\"Male\"],frame=True,radius=0.6)\n",
    "plt.title(\"Number of females,males visited the site\")\n",
    "plt.legend(loc=\"upper left\")\n",
    "plt.show()"
   ]
  },
  {
   "cell_type": "markdown",
   "metadata": {},
   "source": [
    "# 10 What is the area income according to gender wise"
   ]
  },
  {
   "cell_type": "code",
   "execution_count": 39,
   "metadata": {},
   "outputs": [],
   "source": [
    "g=df.groupby(\"Gender\")"
   ]
  },
  {
   "cell_type": "code",
   "execution_count": 72,
   "metadata": {
    "scrolled": true
   },
   "outputs": [
    {
     "data": {
      "text/plain": [
       "Gender\n",
       "0    54982.931407\n",
       "1    55018.417214\n",
       "Name: Area Income, dtype: float64"
      ]
     },
     "execution_count": 72,
     "metadata": {},
     "output_type": "execute_result"
    }
   ],
   "source": [
    "aig=g[\"Area Income\"].agg(np.mean)\n",
    "aig"
   ]
  },
  {
   "cell_type": "code",
   "execution_count": 49,
   "metadata": {},
   "outputs": [
    {
     "data": {
      "text/plain": [
       "{0: 54982.93140655105, 1: 55018.41721413724}"
      ]
     },
     "execution_count": 49,
     "metadata": {},
     "output_type": "execute_result"
    }
   ],
   "source": [
    "dic=dict(aig)\n",
    "dic"
   ]
  },
  {
   "cell_type": "code",
   "execution_count": 75,
   "metadata": {},
   "outputs": [],
   "source": [
    "labels = [\"Female\",\"Male\"]\n",
    "avg_area_income = list(dic.values())\n"
   ]
  },
  {
   "cell_type": "code",
   "execution_count": 88,
   "metadata": {
    "scrolled": true
   },
   "outputs": [
    {
     "data": {
      "image/png": "[encoded data removed]",
      "text/plain": [
       "<Figure size 360x360 with 1 Axes>"
      ]
     },
     "metadata": {
      "needs_background": "light"
     },
     "output_type": "display_data"
    }
   ],
   "source": [
    "fig = plt.figure(figsize = (5,5))\n",
    "plt.bar(labels, avg_area_income, color ='maroon',width = 0.5)\n",
    "plt.xlabel(\"Gender\")\n",
    "plt.ylabel(\"Average area Income\")\n",
    "plt.title(\"Average area income according to gender wise\")\n",
    "plt.show()"
   ]
  },
  {
   "cell_type": "markdown",
   "metadata": {},
   "source": [
    "# 11 How many user clicking on ads whose age is greater than 50"
   ]
  },
  {
   "cell_type": "code",
   "execution_count": 90,
   "metadata": {
    "scrolled": true
   },
   "outputs": [
    {
     "data": {
      "text/html": [
       "<div>\n",
       "<style scoped>\n",
       "    .dataframe tbody tr th:only-of-type {\n",
       "        vertical-align: middle;\n",
       "    }\n",
       "\n",
       "    .dataframe tbody tr th {\n",
       "        vertical-align: top;\n",
       "    }\n",
       "\n",
       "    .dataframe thead th {\n",
       "        text-align: right;\n",
       "    }\n",
       "</style>\n",
       "<table border=\"1\" class=\"dataframe\">\n",
       "  <thead>\n",
       "    <tr style=\"text-align: right;\">\n",
       "      <th></th>\n",
       "      <th>Daily Time Spent on Site</th>\n",
       "      <th>Age</th>\n",
       "      <th>Area Income</th>\n",
       "      <th>Daily Internet Usage</th>\n",
       "      <th>Ad Topic Line</th>\n",
       "      <th>City</th>\n",
       "      <th>Gender</th>\n",
       "      <th>Country</th>\n",
       "      <th>Timestamp</th>\n",
       "      <th>Clicked on Ad</th>\n",
       "    </tr>\n",
       "  </thead>\n",
       "  <tbody>\n",
       "    <tr>\n",
       "      <th>22</th>\n",
       "      <td>41.49</td>\n",
       "      <td>52</td>\n",
       "      <td>32635.70</td>\n",
       "      <td>164.83</td>\n",
       "      <td>Mandatory disintermediate utilization</td>\n",
       "      <td>South John</td>\n",
       "      <td>0</td>\n",
       "      <td>Burundi</td>\n",
       "      <td>20-05-2016 08:49</td>\n",
       "      <td>1</td>\n",
       "    </tr>\n",
       "    <tr>\n",
       "      <th>27</th>\n",
       "      <td>51.95</td>\n",
       "      <td>52</td>\n",
       "      <td>58295.82</td>\n",
       "      <td>129.23</td>\n",
       "      <td>Monitored systematic hierarchy</td>\n",
       "      <td>South Cathyfurt</td>\n",
       "      <td>0</td>\n",
       "      <td>Greece</td>\n",
       "      <td>19-07-2016 08:32</td>\n",
       "      <td>1</td>\n",
       "    </tr>\n",
       "    <tr>\n",
       "      <th>32</th>\n",
       "      <td>59.05</td>\n",
       "      <td>57</td>\n",
       "      <td>25583.29</td>\n",
       "      <td>169.23</td>\n",
       "      <td>Digitized global capability</td>\n",
       "      <td>North Richardburgh</td>\n",
       "      <td>1</td>\n",
       "      <td>Maldives</td>\n",
       "      <td>15-07-2016 05:05</td>\n",
       "      <td>1</td>\n",
       "    </tr>\n",
       "    <tr>\n",
       "      <th>34</th>\n",
       "      <td>57.64</td>\n",
       "      <td>57</td>\n",
       "      <td>45580.92</td>\n",
       "      <td>133.81</td>\n",
       "      <td>Synchronized dedicated service-desk</td>\n",
       "      <td>New Thomas</td>\n",
       "      <td>1</td>\n",
       "      <td>Dominica</td>\n",
       "      <td>15-03-2016 03:12</td>\n",
       "      <td>1</td>\n",
       "    </tr>\n",
       "    <tr>\n",
       "      <th>36</th>\n",
       "      <td>62.26</td>\n",
       "      <td>53</td>\n",
       "      <td>56770.79</td>\n",
       "      <td>125.45</td>\n",
       "      <td>Profound stable product</td>\n",
       "      <td>West Aprilport</td>\n",
       "      <td>1</td>\n",
       "      <td>Montenegro</td>\n",
       "      <td>07-04-2016 15:18</td>\n",
       "      <td>1</td>\n",
       "    </tr>\n",
       "    <tr>\n",
       "      <th>...</th>\n",
       "      <td>...</td>\n",
       "      <td>...</td>\n",
       "      <td>...</td>\n",
       "      <td>...</td>\n",
       "      <td>...</td>\n",
       "      <td>...</td>\n",
       "      <td>...</td>\n",
       "      <td>...</td>\n",
       "      <td>...</td>\n",
       "      <td>...</td>\n",
       "    </tr>\n",
       "    <tr>\n",
       "      <th>924</th>\n",
       "      <td>59.64</td>\n",
       "      <td>51</td>\n",
       "      <td>71455.62</td>\n",
       "      <td>153.12</td>\n",
       "      <td>Re-contextualized human-resource success</td>\n",
       "      <td>Evansville</td>\n",
       "      <td>1</td>\n",
       "      <td>Guyana</td>\n",
       "      <td>03-05-2016 01:09</td>\n",
       "      <td>1</td>\n",
       "    </tr>\n",
       "    <tr>\n",
       "      <th>941</th>\n",
       "      <td>78.76</td>\n",
       "      <td>51</td>\n",
       "      <td>66980.27</td>\n",
       "      <td>162.05</td>\n",
       "      <td>Face-to-face modular budgetary management</td>\n",
       "      <td>South Davidhaven</td>\n",
       "      <td>0</td>\n",
       "      <td>Ghana</td>\n",
       "      <td>23-07-2016 04:04</td>\n",
       "      <td>1</td>\n",
       "    </tr>\n",
       "    <tr>\n",
       "      <th>966</th>\n",
       "      <td>37.58</td>\n",
       "      <td>52</td>\n",
       "      <td>51600.47</td>\n",
       "      <td>176.70</td>\n",
       "      <td>Exclusive disintermediate Internet solution</td>\n",
       "      <td>Cameronberg</td>\n",
       "      <td>1</td>\n",
       "      <td>Bulgaria</td>\n",
       "      <td>13-04-2016 13:04</td>\n",
       "      <td>1</td>\n",
       "    </tr>\n",
       "    <tr>\n",
       "      <th>980</th>\n",
       "      <td>67.26</td>\n",
       "      <td>57</td>\n",
       "      <td>25682.65</td>\n",
       "      <td>168.41</td>\n",
       "      <td>Focused incremental Graphic Interface</td>\n",
       "      <td>North Derekville</td>\n",
       "      <td>1</td>\n",
       "      <td>Bulgaria</td>\n",
       "      <td>27-05-2016 05:54</td>\n",
       "      <td>1</td>\n",
       "    </tr>\n",
       "    <tr>\n",
       "      <th>997</th>\n",
       "      <td>51.63</td>\n",
       "      <td>51</td>\n",
       "      <td>42415.72</td>\n",
       "      <td>120.37</td>\n",
       "      <td>Expanded intangible solution</td>\n",
       "      <td>South Jessica</td>\n",
       "      <td>1</td>\n",
       "      <td>Mongolia</td>\n",
       "      <td>01-02-2016 17:24</td>\n",
       "      <td>1</td>\n",
       "    </tr>\n",
       "  </tbody>\n",
       "</table>\n",
       "<p>69 rows × 10 columns</p>\n",
       "</div>"
      ],
      "text/plain": [
       "     Daily Time Spent on Site  Age  Area Income  Daily Internet Usage  \\\n",
       "22                      41.49   52     32635.70                164.83   \n",
       "27                      51.95   52     58295.82                129.23   \n",
       "32                      59.05   57     25583.29                169.23   \n",
       "34                      57.64   57     45580.92                133.81   \n",
       "36                      62.26   53     56770.79                125.45   \n",
       "..                        ...  ...          ...                   ...   \n",
       "924                     59.64   51     71455.62                153.12   \n",
       "941                     78.76   51     66980.27                162.05   \n",
       "966                     37.58   52     51600.47                176.70   \n",
       "980                     67.26   57     25682.65                168.41   \n",
       "997                     51.63   51     42415.72                120.37   \n",
       "\n",
       "                                   Ad Topic Line                City  Gender  \\\n",
       "22         Mandatory disintermediate utilization          South John       0   \n",
       "27                Monitored systematic hierarchy     South Cathyfurt       0   \n",
       "32                   Digitized global capability  North Richardburgh       1   \n",
       "34           Synchronized dedicated service-desk          New Thomas       1   \n",
       "36                       Profound stable product      West Aprilport       1   \n",
       "..                                           ...                 ...     ...   \n",
       "924     Re-contextualized human-resource success          Evansville       1   \n",
       "941    Face-to-face modular budgetary management    South Davidhaven       0   \n",
       "966  Exclusive disintermediate Internet solution         Cameronberg       1   \n",
       "980        Focused incremental Graphic Interface    North Derekville       1   \n",
       "997                 Expanded intangible solution       South Jessica       1   \n",
       "\n",
       "        Country         Timestamp  Clicked on Ad  \n",
       "22      Burundi  20-05-2016 08:49              1  \n",
       "27       Greece  19-07-2016 08:32              1  \n",
       "32     Maldives  15-07-2016 05:05              1  \n",
       "34     Dominica  15-03-2016 03:12              1  \n",
       "36   Montenegro  07-04-2016 15:18              1  \n",
       "..          ...               ...            ...  \n",
       "924      Guyana  03-05-2016 01:09              1  \n",
       "941       Ghana  23-07-2016 04:04              1  \n",
       "966    Bulgaria  13-04-2016 13:04              1  \n",
       "980    Bulgaria  27-05-2016 05:54              1  \n",
       "997    Mongolia  01-02-2016 17:24              1  \n",
       "\n",
       "[69 rows x 10 columns]"
      ]
     },
     "execution_count": 90,
     "metadata": {},
     "output_type": "execute_result"
    }
   ],
   "source": [
    "x=df[(df[\"Age\"]>50)&(df[\"Clicked on Ad\"]==1)]\n",
    "x"
   ]
  },
  {
   "cell_type": "code",
   "execution_count": 93,
   "metadata": {},
   "outputs": [
    {
     "data": {
      "text/plain": [
       "69"
      ]
     },
     "execution_count": 93,
     "metadata": {},
     "output_type": "execute_result"
    }
   ],
   "source": [
    "count_row = x.shape[0]  # Gives number of rows\n",
    "#count_col = x.shape[1]  # Gives number of columns\n",
    "count_row\n",
    "#count_col"
   ]
  },
  {
   "cell_type": "markdown",
   "metadata": {},
   "source": [
    "# 12 What is the average area income of people who clicking the ad"
   ]
  },
  {
   "cell_type": "code",
   "execution_count": 95,
   "metadata": {
    "scrolled": true
   },
   "outputs": [],
   "source": [
    "#df[df[\"Clicked on Ad\"]==1].Area Income.mean()"
   ]
  },
  {
   "cell_type": "code",
   "execution_count": 97,
   "metadata": {},
   "outputs": [],
   "source": [
    "r=df.groupby(\"Clicked on Ad\")"
   ]
  },
  {
   "cell_type": "code",
   "execution_count": 100,
   "metadata": {
    "scrolled": true
   },
   "outputs": [],
   "source": [
    "area_income=r[\"Area Income\"].agg(np.mean)"
   ]
  },
  {
   "cell_type": "code",
   "execution_count": 122,
   "metadata": {},
   "outputs": [
    {
     "data": {
      "text/plain": [
       "Clicked on Ad\n",
       "0    61385.58642\n",
       "1    48614.41374\n",
       "Name: Area Income, dtype: float64"
      ]
     },
     "execution_count": 122,
     "metadata": {},
     "output_type": "execute_result"
    }
   ],
   "source": [
    "area_income"
   ]
  },
  {
   "cell_type": "code",
   "execution_count": 104,
   "metadata": {},
   "outputs": [
    {
     "data": {
      "text/plain": [
       "{0: 61385.58641999997, 1: 48614.413739999996}"
      ]
     },
     "execution_count": 104,
     "metadata": {},
     "output_type": "execute_result"
    }
   ],
   "source": [
    "aai_clicking=dict(area_income)\n",
    "aai_clicking\n"
   ]
  },
  {
   "cell_type": "code",
   "execution_count": 132,
   "metadata": {},
   "outputs": [
    {
     "data": {
      "text/plain": [
       "[61385.58641999997, 48614.413739999996]"
      ]
     },
     "execution_count": 132,
     "metadata": {},
     "output_type": "execute_result"
    }
   ],
   "source": [
    "labels = [\"Not Clicking\",\"Clicking\"]\n",
    "avg_area_income1 = list(aai_clicking.values())\n",
    "avg_area_income1"
   ]
  },
  {
   "cell_type": "code",
   "execution_count": 150,
   "metadata": {
    "scrolled": false
   },
   "outputs": [
    {
     "data": {
      "text/plain": [
       "Text(0, 0.5, 'Average area income')"
      ]
     },
     "execution_count": 150,
     "metadata": {},
     "output_type": "execute_result"
    },
    {
     "data": {
      "image/png": "[encoded data removed]",
      "text/plain": [
       "<Figure size 360x360 with 1 Axes>"
      ]
     },
     "metadata": {},
     "output_type": "display_data"
    }
   ],
   "source": [
    "fig = plt.figure(figsize =(5,5))\n",
    "sns.set_style(\"whitegrid\")\n",
    "plt.bar(labels,avg_area_income1,color='red',width=0.4)\n",
    "plt.title(\"Average area income of people who clicking the add\", fontsize = 20)\n",
    "plt.xlabel(\"Clicked on Ad\", fontsize = 15)\n",
    "plt.ylabel(\"Average area income\", fontsize = 15)\n",
    "\n"
   ]
  },
  {
   "cell_type": "markdown",
   "metadata": {},
   "source": [
    "# 13 What is the average daily internet usage gender wise?"
   ]
  },
  {
   "cell_type": "code",
   "execution_count": 5,
   "metadata": {
    "scrolled": true
   },
   "outputs": [],
   "source": [
    "i=df.groupby(\"Gender\")"
   ]
  },
  {
   "cell_type": "code",
   "execution_count": 6,
   "metadata": {
    "scrolled": true
   },
   "outputs": [
    {
     "data": {
      "text/plain": [
       "Gender\n",
       "0    178.816763\n",
       "1    181.276923\n",
       "Name: Daily Internet Usage, dtype: float64"
      ]
     },
     "execution_count": 6,
     "metadata": {},
     "output_type": "execute_result"
    }
   ],
   "source": [
    "Diu=i[\"Daily Internet Usage\"].agg(np.mean)\n",
    "Diu"
   ]
  },
  {
   "cell_type": "code",
   "execution_count": 7,
   "metadata": {},
   "outputs": [
    {
     "data": {
      "image/png": "[encoded data removed]",
      "text/plain": [
       "<Figure size 432x288 with 1 Axes>"
      ]
     },
     "metadata": {
      "needs_background": "light"
     },
     "output_type": "display_data"
    }
   ],
   "source": [
    "plt.pie(Diu,shadow=True,autopct=\"%0.3f\",labels=[\"Female\",\"Male\"],frame=True,radius=0.6)\n",
    "plt.title(\"Average daily internet usage gender wise\")\n",
    "plt.legend(loc=\"upper left\")\n",
    "plt.show()"
   ]
  },
  {
   "cell_type": "markdown",
   "metadata": {},
   "source": [
    "# 14 Top 5 least internet use country"
   ]
  },
  {
   "cell_type": "code",
   "execution_count": 9,
   "metadata": {},
   "outputs": [],
   "source": [
    "\n",
    "a=df.groupby(\"Country\").groups\n"
   ]
  },
  {
   "cell_type": "code",
   "execution_count": 10,
   "metadata": {
    "scrolled": true
   },
   "outputs": [],
   "source": [
    "emptyDict = {}\n",
    "for i,j in a.items():\n",
    "    n=df.loc[j,[\"Daily Internet Usage\"]].mean()\n",
    "    emptyDict[i]=n"
   ]
  },
  {
   "cell_type": "code",
   "execution_count": 11,
   "metadata": {
    "scrolled": false
   },
   "outputs": [
    {
     "data": {
      "text/plain": [
       "{'Afghanistan': Daily Internet Usage    162.33875\n",
       " dtype: float64,\n",
       " 'Albania': Daily Internet Usage    173.744286\n",
       " dtype: float64,\n",
       " 'Algeria': Daily Internet Usage    176.621667\n",
       " dtype: float64,\n",
       " 'American Samoa': Daily Internet Usage    168.35\n",
       " dtype: float64,\n",
       " 'Andorra': Daily Internet Usage    170.205\n",
       " dtype: float64,\n",
       " 'Angola': Daily Internet Usage    175.6775\n",
       " dtype: float64,\n",
       " 'Anguilla': Daily Internet Usage    194.018333\n",
       " dtype: float64,\n",
       " 'Antarctica (the territory South of 60 deg S)': Daily Internet Usage    177.363333\n",
       " dtype: float64,\n",
       " 'Antigua and Barbuda': Daily Internet Usage    164.42\n",
       " dtype: float64,\n",
       " 'Argentina': Daily Internet Usage    181.67\n",
       " dtype: float64,\n",
       " 'Armenia': Daily Internet Usage    168.06\n",
       " dtype: float64,\n",
       " 'Aruba': Daily Internet Usage    207.48\n",
       " dtype: float64,\n",
       " 'Australia': Daily Internet Usage    153.71375\n",
       " dtype: float64,\n",
       " 'Austria': Daily Internet Usage    189.448\n",
       " dtype: float64,\n",
       " 'Azerbaijan': Daily Internet Usage    201.963333\n",
       " dtype: float64,\n",
       " 'Bahamas': Daily Internet Usage    173.942857\n",
       " dtype: float64,\n",
       " 'Bahrain': Daily Internet Usage    203.292\n",
       " dtype: float64,\n",
       " 'Bangladesh': Daily Internet Usage    175.725\n",
       " dtype: float64,\n",
       " 'Barbados': Daily Internet Usage    193.672\n",
       " dtype: float64,\n",
       " 'Belarus': Daily Internet Usage    154.18\n",
       " dtype: float64,\n",
       " 'Belgium': Daily Internet Usage    174.066\n",
       " dtype: float64,\n",
       " 'Belize': Daily Internet Usage    176.144\n",
       " dtype: float64,\n",
       " 'Benin': Daily Internet Usage    190.575\n",
       " dtype: float64,\n",
       " 'Bermuda': Daily Internet Usage    239.94\n",
       " dtype: float64,\n",
       " 'Bhutan': Daily Internet Usage    196.76\n",
       " dtype: float64,\n",
       " 'Bolivia': Daily Internet Usage    212.746667\n",
       " dtype: float64,\n",
       " 'Bosnia and Herzegovina': Daily Internet Usage    175.154286\n",
       " dtype: float64,\n",
       " 'Bouvet Island (Bouvetoya)': Daily Internet Usage    176.99\n",
       " dtype: float64,\n",
       " 'Brazil': Daily Internet Usage    170.678\n",
       " dtype: float64,\n",
       " 'British Indian Ocean Territory (Chagos Archipelago)': Daily Internet Usage    118.39\n",
       " dtype: float64,\n",
       " 'British Virgin Islands': Daily Internet Usage    178.606667\n",
       " dtype: float64,\n",
       " 'Brunei Darussalam': Daily Internet Usage    178.124\n",
       " dtype: float64,\n",
       " 'Bulgaria': Daily Internet Usage    163.671667\n",
       " dtype: float64,\n",
       " 'Burkina Faso': Daily Internet Usage    206.6275\n",
       " dtype: float64,\n",
       " 'Burundi': Daily Internet Usage    195.381429\n",
       " dtype: float64,\n",
       " 'Cambodia': Daily Internet Usage    194.057143\n",
       " dtype: float64,\n",
       " 'Cameroon': Daily Internet Usage    221.736\n",
       " dtype: float64,\n",
       " 'Canada': Daily Internet Usage    174.358\n",
       " dtype: float64,\n",
       " 'Cape Verde': Daily Internet Usage    190.08\n",
       " dtype: float64,\n",
       " 'Cayman Islands': Daily Internet Usage    198.46\n",
       " dtype: float64,\n",
       " 'Central African Republic': Daily Internet Usage    171.38\n",
       " dtype: float64,\n",
       " 'Chad': Daily Internet Usage    196.88\n",
       " dtype: float64,\n",
       " 'Chile': Daily Internet Usage    156.13\n",
       " dtype: float64,\n",
       " 'China': Daily Internet Usage    157.218333\n",
       " dtype: float64,\n",
       " 'Christmas Island': Daily Internet Usage    182.006667\n",
       " dtype: float64,\n",
       " 'Colombia': Daily Internet Usage    180.77\n",
       " dtype: float64,\n",
       " 'Comoros': Daily Internet Usage    183.73\n",
       " dtype: float64,\n",
       " 'Congo': Daily Internet Usage    174.0375\n",
       " dtype: float64,\n",
       " 'Cook Islands': Daily Internet Usage    198.963333\n",
       " dtype: float64,\n",
       " 'Costa Rica': Daily Internet Usage    176.336667\n",
       " dtype: float64,\n",
       " \"Cote d'Ivoire\": Daily Internet Usage    159.6725\n",
       " dtype: float64,\n",
       " 'Croatia': Daily Internet Usage    200.215\n",
       " dtype: float64,\n",
       " 'Cuba': Daily Internet Usage    184.608\n",
       " dtype: float64,\n",
       " 'Cyprus': Daily Internet Usage    166.49\n",
       " dtype: float64,\n",
       " 'Czech Republic': Daily Internet Usage    187.307778\n",
       " dtype: float64,\n",
       " 'Denmark': Daily Internet Usage    226.37\n",
       " dtype: float64,\n",
       " 'Djibouti': Daily Internet Usage    165.905\n",
       " dtype: float64,\n",
       " 'Dominica': Daily Internet Usage    191.168\n",
       " dtype: float64,\n",
       " 'Dominican Republic': Daily Internet Usage    178.355\n",
       " dtype: float64,\n",
       " 'Ecuador': Daily Internet Usage    183.142\n",
       " dtype: float64,\n",
       " 'Egypt': Daily Internet Usage    177.24\n",
       " dtype: float64,\n",
       " 'El Salvador': Daily Internet Usage    175.933333\n",
       " dtype: float64,\n",
       " 'Equatorial Guinea': Daily Internet Usage    143.1475\n",
       " dtype: float64,\n",
       " 'Eritrea': Daily Internet Usage    192.365714\n",
       " dtype: float64,\n",
       " 'Estonia': Daily Internet Usage    188.366667\n",
       " dtype: float64,\n",
       " 'Ethiopia': Daily Internet Usage    132.784286\n",
       " dtype: float64,\n",
       " 'Falkland Islands (Malvinas)': Daily Internet Usage    180.355\n",
       " dtype: float64,\n",
       " 'Faroe Islands': Daily Internet Usage    203.386667\n",
       " dtype: float64,\n",
       " 'Fiji': Daily Internet Usage    165.475714\n",
       " dtype: float64,\n",
       " 'Finland': Daily Internet Usage    191.024\n",
       " dtype: float64,\n",
       " 'France': Daily Internet Usage    164.231111\n",
       " dtype: float64,\n",
       " 'French Guiana': Daily Internet Usage    149.875\n",
       " dtype: float64,\n",
       " 'French Polynesia': Daily Internet Usage    193.982\n",
       " dtype: float64,\n",
       " 'French Southern Territories': Daily Internet Usage    206.632\n",
       " dtype: float64,\n",
       " 'Gabon': Daily Internet Usage    206.241667\n",
       " dtype: float64,\n",
       " 'Gambia': Daily Internet Usage    211.64\n",
       " dtype: float64,\n",
       " 'Georgia': Daily Internet Usage    164.8875\n",
       " dtype: float64,\n",
       " 'Germany': Daily Internet Usage    201.15\n",
       " dtype: float64,\n",
       " 'Ghana': Daily Internet Usage    168.135\n",
       " dtype: float64,\n",
       " 'Gibraltar': Daily Internet Usage    193.15\n",
       " dtype: float64,\n",
       " 'Greece': Daily Internet Usage    183.70875\n",
       " dtype: float64,\n",
       " 'Greenland': Daily Internet Usage    195.198\n",
       " dtype: float64,\n",
       " 'Grenada': Daily Internet Usage    169.415\n",
       " dtype: float64,\n",
       " 'Guadeloupe': Daily Internet Usage    213.12\n",
       " dtype: float64,\n",
       " 'Guam': Daily Internet Usage    162.4675\n",
       " dtype: float64,\n",
       " 'Guatemala': Daily Internet Usage    168.83\n",
       " dtype: float64,\n",
       " 'Guernsey': Daily Internet Usage    156.18\n",
       " dtype: float64,\n",
       " 'Guinea': Daily Internet Usage    174.213333\n",
       " dtype: float64,\n",
       " 'Guinea-Bissau': Daily Internet Usage    226.67\n",
       " dtype: float64,\n",
       " 'Guyana': Daily Internet Usage    178.232\n",
       " dtype: float64,\n",
       " 'Haiti': Daily Internet Usage    171.98\n",
       " dtype: float64,\n",
       " 'Heard Island and McDonald Islands': Daily Internet Usage    174.896667\n",
       " dtype: float64,\n",
       " 'Holy See (Vatican City State)': Daily Internet Usage    212.053333\n",
       " dtype: float64,\n",
       " 'Honduras': Daily Internet Usage    184.692\n",
       " dtype: float64,\n",
       " 'Hong Kong': Daily Internet Usage    154.648333\n",
       " dtype: float64,\n",
       " 'Hungary': Daily Internet Usage    167.365\n",
       " dtype: float64,\n",
       " 'Iceland': Daily Internet Usage    188.41\n",
       " dtype: float64,\n",
       " 'India': Daily Internet Usage    235.705\n",
       " dtype: float64,\n",
       " 'Indonesia': Daily Internet Usage    164.566667\n",
       " dtype: float64,\n",
       " 'Iran': Daily Internet Usage    178.486\n",
       " dtype: float64,\n",
       " 'Ireland': Daily Internet Usage    198.353333\n",
       " dtype: float64,\n",
       " 'Isle of Man': Daily Internet Usage    193.843333\n",
       " dtype: float64,\n",
       " 'Israel': Daily Internet Usage    212.8475\n",
       " dtype: float64,\n",
       " 'Italy': Daily Internet Usage    202.112\n",
       " dtype: float64,\n",
       " 'Jamaica': Daily Internet Usage    191.748\n",
       " dtype: float64,\n",
       " 'Japan': Daily Internet Usage    183.9575\n",
       " dtype: float64,\n",
       " 'Jersey': Daily Internet Usage    172.008333\n",
       " dtype: float64,\n",
       " 'Jordan': Daily Internet Usage    183.85\n",
       " dtype: float64,\n",
       " 'Kazakhstan': Daily Internet Usage    187.6325\n",
       " dtype: float64,\n",
       " 'Kenya': Daily Internet Usage    127.5975\n",
       " dtype: float64,\n",
       " 'Kiribati': Daily Internet Usage    144.53\n",
       " dtype: float64,\n",
       " 'Korea': Daily Internet Usage    155.478\n",
       " dtype: float64,\n",
       " 'Kuwait': Daily Internet Usage    139.25\n",
       " dtype: float64,\n",
       " 'Kyrgyz Republic': Daily Internet Usage    190.056667\n",
       " dtype: float64,\n",
       " \"Lao People's Democratic Republic\": Daily Internet Usage    185.11\n",
       " dtype: float64,\n",
       " 'Latvia': Daily Internet Usage    137.875\n",
       " dtype: float64,\n",
       " 'Lebanon': Daily Internet Usage    190.165\n",
       " dtype: float64,\n",
       " 'Lesotho': Daily Internet Usage    198.24\n",
       " dtype: float64,\n",
       " 'Liberia': Daily Internet Usage    176.78875\n",
       " dtype: float64,\n",
       " 'Libyan Arab Jamahiriya': Daily Internet Usage    177.21\n",
       " dtype: float64,\n",
       " 'Liechtenstein': Daily Internet Usage    143.895\n",
       " dtype: float64,\n",
       " 'Lithuania': Daily Internet Usage    159.133333\n",
       " dtype: float64,\n",
       " 'Luxembourg': Daily Internet Usage    195.362857\n",
       " dtype: float64,\n",
       " 'Macao': Daily Internet Usage    125.71\n",
       " dtype: float64,\n",
       " 'Macedonia': Daily Internet Usage    189.73\n",
       " dtype: float64,\n",
       " 'Madagascar': Daily Internet Usage    192.116667\n",
       " dtype: float64,\n",
       " 'Malawi': Daily Internet Usage    160.485\n",
       " dtype: float64,\n",
       " 'Malaysia': Daily Internet Usage    242.306667\n",
       " dtype: float64,\n",
       " 'Maldives': Daily Internet Usage    177.845\n",
       " dtype: float64,\n",
       " 'Mali': Daily Internet Usage    200.62\n",
       " dtype: float64,\n",
       " 'Malta': Daily Internet Usage    182.226667\n",
       " dtype: float64,\n",
       " 'Marshall Islands': Daily Internet Usage    156.11\n",
       " dtype: float64,\n",
       " 'Martinique': Daily Internet Usage    177.1725\n",
       " dtype: float64,\n",
       " 'Mauritania': Daily Internet Usage    154.35\n",
       " dtype: float64,\n",
       " 'Mauritius': Daily Internet Usage    194.945\n",
       " dtype: float64,\n",
       " 'Mayotte': Daily Internet Usage    172.713333\n",
       " dtype: float64,\n",
       " 'Mexico': Daily Internet Usage    155.948333\n",
       " dtype: float64,\n",
       " 'Micronesia': Daily Internet Usage    186.3975\n",
       " dtype: float64,\n",
       " 'Moldova': Daily Internet Usage    177.198333\n",
       " dtype: float64,\n",
       " 'Monaco': Daily Internet Usage    184.816667\n",
       " dtype: float64,\n",
       " 'Mongolia': Daily Internet Usage    177.545\n",
       " dtype: float64,\n",
       " 'Montenegro': Daily Internet Usage    124.535\n",
       " dtype: float64,\n",
       " 'Montserrat': Daily Internet Usage    115.91\n",
       " dtype: float64,\n",
       " 'Morocco': Daily Internet Usage    182.9\n",
       " dtype: float64,\n",
       " 'Mozambique': Daily Internet Usage    248.23\n",
       " dtype: float64,\n",
       " 'Myanmar': Daily Internet Usage    193.714\n",
       " dtype: float64,\n",
       " 'Namibia': Daily Internet Usage    194.51\n",
       " dtype: float64,\n",
       " 'Nauru': Daily Internet Usage    180.383333\n",
       " dtype: float64,\n",
       " 'Nepal': Daily Internet Usage    215.853333\n",
       " dtype: float64,\n",
       " 'Netherlands': Daily Internet Usage    166.5875\n",
       " dtype: float64,\n",
       " 'Netherlands Antilles': Daily Internet Usage    194.426667\n",
       " dtype: float64,\n",
       " 'New Caledonia': Daily Internet Usage    153.43\n",
       " dtype: float64,\n",
       " 'New Zealand': Daily Internet Usage    171.3225\n",
       " dtype: float64,\n",
       " 'Nicaragua': Daily Internet Usage    226.703333\n",
       " dtype: float64,\n",
       " 'Niger': Daily Internet Usage    141.413333\n",
       " dtype: float64,\n",
       " 'Niue': Daily Internet Usage    227.176667\n",
       " dtype: float64,\n",
       " 'Norfolk Island': Daily Internet Usage    192.464\n",
       " dtype: float64,\n",
       " 'Northern Mariana Islands': Daily Internet Usage    183.053333\n",
       " dtype: float64,\n",
       " 'Norway': Daily Internet Usage    180.32\n",
       " dtype: float64,\n",
       " 'Pakistan': Daily Internet Usage    201.816\n",
       " dtype: float64,\n",
       " 'Palau': Daily Internet Usage    170.0025\n",
       " dtype: float64,\n",
       " 'Palestinian Territory': Daily Internet Usage    153.213333\n",
       " dtype: float64,\n",
       " 'Panama': Daily Internet Usage    221.915\n",
       " dtype: float64,\n",
       " 'Papua New Guinea': Daily Internet Usage    178.376\n",
       " dtype: float64,\n",
       " 'Paraguay': Daily Internet Usage    176.133333\n",
       " dtype: float64,\n",
       " 'Peru': Daily Internet Usage    188.42625\n",
       " dtype: float64,\n",
       " 'Philippines': Daily Internet Usage    204.203333\n",
       " dtype: float64,\n",
       " 'Pitcairn Islands': Daily Internet Usage    191.065\n",
       " dtype: float64,\n",
       " 'Poland': Daily Internet Usage    191.961667\n",
       " dtype: float64,\n",
       " 'Portugal': Daily Internet Usage    208.123333\n",
       " dtype: float64,\n",
       " 'Puerto Rico': Daily Internet Usage    180.283333\n",
       " dtype: float64,\n",
       " 'Qatar': Daily Internet Usage    196.04\n",
       " dtype: float64,\n",
       " 'Reunion': Daily Internet Usage    216.255\n",
       " dtype: float64,\n",
       " 'Romania': Daily Internet Usage    121.07\n",
       " dtype: float64,\n",
       " 'Russian Federation': Daily Internet Usage    173.59\n",
       " dtype: float64,\n",
       " 'Rwanda': Daily Internet Usage    170.43\n",
       " dtype: float64,\n",
       " 'Saint Barthelemy': Daily Internet Usage    121.58\n",
       " dtype: float64,\n",
       " 'Saint Helena': Daily Internet Usage    200.438\n",
       " dtype: float64,\n",
       " 'Saint Kitts and Nevis': Daily Internet Usage    219.69\n",
       " dtype: float64,\n",
       " 'Saint Lucia': Daily Internet Usage    202.64\n",
       " dtype: float64,\n",
       " 'Saint Martin': Daily Internet Usage    174.0375\n",
       " dtype: float64,\n",
       " 'Saint Pierre and Miquelon': Daily Internet Usage    183.802\n",
       " dtype: float64,\n",
       " 'Saint Vincent and the Grenadines': Daily Internet Usage    169.506667\n",
       " dtype: float64,\n",
       " 'Samoa': Daily Internet Usage    168.846667\n",
       " dtype: float64,\n",
       " 'San Marino': Daily Internet Usage    225.2\n",
       " dtype: float64,\n",
       " 'Sao Tome and Principe': Daily Internet Usage    151.44\n",
       " dtype: float64,\n",
       " 'Saudi Arabia': Daily Internet Usage    161.7725\n",
       " dtype: float64,\n",
       " 'Senegal': Daily Internet Usage    169.8075\n",
       " dtype: float64,\n",
       " 'Serbia': Daily Internet Usage    179.116\n",
       " dtype: float64,\n",
       " 'Seychelles': Daily Internet Usage    212.316667\n",
       " dtype: float64,\n",
       " 'Sierra Leone': Daily Internet Usage    190.88\n",
       " dtype: float64,\n",
       " 'Singapore': Daily Internet Usage    184.788333\n",
       " dtype: float64,\n",
       " 'Slovakia (Slovak Republic)': Daily Internet Usage    180.8\n",
       " dtype: float64,\n",
       " 'Slovenia': Daily Internet Usage    131.29\n",
       " dtype: float64,\n",
       " 'Somalia': Daily Internet Usage    203.268\n",
       " dtype: float64,\n",
       " 'South Africa': Daily Internet Usage    174.59875\n",
       " dtype: float64,\n",
       " 'South Georgia and the South Sandwich Islands': Daily Internet Usage    199.84\n",
       " dtype: float64,\n",
       " 'Spain': Daily Internet Usage    144.553333\n",
       " dtype: float64,\n",
       " 'Sri Lanka': Daily Internet Usage    209.9975\n",
       " dtype: float64,\n",
       " 'Sudan': Daily Internet Usage    204.7\n",
       " dtype: float64,\n",
       " 'Suriname': Daily Internet Usage    150.615\n",
       " dtype: float64,\n",
       " 'Svalbard & Jan Mayen Islands': Daily Internet Usage    176.875\n",
       " dtype: float64,\n",
       " 'Swaziland': Daily Internet Usage    217.775\n",
       " dtype: float64,\n",
       " 'Sweden': Daily Internet Usage    182.015\n",
       " dtype: float64,\n",
       " 'Switzerland': Daily Internet Usage    157.18\n",
       " dtype: float64,\n",
       " 'Syrian Arab Republic': Daily Internet Usage    185.033333\n",
       " dtype: float64,\n",
       " 'Taiwan': Daily Internet Usage    176.998571\n",
       " dtype: float64,\n",
       " 'Tajikistan': Daily Internet Usage    203.19\n",
       " dtype: float64,\n",
       " 'Tanzania': Daily Internet Usage    196.19\n",
       " dtype: float64,\n",
       " 'Thailand': Daily Internet Usage    161.2775\n",
       " dtype: float64,\n",
       " 'Timor-Leste': Daily Internet Usage    186.296\n",
       " dtype: float64,\n",
       " 'Togo': Daily Internet Usage    175.65\n",
       " dtype: float64,\n",
       " 'Tokelau': Daily Internet Usage    166.55\n",
       " dtype: float64,\n",
       " 'Tonga': Daily Internet Usage    180.288\n",
       " dtype: float64,\n",
       " 'Trinidad and Tobago': Daily Internet Usage    172.216667\n",
       " dtype: float64,\n",
       " 'Tunisia': Daily Internet Usage    226.475\n",
       " dtype: float64,\n",
       " 'Turkey': Daily Internet Usage    149.0475\n",
       " dtype: float64,\n",
       " 'Turkmenistan': Daily Internet Usage    182.2\n",
       " dtype: float64,\n",
       " 'Turks and Caicos Islands': Daily Internet Usage    181.232\n",
       " dtype: float64,\n",
       " 'Tuvalu': Daily Internet Usage    143.3525\n",
       " dtype: float64,\n",
       " 'Uganda': Daily Internet Usage    152.1625\n",
       " dtype: float64,\n",
       " 'Ukraine': Daily Internet Usage    199.836\n",
       " dtype: float64,\n",
       " 'United Arab Emirates': Daily Internet Usage    181.296667\n",
       " dtype: float64,\n",
       " 'United Kingdom': Daily Internet Usage    153.523333\n",
       " dtype: float64,\n",
       " 'United States Minor Outlying Islands': Daily Internet Usage    188.205\n",
       " dtype: float64,\n",
       " 'United States Virgin Islands': Daily Internet Usage    176.555\n",
       " dtype: float64,\n",
       " 'United States of America': Daily Internet Usage    165.644\n",
       " dtype: float64,\n",
       " 'Uruguay': Daily Internet Usage    218.912\n",
       " dtype: float64,\n",
       " 'Uzbekistan': Daily Internet Usage    241.75\n",
       " dtype: float64,\n",
       " 'Vanuatu': Daily Internet Usage    214.905\n",
       " dtype: float64,\n",
       " 'Venezuela': Daily Internet Usage    168.037143\n",
       " dtype: float64,\n",
       " 'Vietnam': Daily Internet Usage    161.89\n",
       " dtype: float64,\n",
       " 'Wallis and Futuna': Daily Internet Usage    199.715\n",
       " dtype: float64,\n",
       " 'Western Sahara': Daily Internet Usage    162.835714\n",
       " dtype: float64,\n",
       " 'Yemen': Daily Internet Usage    139.343333\n",
       " dtype: float64,\n",
       " 'Zambia': Daily Internet Usage    152.115\n",
       " dtype: float64,\n",
       " 'Zimbabwe': Daily Internet Usage    160.605\n",
       " dtype: float64}"
      ]
     },
     "execution_count": 11,
     "metadata": {},
     "output_type": "execute_result"
    }
   ],
   "source": [
    "emptyDict\n"
   ]
  },
  {
   "cell_type": "code",
   "execution_count": 12,
   "metadata": {
    "scrolled": false
   },
   "outputs": [
    {
     "data": {
      "text/html": [
       "<div>\n",
       "<style scoped>\n",
       "    .dataframe tbody tr th:only-of-type {\n",
       "        vertical-align: middle;\n",
       "    }\n",
       "\n",
       "    .dataframe tbody tr th {\n",
       "        vertical-align: top;\n",
       "    }\n",
       "\n",
       "    .dataframe thead th {\n",
       "        text-align: right;\n",
       "    }\n",
       "</style>\n",
       "<table border=\"1\" class=\"dataframe\">\n",
       "  <thead>\n",
       "    <tr style=\"text-align: right;\">\n",
       "      <th></th>\n",
       "      <th>Afghanistan</th>\n",
       "      <th>Albania</th>\n",
       "      <th>Algeria</th>\n",
       "      <th>American Samoa</th>\n",
       "      <th>Andorra</th>\n",
       "      <th>Angola</th>\n",
       "      <th>Anguilla</th>\n",
       "      <th>Antarctica (the territory South of 60 deg S)</th>\n",
       "      <th>Antigua and Barbuda</th>\n",
       "      <th>Argentina</th>\n",
       "      <th>...</th>\n",
       "      <th>Uruguay</th>\n",
       "      <th>Uzbekistan</th>\n",
       "      <th>Vanuatu</th>\n",
       "      <th>Venezuela</th>\n",
       "      <th>Vietnam</th>\n",
       "      <th>Wallis and Futuna</th>\n",
       "      <th>Western Sahara</th>\n",
       "      <th>Yemen</th>\n",
       "      <th>Zambia</th>\n",
       "      <th>Zimbabwe</th>\n",
       "    </tr>\n",
       "  </thead>\n",
       "  <tbody>\n",
       "    <tr>\n",
       "      <th>Daily Internet Usage</th>\n",
       "      <td>162.33875</td>\n",
       "      <td>173.744286</td>\n",
       "      <td>176.621667</td>\n",
       "      <td>168.35</td>\n",
       "      <td>170.205</td>\n",
       "      <td>175.6775</td>\n",
       "      <td>194.018333</td>\n",
       "      <td>177.363333</td>\n",
       "      <td>164.42</td>\n",
       "      <td>181.67</td>\n",
       "      <td>...</td>\n",
       "      <td>218.912</td>\n",
       "      <td>241.75</td>\n",
       "      <td>214.905</td>\n",
       "      <td>168.037143</td>\n",
       "      <td>161.89</td>\n",
       "      <td>199.715</td>\n",
       "      <td>162.835714</td>\n",
       "      <td>139.343333</td>\n",
       "      <td>152.115</td>\n",
       "      <td>160.605</td>\n",
       "    </tr>\n",
       "  </tbody>\n",
       "</table>\n",
       "<p>1 rows × 237 columns</p>\n",
       "</div>"
      ],
      "text/plain": [
       "                      Afghanistan     Albania     Algeria  American Samoa  \\\n",
       "Daily Internet Usage    162.33875  173.744286  176.621667          168.35   \n",
       "\n",
       "                      Andorra    Angola    Anguilla  \\\n",
       "Daily Internet Usage  170.205  175.6775  194.018333   \n",
       "\n",
       "                      Antarctica (the territory South of 60 deg S)  \\\n",
       "Daily Internet Usage                                    177.363333   \n",
       "\n",
       "                      Antigua and Barbuda  Argentina  ...  Uruguay  \\\n",
       "Daily Internet Usage               164.42     181.67  ...  218.912   \n",
       "\n",
       "                      Uzbekistan  Vanuatu   Venezuela  Vietnam  \\\n",
       "Daily Internet Usage      241.75  214.905  168.037143   161.89   \n",
       "\n",
       "                      Wallis and Futuna  Western Sahara       Yemen   Zambia  \\\n",
       "Daily Internet Usage            199.715      162.835714  139.343333  152.115   \n",
       "\n",
       "                      Zimbabwe  \n",
       "Daily Internet Usage   160.605  \n",
       "\n",
       "[1 rows x 237 columns]"
      ]
     },
     "execution_count": 12,
     "metadata": {},
     "output_type": "execute_result"
    }
   ],
   "source": [
    "data=pd.DataFrame(emptyDict)\n",
    "data\n"
   ]
  },
  {
   "cell_type": "code",
   "execution_count": 13,
   "metadata": {
    "scrolled": true
   },
   "outputs": [
    {
     "name": "stdout",
     "output_type": "stream",
     "text": [
      "                   Daily Internet Usage\n",
      "Afghanistan                  162.338750\n",
      "Albania                      173.744286\n",
      "Algeria                      176.621667\n",
      "American Samoa               168.350000\n",
      "Andorra                      170.205000\n",
      "...                                 ...\n",
      "Wallis and Futuna            199.715000\n",
      "Western Sahara               162.835714\n",
      "Yemen                        139.343333\n",
      "Zambia                       152.115000\n",
      "Zimbabwe                     160.605000\n",
      "\n",
      "[237 rows x 1 columns]\n"
     ]
    }
   ],
   "source": [
    "df_t =data.T#transpose method to swap rows and columns\n",
    "print(df_t)"
   ]
  },
  {
   "cell_type": "code",
   "execution_count": 14,
   "metadata": {
    "scrolled": true
   },
   "outputs": [
    {
     "data": {
      "text/html": [
       "<div>\n",
       "<style scoped>\n",
       "    .dataframe tbody tr th:only-of-type {\n",
       "        vertical-align: middle;\n",
       "    }\n",
       "\n",
       "    .dataframe tbody tr th {\n",
       "        vertical-align: top;\n",
       "    }\n",
       "\n",
       "    .dataframe thead th {\n",
       "        text-align: right;\n",
       "    }\n",
       "</style>\n",
       "<table border=\"1\" class=\"dataframe\">\n",
       "  <thead>\n",
       "    <tr style=\"text-align: right;\">\n",
       "      <th></th>\n",
       "      <th>Daily Internet Usage</th>\n",
       "    </tr>\n",
       "  </thead>\n",
       "  <tbody>\n",
       "    <tr>\n",
       "      <th>Montserrat</th>\n",
       "      <td>115.910000</td>\n",
       "    </tr>\n",
       "    <tr>\n",
       "      <th>British Indian Ocean Territory (Chagos Archipelago)</th>\n",
       "      <td>118.390000</td>\n",
       "    </tr>\n",
       "    <tr>\n",
       "      <th>Romania</th>\n",
       "      <td>121.070000</td>\n",
       "    </tr>\n",
       "    <tr>\n",
       "      <th>Saint Barthelemy</th>\n",
       "      <td>121.580000</td>\n",
       "    </tr>\n",
       "    <tr>\n",
       "      <th>Montenegro</th>\n",
       "      <td>124.535000</td>\n",
       "    </tr>\n",
       "    <tr>\n",
       "      <th>...</th>\n",
       "      <td>...</td>\n",
       "    </tr>\n",
       "    <tr>\n",
       "      <th>India</th>\n",
       "      <td>235.705000</td>\n",
       "    </tr>\n",
       "    <tr>\n",
       "      <th>Bermuda</th>\n",
       "      <td>239.940000</td>\n",
       "    </tr>\n",
       "    <tr>\n",
       "      <th>Uzbekistan</th>\n",
       "      <td>241.750000</td>\n",
       "    </tr>\n",
       "    <tr>\n",
       "      <th>Malaysia</th>\n",
       "      <td>242.306667</td>\n",
       "    </tr>\n",
       "    <tr>\n",
       "      <th>Mozambique</th>\n",
       "      <td>248.230000</td>\n",
       "    </tr>\n",
       "  </tbody>\n",
       "</table>\n",
       "<p>237 rows × 1 columns</p>\n",
       "</div>"
      ],
      "text/plain": [
       "                                                    Daily Internet Usage\n",
       "Montserrat                                                    115.910000\n",
       "British Indian Ocean Territory (Chagos Archipel...            118.390000\n",
       "Romania                                                       121.070000\n",
       "Saint Barthelemy                                              121.580000\n",
       "Montenegro                                                    124.535000\n",
       "...                                                                  ...\n",
       "India                                                         235.705000\n",
       "Bermuda                                                       239.940000\n",
       "Uzbekistan                                                    241.750000\n",
       "Malaysia                                                      242.306667\n",
       "Mozambique                                                    248.230000\n",
       "\n",
       "[237 rows x 1 columns]"
      ]
     },
     "execution_count": 14,
     "metadata": {},
     "output_type": "execute_result"
    }
   ],
   "source": [
    "final=df_t.sort_values(by=\"Daily Internet Usage\",ascending=True)\n",
    "final"
   ]
  },
  {
   "cell_type": "code",
   "execution_count": 15,
   "metadata": {
    "scrolled": false
   },
   "outputs": [
    {
     "data": {
      "application/vnd.plotly.v1+json": {
       "config": {
        "linkText": "Export to plot.ly",
        "plotlyServerURL": "https://plot.ly",
        "showLink": true
       },
       "data": [
        {
         "marker": {
          "color": "rgba(255, 153, 51, 0.6)",
          "line": {
           "color": "rgba(255, 153, 51, 1.0)",
           "width": 1
          }
         },
         "name": "Daily Internet Usage",
         "orientation": "v",
         "text": "",
         "type": "bar",
         "x": [
          "Montserrat",
          "British Indian Ocean Territory (Chagos Archipelago)",
          "Romania",
          "Saint Barthelemy",
          "Montenegro",
          "Macao",
          "Kenya",
          "Slovenia",
          "Ethiopia",
          "Latvia",
          "Kuwait",
          "Yemen",
          "Niger",
          "Equatorial Guinea",
          "Tuvalu",
          "Liechtenstein",
          "Kiribati",
          "Spain",
          "Turkey",
          "French Guiana",
          "Suriname",
          "Sao Tome and Principe",
          "Zambia",
          "Uganda",
          "Palestinian Territory",
          "New Caledonia",
          "United Kingdom",
          "Australia",
          "Belarus",
          "Mauritania",
          "Hong Kong",
          "Korea",
          "Mexico",
          "Marshall Islands",
          "Chile",
          "Guernsey",
          "Switzerland",
          "China",
          "Lithuania",
          "Cote d'Ivoire",
          "Malawi",
          "Zimbabwe",
          "Thailand",
          "Saudi Arabia",
          "Vietnam",
          "Afghanistan",
          "Guam",
          "Western Sahara",
          "Bulgaria",
          "France",
          "Antigua and Barbuda",
          "Indonesia",
          "Georgia",
          "Fiji",
          "United States of America",
          "Djibouti",
          "Cyprus",
          "Tokelau",
          "Netherlands",
          "Hungary",
          "Venezuela",
          "Armenia",
          "Ghana",
          "American Samoa",
          "Guatemala",
          "Samoa",
          "Grenada",
          "Saint Vincent and the Grenadines",
          "Senegal",
          "Palau",
          "Andorra",
          "Rwanda",
          "Brazil",
          "New Zealand",
          "Central African Republic",
          "Haiti",
          "Jersey",
          "Trinidad and Tobago",
          "Mayotte",
          "Russian Federation",
          "Albania",
          "Bahamas",
          "Saint Martin",
          "Congo",
          "Belgium",
          "Guinea",
          "Canada",
          "South Africa",
          "Heard Island and McDonald Islands",
          "Bosnia and Herzegovina",
          "Togo",
          "Angola",
          "Bangladesh",
          "El Salvador",
          "Paraguay",
          "Belize",
          "Costa Rica",
          "United States Virgin Islands",
          "Algeria",
          "Liberia",
          "Svalbard & Jan Mayen Islands",
          "Bouvet Island (Bouvetoya)",
          "Taiwan",
          "Martinique",
          "Moldova",
          "Libyan Arab Jamahiriya",
          "Egypt",
          "Antarctica (the territory South of 60 deg S)",
          "Mongolia",
          "Maldives",
          "Brunei Darussalam",
          "Guyana",
          "Dominican Republic",
          "Papua New Guinea",
          "Iran",
          "British Virgin Islands",
          "Serbia",
          "Puerto Rico",
          "Tonga",
          "Norway",
          "Falkland Islands (Malvinas)",
          "Nauru",
          "Colombia",
          "Slovakia (Slovak Republic)",
          "Turks and Caicos Islands",
          "United Arab Emirates",
          "Argentina",
          "Christmas Island",
          "Sweden",
          "Turkmenistan",
          "Malta",
          "Morocco",
          "Northern Mariana Islands",
          "Ecuador",
          "Greece",
          "Comoros",
          "Saint Pierre and Miquelon",
          "Jordan",
          "Japan",
          "Cuba",
          "Honduras",
          "Singapore",
          "Monaco",
          "Syrian Arab Republic",
          "Lao People's Democratic Republic",
          "Timor-Leste",
          "Micronesia",
          "Czech Republic",
          "Kazakhstan",
          "United States Minor Outlying Islands",
          "Estonia",
          "Iceland",
          "Peru",
          "Austria",
          "Macedonia",
          "Kyrgyz Republic",
          "Cape Verde",
          "Lebanon",
          "Benin",
          "Sierra Leone",
          "Finland",
          "Pitcairn Islands",
          "Dominica",
          "Jamaica",
          "Poland",
          "Madagascar",
          "Eritrea",
          "Norfolk Island",
          "Gibraltar",
          "Barbados",
          "Myanmar",
          "Isle of Man",
          "French Polynesia",
          "Anguilla",
          "Cambodia",
          "Netherlands Antilles",
          "Namibia",
          "Mauritius",
          "Greenland",
          "Luxembourg",
          "Burundi",
          "Qatar",
          "Tanzania",
          "Bhutan",
          "Chad",
          "Lesotho",
          "Ireland",
          "Cayman Islands",
          "Cook Islands",
          "Wallis and Futuna",
          "Ukraine",
          "South Georgia and the South Sandwich Islands",
          "Croatia",
          "Saint Helena",
          "Mali",
          "Germany",
          "Pakistan",
          "Azerbaijan",
          "Italy",
          "Saint Lucia",
          "Tajikistan",
          "Somalia",
          "Bahrain",
          "Faroe Islands",
          "Philippines",
          "Sudan",
          "Gabon",
          "Burkina Faso",
          "French Southern Territories",
          "Aruba",
          "Portugal",
          "Sri Lanka",
          "Gambia",
          "Holy See (Vatican City State)",
          "Seychelles",
          "Bolivia",
          "Israel",
          "Guadeloupe",
          "Vanuatu",
          "Nepal",
          "Reunion",
          "Swaziland",
          "Uruguay",
          "Saint Kitts and Nevis",
          "Cameroon",
          "Panama",
          "San Marino",
          "Denmark",
          "Tunisia",
          "Guinea-Bissau",
          "Nicaragua",
          "Niue",
          "India",
          "Bermuda",
          "Uzbekistan",
          "Malaysia",
          "Mozambique"
         ],
         "y": [
          115.91,
          118.39,
          121.07,
          121.58,
          124.535,
          125.71,
          127.5975,
          131.29,
          132.7842857142857,
          137.875,
          139.25,
          139.34333333333333,
          141.41333333333333,
          143.1475,
          143.35250000000002,
          143.895,
          144.53,
          144.5533333333333,
          149.0475,
          149.87500000000003,
          150.615,
          151.44,
          152.115,
          152.1625,
          153.21333333333334,
          153.43,
          153.5233333333333,
          153.71375,
          154.17999999999998,
          154.35,
          154.64833333333334,
          155.478,
          155.94833333333332,
          156.11,
          156.13,
          156.17999999999998,
          157.18,
          157.21833333333333,
          159.13333333333333,
          159.6725,
          160.485,
          160.605,
          161.27749999999997,
          161.77249999999998,
          161.89000000000001,
          162.33875,
          162.46750000000003,
          162.83571428571432,
          163.67166666666668,
          164.2311111111111,
          164.42,
          164.5666666666667,
          164.8875,
          165.4757142857143,
          165.644,
          165.905,
          166.48999999999998,
          166.55,
          166.5875,
          167.36499999999998,
          168.03714285714287,
          168.06,
          168.135,
          168.35,
          168.82999999999998,
          168.84666666666666,
          169.415,
          169.50666666666666,
          169.80749999999998,
          170.0025,
          170.20499999999998,
          170.43,
          170.678,
          171.3225,
          171.38,
          171.98000000000002,
          172.00833333333333,
          172.21666666666667,
          172.71333333333334,
          173.59,
          173.74428571428572,
          173.94285714285712,
          174.0375,
          174.03750000000002,
          174.066,
          174.21333333333334,
          174.358,
          174.59875,
          174.89666666666668,
          175.1542857142857,
          175.65,
          175.67749999999998,
          175.725,
          175.9333333333333,
          176.13333333333333,
          176.14399999999998,
          176.33666666666667,
          176.555,
          176.62166666666667,
          176.78875,
          176.875,
          176.98999999999998,
          176.99857142857144,
          177.1725,
          177.19833333333335,
          177.21,
          177.24,
          177.36333333333334,
          177.545,
          177.84499999999997,
          178.12399999999997,
          178.23200000000003,
          178.355,
          178.376,
          178.48600000000002,
          178.60666666666668,
          179.11599999999999,
          180.28333333333333,
          180.28799999999998,
          180.32,
          180.355,
          180.38333333333335,
          180.77,
          180.8,
          181.23200000000003,
          181.29666666666665,
          181.67000000000002,
          182.00666666666666,
          182.01500000000001,
          182.20000000000002,
          182.22666666666666,
          182.89999999999998,
          183.05333333333337,
          183.142,
          183.70875,
          183.73,
          183.802,
          183.85,
          183.95749999999998,
          184.608,
          184.692,
          184.78833333333333,
          184.8166666666667,
          185.0333333333333,
          185.10999999999999,
          186.296,
          186.3975,
          187.30777777777774,
          187.6325,
          188.20499999999998,
          188.36666666666667,
          188.41,
          188.42624999999998,
          189.448,
          189.73000000000002,
          190.05666666666664,
          190.08,
          190.165,
          190.575,
          190.88,
          191.02400000000003,
          191.065,
          191.168,
          191.748,
          191.96166666666667,
          192.11666666666667,
          192.36571428571432,
          192.464,
          193.14999999999998,
          193.67200000000003,
          193.714,
          193.84333333333333,
          193.982,
          194.01833333333332,
          194.05714285714285,
          194.42666666666665,
          194.51,
          194.945,
          195.19800000000004,
          195.36285714285714,
          195.3814285714286,
          196.04,
          196.18999999999997,
          196.76,
          196.88,
          198.24,
          198.35333333333332,
          198.45999999999998,
          198.96333333333334,
          199.715,
          199.83599999999998,
          199.84,
          200.215,
          200.43800000000002,
          200.62,
          201.15,
          201.81600000000003,
          201.96333333333337,
          202.11200000000002,
          202.64,
          203.18999999999997,
          203.268,
          203.29199999999997,
          203.38666666666666,
          204.20333333333335,
          204.7,
          206.24166666666667,
          206.6275,
          206.632,
          207.48,
          208.12333333333333,
          209.9975,
          211.64,
          212.0533333333333,
          212.3166666666667,
          212.74666666666667,
          212.8475,
          213.12,
          214.905,
          215.85333333333332,
          216.255,
          217.775,
          218.91199999999998,
          219.69,
          221.73600000000002,
          221.915,
          225.20000000000002,
          226.36999999999998,
          226.47500000000002,
          226.67000000000002,
          226.70333333333335,
          227.17666666666665,
          235.70499999999998,
          239.94,
          241.75,
          242.3066666666667,
          248.23
         ]
        }
       ],
       "layout": {
        "legend": {
         "bgcolor": "#F5F6F9",
         "font": {
          "color": "#4D5663"
         }
        },
        "paper_bgcolor": "#F5F6F9",
        "plot_bgcolor": "#F5F6F9",
        "template": {
         "data": {
          "bar": [
           {
            "error_x": {
             "color": "#2a3f5f"
            },
            "error_y": {
             "color": "#2a3f5f"
            },
            "marker": {
             "line": {
              "color": "#E5ECF6",
              "width": 0.5
             },
             "pattern": {
              "fillmode": "overlay",
              "size": 10,
              "solidity": 0.2
             }
            },
            "type": "bar"
           }
          ],
          "barpolar": [
           {
            "marker": {
             "line": {
              "color": "#E5ECF6",
              "width": 0.5
             },
             "pattern": {
              "fillmode": "overlay",
              "size": 10,
              "solidity": 0.2
             }
            },
            "type": "barpolar"
           }
          ],
          "carpet": [
           {
            "aaxis": {
             "endlinecolor": "#2a3f5f",
             "gridcolor": "white",
             "linecolor": "white",
             "minorgridcolor": "white",
             "startlinecolor": "#2a3f5f"
            },
            "baxis": {
             "endlinecolor": "#2a3f5f",
             "gridcolor": "white",
             "linecolor": "white",
             "minorgridcolor": "white",
             "startlinecolor": "#2a3f5f"
            },
            "type": "carpet"
           }
          ],
          "choropleth": [
           {
            "colorbar": {
             "outlinewidth": 0,
             "ticks": ""
            },
            "type": "choropleth"
           }
          ],
          "contour": [
           {
            "colorbar": {
             "outlinewidth": 0,
             "ticks": ""
            },
            "colorscale": [
             [
              0,
              "#0d0887"
             ],
             [
              0.1111111111111111,
              "#46039f"
             ],
             [
              0.2222222222222222,
              "#7201a8"
             ],
             [
              0.3333333333333333,
              "#9c179e"
             ],
             [
              0.4444444444444444,
              "#bd3786"
             ],
             [
              0.5555555555555556,
              "#d8576b"
             ],
             [
              0.6666666666666666,
              "#ed7953"
             ],
             [
              0.7777777777777778,
              "#fb9f3a"
             ],
             [
              0.8888888888888888,
              "#fdca26"
             ],
             [
              1,
              "#f0f921"
             ]
            ],
            "type": "contour"
           }
          ],
          "contourcarpet": [
           {
            "colorbar": {
             "outlinewidth": 0,
             "ticks": ""
            },
            "type": "contourcarpet"
           }
          ],
          "heatmap": [
           {
            "colorbar": {
             "outlinewidth": 0,
             "ticks": ""
            },
            "colorscale": [
             [
              0,
              "#0d0887"
             ],
             [
              0.1111111111111111,
              "#46039f"
             ],
             [
              0.2222222222222222,
              "#7201a8"
             ],
             [
              0.3333333333333333,
              "#9c179e"
             ],
             [
              0.4444444444444444,
              "#bd3786"
             ],
             [
              0.5555555555555556,
              "#d8576b"
             ],
             [
              0.6666666666666666,
              "#ed7953"
             ],
             [
              0.7777777777777778,
              "#fb9f3a"
             ],
             [
              0.8888888888888888,
              "#fdca26"
             ],
             [
              1,
              "#f0f921"
             ]
            ],
            "type": "heatmap"
           }
          ],
          "heatmapgl": [
           {
            "colorbar": {
             "outlinewidth": 0,
             "ticks": ""
            },
            "colorscale": [
             [
              0,
              "#0d0887"
             ],
             [
              0.1111111111111111,
              "#46039f"
             ],
             [
              0.2222222222222222,
              "#7201a8"
             ],
             [
              0.3333333333333333,
              "#9c179e"
             ],
             [
              0.4444444444444444,
              "#bd3786"
             ],
             [
              0.5555555555555556,
              "#d8576b"
             ],
             [
              0.6666666666666666,
              "#ed7953"
             ],
             [
              0.7777777777777778,
              "#fb9f3a"
             ],
             [
              0.8888888888888888,
              "#fdca26"
             ],
             [
              1,
              "#f0f921"
             ]
            ],
            "type": "heatmapgl"
           }
          ],
          "histogram": [
           {
            "marker": {
             "pattern": {
              "fillmode": "overlay",
              "size": 10,
              "solidity": 0.2
             }
            },
            "type": "histogram"
           }
          ],
          "histogram2d": [
           {
            "colorbar": {
             "outlinewidth": 0,
             "ticks": ""
            },
            "colorscale": [
             [
              0,
              "#0d0887"
             ],
             [
              0.1111111111111111,
              "#46039f"
             ],
             [
              0.2222222222222222,
              "#7201a8"
             ],
             [
              0.3333333333333333,
              "#9c179e"
             ],
             [
              0.4444444444444444,
              "#bd3786"
             ],
             [
              0.5555555555555556,
              "#d8576b"
             ],
             [
              0.6666666666666666,
              "#ed7953"
             ],
             [
              0.7777777777777778,
              "#fb9f3a"
             ],
             [
              0.8888888888888888,
              "#fdca26"
             ],
             [
              1,
              "#f0f921"
             ]
            ],
            "type": "histogram2d"
           }
          ],
          "histogram2dcontour": [
           {
            "colorbar": {
             "outlinewidth": 0,
             "ticks": ""
            },
            "colorscale": [
             [
              0,
              "#0d0887"
             ],
             [
              0.1111111111111111,
              "#46039f"
             ],
             [
              0.2222222222222222,
              "#7201a8"
             ],
             [
              0.3333333333333333,
              "#9c179e"
             ],
             [
              0.4444444444444444,
              "#bd3786"
             ],
             [
              0.5555555555555556,
              "#d8576b"
             ],
             [
              0.6666666666666666,
              "#ed7953"
             ],
             [
              0.7777777777777778,
              "#fb9f3a"
             ],
             [
              0.8888888888888888,
              "#fdca26"
             ],
             [
              1,
              "#f0f921"
             ]
            ],
            "type": "histogram2dcontour"
           }
          ],
          "mesh3d": [
           {
            "colorbar": {
             "outlinewidth": 0,
             "ticks": ""
            },
            "type": "mesh3d"
           }
          ],
          "parcoords": [
           {
            "line": {
             "colorbar": {
              "outlinewidth": 0,
              "ticks": ""
             }
            },
            "type": "parcoords"
           }
          ],
          "pie": [
           {
            "automargin": true,
            "type": "pie"
           }
          ],
          "scatter": [
           {
            "marker": {
             "colorbar": {
              "outlinewidth": 0,
              "ticks": ""
             }
            },
            "type": "scatter"
           }
          ],
          "scatter3d": [
           {
            "line": {
             "colorbar": {
              "outlinewidth": 0,
              "ticks": ""
             }
            },
            "marker": {
             "colorbar": {
              "outlinewidth": 0,
              "ticks": ""
             }
            },
            "type": "scatter3d"
           }
          ],
          "scattercarpet": [
           {
            "marker": {
             "colorbar": {
              "outlinewidth": 0,
              "ticks": ""
             }
            },
            "type": "scattercarpet"
           }
          ],
          "scattergeo": [
           {
            "marker": {
             "colorbar": {
              "outlinewidth": 0,
              "ticks": ""
             }
            },
            "type": "scattergeo"
           }
          ],
          "scattergl": [
           {
            "marker": {
             "colorbar": {
              "outlinewidth": 0,
              "ticks": ""
             }
            },
            "type": "scattergl"
           }
          ],
          "scattermapbox": [
           {
            "marker": {
             "colorbar": {
              "outlinewidth": 0,
              "ticks": ""
             }
            },
            "type": "scattermapbox"
           }
          ],
          "scatterpolar": [
           {
            "marker": {
             "colorbar": {
              "outlinewidth": 0,
              "ticks": ""
             }
            },
            "type": "scatterpolar"
           }
          ],
          "scatterpolargl": [
           {
            "marker": {
             "colorbar": {
              "outlinewidth": 0,
              "ticks": ""
             }
            },
            "type": "scatterpolargl"
           }
          ],
          "scatterternary": [
           {
            "marker": {
             "colorbar": {
              "outlinewidth": 0,
              "ticks": ""
             }
            },
            "type": "scatterternary"
           }
          ],
          "surface": [
           {
            "colorbar": {
             "outlinewidth": 0,
             "ticks": ""
            },
            "colorscale": [
             [
              0,
              "#0d0887"
             ],
             [
              0.1111111111111111,
              "#46039f"
             ],
             [
              0.2222222222222222,
              "#7201a8"
             ],
             [
              0.3333333333333333,
              "#9c179e"
             ],
             [
              0.4444444444444444,
              "#bd3786"
             ],
             [
              0.5555555555555556,
              "#d8576b"
             ],
             [
              0.6666666666666666,
              "#ed7953"
             ],
             [
              0.7777777777777778,
              "#fb9f3a"
             ],
             [
              0.8888888888888888,
              "#fdca26"
             ],
             [
              1,
              "#f0f921"
             ]
            ],
            "type": "surface"
           }
          ],
          "table": [
           {
            "cells": {
             "fill": {
              "color": "#EBF0F8"
             },
             "line": {
              "color": "white"
             }
            },
            "header": {
             "fill": {
              "color": "#C8D4E3"
             },
             "line": {
              "color": "white"
             }
            },
            "type": "table"
           }
          ]
         },
         "layout": {
          "annotationdefaults": {
           "arrowcolor": "#2a3f5f",
           "arrowhead": 0,
           "arrowwidth": 1
          },
          "autotypenumbers": "strict",
          "coloraxis": {
           "colorbar": {
            "outlinewidth": 0,
            "ticks": ""
           }
          },
          "colorscale": {
           "diverging": [
            [
             0,
             "#8e0152"
            ],
            [
             0.1,
             "#c51b7d"
            ],
            [
             0.2,
             "#de77ae"
            ],
            [
             0.3,
             "#f1b6da"
            ],
            [
             0.4,
             "#fde0ef"
            ],
            [
             0.5,
             "#f7f7f7"
            ],
            [
             0.6,
             "#e6f5d0"
            ],
            [
             0.7,
             "#b8e186"
            ],
            [
             0.8,
             "#7fbc41"
            ],
            [
             0.9,
             "#4d9221"
            ],
            [
             1,
             "#276419"
            ]
           ],
           "sequential": [
            [
             0,
             "#0d0887"
            ],
            [
             0.1111111111111111,
             "#46039f"
            ],
            [
             0.2222222222222222,
             "#7201a8"
            ],
            [
             0.3333333333333333,
             "#9c179e"
            ],
            [
             0.4444444444444444,
             "#bd3786"
            ],
            [
             0.5555555555555556,
             "#d8576b"
            ],
            [
             0.6666666666666666,
             "#ed7953"
            ],
            [
             0.7777777777777778,
             "#fb9f3a"
            ],
            [
             0.8888888888888888,
             "#fdca26"
            ],
            [
             1,
             "#f0f921"
            ]
           ],
           "sequentialminus": [
            [
             0,
             "#0d0887"
            ],
            [
             0.1111111111111111,
             "#46039f"
            ],
            [
             0.2222222222222222,
             "#7201a8"
            ],
            [
             0.3333333333333333,
             "#9c179e"
            ],
            [
             0.4444444444444444,
             "#bd3786"
            ],
            [
             0.5555555555555556,
             "#d8576b"
            ],
            [
             0.6666666666666666,
             "#ed7953"
            ],
            [
             0.7777777777777778,
             "#fb9f3a"
            ],
            [
             0.8888888888888888,
             "#fdca26"
            ],
            [
             1,
             "#f0f921"
            ]
           ]
          },
          "colorway": [
           "#636efa",
           "#EF553B",
           "#00cc96",
           "#ab63fa",
           "#FFA15A",
           "#19d3f3",
           "#FF6692",
           "#B6E880",
           "#FF97FF",
           "#FECB52"
          ],
          "font": {
           "color": "#2a3f5f"
          },
          "geo": {
           "bgcolor": "white",
           "lakecolor": "white",
           "landcolor": "#E5ECF6",
           "showlakes": true,
           "showland": true,
           "subunitcolor": "white"
          },
          "hoverlabel": {
           "align": "left"
          },
          "hovermode": "closest",
          "mapbox": {
           "style": "light"
          },
          "paper_bgcolor": "white",
          "plot_bgcolor": "#E5ECF6",
          "polar": {
           "angularaxis": {
            "gridcolor": "white",
            "linecolor": "white",
            "ticks": ""
           },
           "bgcolor": "#E5ECF6",
           "radialaxis": {
            "gridcolor": "white",
            "linecolor": "white",
            "ticks": ""
           }
          },
          "scene": {
           "xaxis": {
            "backgroundcolor": "#E5ECF6",
            "gridcolor": "white",
            "gridwidth": 2,
            "linecolor": "white",
            "showbackground": true,
            "ticks": "",
            "zerolinecolor": "white"
           },
           "yaxis": {
            "backgroundcolor": "#E5ECF6",
            "gridcolor": "white",
            "gridwidth": 2,
            "linecolor": "white",
            "showbackground": true,
            "ticks": "",
            "zerolinecolor": "white"
           },
           "zaxis": {
            "backgroundcolor": "#E5ECF6",
            "gridcolor": "white",
            "gridwidth": 2,
            "linecolor": "white",
            "showbackground": true,
            "ticks": "",
            "zerolinecolor": "white"
           }
          },
          "shapedefaults": {
           "line": {
            "color": "#2a3f5f"
           }
          },
          "ternary": {
           "aaxis": {
            "gridcolor": "white",
            "linecolor": "white",
            "ticks": ""
           },
           "baxis": {
            "gridcolor": "white",
            "linecolor": "white",
            "ticks": ""
           },
           "bgcolor": "#E5ECF6",
           "caxis": {
            "gridcolor": "white",
            "linecolor": "white",
            "ticks": ""
           }
          },
          "title": {
           "x": 0.05
          },
          "xaxis": {
           "automargin": true,
           "gridcolor": "white",
           "linecolor": "white",
           "ticks": "",
           "title": {
            "standoff": 15
           },
           "zerolinecolor": "white",
           "zerolinewidth": 2
          },
          "yaxis": {
           "automargin": true,
           "gridcolor": "white",
           "linecolor": "white",
           "ticks": "",
           "title": {
            "standoff": 15
           },
           "zerolinecolor": "white",
           "zerolinewidth": 2
          }
         }
        },
        "title": {
         "font": {
          "color": "#4D5663"
         },
         "text": "Average Daily internet usage of the country in ascending order"
        },
        "xaxis": {
         "gridcolor": "#E1E5ED",
         "showgrid": true,
         "tickfont": {
          "color": "#4D5663"
         },
         "title": {
          "font": {
           "color": "#4D5663"
          },
          "text": "country"
         },
         "zerolinecolor": "#E1E5ED"
        },
        "yaxis": {
         "gridcolor": "#E1E5ED",
         "showgrid": true,
         "tickfont": {
          "color": "#4D5663"
         },
         "title": {
          "font": {
           "color": "#4D5663"
          },
          "text": "Avg.Daily Internet Usage"
         },
         "zerolinecolor": "#E1E5ED"
        }
       }
      },
      "text/html": [
       "<div>                            <div id=\"81eeb730-4565-4054-923b-1a8f53a8c269\" class=\"plotly-graph-div\" style=\"height:525px; width:100%;\"></div>            <script type=\"text/javascript\">                require([\"plotly\"], function(Plotly) {                    window.PLOTLYENV=window.PLOTLYENV || {};\n",
       "                    window.PLOTLYENV.BASE_URL='https://plot.ly';                                    if (document.getElementById(\"81eeb730-4565-4054-923b-1a8f53a8c269\")) {                    Plotly.newPlot(                        \"81eeb730-4565-4054-923b-1a8f53a8c269\",                        [{\"marker\":{\"color\":\"rgba(255, 153, 51, 0.6)\",\"line\":{\"color\":\"rgba(255, 153, 51, 1.0)\",\"width\":1}},\"name\":\"Daily Internet Usage\",\"orientation\":\"v\",\"text\":\"\",\"type\":\"bar\",\"x\":[\"Montserrat\",\"British Indian Ocean Territory (Chagos Archipelago)\",\"Romania\",\"Saint Barthelemy\",\"Montenegro\",\"Macao\",\"Kenya\",\"Slovenia\",\"Ethiopia\",\"Latvia\",\"Kuwait\",\"Yemen\",\"Niger\",\"Equatorial Guinea\",\"Tuvalu\",\"Liechtenstein\",\"Kiribati\",\"Spain\",\"Turkey\",\"French Guiana\",\"Suriname\",\"Sao Tome and Principe\",\"Zambia\",\"Uganda\",\"Palestinian Territory\",\"New Caledonia\",\"United Kingdom\",\"Australia\",\"Belarus\",\"Mauritania\",\"Hong Kong\",\"Korea\",\"Mexico\",\"Marshall Islands\",\"Chile\",\"Guernsey\",\"Switzerland\",\"China\",\"Lithuania\",\"Cote d'Ivoire\",\"Malawi\",\"Zimbabwe\",\"Thailand\",\"Saudi Arabia\",\"Vietnam\",\"Afghanistan\",\"Guam\",\"Western Sahara\",\"Bulgaria\",\"France\",\"Antigua and Barbuda\",\"Indonesia\",\"Georgia\",\"Fiji\",\"United States of America\",\"Djibouti\",\"Cyprus\",\"Tokelau\",\"Netherlands\",\"Hungary\",\"Venezuela\",\"Armenia\",\"Ghana\",\"American Samoa\",\"Guatemala\",\"Samoa\",\"Grenada\",\"Saint Vincent and the Grenadines\",\"Senegal\",\"Palau\",\"Andorra\",\"Rwanda\",\"Brazil\",\"New Zealand\",\"Central African Republic\",\"Haiti\",\"Jersey\",\"Trinidad and Tobago\",\"Mayotte\",\"Russian Federation\",\"Albania\",\"Bahamas\",\"Saint Martin\",\"Congo\",\"Belgium\",\"Guinea\",\"Canada\",\"South Africa\",\"Heard Island and McDonald Islands\",\"Bosnia and Herzegovina\",\"Togo\",\"Angola\",\"Bangladesh\",\"El Salvador\",\"Paraguay\",\"Belize\",\"Costa Rica\",\"United States Virgin Islands\",\"Algeria\",\"Liberia\",\"Svalbard & Jan Mayen Islands\",\"Bouvet Island (Bouvetoya)\",\"Taiwan\",\"Martinique\",\"Moldova\",\"Libyan Arab Jamahiriya\",\"Egypt\",\"Antarctica (the territory South of 60 deg S)\",\"Mongolia\",\"Maldives\",\"Brunei Darussalam\",\"Guyana\",\"Dominican Republic\",\"Papua New Guinea\",\"Iran\",\"British Virgin Islands\",\"Serbia\",\"Puerto Rico\",\"Tonga\",\"Norway\",\"Falkland Islands (Malvinas)\",\"Nauru\",\"Colombia\",\"Slovakia (Slovak Republic)\",\"Turks and Caicos Islands\",\"United Arab Emirates\",\"Argentina\",\"Christmas Island\",\"Sweden\",\"Turkmenistan\",\"Malta\",\"Morocco\",\"Northern Mariana Islands\",\"Ecuador\",\"Greece\",\"Comoros\",\"Saint Pierre and Miquelon\",\"Jordan\",\"Japan\",\"Cuba\",\"Honduras\",\"Singapore\",\"Monaco\",\"Syrian Arab Republic\",\"Lao People's Democratic Republic\",\"Timor-Leste\",\"Micronesia\",\"Czech Republic\",\"Kazakhstan\",\"United States Minor Outlying Islands\",\"Estonia\",\"Iceland\",\"Peru\",\"Austria\",\"Macedonia\",\"Kyrgyz Republic\",\"Cape Verde\",\"Lebanon\",\"Benin\",\"Sierra Leone\",\"Finland\",\"Pitcairn Islands\",\"Dominica\",\"Jamaica\",\"Poland\",\"Madagascar\",\"Eritrea\",\"Norfolk Island\",\"Gibraltar\",\"Barbados\",\"Myanmar\",\"Isle of Man\",\"French Polynesia\",\"Anguilla\",\"Cambodia\",\"Netherlands Antilles\",\"Namibia\",\"Mauritius\",\"Greenland\",\"Luxembourg\",\"Burundi\",\"Qatar\",\"Tanzania\",\"Bhutan\",\"Chad\",\"Lesotho\",\"Ireland\",\"Cayman Islands\",\"Cook Islands\",\"Wallis and Futuna\",\"Ukraine\",\"South Georgia and the South Sandwich Islands\",\"Croatia\",\"Saint Helena\",\"Mali\",\"Germany\",\"Pakistan\",\"Azerbaijan\",\"Italy\",\"Saint Lucia\",\"Tajikistan\",\"Somalia\",\"Bahrain\",\"Faroe Islands\",\"Philippines\",\"Sudan\",\"Gabon\",\"Burkina Faso\",\"French Southern Territories\",\"Aruba\",\"Portugal\",\"Sri Lanka\",\"Gambia\",\"Holy See (Vatican City State)\",\"Seychelles\",\"Bolivia\",\"Israel\",\"Guadeloupe\",\"Vanuatu\",\"Nepal\",\"Reunion\",\"Swaziland\",\"Uruguay\",\"Saint Kitts and Nevis\",\"Cameroon\",\"Panama\",\"San Marino\",\"Denmark\",\"Tunisia\",\"Guinea-Bissau\",\"Nicaragua\",\"Niue\",\"India\",\"Bermuda\",\"Uzbekistan\",\"Malaysia\",\"Mozambique\"],\"y\":[115.91,118.39,121.07,121.58,124.535,125.71,127.5975,131.29,132.7842857142857,137.875,139.25,139.34333333333333,141.41333333333333,143.1475,143.35250000000002,143.895,144.53,144.5533333333333,149.0475,149.87500000000003,150.615,151.44,152.115,152.1625,153.21333333333334,153.43,153.5233333333333,153.71375,154.17999999999998,154.35,154.64833333333334,155.478,155.94833333333332,156.11,156.13,156.17999999999998,157.18,157.21833333333333,159.13333333333333,159.6725,160.485,160.605,161.27749999999997,161.77249999999998,161.89000000000001,162.33875,162.46750000000003,162.83571428571432,163.67166666666668,164.2311111111111,164.42,164.5666666666667,164.8875,165.4757142857143,165.644,165.905,166.48999999999998,166.55,166.5875,167.36499999999998,168.03714285714287,168.06,168.135,168.35,168.82999999999998,168.84666666666666,169.415,169.50666666666666,169.80749999999998,170.0025,170.20499999999998,170.43,170.678,171.3225,171.38,171.98000000000002,172.00833333333333,172.21666666666667,172.71333333333334,173.59,173.74428571428572,173.94285714285712,174.0375,174.03750000000002,174.066,174.21333333333334,174.358,174.59875,174.89666666666668,175.1542857142857,175.65,175.67749999999998,175.725,175.9333333333333,176.13333333333333,176.14399999999998,176.33666666666667,176.555,176.62166666666667,176.78875,176.875,176.98999999999998,176.99857142857144,177.1725,177.19833333333335,177.21,177.24,177.36333333333334,177.545,177.84499999999997,178.12399999999997,178.23200000000003,178.355,178.376,178.48600000000002,178.60666666666668,179.11599999999999,180.28333333333333,180.28799999999998,180.32,180.355,180.38333333333335,180.77,180.8,181.23200000000003,181.29666666666665,181.67000000000002,182.00666666666666,182.01500000000001,182.20000000000002,182.22666666666666,182.89999999999998,183.05333333333337,183.142,183.70875,183.73,183.802,183.85,183.95749999999998,184.608,184.692,184.78833333333333,184.8166666666667,185.0333333333333,185.10999999999999,186.296,186.3975,187.30777777777774,187.6325,188.20499999999998,188.36666666666667,188.41,188.42624999999998,189.448,189.73000000000002,190.05666666666664,190.08,190.165,190.575,190.88,191.02400000000003,191.065,191.168,191.748,191.96166666666667,192.11666666666667,192.36571428571432,192.464,193.14999999999998,193.67200000000003,193.714,193.84333333333333,193.982,194.01833333333332,194.05714285714285,194.42666666666665,194.51,194.945,195.19800000000004,195.36285714285714,195.3814285714286,196.04,196.18999999999997,196.76,196.88,198.24,198.35333333333332,198.45999999999998,198.96333333333334,199.715,199.83599999999998,199.84,200.215,200.43800000000002,200.62,201.15,201.81600000000003,201.96333333333337,202.11200000000002,202.64,203.18999999999997,203.268,203.29199999999997,203.38666666666666,204.20333333333335,204.7,206.24166666666667,206.6275,206.632,207.48,208.12333333333333,209.9975,211.64,212.0533333333333,212.3166666666667,212.74666666666667,212.8475,213.12,214.905,215.85333333333332,216.255,217.775,218.91199999999998,219.69,221.73600000000002,221.915,225.20000000000002,226.36999999999998,226.47500000000002,226.67000000000002,226.70333333333335,227.17666666666665,235.70499999999998,239.94,241.75,242.3066666666667,248.23]}],                        {\"legend\":{\"bgcolor\":\"#F5F6F9\",\"font\":{\"color\":\"#4D5663\"}},\"paper_bgcolor\":\"#F5F6F9\",\"plot_bgcolor\":\"#F5F6F9\",\"template\":{\"data\":{\"bar\":[{\"error_x\":{\"color\":\"#2a3f5f\"},\"error_y\":{\"color\":\"#2a3f5f\"},\"marker\":{\"line\":{\"color\":\"#E5ECF6\",\"width\":0.5},\"pattern\":{\"fillmode\":\"overlay\",\"size\":10,\"solidity\":0.2}},\"type\":\"bar\"}],\"barpolar\":[{\"marker\":{\"line\":{\"color\":\"#E5ECF6\",\"width\":0.5},\"pattern\":{\"fillmode\":\"overlay\",\"size\":10,\"solidity\":0.2}},\"type\":\"barpolar\"}],\"carpet\":[{\"aaxis\":{\"endlinecolor\":\"#2a3f5f\",\"gridcolor\":\"white\",\"linecolor\":\"white\",\"minorgridcolor\":\"white\",\"startlinecolor\":\"#2a3f5f\"},\"baxis\":{\"endlinecolor\":\"#2a3f5f\",\"gridcolor\":\"white\",\"linecolor\":\"white\",\"minorgridcolor\":\"white\",\"startlinecolor\":\"#2a3f5f\"},\"type\":\"carpet\"}],\"choropleth\":[{\"colorbar\":{\"outlinewidth\":0,\"ticks\":\"\"},\"type\":\"choropleth\"}],\"contour\":[{\"colorbar\":{\"outlinewidth\":0,\"ticks\":\"\"},\"colorscale\":[[0.0,\"#0d0887\"],[0.1111111111111111,\"#46039f\"],[0.2222222222222222,\"#7201a8\"],[0.3333333333333333,\"#9c179e\"],[0.4444444444444444,\"#bd3786\"],[0.5555555555555556,\"#d8576b\"],[0.6666666666666666,\"#ed7953\"],[0.7777777777777778,\"#fb9f3a\"],[0.8888888888888888,\"#fdca26\"],[1.0,\"#f0f921\"]],\"type\":\"contour\"}],\"contourcarpet\":[{\"colorbar\":{\"outlinewidth\":0,\"ticks\":\"\"},\"type\":\"contourcarpet\"}],\"heatmap\":[{\"colorbar\":{\"outlinewidth\":0,\"ticks\":\"\"},\"colorscale\":[[0.0,\"#0d0887\"],[0.1111111111111111,\"#46039f\"],[0.2222222222222222,\"#7201a8\"],[0.3333333333333333,\"#9c179e\"],[0.4444444444444444,\"#bd3786\"],[0.5555555555555556,\"#d8576b\"],[0.6666666666666666,\"#ed7953\"],[0.7777777777777778,\"#fb9f3a\"],[0.8888888888888888,\"#fdca26\"],[1.0,\"#f0f921\"]],\"type\":\"heatmap\"}],\"heatmapgl\":[{\"colorbar\":{\"outlinewidth\":0,\"ticks\":\"\"},\"colorscale\":[[0.0,\"#0d0887\"],[0.1111111111111111,\"#46039f\"],[0.2222222222222222,\"#7201a8\"],[0.3333333333333333,\"#9c179e\"],[0.4444444444444444,\"#bd3786\"],[0.5555555555555556,\"#d8576b\"],[0.6666666666666666,\"#ed7953\"],[0.7777777777777778,\"#fb9f3a\"],[0.8888888888888888,\"#fdca26\"],[1.0,\"#f0f921\"]],\"type\":\"heatmapgl\"}],\"histogram\":[{\"marker\":{\"pattern\":{\"fillmode\":\"overlay\",\"size\":10,\"solidity\":0.2}},\"type\":\"histogram\"}],\"histogram2d\":[{\"colorbar\":{\"outlinewidth\":0,\"ticks\":\"\"},\"colorscale\":[[0.0,\"#0d0887\"],[0.1111111111111111,\"#46039f\"],[0.2222222222222222,\"#7201a8\"],[0.3333333333333333,\"#9c179e\"],[0.4444444444444444,\"#bd3786\"],[0.5555555555555556,\"#d8576b\"],[0.6666666666666666,\"#ed7953\"],[0.7777777777777778,\"#fb9f3a\"],[0.8888888888888888,\"#fdca26\"],[1.0,\"#f0f921\"]],\"type\":\"histogram2d\"}],\"histogram2dcontour\":[{\"colorbar\":{\"outlinewidth\":0,\"ticks\":\"\"},\"colorscale\":[[0.0,\"#0d0887\"],[0.1111111111111111,\"#46039f\"],[0.2222222222222222,\"#7201a8\"],[0.3333333333333333,\"#9c179e\"],[0.4444444444444444,\"#bd3786\"],[0.5555555555555556,\"#d8576b\"],[0.6666666666666666,\"#ed7953\"],[0.7777777777777778,\"#fb9f3a\"],[0.8888888888888888,\"#fdca26\"],[1.0,\"#f0f921\"]],\"type\":\"histogram2dcontour\"}],\"mesh3d\":[{\"colorbar\":{\"outlinewidth\":0,\"ticks\":\"\"},\"type\":\"mesh3d\"}],\"parcoords\":[{\"line\":{\"colorbar\":{\"outlinewidth\":0,\"ticks\":\"\"}},\"type\":\"parcoords\"}],\"pie\":[{\"automargin\":true,\"type\":\"pie\"}],\"scatter\":[{\"marker\":{\"colorbar\":{\"outlinewidth\":0,\"ticks\":\"\"}},\"type\":\"scatter\"}],\"scatter3d\":[{\"line\":{\"colorbar\":{\"outlinewidth\":0,\"ticks\":\"\"}},\"marker\":{\"colorbar\":{\"outlinewidth\":0,\"ticks\":\"\"}},\"type\":\"scatter3d\"}],\"scattercarpet\":[{\"marker\":{\"colorbar\":{\"outlinewidth\":0,\"ticks\":\"\"}},\"type\":\"scattercarpet\"}],\"scattergeo\":[{\"marker\":{\"colorbar\":{\"outlinewidth\":0,\"ticks\":\"\"}},\"type\":\"scattergeo\"}],\"scattergl\":[{\"marker\":{\"colorbar\":{\"outlinewidth\":0,\"ticks\":\"\"}},\"type\":\"scattergl\"}],\"scattermapbox\":[{\"marker\":{\"colorbar\":{\"outlinewidth\":0,\"ticks\":\"\"}},\"type\":\"scattermapbox\"}],\"scatterpolar\":[{\"marker\":{\"colorbar\":{\"outlinewidth\":0,\"ticks\":\"\"}},\"type\":\"scatterpolar\"}],\"scatterpolargl\":[{\"marker\":{\"colorbar\":{\"outlinewidth\":0,\"ticks\":\"\"}},\"type\":\"scatterpolargl\"}],\"scatterternary\":[{\"marker\":{\"colorbar\":{\"outlinewidth\":0,\"ticks\":\"\"}},\"type\":\"scatterternary\"}],\"surface\":[{\"colorbar\":{\"outlinewidth\":0,\"ticks\":\"\"},\"colorscale\":[[0.0,\"#0d0887\"],[0.1111111111111111,\"#46039f\"],[0.2222222222222222,\"#7201a8\"],[0.3333333333333333,\"#9c179e\"],[0.4444444444444444,\"#bd3786\"],[0.5555555555555556,\"#d8576b\"],[0.6666666666666666,\"#ed7953\"],[0.7777777777777778,\"#fb9f3a\"],[0.8888888888888888,\"#fdca26\"],[1.0,\"#f0f921\"]],\"type\":\"surface\"}],\"table\":[{\"cells\":{\"fill\":{\"color\":\"#EBF0F8\"},\"line\":{\"color\":\"white\"}},\"header\":{\"fill\":{\"color\":\"#C8D4E3\"},\"line\":{\"color\":\"white\"}},\"type\":\"table\"}]},\"layout\":{\"annotationdefaults\":{\"arrowcolor\":\"#2a3f5f\",\"arrowhead\":0,\"arrowwidth\":1},\"autotypenumbers\":\"strict\",\"coloraxis\":{\"colorbar\":{\"outlinewidth\":0,\"ticks\":\"\"}},\"colorscale\":{\"diverging\":[[0,\"#8e0152\"],[0.1,\"#c51b7d\"],[0.2,\"#de77ae\"],[0.3,\"#f1b6da\"],[0.4,\"#fde0ef\"],[0.5,\"#f7f7f7\"],[0.6,\"#e6f5d0\"],[0.7,\"#b8e186\"],[0.8,\"#7fbc41\"],[0.9,\"#4d9221\"],[1,\"#276419\"]],\"sequential\":[[0.0,\"#0d0887\"],[0.1111111111111111,\"#46039f\"],[0.2222222222222222,\"#7201a8\"],[0.3333333333333333,\"#9c179e\"],[0.4444444444444444,\"#bd3786\"],[0.5555555555555556,\"#d8576b\"],[0.6666666666666666,\"#ed7953\"],[0.7777777777777778,\"#fb9f3a\"],[0.8888888888888888,\"#fdca26\"],[1.0,\"#f0f921\"]],\"sequentialminus\":[[0.0,\"#0d0887\"],[0.1111111111111111,\"#46039f\"],[0.2222222222222222,\"#7201a8\"],[0.3333333333333333,\"#9c179e\"],[0.4444444444444444,\"#bd3786\"],[0.5555555555555556,\"#d8576b\"],[0.6666666666666666,\"#ed7953\"],[0.7777777777777778,\"#fb9f3a\"],[0.8888888888888888,\"#fdca26\"],[1.0,\"#f0f921\"]]},\"colorway\":[\"#636efa\",\"#EF553B\",\"#00cc96\",\"#ab63fa\",\"#FFA15A\",\"#19d3f3\",\"#FF6692\",\"#B6E880\",\"#FF97FF\",\"#FECB52\"],\"font\":{\"color\":\"#2a3f5f\"},\"geo\":{\"bgcolor\":\"white\",\"lakecolor\":\"white\",\"landcolor\":\"#E5ECF6\",\"showlakes\":true,\"showland\":true,\"subunitcolor\":\"white\"},\"hoverlabel\":{\"align\":\"left\"},\"hovermode\":\"closest\",\"mapbox\":{\"style\":\"light\"},\"paper_bgcolor\":\"white\",\"plot_bgcolor\":\"#E5ECF6\",\"polar\":{\"angularaxis\":{\"gridcolor\":\"white\",\"linecolor\":\"white\",\"ticks\":\"\"},\"bgcolor\":\"#E5ECF6\",\"radialaxis\":{\"gridcolor\":\"white\",\"linecolor\":\"white\",\"ticks\":\"\"}},\"scene\":{\"xaxis\":{\"backgroundcolor\":\"#E5ECF6\",\"gridcolor\":\"white\",\"gridwidth\":2,\"linecolor\":\"white\",\"showbackground\":true,\"ticks\":\"\",\"zerolinecolor\":\"white\"},\"yaxis\":{\"backgroundcolor\":\"#E5ECF6\",\"gridcolor\":\"white\",\"gridwidth\":2,\"linecolor\":\"white\",\"showbackground\":true,\"ticks\":\"\",\"zerolinecolor\":\"white\"},\"zaxis\":{\"backgroundcolor\":\"#E5ECF6\",\"gridcolor\":\"white\",\"gridwidth\":2,\"linecolor\":\"white\",\"showbackground\":true,\"ticks\":\"\",\"zerolinecolor\":\"white\"}},\"shapedefaults\":{\"line\":{\"color\":\"#2a3f5f\"}},\"ternary\":{\"aaxis\":{\"gridcolor\":\"white\",\"linecolor\":\"white\",\"ticks\":\"\"},\"baxis\":{\"gridcolor\":\"white\",\"linecolor\":\"white\",\"ticks\":\"\"},\"bgcolor\":\"#E5ECF6\",\"caxis\":{\"gridcolor\":\"white\",\"linecolor\":\"white\",\"ticks\":\"\"}},\"title\":{\"x\":0.05},\"xaxis\":{\"automargin\":true,\"gridcolor\":\"white\",\"linecolor\":\"white\",\"ticks\":\"\",\"title\":{\"standoff\":15},\"zerolinecolor\":\"white\",\"zerolinewidth\":2},\"yaxis\":{\"automargin\":true,\"gridcolor\":\"white\",\"linecolor\":\"white\",\"ticks\":\"\",\"title\":{\"standoff\":15},\"zerolinecolor\":\"white\",\"zerolinewidth\":2}}},\"title\":{\"font\":{\"color\":\"#4D5663\"},\"text\":\"Average Daily internet usage of the country in ascending order\"},\"xaxis\":{\"gridcolor\":\"#E1E5ED\",\"showgrid\":true,\"tickfont\":{\"color\":\"#4D5663\"},\"title\":{\"font\":{\"color\":\"#4D5663\"},\"text\":\"country\"},\"zerolinecolor\":\"#E1E5ED\"},\"yaxis\":{\"gridcolor\":\"#E1E5ED\",\"showgrid\":true,\"tickfont\":{\"color\":\"#4D5663\"},\"title\":{\"font\":{\"color\":\"#4D5663\"},\"text\":\"Avg.Daily Internet Usage\"},\"zerolinecolor\":\"#E1E5ED\"}},                        {\"showLink\": true, \"linkText\": \"Export to plot.ly\", \"plotlyServerURL\": \"https://plot.ly\", \"responsive\": true}                    ).then(function(){\n",
       "                            \n",
       "var gd = document.getElementById('81eeb730-4565-4054-923b-1a8f53a8c269');\n",
       "var x = new MutationObserver(function (mutations, observer) {{\n",
       "        var display = window.getComputedStyle(gd).display;\n",
       "        if (!display || display === 'none') {{\n",
       "            console.log([gd, 'removed!']);\n",
       "            Plotly.purge(gd);\n",
       "            observer.disconnect();\n",
       "        }}\n",
       "}});\n",
       "\n",
       "// Listen for the removal of the full notebook cells\n",
       "var notebookContainer = gd.closest('#notebook-container');\n",
       "if (notebookContainer) {{\n",
       "    x.observe(notebookContainer, {childList: true});\n",
       "}}\n",
       "\n",
       "// Listen for the clearing of the current output cell\n",
       "var outputEl = gd.closest('.output');\n",
       "if (outputEl) {{\n",
       "    x.observe(outputEl, {childList: true});\n",
       "}}\n",
       "\n",
       "                        })                };                });            </script>        </div>"
      ]
     },
     "metadata": {},
     "output_type": "display_data"
    }
   ],
   "source": [
    "final.iplot(kind='bar',title=\"Average Daily internet usage of the country in ascending order\",\n",
    "            xTitle='country',yTitle='Avg.Daily Internet Usage')"
   ]
  },
  {
   "cell_type": "markdown",
   "metadata": {},
   "source": [
    "# 15 Number of cities in each country used for the survey"
   ]
  },
  {
   "cell_type": "code",
   "execution_count": 16,
   "metadata": {
    "scrolled": true
   },
   "outputs": [],
   "source": [
    "x={k: g[\"City\"].tolist() for k,g in df.groupby(\"Country\")}"
   ]
  },
  {
   "cell_type": "code",
   "execution_count": 17,
   "metadata": {
    "scrolled": true
   },
   "outputs": [
    {
     "name": "stdout",
     "output_type": "stream",
     "text": [
      "Afghanistan 8\n",
      "Albania 7\n",
      "Algeria 6\n",
      "American Samoa 5\n",
      "Andorra 2\n",
      "Angola 4\n",
      "Anguilla 6\n",
      "Antarctica (the territory South of 60 deg S) 3\n",
      "Antigua and Barbuda 5\n",
      "Argentina 2\n",
      "Armenia 3\n",
      "Aruba 1\n",
      "Australia 8\n",
      "Austria 5\n",
      "Azerbaijan 3\n",
      "Bahamas 7\n",
      "Bahrain 5\n",
      "Bangladesh 4\n",
      "Barbados 5\n",
      "Belarus 6\n",
      "Belgium 5\n",
      "Belize 5\n",
      "Benin 2\n",
      "Bermuda 1\n",
      "Bhutan 2\n",
      "Bolivia 6\n",
      "Bosnia and Herzegovina 7\n",
      "Bouvet Island (Bouvetoya) 5\n",
      "Brazil 5\n",
      "British Indian Ocean Territory (Chagos Archipelago) 1\n",
      "British Virgin Islands 3\n",
      "Brunei Darussalam 5\n",
      "Bulgaria 6\n",
      "Burkina Faso 4\n",
      "Burundi 7\n",
      "Cambodia 7\n",
      "Cameroon 5\n",
      "Canada 5\n",
      "Cape Verde 1\n",
      "Cayman Islands 5\n",
      "Central African Republic 2\n",
      "Chad 4\n",
      "Chile 4\n",
      "China 6\n",
      "Christmas Island 6\n",
      "Colombia 2\n",
      "Comoros 2\n",
      "Congo 4\n",
      "Cook Islands 3\n",
      "Costa Rica 6\n",
      "Cote d'Ivoire 4\n",
      "Croatia 6\n",
      "Cuba 5\n",
      "Cyprus 8\n",
      "Czech Republic 9\n",
      "Denmark 3\n",
      "Djibouti 2\n",
      "Dominica 5\n",
      "Dominican Republic 4\n",
      "Ecuador 5\n",
      "Egypt 5\n",
      "El Salvador 6\n",
      "Equatorial Guinea 4\n",
      "Eritrea 7\n",
      "Estonia 3\n",
      "Ethiopia 7\n",
      "Falkland Islands (Malvinas) 4\n",
      "Faroe Islands 3\n",
      "Fiji 7\n",
      "Finland 5\n",
      "France 9\n",
      "French Guiana 4\n",
      "French Polynesia 5\n",
      "French Southern Territories 5\n",
      "Gabon 6\n",
      "Gambia 2\n",
      "Georgia 4\n",
      "Germany 1\n",
      "Ghana 4\n",
      "Gibraltar 3\n",
      "Greece 8\n",
      "Greenland 5\n",
      "Grenada 4\n",
      "Guadeloupe 2\n",
      "Guam 4\n",
      "Guatemala 4\n",
      "Guernsey 3\n",
      "Guinea 3\n",
      "Guinea-Bissau 2\n",
      "Guyana 5\n",
      "Haiti 2\n",
      "Heard Island and McDonald Islands 3\n",
      "Holy See (Vatican City State) 3\n",
      "Honduras 5\n",
      "Hong Kong 6\n",
      "Hungary 6\n",
      "Iceland 3\n",
      "India 2\n",
      "Indonesia 6\n",
      "Iran 5\n",
      "Ireland 3\n",
      "Isle of Man 3\n",
      "Israel 4\n",
      "Italy 5\n",
      "Jamaica 5\n",
      "Japan 4\n",
      "Jersey 6\n",
      "Jordan 1\n",
      "Kazakhstan 4\n",
      "Kenya 4\n",
      "Kiribati 1\n",
      "Korea 5\n",
      "Kuwait 2\n",
      "Kyrgyz Republic 6\n",
      "Lao People's Democratic Republic 4\n",
      "Latvia 4\n",
      "Lebanon 6\n",
      "Lesotho 1\n",
      "Liberia 8\n",
      "Libyan Arab Jamahiriya 4\n",
      "Liechtenstein 6\n",
      "Lithuania 3\n",
      "Luxembourg 7\n",
      "Macao 3\n",
      "Macedonia 2\n",
      "Madagascar 6\n",
      "Malawi 4\n",
      "Malaysia 3\n",
      "Maldives 4\n",
      "Mali 4\n",
      "Malta 6\n",
      "Marshall Islands 1\n",
      "Martinique 4\n",
      "Mauritania 2\n",
      "Mauritius 4\n",
      "Mayotte 6\n",
      "Mexico 6\n",
      "Micronesia 8\n",
      "Moldova 6\n",
      "Monaco 3\n",
      "Mongolia 6\n",
      "Montenegro 2\n",
      "Montserrat 1\n",
      "Morocco 3\n",
      "Mozambique 1\n",
      "Myanmar 5\n",
      "Namibia 2\n",
      "Nauru 3\n",
      "Nepal 3\n",
      "Netherlands 4\n",
      "Netherlands Antilles 6\n",
      "New Caledonia 2\n",
      "New Zealand 4\n",
      "Nicaragua 3\n",
      "Niger 3\n",
      "Niue 3\n",
      "Norfolk Island 5\n",
      "Northern Mariana Islands 3\n",
      "Norway 2\n",
      "Pakistan 5\n",
      "Palau 4\n",
      "Palestinian Territory 3\n",
      "Panama 2\n",
      "Papua New Guinea 5\n",
      "Paraguay 3\n",
      "Peru 8\n",
      "Philippines 6\n",
      "Pitcairn Islands 2\n",
      "Poland 6\n",
      "Portugal 3\n",
      "Puerto Rico 6\n",
      "Qatar 6\n",
      "Reunion 2\n",
      "Romania 1\n",
      "Russian Federation 3\n",
      "Rwanda 5\n",
      "Saint Barthelemy 2\n",
      "Saint Helena 5\n",
      "Saint Kitts and Nevis 1\n",
      "Saint Lucia 2\n",
      "Saint Martin 4\n",
      "Saint Pierre and Miquelon 5\n",
      "Saint Vincent and the Grenadines 6\n",
      "Samoa 6\n",
      "San Marino 3\n",
      "Sao Tome and Principe 2\n",
      "Saudi Arabia 4\n",
      "Senegal 8\n",
      "Serbia 5\n",
      "Seychelles 3\n",
      "Sierra Leone 2\n",
      "Singapore 6\n",
      "Slovakia (Slovak Republic) 2\n",
      "Slovenia 1\n",
      "Somalia 5\n",
      "South Africa 8\n",
      "South Georgia and the South Sandwich Islands 2\n",
      "Spain 3\n",
      "Sri Lanka 4\n",
      "Sudan 2\n",
      "Suriname 2\n",
      "Svalbard & Jan Mayen Islands 6\n",
      "Swaziland 2\n",
      "Sweden 4\n",
      "Switzerland 4\n",
      "Syrian Arab Republic 3\n",
      "Taiwan 7\n",
      "Tajikistan 3\n",
      "Tanzania 3\n",
      "Thailand 4\n",
      "Timor-Leste 5\n",
      "Togo 3\n",
      "Tokelau 4\n",
      "Tonga 5\n",
      "Trinidad and Tobago 3\n",
      "Tunisia 4\n",
      "Turkey 8\n",
      "Turkmenistan 6\n",
      "Turks and Caicos Islands 5\n",
      "Tuvalu 4\n",
      "Uganda 4\n",
      "Ukraine 5\n",
      "United Arab Emirates 6\n",
      "United Kingdom 3\n",
      "United States Minor Outlying Islands 4\n",
      "United States Virgin Islands 4\n",
      "United States of America 5\n",
      "Uruguay 5\n",
      "Uzbekistan 2\n",
      "Vanuatu 6\n",
      "Venezuela 7\n",
      "Vietnam 3\n",
      "Wallis and Futuna 4\n",
      "Western Sahara 7\n",
      "Yemen 3\n",
      "Zambia 4\n",
      "Zimbabwe 6\n"
     ]
    }
   ],
   "source": [
    "country=[]\n",
    "city_count=[]\n",
    "for k,v in x.items():\n",
    "    #print (k, len(list(filter(None, v))))\n",
    "    print (k, len(v))\n",
    "    \n",
    "    country.append(k)\n",
    "    city_count.append(len(v))\n",
    "    \n",
    "\n",
    "    \n",
    "    \n",
    "    \n",
    "    "
   ]
  },
  {
   "cell_type": "code",
   "execution_count": 18,
   "metadata": {},
   "outputs": [
    {
     "data": {
      "application/vnd.plotly.v1+json": {
       "config": {
        "linkText": "Export to plot.ly",
        "plotlyServerURL": "https://plot.ly",
        "showLink": false
       },
       "data": [
        {
         "type": "bar",
         "x": [
          "Afghanistan",
          "Albania",
          "Algeria",
          "American Samoa",
          "Andorra",
          "Angola",
          "Anguilla",
          "Antarctica (the territory South of 60 deg S)",
          "Antigua and Barbuda",
          "Argentina",
          "Armenia",
          "Aruba",
          "Australia",
          "Austria",
          "Azerbaijan",
          "Bahamas",
          "Bahrain",
          "Bangladesh",
          "Barbados",
          "Belarus",
          "Belgium",
          "Belize",
          "Benin",
          "Bermuda",
          "Bhutan",
          "Bolivia",
          "Bosnia and Herzegovina",
          "Bouvet Island (Bouvetoya)",
          "Brazil",
          "British Indian Ocean Territory (Chagos Archipelago)",
          "British Virgin Islands",
          "Brunei Darussalam",
          "Bulgaria",
          "Burkina Faso",
          "Burundi",
          "Cambodia",
          "Cameroon",
          "Canada",
          "Cape Verde",
          "Cayman Islands",
          "Central African Republic",
          "Chad",
          "Chile",
          "China",
          "Christmas Island",
          "Colombia",
          "Comoros",
          "Congo",
          "Cook Islands",
          "Costa Rica",
          "Cote d'Ivoire",
          "Croatia",
          "Cuba",
          "Cyprus",
          "Czech Republic",
          "Denmark",
          "Djibouti",
          "Dominica",
          "Dominican Republic",
          "Ecuador",
          "Egypt",
          "El Salvador",
          "Equatorial Guinea",
          "Eritrea",
          "Estonia",
          "Ethiopia",
          "Falkland Islands (Malvinas)",
          "Faroe Islands",
          "Fiji",
          "Finland",
          "France",
          "French Guiana",
          "French Polynesia",
          "French Southern Territories",
          "Gabon",
          "Gambia",
          "Georgia",
          "Germany",
          "Ghana",
          "Gibraltar",
          "Greece",
          "Greenland",
          "Grenada",
          "Guadeloupe",
          "Guam",
          "Guatemala",
          "Guernsey",
          "Guinea",
          "Guinea-Bissau",
          "Guyana",
          "Haiti",
          "Heard Island and McDonald Islands",
          "Holy See (Vatican City State)",
          "Honduras",
          "Hong Kong",
          "Hungary",
          "Iceland",
          "India",
          "Indonesia",
          "Iran",
          "Ireland",
          "Isle of Man",
          "Israel",
          "Italy",
          "Jamaica",
          "Japan",
          "Jersey",
          "Jordan",
          "Kazakhstan",
          "Kenya",
          "Kiribati",
          "Korea",
          "Kuwait",
          "Kyrgyz Republic",
          "Lao People's Democratic Republic",
          "Latvia",
          "Lebanon",
          "Lesotho",
          "Liberia",
          "Libyan Arab Jamahiriya",
          "Liechtenstein",
          "Lithuania",
          "Luxembourg",
          "Macao",
          "Macedonia",
          "Madagascar",
          "Malawi",
          "Malaysia",
          "Maldives",
          "Mali",
          "Malta",
          "Marshall Islands",
          "Martinique",
          "Mauritania",
          "Mauritius",
          "Mayotte",
          "Mexico",
          "Micronesia",
          "Moldova",
          "Monaco",
          "Mongolia",
          "Montenegro",
          "Montserrat",
          "Morocco",
          "Mozambique",
          "Myanmar",
          "Namibia",
          "Nauru",
          "Nepal",
          "Netherlands",
          "Netherlands Antilles",
          "New Caledonia",
          "New Zealand",
          "Nicaragua",
          "Niger",
          "Niue",
          "Norfolk Island",
          "Northern Mariana Islands",
          "Norway",
          "Pakistan",
          "Palau",
          "Palestinian Territory",
          "Panama",
          "Papua New Guinea",
          "Paraguay",
          "Peru",
          "Philippines",
          "Pitcairn Islands",
          "Poland",
          "Portugal",
          "Puerto Rico",
          "Qatar",
          "Reunion",
          "Romania",
          "Russian Federation",
          "Rwanda",
          "Saint Barthelemy",
          "Saint Helena",
          "Saint Kitts and Nevis",
          "Saint Lucia",
          "Saint Martin",
          "Saint Pierre and Miquelon",
          "Saint Vincent and the Grenadines",
          "Samoa",
          "San Marino",
          "Sao Tome and Principe",
          "Saudi Arabia",
          "Senegal",
          "Serbia",
          "Seychelles",
          "Sierra Leone",
          "Singapore",
          "Slovakia (Slovak Republic)",
          "Slovenia",
          "Somalia",
          "South Africa",
          "South Georgia and the South Sandwich Islands",
          "Spain",
          "Sri Lanka",
          "Sudan",
          "Suriname",
          "Svalbard & Jan Mayen Islands",
          "Swaziland",
          "Sweden",
          "Switzerland",
          "Syrian Arab Republic",
          "Taiwan",
          "Tajikistan",
          "Tanzania",
          "Thailand",
          "Timor-Leste",
          "Togo",
          "Tokelau",
          "Tonga",
          "Trinidad and Tobago",
          "Tunisia",
          "Turkey",
          "Turkmenistan",
          "Turks and Caicos Islands",
          "Tuvalu",
          "Uganda",
          "Ukraine",
          "United Arab Emirates",
          "United Kingdom",
          "United States Minor Outlying Islands",
          "United States Virgin Islands",
          "United States of America",
          "Uruguay",
          "Uzbekistan",
          "Vanuatu",
          "Venezuela",
          "Vietnam",
          "Wallis and Futuna",
          "Western Sahara",
          "Yemen",
          "Zambia",
          "Zimbabwe"
         ],
         "y": [
          8,
          7,
          6,
          5,
          2,
          4,
          6,
          3,
          5,
          2,
          3,
          1,
          8,
          5,
          3,
          7,
          5,
          4,
          5,
          6,
          5,
          5,
          2,
          1,
          2,
          6,
          7,
          5,
          5,
          1,
          3,
          5,
          6,
          4,
          7,
          7,
          5,
          5,
          1,
          5,
          2,
          4,
          4,
          6,
          6,
          2,
          2,
          4,
          3,
          6,
          4,
          6,
          5,
          8,
          9,
          3,
          2,
          5,
          4,
          5,
          5,
          6,
          4,
          7,
          3,
          7,
          4,
          3,
          7,
          5,
          9,
          4,
          5,
          5,
          6,
          2,
          4,
          1,
          4,
          3,
          8,
          5,
          4,
          2,
          4,
          4,
          3,
          3,
          2,
          5,
          2,
          3,
          3,
          5,
          6,
          6,
          3,
          2,
          6,
          5,
          3,
          3,
          4,
          5,
          5,
          4,
          6,
          1,
          4,
          4,
          1,
          5,
          2,
          6,
          4,
          4,
          6,
          1,
          8,
          4,
          6,
          3,
          7,
          3,
          2,
          6,
          4,
          3,
          4,
          4,
          6,
          1,
          4,
          2,
          4,
          6,
          6,
          8,
          6,
          3,
          6,
          2,
          1,
          3,
          1,
          5,
          2,
          3,
          3,
          4,
          6,
          2,
          4,
          3,
          3,
          3,
          5,
          3,
          2,
          5,
          4,
          3,
          2,
          5,
          3,
          8,
          6,
          2,
          6,
          3,
          6,
          6,
          2,
          1,
          3,
          5,
          2,
          5,
          1,
          2,
          4,
          5,
          6,
          6,
          3,
          2,
          4,
          8,
          5,
          3,
          2,
          6,
          2,
          1,
          5,
          8,
          2,
          3,
          4,
          2,
          2,
          6,
          2,
          4,
          4,
          3,
          7,
          3,
          3,
          4,
          5,
          3,
          4,
          5,
          3,
          4,
          8,
          6,
          5,
          4,
          4,
          5,
          6,
          3,
          4,
          4,
          5,
          5,
          2,
          6,
          7,
          3,
          4,
          7,
          3,
          4,
          6
         ]
        }
       ],
       "layout": {
        "template": {
         "data": {
          "bar": [
           {
            "error_x": {
             "color": "#2a3f5f"
            },
            "error_y": {
             "color": "#2a3f5f"
            },
            "marker": {
             "line": {
              "color": "#E5ECF6",
              "width": 0.5
             },
             "pattern": {
              "fillmode": "overlay",
              "size": 10,
              "solidity": 0.2
             }
            },
            "type": "bar"
           }
          ],
          "barpolar": [
           {
            "marker": {
             "line": {
              "color": "#E5ECF6",
              "width": 0.5
             },
             "pattern": {
              "fillmode": "overlay",
              "size": 10,
              "solidity": 0.2
             }
            },
            "type": "barpolar"
           }
          ],
          "carpet": [
           {
            "aaxis": {
             "endlinecolor": "#2a3f5f",
             "gridcolor": "white",
             "linecolor": "white",
             "minorgridcolor": "white",
             "startlinecolor": "#2a3f5f"
            },
            "baxis": {
             "endlinecolor": "#2a3f5f",
             "gridcolor": "white",
             "linecolor": "white",
             "minorgridcolor": "white",
             "startlinecolor": "#2a3f5f"
            },
            "type": "carpet"
           }
          ],
          "choropleth": [
           {
            "colorbar": {
             "outlinewidth": 0,
             "ticks": ""
            },
            "type": "choropleth"
           }
          ],
          "contour": [
           {
            "colorbar": {
             "outlinewidth": 0,
             "ticks": ""
            },
            "colorscale": [
             [
              0,
              "#0d0887"
             ],
             [
              0.1111111111111111,
              "#46039f"
             ],
             [
              0.2222222222222222,
              "#7201a8"
             ],
             [
              0.3333333333333333,
              "#9c179e"
             ],
             [
              0.4444444444444444,
              "#bd3786"
             ],
             [
              0.5555555555555556,
              "#d8576b"
             ],
             [
              0.6666666666666666,
              "#ed7953"
             ],
             [
              0.7777777777777778,
              "#fb9f3a"
             ],
             [
              0.8888888888888888,
              "#fdca26"
             ],
             [
              1,
              "#f0f921"
             ]
            ],
            "type": "contour"
           }
          ],
          "contourcarpet": [
           {
            "colorbar": {
             "outlinewidth": 0,
             "ticks": ""
            },
            "type": "contourcarpet"
           }
          ],
          "heatmap": [
           {
            "colorbar": {
             "outlinewidth": 0,
             "ticks": ""
            },
            "colorscale": [
             [
              0,
              "#0d0887"
             ],
             [
              0.1111111111111111,
              "#46039f"
             ],
             [
              0.2222222222222222,
              "#7201a8"
             ],
             [
              0.3333333333333333,
              "#9c179e"
             ],
             [
              0.4444444444444444,
              "#bd3786"
             ],
             [
              0.5555555555555556,
              "#d8576b"
             ],
             [
              0.6666666666666666,
              "#ed7953"
             ],
             [
              0.7777777777777778,
              "#fb9f3a"
             ],
             [
              0.8888888888888888,
              "#fdca26"
             ],
             [
              1,
              "#f0f921"
             ]
            ],
            "type": "heatmap"
           }
          ],
          "heatmapgl": [
           {
            "colorbar": {
             "outlinewidth": 0,
             "ticks": ""
            },
            "colorscale": [
             [
              0,
              "#0d0887"
             ],
             [
              0.1111111111111111,
              "#46039f"
             ],
             [
              0.2222222222222222,
              "#7201a8"
             ],
             [
              0.3333333333333333,
              "#9c179e"
             ],
             [
              0.4444444444444444,
              "#bd3786"
             ],
             [
              0.5555555555555556,
              "#d8576b"
             ],
             [
              0.6666666666666666,
              "#ed7953"
             ],
             [
              0.7777777777777778,
              "#fb9f3a"
             ],
             [
              0.8888888888888888,
              "#fdca26"
             ],
             [
              1,
              "#f0f921"
             ]
            ],
            "type": "heatmapgl"
           }
          ],
          "histogram": [
           {
            "marker": {
             "pattern": {
              "fillmode": "overlay",
              "size": 10,
              "solidity": 0.2
             }
            },
            "type": "histogram"
           }
          ],
          "histogram2d": [
           {
            "colorbar": {
             "outlinewidth": 0,
             "ticks": ""
            },
            "colorscale": [
             [
              0,
              "#0d0887"
             ],
             [
              0.1111111111111111,
              "#46039f"
             ],
             [
              0.2222222222222222,
              "#7201a8"
             ],
             [
              0.3333333333333333,
              "#9c179e"
             ],
             [
              0.4444444444444444,
              "#bd3786"
             ],
             [
              0.5555555555555556,
              "#d8576b"
             ],
             [
              0.6666666666666666,
              "#ed7953"
             ],
             [
              0.7777777777777778,
              "#fb9f3a"
             ],
             [
              0.8888888888888888,
              "#fdca26"
             ],
             [
              1,
              "#f0f921"
             ]
            ],
            "type": "histogram2d"
           }
          ],
          "histogram2dcontour": [
           {
            "colorbar": {
             "outlinewidth": 0,
             "ticks": ""
            },
            "colorscale": [
             [
              0,
              "#0d0887"
             ],
             [
              0.1111111111111111,
              "#46039f"
             ],
             [
              0.2222222222222222,
              "#7201a8"
             ],
             [
              0.3333333333333333,
              "#9c179e"
             ],
             [
              0.4444444444444444,
              "#bd3786"
             ],
             [
              0.5555555555555556,
              "#d8576b"
             ],
             [
              0.6666666666666666,
              "#ed7953"
             ],
             [
              0.7777777777777778,
              "#fb9f3a"
             ],
             [
              0.8888888888888888,
              "#fdca26"
             ],
             [
              1,
              "#f0f921"
             ]
            ],
            "type": "histogram2dcontour"
           }
          ],
          "mesh3d": [
           {
            "colorbar": {
             "outlinewidth": 0,
             "ticks": ""
            },
            "type": "mesh3d"
           }
          ],
          "parcoords": [
           {
            "line": {
             "colorbar": {
              "outlinewidth": 0,
              "ticks": ""
             }
            },
            "type": "parcoords"
           }
          ],
          "pie": [
           {
            "automargin": true,
            "type": "pie"
           }
          ],
          "scatter": [
           {
            "marker": {
             "colorbar": {
              "outlinewidth": 0,
              "ticks": ""
             }
            },
            "type": "scatter"
           }
          ],
          "scatter3d": [
           {
            "line": {
             "colorbar": {
              "outlinewidth": 0,
              "ticks": ""
             }
            },
            "marker": {
             "colorbar": {
              "outlinewidth": 0,
              "ticks": ""
             }
            },
            "type": "scatter3d"
           }
          ],
          "scattercarpet": [
           {
            "marker": {
             "colorbar": {
              "outlinewidth": 0,
              "ticks": ""
             }
            },
            "type": "scattercarpet"
           }
          ],
          "scattergeo": [
           {
            "marker": {
             "colorbar": {
              "outlinewidth": 0,
              "ticks": ""
             }
            },
            "type": "scattergeo"
           }
          ],
          "scattergl": [
           {
            "marker": {
             "colorbar": {
              "outlinewidth": 0,
              "ticks": ""
             }
            },
            "type": "scattergl"
           }
          ],
          "scattermapbox": [
           {
            "marker": {
             "colorbar": {
              "outlinewidth": 0,
              "ticks": ""
             }
            },
            "type": "scattermapbox"
           }
          ],
          "scatterpolar": [
           {
            "marker": {
             "colorbar": {
              "outlinewidth": 0,
              "ticks": ""
             }
            },
            "type": "scatterpolar"
           }
          ],
          "scatterpolargl": [
           {
            "marker": {
             "colorbar": {
              "outlinewidth": 0,
              "ticks": ""
             }
            },
            "type": "scatterpolargl"
           }
          ],
          "scatterternary": [
           {
            "marker": {
             "colorbar": {
              "outlinewidth": 0,
              "ticks": ""
             }
            },
            "type": "scatterternary"
           }
          ],
          "surface": [
           {
            "colorbar": {
             "outlinewidth": 0,
             "ticks": ""
            },
            "colorscale": [
             [
              0,
              "#0d0887"
             ],
             [
              0.1111111111111111,
              "#46039f"
             ],
             [
              0.2222222222222222,
              "#7201a8"
             ],
             [
              0.3333333333333333,
              "#9c179e"
             ],
             [
              0.4444444444444444,
              "#bd3786"
             ],
             [
              0.5555555555555556,
              "#d8576b"
             ],
             [
              0.6666666666666666,
              "#ed7953"
             ],
             [
              0.7777777777777778,
              "#fb9f3a"
             ],
             [
              0.8888888888888888,
              "#fdca26"
             ],
             [
              1,
              "#f0f921"
             ]
            ],
            "type": "surface"
           }
          ],
          "table": [
           {
            "cells": {
             "fill": {
              "color": "#EBF0F8"
             },
             "line": {
              "color": "white"
             }
            },
            "header": {
             "fill": {
              "color": "#C8D4E3"
             },
             "line": {
              "color": "white"
             }
            },
            "type": "table"
           }
          ]
         },
         "layout": {
          "annotationdefaults": {
           "arrowcolor": "#2a3f5f",
           "arrowhead": 0,
           "arrowwidth": 1
          },
          "autotypenumbers": "strict",
          "coloraxis": {
           "colorbar": {
            "outlinewidth": 0,
            "ticks": ""
           }
          },
          "colorscale": {
           "diverging": [
            [
             0,
             "#8e0152"
            ],
            [
             0.1,
             "#c51b7d"
            ],
            [
             0.2,
             "#de77ae"
            ],
            [
             0.3,
             "#f1b6da"
            ],
            [
             0.4,
             "#fde0ef"
            ],
            [
             0.5,
             "#f7f7f7"
            ],
            [
             0.6,
             "#e6f5d0"
            ],
            [
             0.7,
             "#b8e186"
            ],
            [
             0.8,
             "#7fbc41"
            ],
            [
             0.9,
             "#4d9221"
            ],
            [
             1,
             "#276419"
            ]
           ],
           "sequential": [
            [
             0,
             "#0d0887"
            ],
            [
             0.1111111111111111,
             "#46039f"
            ],
            [
             0.2222222222222222,
             "#7201a8"
            ],
            [
             0.3333333333333333,
             "#9c179e"
            ],
            [
             0.4444444444444444,
             "#bd3786"
            ],
            [
             0.5555555555555556,
             "#d8576b"
            ],
            [
             0.6666666666666666,
             "#ed7953"
            ],
            [
             0.7777777777777778,
             "#fb9f3a"
            ],
            [
             0.8888888888888888,
             "#fdca26"
            ],
            [
             1,
             "#f0f921"
            ]
           ],
           "sequentialminus": [
            [
             0,
             "#0d0887"
            ],
            [
             0.1111111111111111,
             "#46039f"
            ],
            [
             0.2222222222222222,
             "#7201a8"
            ],
            [
             0.3333333333333333,
             "#9c179e"
            ],
            [
             0.4444444444444444,
             "#bd3786"
            ],
            [
             0.5555555555555556,
             "#d8576b"
            ],
            [
             0.6666666666666666,
             "#ed7953"
            ],
            [
             0.7777777777777778,
             "#fb9f3a"
            ],
            [
             0.8888888888888888,
             "#fdca26"
            ],
            [
             1,
             "#f0f921"
            ]
           ]
          },
          "colorway": [
           "#636efa",
           "#EF553B",
           "#00cc96",
           "#ab63fa",
           "#FFA15A",
           "#19d3f3",
           "#FF6692",
           "#B6E880",
           "#FF97FF",
           "#FECB52"
          ],
          "font": {
           "color": "#2a3f5f"
          },
          "geo": {
           "bgcolor": "white",
           "lakecolor": "white",
           "landcolor": "#E5ECF6",
           "showlakes": true,
           "showland": true,
           "subunitcolor": "white"
          },
          "hoverlabel": {
           "align": "left"
          },
          "hovermode": "closest",
          "mapbox": {
           "style": "light"
          },
          "paper_bgcolor": "white",
          "plot_bgcolor": "#E5ECF6",
          "polar": {
           "angularaxis": {
            "gridcolor": "white",
            "linecolor": "white",
            "ticks": ""
           },
           "bgcolor": "#E5ECF6",
           "radialaxis": {
            "gridcolor": "white",
            "linecolor": "white",
            "ticks": ""
           }
          },
          "scene": {
           "xaxis": {
            "backgroundcolor": "#E5ECF6",
            "gridcolor": "white",
            "gridwidth": 2,
            "linecolor": "white",
            "showbackground": true,
            "ticks": "",
            "zerolinecolor": "white"
           },
           "yaxis": {
            "backgroundcolor": "#E5ECF6",
            "gridcolor": "white",
            "gridwidth": 2,
            "linecolor": "white",
            "showbackground": true,
            "ticks": "",
            "zerolinecolor": "white"
           },
           "zaxis": {
            "backgroundcolor": "#E5ECF6",
            "gridcolor": "white",
            "gridwidth": 2,
            "linecolor": "white",
            "showbackground": true,
            "ticks": "",
            "zerolinecolor": "white"
           }
          },
          "shapedefaults": {
           "line": {
            "color": "#2a3f5f"
           }
          },
          "ternary": {
           "aaxis": {
            "gridcolor": "white",
            "linecolor": "white",
            "ticks": ""
           },
           "baxis": {
            "gridcolor": "white",
            "linecolor": "white",
            "ticks": ""
           },
           "bgcolor": "#E5ECF6",
           "caxis": {
            "gridcolor": "white",
            "linecolor": "white",
            "ticks": ""
           }
          },
          "title": {
           "x": 0.05
          },
          "xaxis": {
           "automargin": true,
           "gridcolor": "white",
           "linecolor": "white",
           "ticks": "",
           "title": {
            "standoff": 15
           },
           "zerolinecolor": "white",
           "zerolinewidth": 2
          },
          "yaxis": {
           "automargin": true,
           "gridcolor": "white",
           "linecolor": "white",
           "ticks": "",
           "title": {
            "standoff": 15
           },
           "zerolinecolor": "white",
           "zerolinewidth": 2
          }
         }
        }
       }
      },
      "text/html": [
       "<div>                            <div id=\"d17a8cf8-c3cc-4eec-b905-c23423591248\" class=\"plotly-graph-div\" style=\"height:525px; width:100%;\"></div>            <script type=\"text/javascript\">                require([\"plotly\"], function(Plotly) {                    window.PLOTLYENV=window.PLOTLYENV || {};                                    if (document.getElementById(\"d17a8cf8-c3cc-4eec-b905-c23423591248\")) {                    Plotly.newPlot(                        \"d17a8cf8-c3cc-4eec-b905-c23423591248\",                        [{\"type\":\"bar\",\"x\":[\"Afghanistan\",\"Albania\",\"Algeria\",\"American Samoa\",\"Andorra\",\"Angola\",\"Anguilla\",\"Antarctica (the territory South of 60 deg S)\",\"Antigua and Barbuda\",\"Argentina\",\"Armenia\",\"Aruba\",\"Australia\",\"Austria\",\"Azerbaijan\",\"Bahamas\",\"Bahrain\",\"Bangladesh\",\"Barbados\",\"Belarus\",\"Belgium\",\"Belize\",\"Benin\",\"Bermuda\",\"Bhutan\",\"Bolivia\",\"Bosnia and Herzegovina\",\"Bouvet Island (Bouvetoya)\",\"Brazil\",\"British Indian Ocean Territory (Chagos Archipelago)\",\"British Virgin Islands\",\"Brunei Darussalam\",\"Bulgaria\",\"Burkina Faso\",\"Burundi\",\"Cambodia\",\"Cameroon\",\"Canada\",\"Cape Verde\",\"Cayman Islands\",\"Central African Republic\",\"Chad\",\"Chile\",\"China\",\"Christmas Island\",\"Colombia\",\"Comoros\",\"Congo\",\"Cook Islands\",\"Costa Rica\",\"Cote d'Ivoire\",\"Croatia\",\"Cuba\",\"Cyprus\",\"Czech Republic\",\"Denmark\",\"Djibouti\",\"Dominica\",\"Dominican Republic\",\"Ecuador\",\"Egypt\",\"El Salvador\",\"Equatorial Guinea\",\"Eritrea\",\"Estonia\",\"Ethiopia\",\"Falkland Islands (Malvinas)\",\"Faroe Islands\",\"Fiji\",\"Finland\",\"France\",\"French Guiana\",\"French Polynesia\",\"French Southern Territories\",\"Gabon\",\"Gambia\",\"Georgia\",\"Germany\",\"Ghana\",\"Gibraltar\",\"Greece\",\"Greenland\",\"Grenada\",\"Guadeloupe\",\"Guam\",\"Guatemala\",\"Guernsey\",\"Guinea\",\"Guinea-Bissau\",\"Guyana\",\"Haiti\",\"Heard Island and McDonald Islands\",\"Holy See (Vatican City State)\",\"Honduras\",\"Hong Kong\",\"Hungary\",\"Iceland\",\"India\",\"Indonesia\",\"Iran\",\"Ireland\",\"Isle of Man\",\"Israel\",\"Italy\",\"Jamaica\",\"Japan\",\"Jersey\",\"Jordan\",\"Kazakhstan\",\"Kenya\",\"Kiribati\",\"Korea\",\"Kuwait\",\"Kyrgyz Republic\",\"Lao People's Democratic Republic\",\"Latvia\",\"Lebanon\",\"Lesotho\",\"Liberia\",\"Libyan Arab Jamahiriya\",\"Liechtenstein\",\"Lithuania\",\"Luxembourg\",\"Macao\",\"Macedonia\",\"Madagascar\",\"Malawi\",\"Malaysia\",\"Maldives\",\"Mali\",\"Malta\",\"Marshall Islands\",\"Martinique\",\"Mauritania\",\"Mauritius\",\"Mayotte\",\"Mexico\",\"Micronesia\",\"Moldova\",\"Monaco\",\"Mongolia\",\"Montenegro\",\"Montserrat\",\"Morocco\",\"Mozambique\",\"Myanmar\",\"Namibia\",\"Nauru\",\"Nepal\",\"Netherlands\",\"Netherlands Antilles\",\"New Caledonia\",\"New Zealand\",\"Nicaragua\",\"Niger\",\"Niue\",\"Norfolk Island\",\"Northern Mariana Islands\",\"Norway\",\"Pakistan\",\"Palau\",\"Palestinian Territory\",\"Panama\",\"Papua New Guinea\",\"Paraguay\",\"Peru\",\"Philippines\",\"Pitcairn Islands\",\"Poland\",\"Portugal\",\"Puerto Rico\",\"Qatar\",\"Reunion\",\"Romania\",\"Russian Federation\",\"Rwanda\",\"Saint Barthelemy\",\"Saint Helena\",\"Saint Kitts and Nevis\",\"Saint Lucia\",\"Saint Martin\",\"Saint Pierre and Miquelon\",\"Saint Vincent and the Grenadines\",\"Samoa\",\"San Marino\",\"Sao Tome and Principe\",\"Saudi Arabia\",\"Senegal\",\"Serbia\",\"Seychelles\",\"Sierra Leone\",\"Singapore\",\"Slovakia (Slovak Republic)\",\"Slovenia\",\"Somalia\",\"South Africa\",\"South Georgia and the South Sandwich Islands\",\"Spain\",\"Sri Lanka\",\"Sudan\",\"Suriname\",\"Svalbard & Jan Mayen Islands\",\"Swaziland\",\"Sweden\",\"Switzerland\",\"Syrian Arab Republic\",\"Taiwan\",\"Tajikistan\",\"Tanzania\",\"Thailand\",\"Timor-Leste\",\"Togo\",\"Tokelau\",\"Tonga\",\"Trinidad and Tobago\",\"Tunisia\",\"Turkey\",\"Turkmenistan\",\"Turks and Caicos Islands\",\"Tuvalu\",\"Uganda\",\"Ukraine\",\"United Arab Emirates\",\"United Kingdom\",\"United States Minor Outlying Islands\",\"United States Virgin Islands\",\"United States of America\",\"Uruguay\",\"Uzbekistan\",\"Vanuatu\",\"Venezuela\",\"Vietnam\",\"Wallis and Futuna\",\"Western Sahara\",\"Yemen\",\"Zambia\",\"Zimbabwe\"],\"y\":[8,7,6,5,2,4,6,3,5,2,3,1,8,5,3,7,5,4,5,6,5,5,2,1,2,6,7,5,5,1,3,5,6,4,7,7,5,5,1,5,2,4,4,6,6,2,2,4,3,6,4,6,5,8,9,3,2,5,4,5,5,6,4,7,3,7,4,3,7,5,9,4,5,5,6,2,4,1,4,3,8,5,4,2,4,4,3,3,2,5,2,3,3,5,6,6,3,2,6,5,3,3,4,5,5,4,6,1,4,4,1,5,2,6,4,4,6,1,8,4,6,3,7,3,2,6,4,3,4,4,6,1,4,2,4,6,6,8,6,3,6,2,1,3,1,5,2,3,3,4,6,2,4,3,3,3,5,3,2,5,4,3,2,5,3,8,6,2,6,3,6,6,2,1,3,5,2,5,1,2,4,5,6,6,3,2,4,8,5,3,2,6,2,1,5,8,2,3,4,2,2,6,2,4,4,3,7,3,3,4,5,3,4,5,3,4,8,6,5,4,4,5,6,3,4,4,5,5,2,6,7,3,4,7,3,4,6]}],                        {\"template\":{\"data\":{\"bar\":[{\"error_x\":{\"color\":\"#2a3f5f\"},\"error_y\":{\"color\":\"#2a3f5f\"},\"marker\":{\"line\":{\"color\":\"#E5ECF6\",\"width\":0.5},\"pattern\":{\"fillmode\":\"overlay\",\"size\":10,\"solidity\":0.2}},\"type\":\"bar\"}],\"barpolar\":[{\"marker\":{\"line\":{\"color\":\"#E5ECF6\",\"width\":0.5},\"pattern\":{\"fillmode\":\"overlay\",\"size\":10,\"solidity\":0.2}},\"type\":\"barpolar\"}],\"carpet\":[{\"aaxis\":{\"endlinecolor\":\"#2a3f5f\",\"gridcolor\":\"white\",\"linecolor\":\"white\",\"minorgridcolor\":\"white\",\"startlinecolor\":\"#2a3f5f\"},\"baxis\":{\"endlinecolor\":\"#2a3f5f\",\"gridcolor\":\"white\",\"linecolor\":\"white\",\"minorgridcolor\":\"white\",\"startlinecolor\":\"#2a3f5f\"},\"type\":\"carpet\"}],\"choropleth\":[{\"colorbar\":{\"outlinewidth\":0,\"ticks\":\"\"},\"type\":\"choropleth\"}],\"contour\":[{\"colorbar\":{\"outlinewidth\":0,\"ticks\":\"\"},\"colorscale\":[[0.0,\"#0d0887\"],[0.1111111111111111,\"#46039f\"],[0.2222222222222222,\"#7201a8\"],[0.3333333333333333,\"#9c179e\"],[0.4444444444444444,\"#bd3786\"],[0.5555555555555556,\"#d8576b\"],[0.6666666666666666,\"#ed7953\"],[0.7777777777777778,\"#fb9f3a\"],[0.8888888888888888,\"#fdca26\"],[1.0,\"#f0f921\"]],\"type\":\"contour\"}],\"contourcarpet\":[{\"colorbar\":{\"outlinewidth\":0,\"ticks\":\"\"},\"type\":\"contourcarpet\"}],\"heatmap\":[{\"colorbar\":{\"outlinewidth\":0,\"ticks\":\"\"},\"colorscale\":[[0.0,\"#0d0887\"],[0.1111111111111111,\"#46039f\"],[0.2222222222222222,\"#7201a8\"],[0.3333333333333333,\"#9c179e\"],[0.4444444444444444,\"#bd3786\"],[0.5555555555555556,\"#d8576b\"],[0.6666666666666666,\"#ed7953\"],[0.7777777777777778,\"#fb9f3a\"],[0.8888888888888888,\"#fdca26\"],[1.0,\"#f0f921\"]],\"type\":\"heatmap\"}],\"heatmapgl\":[{\"colorbar\":{\"outlinewidth\":0,\"ticks\":\"\"},\"colorscale\":[[0.0,\"#0d0887\"],[0.1111111111111111,\"#46039f\"],[0.2222222222222222,\"#7201a8\"],[0.3333333333333333,\"#9c179e\"],[0.4444444444444444,\"#bd3786\"],[0.5555555555555556,\"#d8576b\"],[0.6666666666666666,\"#ed7953\"],[0.7777777777777778,\"#fb9f3a\"],[0.8888888888888888,\"#fdca26\"],[1.0,\"#f0f921\"]],\"type\":\"heatmapgl\"}],\"histogram\":[{\"marker\":{\"pattern\":{\"fillmode\":\"overlay\",\"size\":10,\"solidity\":0.2}},\"type\":\"histogram\"}],\"histogram2d\":[{\"colorbar\":{\"outlinewidth\":0,\"ticks\":\"\"},\"colorscale\":[[0.0,\"#0d0887\"],[0.1111111111111111,\"#46039f\"],[0.2222222222222222,\"#7201a8\"],[0.3333333333333333,\"#9c179e\"],[0.4444444444444444,\"#bd3786\"],[0.5555555555555556,\"#d8576b\"],[0.6666666666666666,\"#ed7953\"],[0.7777777777777778,\"#fb9f3a\"],[0.8888888888888888,\"#fdca26\"],[1.0,\"#f0f921\"]],\"type\":\"histogram2d\"}],\"histogram2dcontour\":[{\"colorbar\":{\"outlinewidth\":0,\"ticks\":\"\"},\"colorscale\":[[0.0,\"#0d0887\"],[0.1111111111111111,\"#46039f\"],[0.2222222222222222,\"#7201a8\"],[0.3333333333333333,\"#9c179e\"],[0.4444444444444444,\"#bd3786\"],[0.5555555555555556,\"#d8576b\"],[0.6666666666666666,\"#ed7953\"],[0.7777777777777778,\"#fb9f3a\"],[0.8888888888888888,\"#fdca26\"],[1.0,\"#f0f921\"]],\"type\":\"histogram2dcontour\"}],\"mesh3d\":[{\"colorbar\":{\"outlinewidth\":0,\"ticks\":\"\"},\"type\":\"mesh3d\"}],\"parcoords\":[{\"line\":{\"colorbar\":{\"outlinewidth\":0,\"ticks\":\"\"}},\"type\":\"parcoords\"}],\"pie\":[{\"automargin\":true,\"type\":\"pie\"}],\"scatter\":[{\"marker\":{\"colorbar\":{\"outlinewidth\":0,\"ticks\":\"\"}},\"type\":\"scatter\"}],\"scatter3d\":[{\"line\":{\"colorbar\":{\"outlinewidth\":0,\"ticks\":\"\"}},\"marker\":{\"colorbar\":{\"outlinewidth\":0,\"ticks\":\"\"}},\"type\":\"scatter3d\"}],\"scattercarpet\":[{\"marker\":{\"colorbar\":{\"outlinewidth\":0,\"ticks\":\"\"}},\"type\":\"scattercarpet\"}],\"scattergeo\":[{\"marker\":{\"colorbar\":{\"outlinewidth\":0,\"ticks\":\"\"}},\"type\":\"scattergeo\"}],\"scattergl\":[{\"marker\":{\"colorbar\":{\"outlinewidth\":0,\"ticks\":\"\"}},\"type\":\"scattergl\"}],\"scattermapbox\":[{\"marker\":{\"colorbar\":{\"outlinewidth\":0,\"ticks\":\"\"}},\"type\":\"scattermapbox\"}],\"scatterpolar\":[{\"marker\":{\"colorbar\":{\"outlinewidth\":0,\"ticks\":\"\"}},\"type\":\"scatterpolar\"}],\"scatterpolargl\":[{\"marker\":{\"colorbar\":{\"outlinewidth\":0,\"ticks\":\"\"}},\"type\":\"scatterpolargl\"}],\"scatterternary\":[{\"marker\":{\"colorbar\":{\"outlinewidth\":0,\"ticks\":\"\"}},\"type\":\"scatterternary\"}],\"surface\":[{\"colorbar\":{\"outlinewidth\":0,\"ticks\":\"\"},\"colorscale\":[[0.0,\"#0d0887\"],[0.1111111111111111,\"#46039f\"],[0.2222222222222222,\"#7201a8\"],[0.3333333333333333,\"#9c179e\"],[0.4444444444444444,\"#bd3786\"],[0.5555555555555556,\"#d8576b\"],[0.6666666666666666,\"#ed7953\"],[0.7777777777777778,\"#fb9f3a\"],[0.8888888888888888,\"#fdca26\"],[1.0,\"#f0f921\"]],\"type\":\"surface\"}],\"table\":[{\"cells\":{\"fill\":{\"color\":\"#EBF0F8\"},\"line\":{\"color\":\"white\"}},\"header\":{\"fill\":{\"color\":\"#C8D4E3\"},\"line\":{\"color\":\"white\"}},\"type\":\"table\"}]},\"layout\":{\"annotationdefaults\":{\"arrowcolor\":\"#2a3f5f\",\"arrowhead\":0,\"arrowwidth\":1},\"autotypenumbers\":\"strict\",\"coloraxis\":{\"colorbar\":{\"outlinewidth\":0,\"ticks\":\"\"}},\"colorscale\":{\"diverging\":[[0,\"#8e0152\"],[0.1,\"#c51b7d\"],[0.2,\"#de77ae\"],[0.3,\"#f1b6da\"],[0.4,\"#fde0ef\"],[0.5,\"#f7f7f7\"],[0.6,\"#e6f5d0\"],[0.7,\"#b8e186\"],[0.8,\"#7fbc41\"],[0.9,\"#4d9221\"],[1,\"#276419\"]],\"sequential\":[[0.0,\"#0d0887\"],[0.1111111111111111,\"#46039f\"],[0.2222222222222222,\"#7201a8\"],[0.3333333333333333,\"#9c179e\"],[0.4444444444444444,\"#bd3786\"],[0.5555555555555556,\"#d8576b\"],[0.6666666666666666,\"#ed7953\"],[0.7777777777777778,\"#fb9f3a\"],[0.8888888888888888,\"#fdca26\"],[1.0,\"#f0f921\"]],\"sequentialminus\":[[0.0,\"#0d0887\"],[0.1111111111111111,\"#46039f\"],[0.2222222222222222,\"#7201a8\"],[0.3333333333333333,\"#9c179e\"],[0.4444444444444444,\"#bd3786\"],[0.5555555555555556,\"#d8576b\"],[0.6666666666666666,\"#ed7953\"],[0.7777777777777778,\"#fb9f3a\"],[0.8888888888888888,\"#fdca26\"],[1.0,\"#f0f921\"]]},\"colorway\":[\"#636efa\",\"#EF553B\",\"#00cc96\",\"#ab63fa\",\"#FFA15A\",\"#19d3f3\",\"#FF6692\",\"#B6E880\",\"#FF97FF\",\"#FECB52\"],\"font\":{\"color\":\"#2a3f5f\"},\"geo\":{\"bgcolor\":\"white\",\"lakecolor\":\"white\",\"landcolor\":\"#E5ECF6\",\"showlakes\":true,\"showland\":true,\"subunitcolor\":\"white\"},\"hoverlabel\":{\"align\":\"left\"},\"hovermode\":\"closest\",\"mapbox\":{\"style\":\"light\"},\"paper_bgcolor\":\"white\",\"plot_bgcolor\":\"#E5ECF6\",\"polar\":{\"angularaxis\":{\"gridcolor\":\"white\",\"linecolor\":\"white\",\"ticks\":\"\"},\"bgcolor\":\"#E5ECF6\",\"radialaxis\":{\"gridcolor\":\"white\",\"linecolor\":\"white\",\"ticks\":\"\"}},\"scene\":{\"xaxis\":{\"backgroundcolor\":\"#E5ECF6\",\"gridcolor\":\"white\",\"gridwidth\":2,\"linecolor\":\"white\",\"showbackground\":true,\"ticks\":\"\",\"zerolinecolor\":\"white\"},\"yaxis\":{\"backgroundcolor\":\"#E5ECF6\",\"gridcolor\":\"white\",\"gridwidth\":2,\"linecolor\":\"white\",\"showbackground\":true,\"ticks\":\"\",\"zerolinecolor\":\"white\"},\"zaxis\":{\"backgroundcolor\":\"#E5ECF6\",\"gridcolor\":\"white\",\"gridwidth\":2,\"linecolor\":\"white\",\"showbackground\":true,\"ticks\":\"\",\"zerolinecolor\":\"white\"}},\"shapedefaults\":{\"line\":{\"color\":\"#2a3f5f\"}},\"ternary\":{\"aaxis\":{\"gridcolor\":\"white\",\"linecolor\":\"white\",\"ticks\":\"\"},\"baxis\":{\"gridcolor\":\"white\",\"linecolor\":\"white\",\"ticks\":\"\"},\"bgcolor\":\"#E5ECF6\",\"caxis\":{\"gridcolor\":\"white\",\"linecolor\":\"white\",\"ticks\":\"\"}},\"title\":{\"x\":0.05},\"xaxis\":{\"automargin\":true,\"gridcolor\":\"white\",\"linecolor\":\"white\",\"ticks\":\"\",\"title\":{\"standoff\":15},\"zerolinecolor\":\"white\",\"zerolinewidth\":2},\"yaxis\":{\"automargin\":true,\"gridcolor\":\"white\",\"linecolor\":\"white\",\"ticks\":\"\",\"title\":{\"standoff\":15},\"zerolinecolor\":\"white\",\"zerolinewidth\":2}}}},                        {\"responsive\": true}                    ).then(function(){\n",
       "                            \n",
       "var gd = document.getElementById('d17a8cf8-c3cc-4eec-b905-c23423591248');\n",
       "var x = new MutationObserver(function (mutations, observer) {{\n",
       "        var display = window.getComputedStyle(gd).display;\n",
       "        if (!display || display === 'none') {{\n",
       "            console.log([gd, 'removed!']);\n",
       "            Plotly.purge(gd);\n",
       "            observer.disconnect();\n",
       "        }}\n",
       "}});\n",
       "\n",
       "// Listen for the removal of the full notebook cells\n",
       "var notebookContainer = gd.closest('#notebook-container');\n",
       "if (notebookContainer) {{\n",
       "    x.observe(notebookContainer, {childList: true});\n",
       "}}\n",
       "\n",
       "// Listen for the clearing of the current output cell\n",
       "var outputEl = gd.closest('.output');\n",
       "if (outputEl) {{\n",
       "    x.observe(outputEl, {childList: true});\n",
       "}}\n",
       "\n",
       "                        })                };                });            </script>        </div>"
      ]
     },
     "metadata": {},
     "output_type": "display_data"
    }
   ],
   "source": [
    "import plotly.graph_objs as go\n",
    "\n",
    "data = [go.Bar(\n",
    "   x = country,\n",
    "   y = city_count\n",
    "            \n",
    ")]\n",
    "\n",
    "fig = go.Figure(data=data)\n",
    "iplot(fig)"
   ]
  },
  {
   "cell_type": "markdown",
   "metadata": {},
   "source": [
    "# 16 What is the Average age of the people who use the internet most "
   ]
  },
  {
   "cell_type": "code",
   "execution_count": 83,
   "metadata": {},
   "outputs": [
    {
     "data": {
      "text/html": [
       "<div>\n",
       "<style scoped>\n",
       "    .dataframe tbody tr th:only-of-type {\n",
       "        vertical-align: middle;\n",
       "    }\n",
       "\n",
       "    .dataframe tbody tr th {\n",
       "        vertical-align: top;\n",
       "    }\n",
       "\n",
       "    .dataframe thead th {\n",
       "        text-align: right;\n",
       "    }\n",
       "</style>\n",
       "<table border=\"1\" class=\"dataframe\">\n",
       "  <thead>\n",
       "    <tr style=\"text-align: right;\">\n",
       "      <th></th>\n",
       "      <th>Daily Time Spent on Site</th>\n",
       "      <th>Age</th>\n",
       "      <th>Area Income</th>\n",
       "      <th>Daily Internet Usage</th>\n",
       "      <th>Ad Topic Line</th>\n",
       "      <th>City</th>\n",
       "      <th>Gender</th>\n",
       "      <th>Country</th>\n",
       "      <th>Timestamp</th>\n",
       "      <th>Clicked on Ad</th>\n",
       "    </tr>\n",
       "  </thead>\n",
       "  <tbody>\n",
       "    <tr>\n",
       "      <th>247</th>\n",
       "      <td>57.05</td>\n",
       "      <td>41</td>\n",
       "      <td>50278.89</td>\n",
       "      <td>269.96</td>\n",
       "      <td>Seamless full-range website</td>\n",
       "      <td>Port Erinberg</td>\n",
       "      <td>1</td>\n",
       "      <td>Sierra Leone</td>\n",
       "      <td>09-01-2016 03:45</td>\n",
       "      <td>1</td>\n",
       "    </tr>\n",
       "    <tr>\n",
       "      <th>30</th>\n",
       "      <td>67.64</td>\n",
       "      <td>35</td>\n",
       "      <td>51473.28</td>\n",
       "      <td>267.01</td>\n",
       "      <td>Programmable asymmetric data-warehouse</td>\n",
       "      <td>Phelpschester</td>\n",
       "      <td>1</td>\n",
       "      <td>Peru</td>\n",
       "      <td>02-07-2016 20:23</td>\n",
       "      <td>0</td>\n",
       "    </tr>\n",
       "    <tr>\n",
       "      <th>848</th>\n",
       "      <td>70.39</td>\n",
       "      <td>32</td>\n",
       "      <td>47357.39</td>\n",
       "      <td>261.52</td>\n",
       "      <td>Phased 5thgeneration open system</td>\n",
       "      <td>Sabrinaview</td>\n",
       "      <td>1</td>\n",
       "      <td>Cayman Islands</td>\n",
       "      <td>12-07-2016 10:56</td>\n",
       "      <td>0</td>\n",
       "    </tr>\n",
       "    <tr>\n",
       "      <th>367</th>\n",
       "      <td>77.07</td>\n",
       "      <td>40</td>\n",
       "      <td>44559.43</td>\n",
       "      <td>261.02</td>\n",
       "      <td>Face-to-face analyzing encryption</td>\n",
       "      <td>Stephenborough</td>\n",
       "      <td>0</td>\n",
       "      <td>Afghanistan</td>\n",
       "      <td>01-03-2016 10:01</td>\n",
       "      <td>0</td>\n",
       "    </tr>\n",
       "    <tr>\n",
       "      <th>617</th>\n",
       "      <td>68.41</td>\n",
       "      <td>38</td>\n",
       "      <td>61428.18</td>\n",
       "      <td>259.76</td>\n",
       "      <td>Grass-roots empowering paradigm</td>\n",
       "      <td>Christopherchester</td>\n",
       "      <td>0</td>\n",
       "      <td>Guinea-Bissau</td>\n",
       "      <td>30-04-2016 15:27</td>\n",
       "      <td>0</td>\n",
       "    </tr>\n",
       "    <tr>\n",
       "      <th>...</th>\n",
       "      <td>...</td>\n",
       "      <td>...</td>\n",
       "      <td>...</td>\n",
       "      <td>...</td>\n",
       "      <td>...</td>\n",
       "      <td>...</td>\n",
       "      <td>...</td>\n",
       "      <td>...</td>\n",
       "      <td>...</td>\n",
       "      <td>...</td>\n",
       "    </tr>\n",
       "    <tr>\n",
       "      <th>66</th>\n",
       "      <td>63.89</td>\n",
       "      <td>40</td>\n",
       "      <td>51317.33</td>\n",
       "      <td>105.22</td>\n",
       "      <td>Synchronized user-facing core</td>\n",
       "      <td>Jensenborough</td>\n",
       "      <td>0</td>\n",
       "      <td>Rwanda</td>\n",
       "      <td>08-01-2016 00:17</td>\n",
       "      <td>1</td>\n",
       "    </tr>\n",
       "    <tr>\n",
       "      <th>85</th>\n",
       "      <td>57.76</td>\n",
       "      <td>41</td>\n",
       "      <td>47861.93</td>\n",
       "      <td>105.15</td>\n",
       "      <td>Triple-buffered scalable groupware</td>\n",
       "      <td>Lake Dustin</td>\n",
       "      <td>0</td>\n",
       "      <td>Puerto Rico</td>\n",
       "      <td>12-06-2016 15:25</td>\n",
       "      <td>1</td>\n",
       "    </tr>\n",
       "    <tr>\n",
       "      <th>987</th>\n",
       "      <td>63.37</td>\n",
       "      <td>43</td>\n",
       "      <td>43155.19</td>\n",
       "      <td>105.04</td>\n",
       "      <td>Open-architected full-range projection</td>\n",
       "      <td>Michaelshire</td>\n",
       "      <td>1</td>\n",
       "      <td>Poland</td>\n",
       "      <td>23-03-2016 12:53</td>\n",
       "      <td>1</td>\n",
       "    </tr>\n",
       "    <tr>\n",
       "      <th>319</th>\n",
       "      <td>62.06</td>\n",
       "      <td>44</td>\n",
       "      <td>44174.25</td>\n",
       "      <td>105.00</td>\n",
       "      <td>Adaptive contextually-based methodology</td>\n",
       "      <td>Port Paultown</td>\n",
       "      <td>0</td>\n",
       "      <td>Austria</td>\n",
       "      <td>12-04-2016 14:01</td>\n",
       "      <td>1</td>\n",
       "    </tr>\n",
       "    <tr>\n",
       "      <th>168</th>\n",
       "      <td>59.59</td>\n",
       "      <td>42</td>\n",
       "      <td>43662.10</td>\n",
       "      <td>104.78</td>\n",
       "      <td>Re-engineered demand-driven capacity</td>\n",
       "      <td>Samanthaland</td>\n",
       "      <td>1</td>\n",
       "      <td>Brazil</td>\n",
       "      <td>06-07-2016 18:36</td>\n",
       "      <td>1</td>\n",
       "    </tr>\n",
       "  </tbody>\n",
       "</table>\n",
       "<p>1000 rows × 10 columns</p>\n",
       "</div>"
      ],
      "text/plain": [
       "     Daily Time Spent on Site  Age  Area Income  Daily Internet Usage  \\\n",
       "247                     57.05   41     50278.89                269.96   \n",
       "30                      67.64   35     51473.28                267.01   \n",
       "848                     70.39   32     47357.39                261.52   \n",
       "367                     77.07   40     44559.43                261.02   \n",
       "617                     68.41   38     61428.18                259.76   \n",
       "..                        ...  ...          ...                   ...   \n",
       "66                      63.89   40     51317.33                105.22   \n",
       "85                      57.76   41     47861.93                105.15   \n",
       "987                     63.37   43     43155.19                105.04   \n",
       "319                     62.06   44     44174.25                105.00   \n",
       "168                     59.59   42     43662.10                104.78   \n",
       "\n",
       "                               Ad Topic Line                City  Gender  \\\n",
       "247              Seamless full-range website       Port Erinberg       1   \n",
       "30    Programmable asymmetric data-warehouse       Phelpschester       1   \n",
       "848         Phased 5thgeneration open system         Sabrinaview       1   \n",
       "367        Face-to-face analyzing encryption      Stephenborough       0   \n",
       "617          Grass-roots empowering paradigm  Christopherchester       0   \n",
       "..                                       ...                 ...     ...   \n",
       "66             Synchronized user-facing core       Jensenborough       0   \n",
       "85        Triple-buffered scalable groupware         Lake Dustin       0   \n",
       "987   Open-architected full-range projection        Michaelshire       1   \n",
       "319  Adaptive contextually-based methodology       Port Paultown       0   \n",
       "168     Re-engineered demand-driven capacity        Samanthaland       1   \n",
       "\n",
       "            Country         Timestamp  Clicked on Ad  \n",
       "247    Sierra Leone  09-01-2016 03:45              1  \n",
       "30             Peru  02-07-2016 20:23              0  \n",
       "848  Cayman Islands  12-07-2016 10:56              0  \n",
       "367     Afghanistan  01-03-2016 10:01              0  \n",
       "617   Guinea-Bissau  30-04-2016 15:27              0  \n",
       "..              ...               ...            ...  \n",
       "66           Rwanda  08-01-2016 00:17              1  \n",
       "85      Puerto Rico  12-06-2016 15:25              1  \n",
       "987          Poland  23-03-2016 12:53              1  \n",
       "319         Austria  12-04-2016 14:01              1  \n",
       "168          Brazil  06-07-2016 18:36              1  \n",
       "\n",
       "[1000 rows x 10 columns]"
      ]
     },
     "execution_count": 83,
     "metadata": {},
     "output_type": "execute_result"
    }
   ],
   "source": [
    "most=df.sort_values(by=\"Daily Internet Usage\",ascending=False)\n",
    "most"
   ]
  },
  {
   "cell_type": "code",
   "execution_count": 84,
   "metadata": {},
   "outputs": [
    {
     "data": {
      "text/html": [
       "<div>\n",
       "<style scoped>\n",
       "    .dataframe tbody tr th:only-of-type {\n",
       "        vertical-align: middle;\n",
       "    }\n",
       "\n",
       "    .dataframe tbody tr th {\n",
       "        vertical-align: top;\n",
       "    }\n",
       "\n",
       "    .dataframe thead th {\n",
       "        text-align: right;\n",
       "    }\n",
       "</style>\n",
       "<table border=\"1\" class=\"dataframe\">\n",
       "  <thead>\n",
       "    <tr style=\"text-align: right;\">\n",
       "      <th></th>\n",
       "      <th>Daily Time Spent on Site</th>\n",
       "      <th>Age</th>\n",
       "      <th>Area Income</th>\n",
       "      <th>Daily Internet Usage</th>\n",
       "      <th>Ad Topic Line</th>\n",
       "      <th>City</th>\n",
       "      <th>Gender</th>\n",
       "      <th>Country</th>\n",
       "      <th>Timestamp</th>\n",
       "      <th>Clicked on Ad</th>\n",
       "    </tr>\n",
       "  </thead>\n",
       "  <tbody>\n",
       "    <tr>\n",
       "      <th>247</th>\n",
       "      <td>57.05</td>\n",
       "      <td>41</td>\n",
       "      <td>50278.89</td>\n",
       "      <td>269.96</td>\n",
       "      <td>Seamless full-range website</td>\n",
       "      <td>Port Erinberg</td>\n",
       "      <td>1</td>\n",
       "      <td>Sierra Leone</td>\n",
       "      <td>09-01-2016 03:45</td>\n",
       "      <td>1</td>\n",
       "    </tr>\n",
       "    <tr>\n",
       "      <th>30</th>\n",
       "      <td>67.64</td>\n",
       "      <td>35</td>\n",
       "      <td>51473.28</td>\n",
       "      <td>267.01</td>\n",
       "      <td>Programmable asymmetric data-warehouse</td>\n",
       "      <td>Phelpschester</td>\n",
       "      <td>1</td>\n",
       "      <td>Peru</td>\n",
       "      <td>02-07-2016 20:23</td>\n",
       "      <td>0</td>\n",
       "    </tr>\n",
       "    <tr>\n",
       "      <th>848</th>\n",
       "      <td>70.39</td>\n",
       "      <td>32</td>\n",
       "      <td>47357.39</td>\n",
       "      <td>261.52</td>\n",
       "      <td>Phased 5thgeneration open system</td>\n",
       "      <td>Sabrinaview</td>\n",
       "      <td>1</td>\n",
       "      <td>Cayman Islands</td>\n",
       "      <td>12-07-2016 10:56</td>\n",
       "      <td>0</td>\n",
       "    </tr>\n",
       "    <tr>\n",
       "      <th>367</th>\n",
       "      <td>77.07</td>\n",
       "      <td>40</td>\n",
       "      <td>44559.43</td>\n",
       "      <td>261.02</td>\n",
       "      <td>Face-to-face analyzing encryption</td>\n",
       "      <td>Stephenborough</td>\n",
       "      <td>0</td>\n",
       "      <td>Afghanistan</td>\n",
       "      <td>01-03-2016 10:01</td>\n",
       "      <td>0</td>\n",
       "    </tr>\n",
       "    <tr>\n",
       "      <th>617</th>\n",
       "      <td>68.41</td>\n",
       "      <td>38</td>\n",
       "      <td>61428.18</td>\n",
       "      <td>259.76</td>\n",
       "      <td>Grass-roots empowering paradigm</td>\n",
       "      <td>Christopherchester</td>\n",
       "      <td>0</td>\n",
       "      <td>Guinea-Bissau</td>\n",
       "      <td>30-04-2016 15:27</td>\n",
       "      <td>0</td>\n",
       "    </tr>\n",
       "    <tr>\n",
       "      <th>...</th>\n",
       "      <td>...</td>\n",
       "      <td>...</td>\n",
       "      <td>...</td>\n",
       "      <td>...</td>\n",
       "      <td>...</td>\n",
       "      <td>...</td>\n",
       "      <td>...</td>\n",
       "      <td>...</td>\n",
       "      <td>...</td>\n",
       "      <td>...</td>\n",
       "    </tr>\n",
       "    <tr>\n",
       "      <th>397</th>\n",
       "      <td>50.52</td>\n",
       "      <td>28</td>\n",
       "      <td>66929.03</td>\n",
       "      <td>219.69</td>\n",
       "      <td>Versatile responsive knowledge user</td>\n",
       "      <td>Davisfurt</td>\n",
       "      <td>0</td>\n",
       "      <td>Saint Kitts and Nevis</td>\n",
       "      <td>03-04-2016 06:17</td>\n",
       "      <td>1</td>\n",
       "    </tr>\n",
       "    <tr>\n",
       "      <th>704</th>\n",
       "      <td>76.02</td>\n",
       "      <td>40</td>\n",
       "      <td>73174.19</td>\n",
       "      <td>219.55</td>\n",
       "      <td>Distributed leadingedge orchestration</td>\n",
       "      <td>Lesliefort</td>\n",
       "      <td>0</td>\n",
       "      <td>Malta</td>\n",
       "      <td>13-07-2016 14:30</td>\n",
       "      <td>0</td>\n",
       "    </tr>\n",
       "    <tr>\n",
       "      <th>475</th>\n",
       "      <td>75.15</td>\n",
       "      <td>33</td>\n",
       "      <td>71296.67</td>\n",
       "      <td>219.49</td>\n",
       "      <td>Synchronized zero tolerance product</td>\n",
       "      <td>Smithtown</td>\n",
       "      <td>1</td>\n",
       "      <td>France</td>\n",
       "      <td>19-06-2016 18:19</td>\n",
       "      <td>0</td>\n",
       "    </tr>\n",
       "    <tr>\n",
       "      <th>295</th>\n",
       "      <td>82.40</td>\n",
       "      <td>36</td>\n",
       "      <td>66744.65</td>\n",
       "      <td>218.97</td>\n",
       "      <td>Implemented bifurcated workforce</td>\n",
       "      <td>Lake Patrick</td>\n",
       "      <td>1</td>\n",
       "      <td>Macedonia</td>\n",
       "      <td>29-06-2016 03:07</td>\n",
       "      <td>0</td>\n",
       "    </tr>\n",
       "    <tr>\n",
       "      <th>431</th>\n",
       "      <td>88.89</td>\n",
       "      <td>35</td>\n",
       "      <td>50439.49</td>\n",
       "      <td>218.80</td>\n",
       "      <td>Balanced 4thgeneration success</td>\n",
       "      <td>East Deborahhaven</td>\n",
       "      <td>1</td>\n",
       "      <td>Cook Islands</td>\n",
       "      <td>17-07-2016 18:55</td>\n",
       "      <td>0</td>\n",
       "    </tr>\n",
       "  </tbody>\n",
       "</table>\n",
       "<p>250 rows × 10 columns</p>\n",
       "</div>"
      ],
      "text/plain": [
       "     Daily Time Spent on Site  Age  Area Income  Daily Internet Usage  \\\n",
       "247                     57.05   41     50278.89                269.96   \n",
       "30                      67.64   35     51473.28                267.01   \n",
       "848                     70.39   32     47357.39                261.52   \n",
       "367                     77.07   40     44559.43                261.02   \n",
       "617                     68.41   38     61428.18                259.76   \n",
       "..                        ...  ...          ...                   ...   \n",
       "397                     50.52   28     66929.03                219.69   \n",
       "704                     76.02   40     73174.19                219.55   \n",
       "475                     75.15   33     71296.67                219.49   \n",
       "295                     82.40   36     66744.65                218.97   \n",
       "431                     88.89   35     50439.49                218.80   \n",
       "\n",
       "                              Ad Topic Line                City  Gender  \\\n",
       "247             Seamless full-range website       Port Erinberg       1   \n",
       "30   Programmable asymmetric data-warehouse       Phelpschester       1   \n",
       "848        Phased 5thgeneration open system         Sabrinaview       1   \n",
       "367       Face-to-face analyzing encryption      Stephenborough       0   \n",
       "617         Grass-roots empowering paradigm  Christopherchester       0   \n",
       "..                                      ...                 ...     ...   \n",
       "397     Versatile responsive knowledge user           Davisfurt       0   \n",
       "704   Distributed leadingedge orchestration          Lesliefort       0   \n",
       "475     Synchronized zero tolerance product           Smithtown       1   \n",
       "295        Implemented bifurcated workforce        Lake Patrick       1   \n",
       "431          Balanced 4thgeneration success   East Deborahhaven       1   \n",
       "\n",
       "                   Country         Timestamp  Clicked on Ad  \n",
       "247           Sierra Leone  09-01-2016 03:45              1  \n",
       "30                    Peru  02-07-2016 20:23              0  \n",
       "848         Cayman Islands  12-07-2016 10:56              0  \n",
       "367            Afghanistan  01-03-2016 10:01              0  \n",
       "617          Guinea-Bissau  30-04-2016 15:27              0  \n",
       "..                     ...               ...            ...  \n",
       "397  Saint Kitts and Nevis  03-04-2016 06:17              1  \n",
       "704                  Malta  13-07-2016 14:30              0  \n",
       "475                 France  19-06-2016 18:19              0  \n",
       "295              Macedonia  29-06-2016 03:07              0  \n",
       "431           Cook Islands  17-07-2016 18:55              0  \n",
       "\n",
       "[250 rows x 10 columns]"
      ]
     },
     "execution_count": 84,
     "metadata": {},
     "output_type": "execute_result"
    }
   ],
   "source": [
    "xyz=most.head(250)\n",
    "xyz"
   ]
  },
  {
   "cell_type": "code",
   "execution_count": 85,
   "metadata": {},
   "outputs": [
    {
     "data": {
      "text/plain": [
       "33.348"
      ]
     },
     "execution_count": 85,
     "metadata": {},
     "output_type": "execute_result"
    }
   ],
   "source": [
    "xyz.Age.mean()"
   ]
  },
  {
   "cell_type": "markdown",
   "metadata": {},
   "source": [
    "# 17 Make a group for age below 20,20-35,35-45,above 45 and find out avg.daily internet use\n",
    "                              \n",
    "                         \n"
   ]
  },
  {
   "cell_type": "code",
   "execution_count": 48,
   "metadata": {},
   "outputs": [],
   "source": [
    "df_new = df.rename(columns={'Daily Internet Usage': 'Daily_Internet_Usage'})"
   ]
  },
  {
   "cell_type": "code",
   "execution_count": 49,
   "metadata": {},
   "outputs": [
    {
     "data": {
      "text/html": [
       "<div>\n",
       "<style scoped>\n",
       "    .dataframe tbody tr th:only-of-type {\n",
       "        vertical-align: middle;\n",
       "    }\n",
       "\n",
       "    .dataframe tbody tr th {\n",
       "        vertical-align: top;\n",
       "    }\n",
       "\n",
       "    .dataframe thead th {\n",
       "        text-align: right;\n",
       "    }\n",
       "</style>\n",
       "<table border=\"1\" class=\"dataframe\">\n",
       "  <thead>\n",
       "    <tr style=\"text-align: right;\">\n",
       "      <th></th>\n",
       "      <th>Daily Time Spent on Site</th>\n",
       "      <th>Age</th>\n",
       "      <th>Area Income</th>\n",
       "      <th>Daily_Internet_Usage</th>\n",
       "      <th>Ad Topic Line</th>\n",
       "      <th>City</th>\n",
       "      <th>Gender</th>\n",
       "      <th>Country</th>\n",
       "      <th>Timestamp</th>\n",
       "      <th>Clicked on Ad</th>\n",
       "    </tr>\n",
       "  </thead>\n",
       "  <tbody>\n",
       "    <tr>\n",
       "      <th>0</th>\n",
       "      <td>68.95</td>\n",
       "      <td>35</td>\n",
       "      <td>61833.90</td>\n",
       "      <td>256.09</td>\n",
       "      <td>Cloned 5thgeneration orchestration</td>\n",
       "      <td>Wrightburgh</td>\n",
       "      <td>0</td>\n",
       "      <td>Tunisia</td>\n",
       "      <td>27-03-2016 00:53</td>\n",
       "      <td>0</td>\n",
       "    </tr>\n",
       "    <tr>\n",
       "      <th>1</th>\n",
       "      <td>80.23</td>\n",
       "      <td>31</td>\n",
       "      <td>68441.85</td>\n",
       "      <td>193.77</td>\n",
       "      <td>Monitored national standardization</td>\n",
       "      <td>West Jodi</td>\n",
       "      <td>1</td>\n",
       "      <td>Nauru</td>\n",
       "      <td>04-04-2016 01:39</td>\n",
       "      <td>0</td>\n",
       "    </tr>\n",
       "    <tr>\n",
       "      <th>2</th>\n",
       "      <td>69.47</td>\n",
       "      <td>26</td>\n",
       "      <td>59785.94</td>\n",
       "      <td>236.50</td>\n",
       "      <td>Organic bottom-line service-desk</td>\n",
       "      <td>Davidton</td>\n",
       "      <td>0</td>\n",
       "      <td>San Marino</td>\n",
       "      <td>13-03-2016 20:35</td>\n",
       "      <td>0</td>\n",
       "    </tr>\n",
       "    <tr>\n",
       "      <th>3</th>\n",
       "      <td>74.15</td>\n",
       "      <td>29</td>\n",
       "      <td>54806.18</td>\n",
       "      <td>245.89</td>\n",
       "      <td>Triple-buffered reciprocal time-frame</td>\n",
       "      <td>West Terrifurt</td>\n",
       "      <td>1</td>\n",
       "      <td>Italy</td>\n",
       "      <td>10-01-2016 02:31</td>\n",
       "      <td>0</td>\n",
       "    </tr>\n",
       "    <tr>\n",
       "      <th>4</th>\n",
       "      <td>68.37</td>\n",
       "      <td>35</td>\n",
       "      <td>73889.99</td>\n",
       "      <td>225.58</td>\n",
       "      <td>Robust logistical utilization</td>\n",
       "      <td>South Manuel</td>\n",
       "      <td>0</td>\n",
       "      <td>Iceland</td>\n",
       "      <td>03-06-2016 03:36</td>\n",
       "      <td>0</td>\n",
       "    </tr>\n",
       "    <tr>\n",
       "      <th>...</th>\n",
       "      <td>...</td>\n",
       "      <td>...</td>\n",
       "      <td>...</td>\n",
       "      <td>...</td>\n",
       "      <td>...</td>\n",
       "      <td>...</td>\n",
       "      <td>...</td>\n",
       "      <td>...</td>\n",
       "      <td>...</td>\n",
       "      <td>...</td>\n",
       "    </tr>\n",
       "    <tr>\n",
       "      <th>995</th>\n",
       "      <td>72.97</td>\n",
       "      <td>30</td>\n",
       "      <td>71384.57</td>\n",
       "      <td>208.58</td>\n",
       "      <td>Fundamental modular algorithm</td>\n",
       "      <td>Duffystad</td>\n",
       "      <td>1</td>\n",
       "      <td>Lebanon</td>\n",
       "      <td>11-02-2016 21:49</td>\n",
       "      <td>1</td>\n",
       "    </tr>\n",
       "    <tr>\n",
       "      <th>996</th>\n",
       "      <td>51.30</td>\n",
       "      <td>45</td>\n",
       "      <td>67782.17</td>\n",
       "      <td>134.42</td>\n",
       "      <td>Grass-roots cohesive monitoring</td>\n",
       "      <td>New Darlene</td>\n",
       "      <td>1</td>\n",
       "      <td>Bosnia and Herzegovina</td>\n",
       "      <td>22-04-2016 02:07</td>\n",
       "      <td>1</td>\n",
       "    </tr>\n",
       "    <tr>\n",
       "      <th>997</th>\n",
       "      <td>51.63</td>\n",
       "      <td>51</td>\n",
       "      <td>42415.72</td>\n",
       "      <td>120.37</td>\n",
       "      <td>Expanded intangible solution</td>\n",
       "      <td>South Jessica</td>\n",
       "      <td>1</td>\n",
       "      <td>Mongolia</td>\n",
       "      <td>01-02-2016 17:24</td>\n",
       "      <td>1</td>\n",
       "    </tr>\n",
       "    <tr>\n",
       "      <th>998</th>\n",
       "      <td>55.55</td>\n",
       "      <td>19</td>\n",
       "      <td>41920.79</td>\n",
       "      <td>187.95</td>\n",
       "      <td>Proactive bandwidth-monitored policy</td>\n",
       "      <td>West Steven</td>\n",
       "      <td>0</td>\n",
       "      <td>Guatemala</td>\n",
       "      <td>24-03-2016 02:35</td>\n",
       "      <td>0</td>\n",
       "    </tr>\n",
       "    <tr>\n",
       "      <th>999</th>\n",
       "      <td>45.01</td>\n",
       "      <td>26</td>\n",
       "      <td>29875.80</td>\n",
       "      <td>178.35</td>\n",
       "      <td>Virtual 5thgeneration emulation</td>\n",
       "      <td>Ronniemouth</td>\n",
       "      <td>0</td>\n",
       "      <td>Brazil</td>\n",
       "      <td>03-06-2016 21:43</td>\n",
       "      <td>1</td>\n",
       "    </tr>\n",
       "  </tbody>\n",
       "</table>\n",
       "<p>1000 rows × 10 columns</p>\n",
       "</div>"
      ],
      "text/plain": [
       "     Daily Time Spent on Site  Age  Area Income  Daily_Internet_Usage  \\\n",
       "0                       68.95   35     61833.90                256.09   \n",
       "1                       80.23   31     68441.85                193.77   \n",
       "2                       69.47   26     59785.94                236.50   \n",
       "3                       74.15   29     54806.18                245.89   \n",
       "4                       68.37   35     73889.99                225.58   \n",
       "..                        ...  ...          ...                   ...   \n",
       "995                     72.97   30     71384.57                208.58   \n",
       "996                     51.30   45     67782.17                134.42   \n",
       "997                     51.63   51     42415.72                120.37   \n",
       "998                     55.55   19     41920.79                187.95   \n",
       "999                     45.01   26     29875.80                178.35   \n",
       "\n",
       "                             Ad Topic Line            City  Gender  \\\n",
       "0       Cloned 5thgeneration orchestration     Wrightburgh       0   \n",
       "1       Monitored national standardization       West Jodi       1   \n",
       "2         Organic bottom-line service-desk        Davidton       0   \n",
       "3    Triple-buffered reciprocal time-frame  West Terrifurt       1   \n",
       "4            Robust logistical utilization    South Manuel       0   \n",
       "..                                     ...             ...     ...   \n",
       "995          Fundamental modular algorithm       Duffystad       1   \n",
       "996        Grass-roots cohesive monitoring     New Darlene       1   \n",
       "997           Expanded intangible solution   South Jessica       1   \n",
       "998   Proactive bandwidth-monitored policy     West Steven       0   \n",
       "999        Virtual 5thgeneration emulation     Ronniemouth       0   \n",
       "\n",
       "                    Country         Timestamp  Clicked on Ad  \n",
       "0                   Tunisia  27-03-2016 00:53              0  \n",
       "1                     Nauru  04-04-2016 01:39              0  \n",
       "2                San Marino  13-03-2016 20:35              0  \n",
       "3                     Italy  10-01-2016 02:31              0  \n",
       "4                   Iceland  03-06-2016 03:36              0  \n",
       "..                      ...               ...            ...  \n",
       "995                 Lebanon  11-02-2016 21:49              1  \n",
       "996  Bosnia and Herzegovina  22-04-2016 02:07              1  \n",
       "997                Mongolia  01-02-2016 17:24              1  \n",
       "998               Guatemala  24-03-2016 02:35              0  \n",
       "999                  Brazil  03-06-2016 21:43              1  \n",
       "\n",
       "[1000 rows x 10 columns]"
      ]
     },
     "execution_count": 49,
     "metadata": {},
     "output_type": "execute_result"
    }
   ],
   "source": [
    "df_new"
   ]
  },
  {
   "cell_type": "code",
   "execution_count": 50,
   "metadata": {
    "scrolled": false
   },
   "outputs": [
    {
     "data": {
      "text/plain": [
       "187.82000000000002"
      ]
     },
     "execution_count": 50,
     "metadata": {},
     "output_type": "execute_result"
    }
   ],
   "source": [
    "one=df_new[df_new[\"Age\"]<20].Daily_Internet_Usage.mean()\n",
    "one"
   ]
  },
  {
   "cell_type": "code",
   "execution_count": 51,
   "metadata": {},
   "outputs": [
    {
     "data": {
      "text/plain": [
       "196.39417190775677"
      ]
     },
     "execution_count": 51,
     "metadata": {},
     "output_type": "execute_result"
    }
   ],
   "source": [
    "two=df_new[(df_new[\"Age\"]>=20)&(df_new[\"Age\"]<35)].Daily_Internet_Usage.mean()\n",
    "two"
   ]
  },
  {
   "cell_type": "code",
   "execution_count": 52,
   "metadata": {},
   "outputs": [
    {
     "data": {
      "text/plain": [
       "168.60402777777776"
      ]
     },
     "execution_count": 52,
     "metadata": {},
     "output_type": "execute_result"
    }
   ],
   "source": [
    "three=df_new[(df_new[\"Age\"]>=35)&(df_new[\"Age\"]<=45)].Daily_Internet_Usage.mean()\n",
    "three"
   ]
  },
  {
   "cell_type": "code",
   "execution_count": 53,
   "metadata": {},
   "outputs": [
    {
     "data": {
      "text/plain": [
       "156.02363057324837"
      ]
     },
     "execution_count": 53,
     "metadata": {},
     "output_type": "execute_result"
    }
   ],
   "source": [
    "four=df_new[(df_new[\"Age\"]>45)].Daily_Internet_Usage.mean()\n",
    "four"
   ]
  },
  {
   "cell_type": "code",
   "execution_count": 56,
   "metadata": {},
   "outputs": [
    {
     "data": {
      "image/png": "[encoded data removed]",
      "text/plain": [
       "<Figure size 576x720 with 1 Axes>"
      ]
     },
     "metadata": {},
     "output_type": "display_data"
    }
   ],
   "source": [
    "Age_group= ['below 20','between 20 and 35','between 35 and 45','Greater than 45']\n",
    "Daily_Internet_Usage= [one,two,three,four]\n",
    "fig = plt.figure(figsize =(8,10))\n",
    "plt.bar(Age_group,Daily_Internet_Usage)\n",
    "plt.title('Average daily internet usage in different age groups')\n",
    "plt.xlabel('Age group')\n",
    "plt.ylabel('Daily Internet Usage')\n",
    "plt.show()"
   ]
  },
  {
   "cell_type": "code",
   "execution_count": null,
   "metadata": {},
   "outputs": [],
   "source": []
  },
  {
   "cell_type": "markdown",
   "metadata": {},
   "source": [
    "# 18 Which is the best time where people are watching the ad?"
   ]
  },
  {
   "cell_type": "code",
   "execution_count": 109,
   "metadata": {
    "scrolled": false
   },
   "outputs": [
    {
     "data": {
      "text/html": [
       "<div>\n",
       "<style scoped>\n",
       "    .dataframe tbody tr th:only-of-type {\n",
       "        vertical-align: middle;\n",
       "    }\n",
       "\n",
       "    .dataframe tbody tr th {\n",
       "        vertical-align: top;\n",
       "    }\n",
       "\n",
       "    .dataframe thead th {\n",
       "        text-align: right;\n",
       "    }\n",
       "</style>\n",
       "<table border=\"1\" class=\"dataframe\">\n",
       "  <thead>\n",
       "    <tr style=\"text-align: right;\">\n",
       "      <th></th>\n",
       "      <th>Daily Time Spent on Site</th>\n",
       "      <th>Age</th>\n",
       "      <th>Area Income</th>\n",
       "      <th>Daily Internet Usage</th>\n",
       "      <th>Ad Topic Line</th>\n",
       "      <th>City</th>\n",
       "      <th>Gender</th>\n",
       "      <th>Country</th>\n",
       "      <th>Timestamp</th>\n",
       "      <th>Clicked on Ad</th>\n",
       "    </tr>\n",
       "  </thead>\n",
       "  <tbody>\n",
       "    <tr>\n",
       "      <th>0</th>\n",
       "      <td>68.95</td>\n",
       "      <td>35</td>\n",
       "      <td>61833.90</td>\n",
       "      <td>256.09</td>\n",
       "      <td>Cloned 5thgeneration orchestration</td>\n",
       "      <td>Wrightburgh</td>\n",
       "      <td>0</td>\n",
       "      <td>Tunisia</td>\n",
       "      <td>27-03-2016 00:53</td>\n",
       "      <td>0</td>\n",
       "    </tr>\n",
       "    <tr>\n",
       "      <th>1</th>\n",
       "      <td>80.23</td>\n",
       "      <td>31</td>\n",
       "      <td>68441.85</td>\n",
       "      <td>193.77</td>\n",
       "      <td>Monitored national standardization</td>\n",
       "      <td>West Jodi</td>\n",
       "      <td>1</td>\n",
       "      <td>Nauru</td>\n",
       "      <td>04-04-2016 01:39</td>\n",
       "      <td>0</td>\n",
       "    </tr>\n",
       "    <tr>\n",
       "      <th>2</th>\n",
       "      <td>69.47</td>\n",
       "      <td>26</td>\n",
       "      <td>59785.94</td>\n",
       "      <td>236.50</td>\n",
       "      <td>Organic bottom-line service-desk</td>\n",
       "      <td>Davidton</td>\n",
       "      <td>0</td>\n",
       "      <td>San Marino</td>\n",
       "      <td>13-03-2016 20:35</td>\n",
       "      <td>0</td>\n",
       "    </tr>\n",
       "    <tr>\n",
       "      <th>3</th>\n",
       "      <td>74.15</td>\n",
       "      <td>29</td>\n",
       "      <td>54806.18</td>\n",
       "      <td>245.89</td>\n",
       "      <td>Triple-buffered reciprocal time-frame</td>\n",
       "      <td>West Terrifurt</td>\n",
       "      <td>1</td>\n",
       "      <td>Italy</td>\n",
       "      <td>10-01-2016 02:31</td>\n",
       "      <td>0</td>\n",
       "    </tr>\n",
       "    <tr>\n",
       "      <th>4</th>\n",
       "      <td>68.37</td>\n",
       "      <td>35</td>\n",
       "      <td>73889.99</td>\n",
       "      <td>225.58</td>\n",
       "      <td>Robust logistical utilization</td>\n",
       "      <td>South Manuel</td>\n",
       "      <td>0</td>\n",
       "      <td>Iceland</td>\n",
       "      <td>03-06-2016 03:36</td>\n",
       "      <td>0</td>\n",
       "    </tr>\n",
       "    <tr>\n",
       "      <th>...</th>\n",
       "      <td>...</td>\n",
       "      <td>...</td>\n",
       "      <td>...</td>\n",
       "      <td>...</td>\n",
       "      <td>...</td>\n",
       "      <td>...</td>\n",
       "      <td>...</td>\n",
       "      <td>...</td>\n",
       "      <td>...</td>\n",
       "      <td>...</td>\n",
       "    </tr>\n",
       "    <tr>\n",
       "      <th>995</th>\n",
       "      <td>72.97</td>\n",
       "      <td>30</td>\n",
       "      <td>71384.57</td>\n",
       "      <td>208.58</td>\n",
       "      <td>Fundamental modular algorithm</td>\n",
       "      <td>Duffystad</td>\n",
       "      <td>1</td>\n",
       "      <td>Lebanon</td>\n",
       "      <td>11-02-2016 21:49</td>\n",
       "      <td>1</td>\n",
       "    </tr>\n",
       "    <tr>\n",
       "      <th>996</th>\n",
       "      <td>51.30</td>\n",
       "      <td>45</td>\n",
       "      <td>67782.17</td>\n",
       "      <td>134.42</td>\n",
       "      <td>Grass-roots cohesive monitoring</td>\n",
       "      <td>New Darlene</td>\n",
       "      <td>1</td>\n",
       "      <td>Bosnia and Herzegovina</td>\n",
       "      <td>22-04-2016 02:07</td>\n",
       "      <td>1</td>\n",
       "    </tr>\n",
       "    <tr>\n",
       "      <th>997</th>\n",
       "      <td>51.63</td>\n",
       "      <td>51</td>\n",
       "      <td>42415.72</td>\n",
       "      <td>120.37</td>\n",
       "      <td>Expanded intangible solution</td>\n",
       "      <td>South Jessica</td>\n",
       "      <td>1</td>\n",
       "      <td>Mongolia</td>\n",
       "      <td>01-02-2016 17:24</td>\n",
       "      <td>1</td>\n",
       "    </tr>\n",
       "    <tr>\n",
       "      <th>998</th>\n",
       "      <td>55.55</td>\n",
       "      <td>19</td>\n",
       "      <td>41920.79</td>\n",
       "      <td>187.95</td>\n",
       "      <td>Proactive bandwidth-monitored policy</td>\n",
       "      <td>West Steven</td>\n",
       "      <td>0</td>\n",
       "      <td>Guatemala</td>\n",
       "      <td>24-03-2016 02:35</td>\n",
       "      <td>0</td>\n",
       "    </tr>\n",
       "    <tr>\n",
       "      <th>999</th>\n",
       "      <td>45.01</td>\n",
       "      <td>26</td>\n",
       "      <td>29875.80</td>\n",
       "      <td>178.35</td>\n",
       "      <td>Virtual 5thgeneration emulation</td>\n",
       "      <td>Ronniemouth</td>\n",
       "      <td>0</td>\n",
       "      <td>Brazil</td>\n",
       "      <td>03-06-2016 21:43</td>\n",
       "      <td>1</td>\n",
       "    </tr>\n",
       "  </tbody>\n",
       "</table>\n",
       "<p>1000 rows × 10 columns</p>\n",
       "</div>"
      ],
      "text/plain": [
       "     Daily Time Spent on Site  Age  Area Income  Daily Internet Usage  \\\n",
       "0                       68.95   35     61833.90                256.09   \n",
       "1                       80.23   31     68441.85                193.77   \n",
       "2                       69.47   26     59785.94                236.50   \n",
       "3                       74.15   29     54806.18                245.89   \n",
       "4                       68.37   35     73889.99                225.58   \n",
       "..                        ...  ...          ...                   ...   \n",
       "995                     72.97   30     71384.57                208.58   \n",
       "996                     51.30   45     67782.17                134.42   \n",
       "997                     51.63   51     42415.72                120.37   \n",
       "998                     55.55   19     41920.79                187.95   \n",
       "999                     45.01   26     29875.80                178.35   \n",
       "\n",
       "                             Ad Topic Line            City  Gender  \\\n",
       "0       Cloned 5thgeneration orchestration     Wrightburgh       0   \n",
       "1       Monitored national standardization       West Jodi       1   \n",
       "2         Organic bottom-line service-desk        Davidton       0   \n",
       "3    Triple-buffered reciprocal time-frame  West Terrifurt       1   \n",
       "4            Robust logistical utilization    South Manuel       0   \n",
       "..                                     ...             ...     ...   \n",
       "995          Fundamental modular algorithm       Duffystad       1   \n",
       "996        Grass-roots cohesive monitoring     New Darlene       1   \n",
       "997           Expanded intangible solution   South Jessica       1   \n",
       "998   Proactive bandwidth-monitored policy     West Steven       0   \n",
       "999        Virtual 5thgeneration emulation     Ronniemouth       0   \n",
       "\n",
       "                    Country         Timestamp  Clicked on Ad  \n",
       "0                   Tunisia  27-03-2016 00:53              0  \n",
       "1                     Nauru  04-04-2016 01:39              0  \n",
       "2                San Marino  13-03-2016 20:35              0  \n",
       "3                     Italy  10-01-2016 02:31              0  \n",
       "4                   Iceland  03-06-2016 03:36              0  \n",
       "..                      ...               ...            ...  \n",
       "995                 Lebanon  11-02-2016 21:49              1  \n",
       "996  Bosnia and Herzegovina  22-04-2016 02:07              1  \n",
       "997                Mongolia  01-02-2016 17:24              1  \n",
       "998               Guatemala  24-03-2016 02:35              0  \n",
       "999                  Brazil  03-06-2016 21:43              1  \n",
       "\n",
       "[1000 rows x 10 columns]"
      ]
     },
     "execution_count": 109,
     "metadata": {},
     "output_type": "execute_result"
    }
   ],
   "source": [
    "df1=df\n",
    "df1"
   ]
  },
  {
   "cell_type": "code",
   "execution_count": 110,
   "metadata": {
    "scrolled": true
   },
   "outputs": [],
   "source": [
    "df1[\"Timestamp\"] = pd.to_datetime(df1[\"Timestamp\"]).dt.time"
   ]
  },
  {
   "cell_type": "code",
   "execution_count": 111,
   "metadata": {},
   "outputs": [
    {
     "data": {
      "text/plain": [
       "0      00:53:00\n",
       "1      01:39:00\n",
       "2      20:35:00\n",
       "3      02:31:00\n",
       "4      03:36:00\n",
       "         ...   \n",
       "995    21:49:00\n",
       "996    02:07:00\n",
       "997    17:24:00\n",
       "998    02:35:00\n",
       "999    21:43:00\n",
       "Name: Timestamp, Length: 1000, dtype: object"
      ]
     },
     "execution_count": 111,
     "metadata": {},
     "output_type": "execute_result"
    }
   ],
   "source": [
    "df1[\"Timestamp\"]"
   ]
  },
  {
   "cell_type": "code",
   "execution_count": 112,
   "metadata": {},
   "outputs": [
    {
     "data": {
      "text/html": [
       "<div>\n",
       "<style scoped>\n",
       "    .dataframe tbody tr th:only-of-type {\n",
       "        vertical-align: middle;\n",
       "    }\n",
       "\n",
       "    .dataframe tbody tr th {\n",
       "        vertical-align: top;\n",
       "    }\n",
       "\n",
       "    .dataframe thead th {\n",
       "        text-align: right;\n",
       "    }\n",
       "</style>\n",
       "<table border=\"1\" class=\"dataframe\">\n",
       "  <thead>\n",
       "    <tr style=\"text-align: right;\">\n",
       "      <th></th>\n",
       "      <th>Daily Time Spent on Site</th>\n",
       "      <th>Age</th>\n",
       "      <th>Area Income</th>\n",
       "      <th>Daily Internet Usage</th>\n",
       "      <th>Ad Topic Line</th>\n",
       "      <th>City</th>\n",
       "      <th>Gender</th>\n",
       "      <th>Country</th>\n",
       "      <th>Timestamp</th>\n",
       "      <th>Clicked on Ad</th>\n",
       "    </tr>\n",
       "  </thead>\n",
       "  <tbody>\n",
       "    <tr>\n",
       "      <th>0</th>\n",
       "      <td>68.95</td>\n",
       "      <td>35</td>\n",
       "      <td>61833.90</td>\n",
       "      <td>256.09</td>\n",
       "      <td>Cloned 5thgeneration orchestration</td>\n",
       "      <td>Wrightburgh</td>\n",
       "      <td>0</td>\n",
       "      <td>Tunisia</td>\n",
       "      <td>00:53:00</td>\n",
       "      <td>0</td>\n",
       "    </tr>\n",
       "    <tr>\n",
       "      <th>1</th>\n",
       "      <td>80.23</td>\n",
       "      <td>31</td>\n",
       "      <td>68441.85</td>\n",
       "      <td>193.77</td>\n",
       "      <td>Monitored national standardization</td>\n",
       "      <td>West Jodi</td>\n",
       "      <td>1</td>\n",
       "      <td>Nauru</td>\n",
       "      <td>01:39:00</td>\n",
       "      <td>0</td>\n",
       "    </tr>\n",
       "    <tr>\n",
       "      <th>2</th>\n",
       "      <td>69.47</td>\n",
       "      <td>26</td>\n",
       "      <td>59785.94</td>\n",
       "      <td>236.50</td>\n",
       "      <td>Organic bottom-line service-desk</td>\n",
       "      <td>Davidton</td>\n",
       "      <td>0</td>\n",
       "      <td>San Marino</td>\n",
       "      <td>20:35:00</td>\n",
       "      <td>0</td>\n",
       "    </tr>\n",
       "    <tr>\n",
       "      <th>3</th>\n",
       "      <td>74.15</td>\n",
       "      <td>29</td>\n",
       "      <td>54806.18</td>\n",
       "      <td>245.89</td>\n",
       "      <td>Triple-buffered reciprocal time-frame</td>\n",
       "      <td>West Terrifurt</td>\n",
       "      <td>1</td>\n",
       "      <td>Italy</td>\n",
       "      <td>02:31:00</td>\n",
       "      <td>0</td>\n",
       "    </tr>\n",
       "    <tr>\n",
       "      <th>4</th>\n",
       "      <td>68.37</td>\n",
       "      <td>35</td>\n",
       "      <td>73889.99</td>\n",
       "      <td>225.58</td>\n",
       "      <td>Robust logistical utilization</td>\n",
       "      <td>South Manuel</td>\n",
       "      <td>0</td>\n",
       "      <td>Iceland</td>\n",
       "      <td>03:36:00</td>\n",
       "      <td>0</td>\n",
       "    </tr>\n",
       "    <tr>\n",
       "      <th>...</th>\n",
       "      <td>...</td>\n",
       "      <td>...</td>\n",
       "      <td>...</td>\n",
       "      <td>...</td>\n",
       "      <td>...</td>\n",
       "      <td>...</td>\n",
       "      <td>...</td>\n",
       "      <td>...</td>\n",
       "      <td>...</td>\n",
       "      <td>...</td>\n",
       "    </tr>\n",
       "    <tr>\n",
       "      <th>995</th>\n",
       "      <td>72.97</td>\n",
       "      <td>30</td>\n",
       "      <td>71384.57</td>\n",
       "      <td>208.58</td>\n",
       "      <td>Fundamental modular algorithm</td>\n",
       "      <td>Duffystad</td>\n",
       "      <td>1</td>\n",
       "      <td>Lebanon</td>\n",
       "      <td>21:49:00</td>\n",
       "      <td>1</td>\n",
       "    </tr>\n",
       "    <tr>\n",
       "      <th>996</th>\n",
       "      <td>51.30</td>\n",
       "      <td>45</td>\n",
       "      <td>67782.17</td>\n",
       "      <td>134.42</td>\n",
       "      <td>Grass-roots cohesive monitoring</td>\n",
       "      <td>New Darlene</td>\n",
       "      <td>1</td>\n",
       "      <td>Bosnia and Herzegovina</td>\n",
       "      <td>02:07:00</td>\n",
       "      <td>1</td>\n",
       "    </tr>\n",
       "    <tr>\n",
       "      <th>997</th>\n",
       "      <td>51.63</td>\n",
       "      <td>51</td>\n",
       "      <td>42415.72</td>\n",
       "      <td>120.37</td>\n",
       "      <td>Expanded intangible solution</td>\n",
       "      <td>South Jessica</td>\n",
       "      <td>1</td>\n",
       "      <td>Mongolia</td>\n",
       "      <td>17:24:00</td>\n",
       "      <td>1</td>\n",
       "    </tr>\n",
       "    <tr>\n",
       "      <th>998</th>\n",
       "      <td>55.55</td>\n",
       "      <td>19</td>\n",
       "      <td>41920.79</td>\n",
       "      <td>187.95</td>\n",
       "      <td>Proactive bandwidth-monitored policy</td>\n",
       "      <td>West Steven</td>\n",
       "      <td>0</td>\n",
       "      <td>Guatemala</td>\n",
       "      <td>02:35:00</td>\n",
       "      <td>0</td>\n",
       "    </tr>\n",
       "    <tr>\n",
       "      <th>999</th>\n",
       "      <td>45.01</td>\n",
       "      <td>26</td>\n",
       "      <td>29875.80</td>\n",
       "      <td>178.35</td>\n",
       "      <td>Virtual 5thgeneration emulation</td>\n",
       "      <td>Ronniemouth</td>\n",
       "      <td>0</td>\n",
       "      <td>Brazil</td>\n",
       "      <td>21:43:00</td>\n",
       "      <td>1</td>\n",
       "    </tr>\n",
       "  </tbody>\n",
       "</table>\n",
       "<p>1000 rows × 10 columns</p>\n",
       "</div>"
      ],
      "text/plain": [
       "     Daily Time Spent on Site  Age  Area Income  Daily Internet Usage  \\\n",
       "0                       68.95   35     61833.90                256.09   \n",
       "1                       80.23   31     68441.85                193.77   \n",
       "2                       69.47   26     59785.94                236.50   \n",
       "3                       74.15   29     54806.18                245.89   \n",
       "4                       68.37   35     73889.99                225.58   \n",
       "..                        ...  ...          ...                   ...   \n",
       "995                     72.97   30     71384.57                208.58   \n",
       "996                     51.30   45     67782.17                134.42   \n",
       "997                     51.63   51     42415.72                120.37   \n",
       "998                     55.55   19     41920.79                187.95   \n",
       "999                     45.01   26     29875.80                178.35   \n",
       "\n",
       "                             Ad Topic Line            City  Gender  \\\n",
       "0       Cloned 5thgeneration orchestration     Wrightburgh       0   \n",
       "1       Monitored national standardization       West Jodi       1   \n",
       "2         Organic bottom-line service-desk        Davidton       0   \n",
       "3    Triple-buffered reciprocal time-frame  West Terrifurt       1   \n",
       "4            Robust logistical utilization    South Manuel       0   \n",
       "..                                     ...             ...     ...   \n",
       "995          Fundamental modular algorithm       Duffystad       1   \n",
       "996        Grass-roots cohesive monitoring     New Darlene       1   \n",
       "997           Expanded intangible solution   South Jessica       1   \n",
       "998   Proactive bandwidth-monitored policy     West Steven       0   \n",
       "999        Virtual 5thgeneration emulation     Ronniemouth       0   \n",
       "\n",
       "                    Country Timestamp  Clicked on Ad  \n",
       "0                   Tunisia  00:53:00              0  \n",
       "1                     Nauru  01:39:00              0  \n",
       "2                San Marino  20:35:00              0  \n",
       "3                     Italy  02:31:00              0  \n",
       "4                   Iceland  03:36:00              0  \n",
       "..                      ...       ...            ...  \n",
       "995                 Lebanon  21:49:00              1  \n",
       "996  Bosnia and Herzegovina  02:07:00              1  \n",
       "997                Mongolia  17:24:00              1  \n",
       "998               Guatemala  02:35:00              0  \n",
       "999                  Brazil  21:43:00              1  \n",
       "\n",
       "[1000 rows x 10 columns]"
      ]
     },
     "execution_count": 112,
     "metadata": {},
     "output_type": "execute_result"
    }
   ],
   "source": [
    "df1"
   ]
  },
  {
   "cell_type": "code",
   "execution_count": 113,
   "metadata": {},
   "outputs": [
    {
     "data": {
      "text/plain": [
       "23:08:00    5\n",
       "23:21:00    5\n",
       "09:27:00    4\n",
       "16:02:00    4\n",
       "19:48:00    4\n",
       "           ..\n",
       "21:55:00    1\n",
       "19:50:00    1\n",
       "21:02:00    1\n",
       "03:52:00    1\n",
       "10:52:00    1\n",
       "Name: Timestamp, Length: 731, dtype: int64"
      ]
     },
     "execution_count": 113,
     "metadata": {},
     "output_type": "execute_result"
    }
   ],
   "source": [
    "df1[\"Timestamp\"].value_counts()"
   ]
  },
  {
   "cell_type": "markdown",
   "metadata": {},
   "source": [
    "# 19. Average of  Daily Time Spent on Site According to gender wise"
   ]
  },
  {
   "cell_type": "code",
   "execution_count": 15,
   "metadata": {},
   "outputs": [
    {
     "data": {
      "text/plain": [
       "Gender\n",
       "0    65.289287\n",
       "1    64.688274\n",
       "Name: Daily Time Spent on Site, dtype: float64"
      ]
     },
     "execution_count": 15,
     "metadata": {},
     "output_type": "execute_result"
    }
   ],
   "source": [
    "s=df.groupby(\"Gender\")\n",
    "Dts=s[\"Daily Time Spent on Site\"].agg(np.mean)\n",
    "Dts"
   ]
  },
  {
   "cell_type": "markdown",
   "metadata": {},
   "source": [
    "# 20 Correlation"
   ]
  },
  {
   "cell_type": "code",
   "execution_count": 98,
   "metadata": {},
   "outputs": [
    {
     "data": {
      "text/html": [
       "<div>\n",
       "<style scoped>\n",
       "    .dataframe tbody tr th:only-of-type {\n",
       "        vertical-align: middle;\n",
       "    }\n",
       "\n",
       "    .dataframe tbody tr th {\n",
       "        vertical-align: top;\n",
       "    }\n",
       "\n",
       "    .dataframe thead th {\n",
       "        text-align: right;\n",
       "    }\n",
       "</style>\n",
       "<table border=\"1\" class=\"dataframe\">\n",
       "  <thead>\n",
       "    <tr style=\"text-align: right;\">\n",
       "      <th></th>\n",
       "      <th>Daily Time Spent on Site</th>\n",
       "      <th>Age</th>\n",
       "      <th>Area Income</th>\n",
       "      <th>Daily Internet Usage</th>\n",
       "      <th>Gender</th>\n",
       "      <th>Clicked on Ad</th>\n",
       "    </tr>\n",
       "  </thead>\n",
       "  <tbody>\n",
       "    <tr>\n",
       "      <th>Daily Time Spent on Site</th>\n",
       "      <td>1.000000</td>\n",
       "      <td>-0.331513</td>\n",
       "      <td>0.310954</td>\n",
       "      <td>0.518658</td>\n",
       "      <td>-0.018951</td>\n",
       "      <td>-0.748117</td>\n",
       "    </tr>\n",
       "    <tr>\n",
       "      <th>Age</th>\n",
       "      <td>-0.331513</td>\n",
       "      <td>1.000000</td>\n",
       "      <td>-0.182605</td>\n",
       "      <td>-0.367209</td>\n",
       "      <td>-0.021044</td>\n",
       "      <td>0.492531</td>\n",
       "    </tr>\n",
       "    <tr>\n",
       "      <th>Area Income</th>\n",
       "      <td>0.310954</td>\n",
       "      <td>-0.182605</td>\n",
       "      <td>1.000000</td>\n",
       "      <td>0.337496</td>\n",
       "      <td>0.001322</td>\n",
       "      <td>-0.476255</td>\n",
       "    </tr>\n",
       "    <tr>\n",
       "      <th>Daily Internet Usage</th>\n",
       "      <td>0.518658</td>\n",
       "      <td>-0.367209</td>\n",
       "      <td>0.337496</td>\n",
       "      <td>1.000000</td>\n",
       "      <td>0.028012</td>\n",
       "      <td>-0.786539</td>\n",
       "    </tr>\n",
       "    <tr>\n",
       "      <th>Gender</th>\n",
       "      <td>-0.018951</td>\n",
       "      <td>-0.021044</td>\n",
       "      <td>0.001322</td>\n",
       "      <td>0.028012</td>\n",
       "      <td>1.000000</td>\n",
       "      <td>-0.038027</td>\n",
       "    </tr>\n",
       "    <tr>\n",
       "      <th>Clicked on Ad</th>\n",
       "      <td>-0.748117</td>\n",
       "      <td>0.492531</td>\n",
       "      <td>-0.476255</td>\n",
       "      <td>-0.786539</td>\n",
       "      <td>-0.038027</td>\n",
       "      <td>1.000000</td>\n",
       "    </tr>\n",
       "  </tbody>\n",
       "</table>\n",
       "</div>"
      ],
      "text/plain": [
       "                          Daily Time Spent on Site       Age  Area Income  \\\n",
       "Daily Time Spent on Site                  1.000000 -0.331513     0.310954   \n",
       "Age                                      -0.331513  1.000000    -0.182605   \n",
       "Area Income                               0.310954 -0.182605     1.000000   \n",
       "Daily Internet Usage                      0.518658 -0.367209     0.337496   \n",
       "Gender                                   -0.018951 -0.021044     0.001322   \n",
       "Clicked on Ad                            -0.748117  0.492531    -0.476255   \n",
       "\n",
       "                          Daily Internet Usage    Gender  Clicked on Ad  \n",
       "Daily Time Spent on Site              0.518658 -0.018951      -0.748117  \n",
       "Age                                  -0.367209 -0.021044       0.492531  \n",
       "Area Income                           0.337496  0.001322      -0.476255  \n",
       "Daily Internet Usage                  1.000000  0.028012      -0.786539  \n",
       "Gender                                0.028012  1.000000      -0.038027  \n",
       "Clicked on Ad                        -0.786539 -0.038027       1.000000  "
      ]
     },
     "execution_count": 98,
     "metadata": {},
     "output_type": "execute_result"
    }
   ],
   "source": [
    "df.corr()"
   ]
  },
  {
   "cell_type": "markdown",
   "metadata": {},
   "source": [
    "# 21 Correlation image on heatmap"
   ]
  },
  {
   "cell_type": "code",
   "execution_count": 100,
   "metadata": {},
   "outputs": [
    {
     "data": {
      "image/png": "[encoded data removed]",
      "text/plain": [
       "<Figure size 1080x720 with 2 Axes>"
      ]
     },
     "metadata": {
      "needs_background": "light"
     },
     "output_type": "display_data"
    }
   ],
   "source": [
    "a=df.corr()\n",
    "plt.figure(figsize=(15,10))\n",
    "\n",
    "sns.heatmap(a,annot=True,cmap=plt.cm.coolwarm)\n",
    "\n",
    "plt.show()"
   ]
  },
  {
   "cell_type": "markdown",
   "metadata": {},
   "source": [
    "# Conclusion"
   ]
  },
  {
   "cell_type": "code",
   "execution_count": null,
   "metadata": {},
   "outputs": [],
   "source": [
    "1. 19 years old is the minimum age of people in the dataset and the maximum age is 61\n",
    "3. 50% of the people are watching the ad and 50% are not watching the ad while visiting the site\n",
    "4. The average area income of the people according to gender wise is almost same(male=55018.41,female=54982.93)\n",
    "5. 95% senior people(age is greater than 50) are clicking on ads while visiting the site(total number of senior people=72,number of senior people clicking the ad=69)\n",
    "6. The average area income of people who clicking the ad is less than the avg. area income of people not clicking the ad(0: 61385.58641999997, 1: 48614.413739999996)\n",
    "7. The average daily internet usage according to gender wise is almost same(male=49.5% and female=50.3%)\n",
    "8. Age range of the people who use the internet most is between 20 to 35\n",
    "9. Best time where people are watching the ad is between 7 pm to 12 pm\n",
    "10.Average of Daily Time Spent on Site According to gender wise is almost same(female=65.2,male=64.6)\n",
    "11.The analysis shows that there are less chance for clicking on ad when one person is spending more time on site\n"
   ]
  },
  {
   "cell_type": "code",
   "execution_count": null,
   "metadata": {},
   "outputs": [],
   "source": []
  },
  {
   "cell_type": "code",
   "execution_count": null,
   "metadata": {},
   "outputs": [],
   "source": []
  }
 ],
 "metadata": {
  "kernelspec": {
   "display_name": "Python 3",
   "language": "python",
   "name": "python3"
  },
  "language_info": {
   "codemirror_mode": {
    "name": "ipython",
    "version": 3
   },
   "file_extension": ".py",
   "mimetype": "text/x-python",
   "name": "python",
   "nbconvert_exporter": "python",
   "pygments_lexer": "ipython3",
   "version": "3.8.5"
  }
 },
 "nbformat": 4,
 "nbformat_minor": 4
}
